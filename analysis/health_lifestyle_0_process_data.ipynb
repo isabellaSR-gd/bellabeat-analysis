{
 "cells": [
  {
   "cell_type": "markdown",
   "id": "78e98cb3",
   "metadata": {},
   "source": [
    "### Análise exploratória health lifestyle dataset"
   ]
  },
  {
   "cell_type": "code",
   "execution_count": 1,
   "id": "70c4bebb",
   "metadata": {},
   "outputs": [],
   "source": [
    "import pandas as pd"
   ]
  },
  {
   "cell_type": "code",
   "execution_count": 2,
   "id": "887353cc",
   "metadata": {},
   "outputs": [],
   "source": [
    "df = pd.read_csv('D:/python/bellabeat-analysis/database/health-lifestyle-data/health_activity_data.csv')"
   ]
  },
  {
   "cell_type": "markdown",
   "id": "6b59906a",
   "metadata": {},
   "source": [
    "#### Creating column \"BMI category\" to help analysis per BMI level"
   ]
  },
  {
   "cell_type": "code",
   "execution_count": 5,
   "id": "1c3c482c",
   "metadata": {},
   "outputs": [],
   "source": [
    "def define_BMI_cat(BMI):\n",
    "    if BMI < 18.5:\n",
    "        return \"Underweight\"\n",
    "    elif 18.5 < BMI < 24.9:\n",
    "        return \"Normal\"\n",
    "    elif 25 < BMI < 29.9:\n",
    "        return \"Overweight\"\n",
    "    else:\n",
    "        return \"Obese\""
   ]
  },
  {
   "cell_type": "code",
   "execution_count": 6,
   "id": "1088256c",
   "metadata": {},
   "outputs": [],
   "source": [
    "df['BMI_Category'] = df['BMI'].apply(define_BMI_cat)"
   ]
  },
  {
   "cell_type": "markdown",
   "id": "c0d1bc21",
   "metadata": {},
   "source": [
    "### create age groups to help age analysis"
   ]
  },
  {
   "cell_type": "code",
   "execution_count": 11,
   "id": "c83d9172",
   "metadata": {},
   "outputs": [
    {
     "data": {
      "text/plain": [
       "count    1000.000000\n",
       "mean       49.857000\n",
       "std        18.114267\n",
       "min        18.000000\n",
       "25%        35.000000\n",
       "50%        50.000000\n",
       "75%        66.000000\n",
       "max        79.000000\n",
       "Name: Age, dtype: float64"
      ]
     },
     "execution_count": 11,
     "metadata": {},
     "output_type": "execute_result"
    }
   ],
   "source": [
    "df['Age'].describe()"
   ]
  },
  {
   "cell_type": "code",
   "execution_count": 12,
   "id": "6a830c4f",
   "metadata": {},
   "outputs": [],
   "source": [
    "for index, linha in df.iterrows():\n",
    "     value = linha['Age']\n",
    "     if value <= 24:\n",
    "         df.at[index, 'Age_Group'] = '18 - 24'\n",
    "     elif value >= 25 and value <= 32:\n",
    "         df.at[index, 'Age_Group'] = '25 - 32'\n",
    "     elif value >= 33 and value <= 42:\n",
    "         df.at[index, 'Age_Group'] = '33 - 42'\n",
    "     elif value >= 43 and value <= 54:\n",
    "         df.at[index, 'Age_Group'] = '43 - 54'\n",
    "     elif value >= 55 and value <= 65:\n",
    "         df.at[index, 'Age_Group'] = '55 - 65 '\n",
    "     else:\n",
    "         df.at[index, 'Age_Group'] = '66+'"
   ]
  },
  {
   "cell_type": "code",
   "execution_count": 14,
   "id": "f65566f1",
   "metadata": {},
   "outputs": [],
   "source": [
    "#reorder columns so BMI value and category are close together, and age and age group as well\n",
    "df = df[['ID','Age','Age_Group', 'Gender', 'Height_cm','Weight_kg','BMI','BMI_Category', 'Daily_Steps','Calories_Intake', 'Hours_of_Sleep', 'Heart_Rate', 'Blood_Pressure', 'Exercise_Hours_per_Week', 'Smoker', 'Alcohol_Consumption_per_Week', 'Diabetic', 'Heart_Disease']]"
   ]
  },
  {
   "cell_type": "code",
   "execution_count": 16,
   "id": "3404f2d8",
   "metadata": {},
   "outputs": [],
   "source": [
    "df.to_csv('D:/python/bellabeat-analysis/database/health-lifestyle-data/health_activity_data_treated.csv', index= False)"
   ]
  }
 ],
 "metadata": {
  "kernelspec": {
   "display_name": "Python 3",
   "language": "python",
   "name": "python3"
  },
  "language_info": {
   "codemirror_mode": {
    "name": "ipython",
    "version": 3
   },
   "file_extension": ".py",
   "mimetype": "text/x-python",
   "name": "python",
   "nbconvert_exporter": "python",
   "pygments_lexer": "ipython3",
   "version": "3.13.2"
  }
 },
 "nbformat": 4,
 "nbformat_minor": 5
}
