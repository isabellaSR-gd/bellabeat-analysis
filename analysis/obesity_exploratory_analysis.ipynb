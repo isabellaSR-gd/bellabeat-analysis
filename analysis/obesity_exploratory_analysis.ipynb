{
 "cells": [
  {
   "cell_type": "markdown",
   "id": "ad1ee82b",
   "metadata": {},
   "source": [
    "# Exploratory data analysis - obesity"
   ]
  },
  {
   "cell_type": "code",
   "execution_count": 43,
   "id": "c7986f29",
   "metadata": {},
   "outputs": [],
   "source": [
    "import pandas as pd\n",
    "from pathlib import Path\n",
    "import numpy as np "
   ]
  },
  {
   "cell_type": "code",
   "execution_count": 44,
   "id": "39046513",
   "metadata": {},
   "outputs": [
    {
     "name": "stdout",
     "output_type": "stream",
     "text": [
      "caminho do diretório D:\\python\\bellabeat-analysis\n"
     ]
    }
   ],
   "source": [
    "# usando path para facilitar acesso a arquivos\n",
    "caminho_arquivo = Path('clean_new_data_obesity.csv').resolve().parents[1]\n",
    "print('caminho do diretório',caminho_arquivo)"
   ]
  },
  {
   "cell_type": "code",
   "execution_count": 45,
   "id": "5518e5df",
   "metadata": {},
   "outputs": [],
   "source": [
    "# upload data set \n",
    "df = pd.read_csv(f'{caminho_arquivo}/database/obesity-data/clean_new_data_obesity.csv', sep =',')"
   ]
  },
  {
   "cell_type": "code",
   "execution_count": 46,
   "id": "7ef3af5b",
   "metadata": {},
   "outputs": [
    {
     "data": {
      "text/html": [
       "<div>\n",
       "<style scoped>\n",
       "    .dataframe tbody tr th:only-of-type {\n",
       "        vertical-align: middle;\n",
       "    }\n",
       "\n",
       "    .dataframe tbody tr th {\n",
       "        vertical-align: top;\n",
       "    }\n",
       "\n",
       "    .dataframe thead th {\n",
       "        text-align: right;\n",
       "    }\n",
       "</style>\n",
       "<table border=\"1\" class=\"dataframe\">\n",
       "  <thead>\n",
       "    <tr style=\"text-align: right;\">\n",
       "      <th></th>\n",
       "      <th>Gender</th>\n",
       "      <th>Age</th>\n",
       "      <th>Height (cm)</th>\n",
       "      <th>Overweight_Family</th>\n",
       "      <th>Consumption_of_Fast_Food</th>\n",
       "      <th>Frequency_of_Consuming_Vegetables</th>\n",
       "      <th>Number_of_Main_Meals_Daily</th>\n",
       "      <th>Food_Intake_Between_Meals</th>\n",
       "      <th>Smoking</th>\n",
       "      <th>Liquid_Intake_Daily</th>\n",
       "      <th>Calculation_of_Calorie_Intake</th>\n",
       "      <th>Weekly_Physical_Activity</th>\n",
       "      <th>Schedule_Dedicated_to_Technology</th>\n",
       "      <th>Type_of_Transportation_Used</th>\n",
       "      <th>Class</th>\n",
       "    </tr>\n",
       "  </thead>\n",
       "  <tbody>\n",
       "    <tr>\n",
       "      <th>0</th>\n",
       "      <td>Female</td>\n",
       "      <td>18</td>\n",
       "      <td>155</td>\n",
       "      <td>No</td>\n",
       "      <td>No</td>\n",
       "      <td>3-Always</td>\n",
       "      <td>1</td>\n",
       "      <td>3-Usually</td>\n",
       "      <td>No</td>\n",
       "      <td>Less than a liter</td>\n",
       "      <td>No</td>\n",
       "      <td>3-4 days</td>\n",
       "      <td>5+ hours</td>\n",
       "      <td>Public transportation</td>\n",
       "      <td>Under or normal weight</td>\n",
       "    </tr>\n",
       "    <tr>\n",
       "      <th>1</th>\n",
       "      <td>Female</td>\n",
       "      <td>18</td>\n",
       "      <td>158</td>\n",
       "      <td>No</td>\n",
       "      <td>No</td>\n",
       "      <td>3-Always</td>\n",
       "      <td>1</td>\n",
       "      <td>1-Rarely</td>\n",
       "      <td>No</td>\n",
       "      <td>Less than a liter</td>\n",
       "      <td>No</td>\n",
       "      <td>No physical activity</td>\n",
       "      <td>5+ hours</td>\n",
       "      <td>Bike</td>\n",
       "      <td>Under or normal weight</td>\n",
       "    </tr>\n",
       "    <tr>\n",
       "      <th>2</th>\n",
       "      <td>Female</td>\n",
       "      <td>18</td>\n",
       "      <td>159</td>\n",
       "      <td>No</td>\n",
       "      <td>No</td>\n",
       "      <td>2-Sometimes</td>\n",
       "      <td>1</td>\n",
       "      <td>3-Usually</td>\n",
       "      <td>No</td>\n",
       "      <td>More than 2 liters</td>\n",
       "      <td>No</td>\n",
       "      <td>1-2 days</td>\n",
       "      <td>5+ hours</td>\n",
       "      <td>Public transportation</td>\n",
       "      <td>Under or normal weight</td>\n",
       "    </tr>\n",
       "    <tr>\n",
       "      <th>3</th>\n",
       "      <td>Female</td>\n",
       "      <td>18</td>\n",
       "      <td>162</td>\n",
       "      <td>No</td>\n",
       "      <td>No</td>\n",
       "      <td>2-Sometimes</td>\n",
       "      <td>2</td>\n",
       "      <td>2-Sometimes</td>\n",
       "      <td>No</td>\n",
       "      <td>1 to 2 liters</td>\n",
       "      <td>No</td>\n",
       "      <td>No physical activity</td>\n",
       "      <td>5+ hours</td>\n",
       "      <td>Public transportation</td>\n",
       "      <td>Under or normal weight</td>\n",
       "    </tr>\n",
       "  </tbody>\n",
       "</table>\n",
       "</div>"
      ],
      "text/plain": [
       "   Gender  Age  Height (cm) Overweight_Family Consumption_of_Fast_Food  \\\n",
       "0  Female   18          155                No                       No   \n",
       "1  Female   18          158                No                       No   \n",
       "2  Female   18          159                No                       No   \n",
       "3  Female   18          162                No                       No   \n",
       "\n",
       "  Frequency_of_Consuming_Vegetables  Number_of_Main_Meals_Daily  \\\n",
       "0                          3-Always                           1   \n",
       "1                          3-Always                           1   \n",
       "2                       2-Sometimes                           1   \n",
       "3                       2-Sometimes                           2   \n",
       "\n",
       "  Food_Intake_Between_Meals Smoking Liquid_Intake_Daily  \\\n",
       "0                 3-Usually      No   Less than a liter   \n",
       "1                  1-Rarely      No   Less than a liter   \n",
       "2                 3-Usually      No  More than 2 liters   \n",
       "3               2-Sometimes      No       1 to 2 liters   \n",
       "\n",
       "  Calculation_of_Calorie_Intake Weekly_Physical_Activity  \\\n",
       "0                            No                 3-4 days   \n",
       "1                            No     No physical activity   \n",
       "2                            No                 1-2 days   \n",
       "3                            No     No physical activity   \n",
       "\n",
       "  Schedule_Dedicated_to_Technology Type_of_Transportation_Used  \\\n",
       "0                         5+ hours       Public transportation   \n",
       "1                         5+ hours                        Bike   \n",
       "2                         5+ hours       Public transportation   \n",
       "3                         5+ hours       Public transportation   \n",
       "\n",
       "                    Class  \n",
       "0  Under or normal weight  \n",
       "1  Under or normal weight  \n",
       "2  Under or normal weight  \n",
       "3  Under or normal weight  "
      ]
     },
     "execution_count": 46,
     "metadata": {},
     "output_type": "execute_result"
    }
   ],
   "source": [
    "df.head(4)"
   ]
  },
  {
   "cell_type": "code",
   "execution_count": 47,
   "id": "76c45423",
   "metadata": {},
   "outputs": [
    {
     "data": {
      "text/plain": [
       "Class\n",
       "Overweight or obese       879\n",
       "Under or normal weight    731\n",
       "Name: count, dtype: int64"
      ]
     },
     "execution_count": 47,
     "metadata": {},
     "output_type": "execute_result"
    }
   ],
   "source": [
    "df['Class'].value_counts()"
   ]
  },
  {
   "cell_type": "markdown",
   "id": "070e71fd",
   "metadata": {},
   "source": [
    "## Análise exercício vs peso"
   ]
  },
  {
   "cell_type": "code",
   "execution_count": 52,
   "id": "dba706d5",
   "metadata": {},
   "outputs": [
    {
     "data": {
      "text/plain": [
       "Gender\n",
       "Female    898\n",
       "Male      712\n",
       "Name: count, dtype: int64"
      ]
     },
     "execution_count": 52,
     "metadata": {},
     "output_type": "execute_result"
    }
   ],
   "source": [
    "df['Gender'].value_counts()"
   ]
  },
  {
   "cell_type": "code",
   "execution_count": 50,
   "id": "aa37df91",
   "metadata": {},
   "outputs": [],
   "source": [
    "df_female = df.loc[df['Gender']== 'Female']"
   ]
  },
  {
   "cell_type": "code",
   "execution_count": 51,
   "id": "0204bee6",
   "metadata": {},
   "outputs": [
    {
     "data": {
      "text/html": [
       "<div>\n",
       "<style scoped>\n",
       "    .dataframe tbody tr th:only-of-type {\n",
       "        vertical-align: middle;\n",
       "    }\n",
       "\n",
       "    .dataframe tbody tr th {\n",
       "        vertical-align: top;\n",
       "    }\n",
       "\n",
       "    .dataframe thead tr th {\n",
       "        text-align: left;\n",
       "    }\n",
       "\n",
       "    .dataframe thead tr:last-of-type th {\n",
       "        text-align: right;\n",
       "    }\n",
       "</style>\n",
       "<table border=\"1\" class=\"dataframe\">\n",
       "  <thead>\n",
       "    <tr>\n",
       "      <th></th>\n",
       "      <th colspan=\"2\" halign=\"left\">Age</th>\n",
       "    </tr>\n",
       "    <tr>\n",
       "      <th>Class</th>\n",
       "      <th>Overweight or obese</th>\n",
       "      <th>Under or normal weight</th>\n",
       "    </tr>\n",
       "    <tr>\n",
       "      <th>Weekly_Physical_Activity</th>\n",
       "      <th></th>\n",
       "      <th></th>\n",
       "    </tr>\n",
       "  </thead>\n",
       "  <tbody>\n",
       "    <tr>\n",
       "      <th>1-2 days</th>\n",
       "      <td>45</td>\n",
       "      <td>123</td>\n",
       "    </tr>\n",
       "    <tr>\n",
       "      <th>3-4 days</th>\n",
       "      <td>63</td>\n",
       "      <td>145</td>\n",
       "    </tr>\n",
       "    <tr>\n",
       "      <th>5+ days</th>\n",
       "      <td>241</td>\n",
       "      <td>149</td>\n",
       "    </tr>\n",
       "    <tr>\n",
       "      <th>No physical activity</th>\n",
       "      <td>20</td>\n",
       "      <td>112</td>\n",
       "    </tr>\n",
       "  </tbody>\n",
       "</table>\n",
       "</div>"
      ],
      "text/plain": [
       "                                         Age                       \n",
       "Class                    Overweight or obese Under or normal weight\n",
       "Weekly_Physical_Activity                                           \n",
       "1-2 days                                  45                    123\n",
       "3-4 days                                  63                    145\n",
       "5+ days                                  241                    149\n",
       "No physical activity                      20                    112"
      ]
     },
     "execution_count": 51,
     "metadata": {},
     "output_type": "execute_result"
    }
   ],
   "source": [
    "pd.pivot_table(df_female, values= ['Age'] , index= ['Weekly_Physical_Activity'], columns= ['Class'], aggfunc= 'count')"
   ]
  }
 ],
 "metadata": {
  "kernelspec": {
   "display_name": "Python 3",
   "language": "python",
   "name": "python3"
  },
  "language_info": {
   "codemirror_mode": {
    "name": "ipython",
    "version": 3
   },
   "file_extension": ".py",
   "mimetype": "text/x-python",
   "name": "python",
   "nbconvert_exporter": "python",
   "pygments_lexer": "ipython3",
   "version": "3.13.2"
  }
 },
 "nbformat": 4,
 "nbformat_minor": 5
}
