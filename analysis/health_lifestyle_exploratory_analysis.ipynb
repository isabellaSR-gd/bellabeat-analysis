{
 "cells": [
  {
   "cell_type": "markdown",
   "id": "78e98cb3",
   "metadata": {},
   "source": [
    "### Análise exploratória health lifestyle dataset"
   ]
  },
  {
   "cell_type": "code",
   "execution_count": 49,
   "id": "70c4bebb",
   "metadata": {},
   "outputs": [],
   "source": [
    "import pandas as pd\n",
    "import numpy as np\n",
    "from pathlib import Path"
   ]
  },
  {
   "cell_type": "code",
   "execution_count": 50,
   "id": "9bc68a92",
   "metadata": {},
   "outputs": [
    {
     "name": "stdout",
     "output_type": "stream",
     "text": [
      "caminho do diretório D:\\python\\bellabeat-analysis\n"
     ]
    }
   ],
   "source": [
    "# File path made easier \n",
    "caminho_arquivo = Path('clean_new_data_obesity.csv').resolve().parents[1]\n",
    "print('caminho do diretório',caminho_arquivo)"
   ]
  },
  {
   "cell_type": "code",
   "execution_count": 51,
   "id": "887353cc",
   "metadata": {},
   "outputs": [],
   "source": [
    "df = pd.read_csv(f'{caminho_arquivo}/database/health-lifestyle-data/health_activity_data_treated.csv')"
   ]
  },
  {
   "cell_type": "markdown",
   "id": "09b91291",
   "metadata": {},
   "source": [
    "## Análise exploratória e estatística inicial"
   ]
  },
  {
   "cell_type": "code",
   "execution_count": 52,
   "id": "5af32d9b",
   "metadata": {},
   "outputs": [
    {
     "data": {
      "text/html": [
       "<div>\n",
       "<style scoped>\n",
       "    .dataframe tbody tr th:only-of-type {\n",
       "        vertical-align: middle;\n",
       "    }\n",
       "\n",
       "    .dataframe tbody tr th {\n",
       "        vertical-align: top;\n",
       "    }\n",
       "\n",
       "    .dataframe thead th {\n",
       "        text-align: right;\n",
       "    }\n",
       "</style>\n",
       "<table border=\"1\" class=\"dataframe\">\n",
       "  <thead>\n",
       "    <tr style=\"text-align: right;\">\n",
       "      <th></th>\n",
       "      <th>ID</th>\n",
       "      <th>Age</th>\n",
       "      <th>Age_Group</th>\n",
       "      <th>Gender</th>\n",
       "      <th>Gender_bool</th>\n",
       "      <th>Height_cm</th>\n",
       "      <th>Weight_kg</th>\n",
       "      <th>BMI</th>\n",
       "      <th>BMI_Category</th>\n",
       "      <th>Daily_Steps</th>\n",
       "      <th>...</th>\n",
       "      <th>Heart_Rate</th>\n",
       "      <th>Blood_Pressure</th>\n",
       "      <th>Exercise_Hours_per_Week</th>\n",
       "      <th>Smoker</th>\n",
       "      <th>Smoker_bool</th>\n",
       "      <th>Alcohol_Consumption_per_Week</th>\n",
       "      <th>Diabetic</th>\n",
       "      <th>Diabetic_bool</th>\n",
       "      <th>Heart_Disease</th>\n",
       "      <th>Heart_Disease_bool</th>\n",
       "    </tr>\n",
       "  </thead>\n",
       "  <tbody>\n",
       "    <tr>\n",
       "      <th>0</th>\n",
       "      <td>1</td>\n",
       "      <td>56</td>\n",
       "      <td>50 - 59</td>\n",
       "      <td>Male</td>\n",
       "      <td>0</td>\n",
       "      <td>164</td>\n",
       "      <td>81</td>\n",
       "      <td>30.72</td>\n",
       "      <td>Obese</td>\n",
       "      <td>5134</td>\n",
       "      <td>...</td>\n",
       "      <td>102</td>\n",
       "      <td>137/72</td>\n",
       "      <td>8.1</td>\n",
       "      <td>No</td>\n",
       "      <td>0</td>\n",
       "      <td>7</td>\n",
       "      <td>No</td>\n",
       "      <td>0</td>\n",
       "      <td>No</td>\n",
       "      <td>0</td>\n",
       "    </tr>\n",
       "    <tr>\n",
       "      <th>1</th>\n",
       "      <td>2</td>\n",
       "      <td>69</td>\n",
       "      <td>60 - 69</td>\n",
       "      <td>Male</td>\n",
       "      <td>0</td>\n",
       "      <td>156</td>\n",
       "      <td>82</td>\n",
       "      <td>20.86</td>\n",
       "      <td>Normal</td>\n",
       "      <td>12803</td>\n",
       "      <td>...</td>\n",
       "      <td>103</td>\n",
       "      <td>129/65</td>\n",
       "      <td>3.7</td>\n",
       "      <td>No</td>\n",
       "      <td>0</td>\n",
       "      <td>7</td>\n",
       "      <td>No</td>\n",
       "      <td>0</td>\n",
       "      <td>No</td>\n",
       "      <td>0</td>\n",
       "    </tr>\n",
       "    <tr>\n",
       "      <th>2</th>\n",
       "      <td>3</td>\n",
       "      <td>46</td>\n",
       "      <td>40 - 49</td>\n",
       "      <td>Female</td>\n",
       "      <td>1</td>\n",
       "      <td>158</td>\n",
       "      <td>65</td>\n",
       "      <td>30.93</td>\n",
       "      <td>Obese</td>\n",
       "      <td>16408</td>\n",
       "      <td>...</td>\n",
       "      <td>74</td>\n",
       "      <td>127/68</td>\n",
       "      <td>3.2</td>\n",
       "      <td>Yes</td>\n",
       "      <td>1</td>\n",
       "      <td>0</td>\n",
       "      <td>No</td>\n",
       "      <td>0</td>\n",
       "      <td>No</td>\n",
       "      <td>0</td>\n",
       "    </tr>\n",
       "    <tr>\n",
       "      <th>3</th>\n",
       "      <td>4</td>\n",
       "      <td>32</td>\n",
       "      <td>29 - 39</td>\n",
       "      <td>Male</td>\n",
       "      <td>0</td>\n",
       "      <td>197</td>\n",
       "      <td>87</td>\n",
       "      <td>31.19</td>\n",
       "      <td>Obese</td>\n",
       "      <td>18420</td>\n",
       "      <td>...</td>\n",
       "      <td>116</td>\n",
       "      <td>125/86</td>\n",
       "      <td>8.5</td>\n",
       "      <td>No</td>\n",
       "      <td>0</td>\n",
       "      <td>5</td>\n",
       "      <td>No</td>\n",
       "      <td>0</td>\n",
       "      <td>No</td>\n",
       "      <td>0</td>\n",
       "    </tr>\n",
       "    <tr>\n",
       "      <th>4</th>\n",
       "      <td>5</td>\n",
       "      <td>60</td>\n",
       "      <td>60 - 69</td>\n",
       "      <td>Male</td>\n",
       "      <td>0</td>\n",
       "      <td>157</td>\n",
       "      <td>63</td>\n",
       "      <td>29.37</td>\n",
       "      <td>Overweight</td>\n",
       "      <td>17351</td>\n",
       "      <td>...</td>\n",
       "      <td>111</td>\n",
       "      <td>100/64</td>\n",
       "      <td>8.5</td>\n",
       "      <td>Yes</td>\n",
       "      <td>1</td>\n",
       "      <td>8</td>\n",
       "      <td>No</td>\n",
       "      <td>0</td>\n",
       "      <td>No</td>\n",
       "      <td>0</td>\n",
       "    </tr>\n",
       "  </tbody>\n",
       "</table>\n",
       "<p>5 rows × 22 columns</p>\n",
       "</div>"
      ],
      "text/plain": [
       "   ID  Age Age_Group  Gender  Gender_bool  Height_cm  Weight_kg    BMI  \\\n",
       "0   1   56   50 - 59    Male            0        164         81  30.72   \n",
       "1   2   69   60 - 69    Male            0        156         82  20.86   \n",
       "2   3   46   40 - 49  Female            1        158         65  30.93   \n",
       "3   4   32   29 - 39    Male            0        197         87  31.19   \n",
       "4   5   60   60 - 69    Male            0        157         63  29.37   \n",
       "\n",
       "  BMI_Category  Daily_Steps  ...  Heart_Rate  Blood_Pressure  \\\n",
       "0        Obese         5134  ...         102          137/72   \n",
       "1       Normal        12803  ...         103          129/65   \n",
       "2        Obese        16408  ...          74          127/68   \n",
       "3        Obese        18420  ...         116          125/86   \n",
       "4   Overweight        17351  ...         111          100/64   \n",
       "\n",
       "   Exercise_Hours_per_Week Smoker  Smoker_bool Alcohol_Consumption_per_Week  \\\n",
       "0                      8.1     No            0                            7   \n",
       "1                      3.7     No            0                            7   \n",
       "2                      3.2    Yes            1                            0   \n",
       "3                      8.5     No            0                            5   \n",
       "4                      8.5    Yes            1                            8   \n",
       "\n",
       "   Diabetic  Diabetic_bool Heart_Disease  Heart_Disease_bool  \n",
       "0        No              0            No                   0  \n",
       "1        No              0            No                   0  \n",
       "2        No              0            No                   0  \n",
       "3        No              0            No                   0  \n",
       "4        No              0            No                   0  \n",
       "\n",
       "[5 rows x 22 columns]"
      ]
     },
     "execution_count": 52,
     "metadata": {},
     "output_type": "execute_result"
    }
   ],
   "source": [
    "df.head()"
   ]
  },
  {
   "cell_type": "code",
   "execution_count": 53,
   "id": "a6a86071",
   "metadata": {},
   "outputs": [
    {
     "data": {
      "text/html": [
       "<div>\n",
       "<style scoped>\n",
       "    .dataframe tbody tr th:only-of-type {\n",
       "        vertical-align: middle;\n",
       "    }\n",
       "\n",
       "    .dataframe tbody tr th {\n",
       "        vertical-align: top;\n",
       "    }\n",
       "\n",
       "    .dataframe thead th {\n",
       "        text-align: right;\n",
       "    }\n",
       "</style>\n",
       "<table border=\"1\" class=\"dataframe\">\n",
       "  <thead>\n",
       "    <tr style=\"text-align: right;\">\n",
       "      <th></th>\n",
       "      <th>Age</th>\n",
       "      <th>Daily_Steps</th>\n",
       "      <th>Calories_Intake</th>\n",
       "      <th>Hours_of_Sleep</th>\n",
       "      <th>Heart_Rate</th>\n",
       "      <th>Exercise_Hours_per_Week</th>\n",
       "    </tr>\n",
       "  </thead>\n",
       "  <tbody>\n",
       "    <tr>\n",
       "      <th>count</th>\n",
       "      <td>1000.0</td>\n",
       "      <td>1000.0</td>\n",
       "      <td>1000.0</td>\n",
       "      <td>1000.0</td>\n",
       "      <td>1000.0</td>\n",
       "      <td>1000.0</td>\n",
       "    </tr>\n",
       "    <tr>\n",
       "      <th>mean</th>\n",
       "      <td>49.9</td>\n",
       "      <td>10717.0</td>\n",
       "      <td>2327.1</td>\n",
       "      <td>6.9</td>\n",
       "      <td>84.7</td>\n",
       "      <td>5.0</td>\n",
       "    </tr>\n",
       "    <tr>\n",
       "      <th>std</th>\n",
       "      <td>18.1</td>\n",
       "      <td>5444.7</td>\n",
       "      <td>657.8</td>\n",
       "      <td>1.8</td>\n",
       "      <td>20.1</td>\n",
       "      <td>2.8</td>\n",
       "    </tr>\n",
       "    <tr>\n",
       "      <th>min</th>\n",
       "      <td>18.0</td>\n",
       "      <td>1016.0</td>\n",
       "      <td>1201.0</td>\n",
       "      <td>4.0</td>\n",
       "      <td>50.0</td>\n",
       "      <td>0.0</td>\n",
       "    </tr>\n",
       "    <tr>\n",
       "      <th>25%</th>\n",
       "      <td>35.0</td>\n",
       "      <td>6028.2</td>\n",
       "      <td>1745.8</td>\n",
       "      <td>5.3</td>\n",
       "      <td>67.0</td>\n",
       "      <td>2.7</td>\n",
       "    </tr>\n",
       "    <tr>\n",
       "      <th>50%</th>\n",
       "      <td>50.0</td>\n",
       "      <td>10898.0</td>\n",
       "      <td>2328.5</td>\n",
       "      <td>6.9</td>\n",
       "      <td>84.0</td>\n",
       "      <td>5.1</td>\n",
       "    </tr>\n",
       "    <tr>\n",
       "      <th>75%</th>\n",
       "      <td>66.0</td>\n",
       "      <td>15253.2</td>\n",
       "      <td>2880.0</td>\n",
       "      <td>8.4</td>\n",
       "      <td>103.0</td>\n",
       "      <td>7.6</td>\n",
       "    </tr>\n",
       "    <tr>\n",
       "      <th>max</th>\n",
       "      <td>79.0</td>\n",
       "      <td>19931.0</td>\n",
       "      <td>3498.0</td>\n",
       "      <td>10.0</td>\n",
       "      <td>119.0</td>\n",
       "      <td>10.0</td>\n",
       "    </tr>\n",
       "  </tbody>\n",
       "</table>\n",
       "</div>"
      ],
      "text/plain": [
       "          Age  Daily_Steps  Calories_Intake  Hours_of_Sleep  Heart_Rate  \\\n",
       "count  1000.0       1000.0           1000.0          1000.0      1000.0   \n",
       "mean     49.9      10717.0           2327.1             6.9        84.7   \n",
       "std      18.1       5444.7            657.8             1.8        20.1   \n",
       "min      18.0       1016.0           1201.0             4.0        50.0   \n",
       "25%      35.0       6028.2           1745.8             5.3        67.0   \n",
       "50%      50.0      10898.0           2328.5             6.9        84.0   \n",
       "75%      66.0      15253.2           2880.0             8.4       103.0   \n",
       "max      79.0      19931.0           3498.0            10.0       119.0   \n",
       "\n",
       "       Exercise_Hours_per_Week  \n",
       "count                   1000.0  \n",
       "mean                       5.0  \n",
       "std                        2.8  \n",
       "min                        0.0  \n",
       "25%                        2.7  \n",
       "50%                        5.1  \n",
       "75%                        7.6  \n",
       "max                       10.0  "
      ]
     },
     "execution_count": 53,
     "metadata": {},
     "output_type": "execute_result"
    }
   ],
   "source": [
    "df[['Age', 'Daily_Steps', 'Calories_Intake', 'Hours_of_Sleep', 'Heart_Rate', 'Exercise_Hours_per_Week']].describe().round(1)"
   ]
  },
  {
   "cell_type": "code",
   "execution_count": 54,
   "id": "897c4848",
   "metadata": {},
   "outputs": [
    {
     "name": "stdout",
     "output_type": "stream",
     "text": [
      "<class 'pandas.core.frame.DataFrame'>\n",
      "RangeIndex: 1000 entries, 0 to 999\n",
      "Data columns (total 22 columns):\n",
      " #   Column                        Non-Null Count  Dtype  \n",
      "---  ------                        --------------  -----  \n",
      " 0   ID                            1000 non-null   int64  \n",
      " 1   Age                           1000 non-null   int64  \n",
      " 2   Age_Group                     1000 non-null   object \n",
      " 3   Gender                        1000 non-null   object \n",
      " 4   Gender_bool                   1000 non-null   int64  \n",
      " 5   Height_cm                     1000 non-null   int64  \n",
      " 6   Weight_kg                     1000 non-null   int64  \n",
      " 7   BMI                           1000 non-null   float64\n",
      " 8   BMI_Category                  1000 non-null   object \n",
      " 9   Daily_Steps                   1000 non-null   int64  \n",
      " 10  Calories_Intake               1000 non-null   int64  \n",
      " 11  Hours_of_Sleep                1000 non-null   float64\n",
      " 12  Heart_Rate                    1000 non-null   int64  \n",
      " 13  Blood_Pressure                1000 non-null   object \n",
      " 14  Exercise_Hours_per_Week       1000 non-null   float64\n",
      " 15  Smoker                        1000 non-null   object \n",
      " 16  Smoker_bool                   1000 non-null   int64  \n",
      " 17  Alcohol_Consumption_per_Week  1000 non-null   int64  \n",
      " 18  Diabetic                      1000 non-null   object \n",
      " 19  Diabetic_bool                 1000 non-null   int64  \n",
      " 20  Heart_Disease                 1000 non-null   object \n",
      " 21  Heart_Disease_bool            1000 non-null   int64  \n",
      "dtypes: float64(3), int64(12), object(7)\n",
      "memory usage: 172.0+ KB\n"
     ]
    }
   ],
   "source": [
    "df.info()"
   ]
  },
  {
   "cell_type": "markdown",
   "id": "07097dbc",
   "metadata": {},
   "source": [
    "### Como o Bellabeat tem público feminino, fazer recorte de gênero no dataset para encontrar padrões de exercício e estilo de vida em mulheres"
   ]
  },
  {
   "cell_type": "code",
   "execution_count": 55,
   "id": "34612114",
   "metadata": {},
   "outputs": [
    {
     "data": {
      "text/plain": [
       "Gender\n",
       "Male      523\n",
       "Female    477\n",
       "Name: count, dtype: int64"
      ]
     },
     "execution_count": 55,
     "metadata": {},
     "output_type": "execute_result"
    }
   ],
   "source": [
    "df['Gender'].value_counts()"
   ]
  },
  {
   "cell_type": "code",
   "execution_count": 56,
   "id": "de1646f0",
   "metadata": {},
   "outputs": [],
   "source": [
    "df_fem = df.loc[df['Gender'] == 'Female']"
   ]
  },
  {
   "cell_type": "markdown",
   "id": "29923014",
   "metadata": {},
   "source": [
    "#### Análise de daily steps"
   ]
  },
  {
   "cell_type": "code",
   "execution_count": 25,
   "id": "dd1ee702",
   "metadata": {},
   "outputs": [],
   "source": [
    "daily_steps_mean = df_fem['Daily_Steps'].mean().round(1)"
   ]
  },
  {
   "cell_type": "markdown",
   "id": "74268829",
   "metadata": {},
   "source": [
    "#### Contagem de BMI category das pessoas com média de passos abaixo da média"
   ]
  },
  {
   "cell_type": "code",
   "execution_count": 69,
   "id": "fa5676da",
   "metadata": {},
   "outputs": [
    {
     "data": {
      "text/plain": [
       "BMI_Category\n",
       "Normal        88\n",
       "Obese         83\n",
       "Overweight    72\n",
       "Name: count, dtype: int64"
      ]
     },
     "execution_count": 69,
     "metadata": {},
     "output_type": "execute_result"
    }
   ],
   "source": [
    "few_steps_pop = df_fem.loc[df_fem['Daily_Steps']< daily_steps_mean, 'BMI_Category'].value_counts()\n",
    "few_steps_pop"
   ]
  },
  {
   "cell_type": "markdown",
   "id": "7e68f011",
   "metadata": {},
   "source": [
    "#### Contagem de BMI category das pessoas com média de passos acima da média"
   ]
  },
  {
   "cell_type": "code",
   "execution_count": 27,
   "id": "06d9a58d",
   "metadata": {},
   "outputs": [
    {
     "data": {
      "text/plain": [
       "BMI_Category\n",
       "Normal        90\n",
       "Obese         85\n",
       "Overweight    59\n",
       "Name: count, dtype: int64"
      ]
     },
     "execution_count": 27,
     "metadata": {},
     "output_type": "execute_result"
    }
   ],
   "source": [
    "more_steps_pop = df_fem.loc[df_fem['Daily_Steps']> daily_steps_mean, 'BMI_Category'].value_counts()\n",
    "more_steps_pop"
   ]
  },
  {
   "cell_type": "markdown",
   "id": "0718f03a",
   "metadata": {},
   "source": [
    "##### Para essa amostra, passos e IMC não estão relacionados"
   ]
  },
  {
   "cell_type": "markdown",
   "id": "3376c48c",
   "metadata": {},
   "source": [
    "### Exercício por semana por categoria de IMC"
   ]
  },
  {
   "cell_type": "code",
   "execution_count": 59,
   "id": "c964c7c0",
   "metadata": {},
   "outputs": [
    {
     "data": {
      "text/html": [
       "<div>\n",
       "<style scoped>\n",
       "    .dataframe tbody tr th:only-of-type {\n",
       "        vertical-align: middle;\n",
       "    }\n",
       "\n",
       "    .dataframe tbody tr th {\n",
       "        vertical-align: top;\n",
       "    }\n",
       "\n",
       "    .dataframe thead th {\n",
       "        text-align: right;\n",
       "    }\n",
       "</style>\n",
       "<table border=\"1\" class=\"dataframe\">\n",
       "  <thead>\n",
       "    <tr style=\"text-align: right;\">\n",
       "      <th>BMI_Category</th>\n",
       "      <th>Normal</th>\n",
       "      <th>Obese</th>\n",
       "      <th>Overweight</th>\n",
       "    </tr>\n",
       "  </thead>\n",
       "  <tbody>\n",
       "    <tr>\n",
       "      <th>Exercise_Hours_per_Week</th>\n",
       "      <td>5.1</td>\n",
       "      <td>4.9</td>\n",
       "      <td>4.8</td>\n",
       "    </tr>\n",
       "  </tbody>\n",
       "</table>\n",
       "</div>"
      ],
      "text/plain": [
       "BMI_Category             Normal  Obese  Overweight\n",
       "Exercise_Hours_per_Week     5.1    4.9         4.8"
      ]
     },
     "execution_count": 59,
     "metadata": {},
     "output_type": "execute_result"
    }
   ],
   "source": [
    "pd.pivot_table(df_fem, values = 'Exercise_Hours_per_Week', columns= 'BMI_Category', aggfunc= 'mean').round(1)"
   ]
  },
  {
   "cell_type": "markdown",
   "id": "bffeba45",
   "metadata": {},
   "source": [
    "### Pivot table on BMI categories, diabetes e heart disease"
   ]
  },
  {
   "cell_type": "code",
   "execution_count": 30,
   "id": "c34f3f54",
   "metadata": {},
   "outputs": [
    {
     "data": {
      "text/html": [
       "<div>\n",
       "<style scoped>\n",
       "    .dataframe tbody tr th:only-of-type {\n",
       "        vertical-align: middle;\n",
       "    }\n",
       "\n",
       "    .dataframe tbody tr th {\n",
       "        vertical-align: top;\n",
       "    }\n",
       "\n",
       "    .dataframe thead th {\n",
       "        text-align: right;\n",
       "    }\n",
       "</style>\n",
       "<table border=\"1\" class=\"dataframe\">\n",
       "  <thead>\n",
       "    <tr style=\"text-align: right;\">\n",
       "      <th></th>\n",
       "      <th>BMI_Category</th>\n",
       "      <th>Normal</th>\n",
       "      <th>Obese</th>\n",
       "      <th>Overweight</th>\n",
       "    </tr>\n",
       "    <tr>\n",
       "      <th>Heart_Disease</th>\n",
       "      <th>Diabetic</th>\n",
       "      <th></th>\n",
       "      <th></th>\n",
       "      <th></th>\n",
       "    </tr>\n",
       "  </thead>\n",
       "  <tbody>\n",
       "    <tr>\n",
       "      <th rowspan=\"2\" valign=\"top\">No</th>\n",
       "      <th>No</th>\n",
       "      <td>10834.0</td>\n",
       "      <td>10546.2</td>\n",
       "      <td>10137.7</td>\n",
       "    </tr>\n",
       "    <tr>\n",
       "      <th>Yes</th>\n",
       "      <td>10534.7</td>\n",
       "      <td>10516.0</td>\n",
       "      <td>10553.6</td>\n",
       "    </tr>\n",
       "    <tr>\n",
       "      <th rowspan=\"2\" valign=\"top\">Yes</th>\n",
       "      <th>No</th>\n",
       "      <td>9788.9</td>\n",
       "      <td>7783.0</td>\n",
       "      <td>8251.2</td>\n",
       "    </tr>\n",
       "    <tr>\n",
       "      <th>Yes</th>\n",
       "      <td>13205.0</td>\n",
       "      <td>16609.7</td>\n",
       "      <td>NaN</td>\n",
       "    </tr>\n",
       "  </tbody>\n",
       "</table>\n",
       "</div>"
      ],
      "text/plain": [
       "BMI_Category             Normal    Obese  Overweight\n",
       "Heart_Disease Diabetic                              \n",
       "No            No        10834.0  10546.2     10137.7\n",
       "              Yes       10534.7  10516.0     10553.6\n",
       "Yes           No         9788.9   7783.0      8251.2\n",
       "              Yes       13205.0  16609.7         NaN"
      ]
     },
     "execution_count": 30,
     "metadata": {},
     "output_type": "execute_result"
    }
   ],
   "source": [
    "# tabela para analisar como doença cardiaca e diabetes afeta qntde de passos diário\n",
    "pd.pivot_table(df_fem, values= 'Daily_Steps', index=('Heart_Disease', 'Diabetic'), columns= 'BMI_Category', aggfunc= 'mean').round(1)"
   ]
  },
  {
   "cell_type": "code",
   "execution_count": 31,
   "id": "8dc3fabd",
   "metadata": {},
   "outputs": [
    {
     "data": {
      "text/html": [
       "<div>\n",
       "<style scoped>\n",
       "    .dataframe tbody tr th:only-of-type {\n",
       "        vertical-align: middle;\n",
       "    }\n",
       "\n",
       "    .dataframe tbody tr th {\n",
       "        vertical-align: top;\n",
       "    }\n",
       "\n",
       "    .dataframe thead th {\n",
       "        text-align: right;\n",
       "    }\n",
       "</style>\n",
       "<table border=\"1\" class=\"dataframe\">\n",
       "  <thead>\n",
       "    <tr style=\"text-align: right;\">\n",
       "      <th></th>\n",
       "      <th>BMI_Category</th>\n",
       "      <th>Normal</th>\n",
       "      <th>Obese</th>\n",
       "      <th>Overweight</th>\n",
       "    </tr>\n",
       "    <tr>\n",
       "      <th>Heart_Disease</th>\n",
       "      <th>Diabetic</th>\n",
       "      <th></th>\n",
       "      <th></th>\n",
       "      <th></th>\n",
       "    </tr>\n",
       "  </thead>\n",
       "  <tbody>\n",
       "    <tr>\n",
       "      <th rowspan=\"2\" valign=\"top\">No</th>\n",
       "      <th>No</th>\n",
       "      <td>5.3</td>\n",
       "      <td>4.9</td>\n",
       "      <td>4.6</td>\n",
       "    </tr>\n",
       "    <tr>\n",
       "      <th>Yes</th>\n",
       "      <td>4.3</td>\n",
       "      <td>5.4</td>\n",
       "      <td>5.4</td>\n",
       "    </tr>\n",
       "    <tr>\n",
       "      <th rowspan=\"2\" valign=\"top\">Yes</th>\n",
       "      <th>No</th>\n",
       "      <td>5.0</td>\n",
       "      <td>4.1</td>\n",
       "      <td>5.5</td>\n",
       "    </tr>\n",
       "    <tr>\n",
       "      <th>Yes</th>\n",
       "      <td>6.5</td>\n",
       "      <td>6.6</td>\n",
       "      <td>NaN</td>\n",
       "    </tr>\n",
       "  </tbody>\n",
       "</table>\n",
       "</div>"
      ],
      "text/plain": [
       "BMI_Category            Normal  Obese  Overweight\n",
       "Heart_Disease Diabetic                           \n",
       "No            No           5.3    4.9         4.6\n",
       "              Yes          4.3    5.4         5.4\n",
       "Yes           No           5.0    4.1         5.5\n",
       "              Yes          6.5    6.6         NaN"
      ]
     },
     "execution_count": 31,
     "metadata": {},
     "output_type": "execute_result"
    }
   ],
   "source": [
    "# tabela para analisar como doença cardiaca e diabetes afeta tempo de exercício\n",
    "pd.pivot_table(df_fem, values= 'Exercise_Hours_per_Week', index=('Heart_Disease', 'Diabetic'), columns= 'BMI_Category', aggfunc= 'mean').round(1)"
   ]
  },
  {
   "cell_type": "markdown",
   "id": "92924cb2",
   "metadata": {},
   "source": [
    "Pessoas diabeticas de todas as categorias de BMI tem média diária de passo maior quando comparadas com a mesma <br>categoria mas sem diabete. \n",
    "Doença cardíaca não apresenta o mesmo padrão (pessoas com doenças cardíacas sem diabetes <br> andam menos do que pessoas sem doença cardíaca sem diabete)\n",
    "O grupo doença cardíaca [Sim] e diabete [não]<br> é o que tem menor média de passos"
   ]
  },
  {
   "cell_type": "markdown",
   "id": "1d51d8b0",
   "metadata": {},
   "source": [
    "### Análise de habitos por idade"
   ]
  },
  {
   "cell_type": "code",
   "execution_count": 73,
   "id": "2edf03d7",
   "metadata": {},
   "outputs": [
    {
     "data": {
      "text/html": [
       "<div>\n",
       "<style scoped>\n",
       "    .dataframe tbody tr th:only-of-type {\n",
       "        vertical-align: middle;\n",
       "    }\n",
       "\n",
       "    .dataframe tbody tr th {\n",
       "        vertical-align: top;\n",
       "    }\n",
       "\n",
       "    .dataframe thead th {\n",
       "        text-align: right;\n",
       "    }\n",
       "</style>\n",
       "<table border=\"1\" class=\"dataframe\">\n",
       "  <thead>\n",
       "    <tr style=\"text-align: right;\">\n",
       "      <th>Age_Group</th>\n",
       "      <th>18 - 28</th>\n",
       "      <th>29 - 39</th>\n",
       "      <th>40 - 49</th>\n",
       "      <th>50 - 59</th>\n",
       "      <th>60 - 69</th>\n",
       "      <th>70+</th>\n",
       "    </tr>\n",
       "  </thead>\n",
       "  <tbody>\n",
       "    <tr>\n",
       "      <th>Alcohol_Consumption_per_Week</th>\n",
       "      <td>6</td>\n",
       "      <td>6</td>\n",
       "      <td>5</td>\n",
       "      <td>5</td>\n",
       "      <td>4</td>\n",
       "      <td>4</td>\n",
       "    </tr>\n",
       "    <tr>\n",
       "      <th>Calories_Intake</th>\n",
       "      <td>2490</td>\n",
       "      <td>2166</td>\n",
       "      <td>2419</td>\n",
       "      <td>2307</td>\n",
       "      <td>2370</td>\n",
       "      <td>2378</td>\n",
       "    </tr>\n",
       "    <tr>\n",
       "      <th>Daily_Steps</th>\n",
       "      <td>11212</td>\n",
       "      <td>9844</td>\n",
       "      <td>12381</td>\n",
       "      <td>9840</td>\n",
       "      <td>10021</td>\n",
       "      <td>8692</td>\n",
       "    </tr>\n",
       "    <tr>\n",
       "      <th>Exercise_Hours_per_Week</th>\n",
       "      <td>4</td>\n",
       "      <td>5</td>\n",
       "      <td>5</td>\n",
       "      <td>4</td>\n",
       "      <td>4</td>\n",
       "      <td>4</td>\n",
       "    </tr>\n",
       "    <tr>\n",
       "      <th>Hours_of_Sleep</th>\n",
       "      <td>7</td>\n",
       "      <td>7</td>\n",
       "      <td>6</td>\n",
       "      <td>7</td>\n",
       "      <td>6</td>\n",
       "      <td>6</td>\n",
       "    </tr>\n",
       "  </tbody>\n",
       "</table>\n",
       "</div>"
      ],
      "text/plain": [
       "Age_Group                     18 - 28  29 - 39  40 - 49  50 - 59  60 - 69  \\\n",
       "Alcohol_Consumption_per_Week        6        6        5        5        4   \n",
       "Calories_Intake                  2490     2166     2419     2307     2370   \n",
       "Daily_Steps                     11212     9844    12381     9840    10021   \n",
       "Exercise_Hours_per_Week             4        5        5        4        4   \n",
       "Hours_of_Sleep                      7        7        6        7        6   \n",
       "\n",
       "Age_Group                      70+  \n",
       "Alcohol_Consumption_per_Week     4  \n",
       "Calories_Intake               2378  \n",
       "Daily_Steps                   8692  \n",
       "Exercise_Hours_per_Week          4  \n",
       "Hours_of_Sleep                   6  "
      ]
     },
     "execution_count": 73,
     "metadata": {},
     "output_type": "execute_result"
    }
   ],
   "source": [
    "pd.pivot_table(df_fem, values= ('Daily_Steps', 'Calories_Intake', 'Hours_of_Sleep', 'Exercise_Hours_per_Week', 'Alcohol_Consumption_per_Week'), \n",
    "               columns= ('Age_Group'), \n",
    "               aggfunc={'Daily_Steps':'median', 'Calories_Intake':'median', 'Hours_of_Sleep':'median', 'Exercise_Hours_per_Week':'median', 'Alcohol_Consumption_per_Week':'median'}\n",
    "               ).astype(int).round(1)"
   ]
  },
  {
   "cell_type": "code",
   "execution_count": null,
   "id": "31b33185",
   "metadata": {},
   "outputs": [],
   "source": [
    "pd.pivot_table(df_fem, values ='ID', index='Age_Group', columns=('Diabetic'), aggfunc='count')"
   ]
  },
  {
   "cell_type": "code",
   "execution_count": null,
   "id": "1d392613",
   "metadata": {},
   "outputs": [],
   "source": [
    "pd.pivot_table(df_fem, values ='ID', index='Age_Group', columns=('Heart_Disease'), aggfunc='count')"
   ]
  },
  {
   "cell_type": "markdown",
   "id": "6d86ef34",
   "metadata": {},
   "source": [
    "### Daily steps e exercício por idade e BMI category"
   ]
  },
  {
   "cell_type": "code",
   "execution_count": 40,
   "id": "561c4528",
   "metadata": {},
   "outputs": [
    {
     "data": {
      "text/html": [
       "<div>\n",
       "<style scoped>\n",
       "    .dataframe tbody tr th:only-of-type {\n",
       "        vertical-align: middle;\n",
       "    }\n",
       "\n",
       "    .dataframe tbody tr th {\n",
       "        vertical-align: top;\n",
       "    }\n",
       "\n",
       "    .dataframe thead th {\n",
       "        text-align: right;\n",
       "    }\n",
       "</style>\n",
       "<table border=\"1\" class=\"dataframe\">\n",
       "  <thead>\n",
       "    <tr style=\"text-align: right;\">\n",
       "      <th>Age_Group</th>\n",
       "      <th>18 - 28</th>\n",
       "      <th>29 - 39</th>\n",
       "      <th>40 - 49</th>\n",
       "      <th>50 - 59</th>\n",
       "      <th>60 - 69</th>\n",
       "      <th>70+</th>\n",
       "    </tr>\n",
       "  </thead>\n",
       "  <tbody>\n",
       "    <tr>\n",
       "      <th>Daily_Steps</th>\n",
       "      <td>11210</td>\n",
       "      <td>9840</td>\n",
       "      <td>12380</td>\n",
       "      <td>9840</td>\n",
       "      <td>10020</td>\n",
       "      <td>8690</td>\n",
       "    </tr>\n",
       "  </tbody>\n",
       "</table>\n",
       "</div>"
      ],
      "text/plain": [
       "Age_Group    18 - 28  29 - 39  40 - 49  50 - 59  60 - 69   70+\n",
       "Daily_Steps    11210     9840    12380     9840    10020  8690"
      ]
     },
     "execution_count": 40,
     "metadata": {},
     "output_type": "execute_result"
    }
   ],
   "source": [
    "pd.pivot_table(df_fem, values= 'Daily_Steps', columns= ('Age_Group'), \n",
    "               aggfunc={'Daily_Steps':'median'}).round(-1).astype(int)"
   ]
  },
  {
   "cell_type": "code",
   "execution_count": 41,
   "id": "80faf484",
   "metadata": {},
   "outputs": [
    {
     "data": {
      "text/html": [
       "<div>\n",
       "<style scoped>\n",
       "    .dataframe tbody tr th:only-of-type {\n",
       "        vertical-align: middle;\n",
       "    }\n",
       "\n",
       "    .dataframe tbody tr th {\n",
       "        vertical-align: top;\n",
       "    }\n",
       "\n",
       "    .dataframe thead th {\n",
       "        text-align: right;\n",
       "    }\n",
       "</style>\n",
       "<table border=\"1\" class=\"dataframe\">\n",
       "  <thead>\n",
       "    <tr style=\"text-align: right;\">\n",
       "      <th>Age_Group</th>\n",
       "      <th>18 - 28</th>\n",
       "      <th>29 - 39</th>\n",
       "      <th>40 - 49</th>\n",
       "      <th>50 - 59</th>\n",
       "      <th>60 - 69</th>\n",
       "      <th>70+</th>\n",
       "    </tr>\n",
       "  </thead>\n",
       "  <tbody>\n",
       "    <tr>\n",
       "      <th>Exercise_Hours_per_Week</th>\n",
       "      <td>4.6</td>\n",
       "      <td>5.6</td>\n",
       "      <td>5.0</td>\n",
       "      <td>4.9</td>\n",
       "      <td>4.9</td>\n",
       "      <td>4.9</td>\n",
       "    </tr>\n",
       "  </tbody>\n",
       "</table>\n",
       "</div>"
      ],
      "text/plain": [
       "Age_Group                18 - 28  29 - 39  40 - 49  50 - 59  60 - 69  70+\n",
       "Exercise_Hours_per_Week      4.6      5.6      5.0      4.9      4.9  4.9"
      ]
     },
     "execution_count": 41,
     "metadata": {},
     "output_type": "execute_result"
    }
   ],
   "source": [
    "pd.pivot_table(df_fem, values= 'Exercise_Hours_per_Week', columns= ('Age_Group'), \n",
    "               aggfunc={'Exercise_Hours_per_Week':'median'}).round(1)"
   ]
  },
  {
   "cell_type": "code",
   "execution_count": 42,
   "id": "14fa692e",
   "metadata": {},
   "outputs": [
    {
     "data": {
      "text/html": [
       "<div>\n",
       "<style scoped>\n",
       "    .dataframe tbody tr th:only-of-type {\n",
       "        vertical-align: middle;\n",
       "    }\n",
       "\n",
       "    .dataframe tbody tr th {\n",
       "        vertical-align: top;\n",
       "    }\n",
       "\n",
       "    .dataframe thead th {\n",
       "        text-align: right;\n",
       "    }\n",
       "</style>\n",
       "<table border=\"1\" class=\"dataframe\">\n",
       "  <thead>\n",
       "    <tr style=\"text-align: right;\">\n",
       "      <th>BMI_Category</th>\n",
       "      <th>Normal</th>\n",
       "      <th>Obese</th>\n",
       "      <th>Overweight</th>\n",
       "    </tr>\n",
       "  </thead>\n",
       "  <tbody>\n",
       "    <tr>\n",
       "      <th>Exercise_Hours_per_Week</th>\n",
       "      <td>5.0</td>\n",
       "      <td>4.9</td>\n",
       "      <td>5.1</td>\n",
       "    </tr>\n",
       "  </tbody>\n",
       "</table>\n",
       "</div>"
      ],
      "text/plain": [
       "BMI_Category             Normal  Obese  Overweight\n",
       "Exercise_Hours_per_Week     5.0    4.9         5.1"
      ]
     },
     "execution_count": 42,
     "metadata": {},
     "output_type": "execute_result"
    }
   ],
   "source": [
    "pd.pivot_table(df_fem, values= 'Exercise_Hours_per_Week', columns= ('BMI_Category'), \n",
    "               aggfunc={'Exercise_Hours_per_Week':'median'}). round(1)"
   ]
  },
  {
   "cell_type": "code",
   "execution_count": 43,
   "id": "81875356",
   "metadata": {},
   "outputs": [
    {
     "data": {
      "text/html": [
       "<div>\n",
       "<style scoped>\n",
       "    .dataframe tbody tr th:only-of-type {\n",
       "        vertical-align: middle;\n",
       "    }\n",
       "\n",
       "    .dataframe tbody tr th {\n",
       "        vertical-align: top;\n",
       "    }\n",
       "\n",
       "    .dataframe thead th {\n",
       "        text-align: right;\n",
       "    }\n",
       "</style>\n",
       "<table border=\"1\" class=\"dataframe\">\n",
       "  <thead>\n",
       "    <tr style=\"text-align: right;\">\n",
       "      <th>BMI_Category</th>\n",
       "      <th>Normal</th>\n",
       "      <th>Obese</th>\n",
       "      <th>Overweight</th>\n",
       "    </tr>\n",
       "  </thead>\n",
       "  <tbody>\n",
       "    <tr>\n",
       "      <th>Daily_Steps</th>\n",
       "      <td>10458.0</td>\n",
       "      <td>10611.5</td>\n",
       "      <td>8954.0</td>\n",
       "    </tr>\n",
       "  </tbody>\n",
       "</table>\n",
       "</div>"
      ],
      "text/plain": [
       "BMI_Category   Normal    Obese  Overweight\n",
       "Daily_Steps   10458.0  10611.5      8954.0"
      ]
     },
     "execution_count": 43,
     "metadata": {},
     "output_type": "execute_result"
    }
   ],
   "source": [
    "pd.pivot_table(df_fem, values= 'Daily_Steps', columns= ('BMI_Category'), \n",
    "               aggfunc={'Daily_Steps':'median'}). round(1)"
   ]
  },
  {
   "cell_type": "code",
   "execution_count": 85,
   "id": "f730cd08",
   "metadata": {},
   "outputs": [
    {
     "data": {
      "text/html": [
       "<div>\n",
       "<style scoped>\n",
       "    .dataframe tbody tr th:only-of-type {\n",
       "        vertical-align: middle;\n",
       "    }\n",
       "\n",
       "    .dataframe tbody tr th {\n",
       "        vertical-align: top;\n",
       "    }\n",
       "\n",
       "    .dataframe thead th {\n",
       "        text-align: right;\n",
       "    }\n",
       "</style>\n",
       "<table border=\"1\" class=\"dataframe\">\n",
       "  <thead>\n",
       "    <tr style=\"text-align: right;\">\n",
       "      <th>Smoker</th>\n",
       "      <th>No</th>\n",
       "      <th>Yes</th>\n",
       "    </tr>\n",
       "    <tr>\n",
       "      <th>Age_Group</th>\n",
       "      <th></th>\n",
       "      <th></th>\n",
       "    </tr>\n",
       "  </thead>\n",
       "  <tbody>\n",
       "    <tr>\n",
       "      <th>18 - 28</th>\n",
       "      <td>66</td>\n",
       "      <td>16</td>\n",
       "    </tr>\n",
       "    <tr>\n",
       "      <th>29 - 39</th>\n",
       "      <td>60</td>\n",
       "      <td>13</td>\n",
       "    </tr>\n",
       "    <tr>\n",
       "      <th>40 - 49</th>\n",
       "      <td>66</td>\n",
       "      <td>16</td>\n",
       "    </tr>\n",
       "    <tr>\n",
       "      <th>50 - 59</th>\n",
       "      <td>66</td>\n",
       "      <td>22</td>\n",
       "    </tr>\n",
       "    <tr>\n",
       "      <th>60 - 69</th>\n",
       "      <td>58</td>\n",
       "      <td>15</td>\n",
       "    </tr>\n",
       "    <tr>\n",
       "      <th>70+</th>\n",
       "      <td>65</td>\n",
       "      <td>14</td>\n",
       "    </tr>\n",
       "  </tbody>\n",
       "</table>\n",
       "</div>"
      ],
      "text/plain": [
       "Smoker     No  Yes\n",
       "Age_Group         \n",
       "18 - 28    66   16\n",
       "29 - 39    60   13\n",
       "40 - 49    66   16\n",
       "50 - 59    66   22\n",
       "60 - 69    58   15\n",
       "70+        65   14"
      ]
     },
     "execution_count": 85,
     "metadata": {},
     "output_type": "execute_result"
    }
   ],
   "source": [
    "# Fumante por grupo \n",
    "associativa_4 = pd.crosstab(\n",
    "    index=[df_fem['Age_Group']], \n",
    "    columns=df_fem['Smoker']\n",
    ")\n",
    "associativa_4"
   ]
  },
  {
   "cell_type": "code",
   "execution_count": 68,
   "id": "d363203e",
   "metadata": {},
   "outputs": [
    {
     "data": {
      "text/html": [
       "<div>\n",
       "<style scoped>\n",
       "    .dataframe tbody tr th:only-of-type {\n",
       "        vertical-align: middle;\n",
       "    }\n",
       "\n",
       "    .dataframe tbody tr th {\n",
       "        vertical-align: top;\n",
       "    }\n",
       "\n",
       "    .dataframe thead th {\n",
       "        text-align: right;\n",
       "    }\n",
       "</style>\n",
       "<table border=\"1\" class=\"dataframe\">\n",
       "  <thead>\n",
       "    <tr style=\"text-align: right;\">\n",
       "      <th>Age_Group</th>\n",
       "      <th>18 - 28</th>\n",
       "      <th>29 - 39</th>\n",
       "      <th>40 - 49</th>\n",
       "      <th>50 - 59</th>\n",
       "      <th>60 - 69</th>\n",
       "      <th>70+</th>\n",
       "    </tr>\n",
       "    <tr>\n",
       "      <th>BMI_Category</th>\n",
       "      <th></th>\n",
       "      <th></th>\n",
       "      <th></th>\n",
       "      <th></th>\n",
       "      <th></th>\n",
       "      <th></th>\n",
       "    </tr>\n",
       "  </thead>\n",
       "  <tbody>\n",
       "    <tr>\n",
       "      <th>Normal</th>\n",
       "      <td>25</td>\n",
       "      <td>29</td>\n",
       "      <td>32</td>\n",
       "      <td>33</td>\n",
       "      <td>34</td>\n",
       "      <td>25</td>\n",
       "    </tr>\n",
       "    <tr>\n",
       "      <th>Obese</th>\n",
       "      <td>31</td>\n",
       "      <td>27</td>\n",
       "      <td>33</td>\n",
       "      <td>29</td>\n",
       "      <td>17</td>\n",
       "      <td>31</td>\n",
       "    </tr>\n",
       "    <tr>\n",
       "      <th>Overweight</th>\n",
       "      <td>26</td>\n",
       "      <td>17</td>\n",
       "      <td>17</td>\n",
       "      <td>26</td>\n",
       "      <td>22</td>\n",
       "      <td>23</td>\n",
       "    </tr>\n",
       "  </tbody>\n",
       "</table>\n",
       "</div>"
      ],
      "text/plain": [
       "Age_Group     18 - 28  29 - 39  40 - 49  50 - 59  60 - 69  70+\n",
       "BMI_Category                                                  \n",
       "Normal             25       29       32       33       34   25\n",
       "Obese              31       27       33       29       17   31\n",
       "Overweight         26       17       17       26       22   23"
      ]
     },
     "execution_count": 68,
     "metadata": {},
     "output_type": "execute_result"
    }
   ],
   "source": [
    "# BMI por grupo\n",
    "associativa_5 = pd.crosstab(\n",
    "    index=[df_fem['BMI_Category']], \n",
    "    columns=df_fem['Age_Group']\n",
    ")\n",
    "associativa_5\n"
   ]
  },
  {
   "cell_type": "code",
   "execution_count": null,
   "id": "90e212f0",
   "metadata": {},
   "outputs": [
    {
     "data": {
      "text/html": [
       "<div>\n",
       "<style scoped>\n",
       "    .dataframe tbody tr th:only-of-type {\n",
       "        vertical-align: middle;\n",
       "    }\n",
       "\n",
       "    .dataframe tbody tr th {\n",
       "        vertical-align: top;\n",
       "    }\n",
       "\n",
       "    .dataframe thead th {\n",
       "        text-align: right;\n",
       "    }\n",
       "</style>\n",
       "<table border=\"1\" class=\"dataframe\">\n",
       "  <thead>\n",
       "    <tr style=\"text-align: right;\">\n",
       "      <th>BMI_Category</th>\n",
       "      <th>Normal</th>\n",
       "      <th>Obese</th>\n",
       "      <th>Overweight</th>\n",
       "    </tr>\n",
       "    <tr>\n",
       "      <th>Diabetic</th>\n",
       "      <th></th>\n",
       "      <th></th>\n",
       "      <th></th>\n",
       "    </tr>\n",
       "  </thead>\n",
       "  <tbody>\n",
       "    <tr>\n",
       "      <th>No</th>\n",
       "      <td>5.3</td>\n",
       "      <td>4.6</td>\n",
       "      <td>4.8</td>\n",
       "    </tr>\n",
       "    <tr>\n",
       "      <th>Yes</th>\n",
       "      <td>3.9</td>\n",
       "      <td>6.0</td>\n",
       "      <td>5.2</td>\n",
       "    </tr>\n",
       "  </tbody>\n",
       "</table>\n",
       "</div>"
      ],
      "text/plain": [
       "BMI_Category  Normal  Obese  Overweight\n",
       "Diabetic                               \n",
       "No               5.3    4.6         4.8\n",
       "Yes              3.9    6.0         5.2"
      ]
     },
     "execution_count": 191,
     "metadata": {},
     "output_type": "execute_result"
    }
   ],
   "source": [
    "pd.pivot_table(df_fem, values= 'Exercise_Hours_per_Week',index= 'Diabetic', columns= ('BMI_Category'), \n",
    "               aggfunc={'Exercise_Hours_per_Week':'median'}). round(1)"
   ]
  },
  {
   "cell_type": "code",
   "execution_count": null,
   "id": "59f67e8f",
   "metadata": {},
   "outputs": [
    {
     "data": {
      "text/html": [
       "<div>\n",
       "<style scoped>\n",
       "    .dataframe tbody tr th:only-of-type {\n",
       "        vertical-align: middle;\n",
       "    }\n",
       "\n",
       "    .dataframe tbody tr th {\n",
       "        vertical-align: top;\n",
       "    }\n",
       "\n",
       "    .dataframe thead th {\n",
       "        text-align: right;\n",
       "    }\n",
       "</style>\n",
       "<table border=\"1\" class=\"dataframe\">\n",
       "  <thead>\n",
       "    <tr style=\"text-align: right;\">\n",
       "      <th>BMI_Category</th>\n",
       "      <th>Normal</th>\n",
       "      <th>Obese</th>\n",
       "      <th>Overweight</th>\n",
       "    </tr>\n",
       "    <tr>\n",
       "      <th>Heart_Disease</th>\n",
       "      <th></th>\n",
       "      <th></th>\n",
       "      <th></th>\n",
       "    </tr>\n",
       "  </thead>\n",
       "  <tbody>\n",
       "    <tr>\n",
       "      <th>No</th>\n",
       "      <td>5.1</td>\n",
       "      <td>4.9</td>\n",
       "      <td>5.1</td>\n",
       "    </tr>\n",
       "    <tr>\n",
       "      <th>Yes</th>\n",
       "      <td>4.9</td>\n",
       "      <td>4.5</td>\n",
       "      <td>5.9</td>\n",
       "    </tr>\n",
       "  </tbody>\n",
       "</table>\n",
       "</div>"
      ],
      "text/plain": [
       "BMI_Category   Normal  Obese  Overweight\n",
       "Heart_Disease                           \n",
       "No                5.1    4.9         5.1\n",
       "Yes               4.9    4.5         5.9"
      ]
     },
     "execution_count": 192,
     "metadata": {},
     "output_type": "execute_result"
    }
   ],
   "source": [
    "pd.pivot_table(df_fem, values= 'Exercise_Hours_per_Week',index= 'Heart_Disease', columns= ('BMI_Category'), \n",
    "               aggfunc={'Exercise_Hours_per_Week':'median'}). round(1)"
   ]
  },
  {
   "cell_type": "code",
   "execution_count": null,
   "id": "9ca6ae8e",
   "metadata": {},
   "outputs": [
    {
     "data": {
      "text/html": [
       "<div>\n",
       "<style scoped>\n",
       "    .dataframe tbody tr th:only-of-type {\n",
       "        vertical-align: middle;\n",
       "    }\n",
       "\n",
       "    .dataframe tbody tr th {\n",
       "        vertical-align: top;\n",
       "    }\n",
       "\n",
       "    .dataframe thead th {\n",
       "        text-align: right;\n",
       "    }\n",
       "</style>\n",
       "<table border=\"1\" class=\"dataframe\">\n",
       "  <thead>\n",
       "    <tr style=\"text-align: right;\">\n",
       "      <th>BMI_Category</th>\n",
       "      <th>Normal</th>\n",
       "      <th>Obese</th>\n",
       "      <th>Overweight</th>\n",
       "    </tr>\n",
       "    <tr>\n",
       "      <th>Heart_Disease</th>\n",
       "      <th></th>\n",
       "      <th></th>\n",
       "      <th></th>\n",
       "    </tr>\n",
       "  </thead>\n",
       "  <tbody>\n",
       "    <tr>\n",
       "      <th>No</th>\n",
       "      <td>10454.0</td>\n",
       "      <td>10497.0</td>\n",
       "      <td>8954.0</td>\n",
       "    </tr>\n",
       "    <tr>\n",
       "      <th>Yes</th>\n",
       "      <td>11361.0</td>\n",
       "      <td>11589.0</td>\n",
       "      <td>8347.0</td>\n",
       "    </tr>\n",
       "  </tbody>\n",
       "</table>\n",
       "</div>"
      ],
      "text/plain": [
       "BMI_Category    Normal    Obese  Overweight\n",
       "Heart_Disease                              \n",
       "No             10454.0  10497.0      8954.0\n",
       "Yes            11361.0  11589.0      8347.0"
      ]
     },
     "execution_count": 193,
     "metadata": {},
     "output_type": "execute_result"
    }
   ],
   "source": [
    "pd.pivot_table(df_fem, values= 'Daily_Steps',index= 'Heart_Disease', columns= ('BMI_Category'), \n",
    "               aggfunc={'Daily_Steps':'median'}). round(1)"
   ]
  },
  {
   "cell_type": "code",
   "execution_count": null,
   "id": "ade98d46",
   "metadata": {},
   "outputs": [],
   "source": [
    "# finalizado"
   ]
  }
 ],
 "metadata": {
  "kernelspec": {
   "display_name": "Python 3",
   "language": "python",
   "name": "python3"
  },
  "language_info": {
   "codemirror_mode": {
    "name": "ipython",
    "version": 3
   },
   "file_extension": ".py",
   "mimetype": "text/x-python",
   "name": "python",
   "nbconvert_exporter": "python",
   "pygments_lexer": "ipython3",
   "version": "3.13.2"
  }
 },
 "nbformat": 4,
 "nbformat_minor": 5
}
