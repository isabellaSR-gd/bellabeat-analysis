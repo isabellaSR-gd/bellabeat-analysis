{
 "cells": [
  {
   "cell_type": "markdown",
   "id": "78e98cb3",
   "metadata": {},
   "source": [
    "### Análise exploratória health lifestyle dataset"
   ]
  },
  {
   "cell_type": "code",
   "execution_count": 1,
   "id": "70c4bebb",
   "metadata": {},
   "outputs": [],
   "source": [
    "import pandas as pd"
   ]
  },
  {
   "cell_type": "code",
   "execution_count": 2,
   "id": "887353cc",
   "metadata": {},
   "outputs": [],
   "source": [
    "df = pd.read_csv('D:/python/bellabeat-analysis/database/health-lifestyle-data/health_activity_data_treated.csv')"
   ]
  },
  {
   "cell_type": "markdown",
   "id": "09b91291",
   "metadata": {},
   "source": [
    "## Análise exploratória e estatística inicial"
   ]
  },
  {
   "cell_type": "code",
   "execution_count": 3,
   "id": "5af32d9b",
   "metadata": {},
   "outputs": [
    {
     "data": {
      "text/html": [
       "<div>\n",
       "<style scoped>\n",
       "    .dataframe tbody tr th:only-of-type {\n",
       "        vertical-align: middle;\n",
       "    }\n",
       "\n",
       "    .dataframe tbody tr th {\n",
       "        vertical-align: top;\n",
       "    }\n",
       "\n",
       "    .dataframe thead th {\n",
       "        text-align: right;\n",
       "    }\n",
       "</style>\n",
       "<table border=\"1\" class=\"dataframe\">\n",
       "  <thead>\n",
       "    <tr style=\"text-align: right;\">\n",
       "      <th></th>\n",
       "      <th>ID</th>\n",
       "      <th>Age</th>\n",
       "      <th>Age_Group</th>\n",
       "      <th>Gender</th>\n",
       "      <th>Height_cm</th>\n",
       "      <th>Weight_kg</th>\n",
       "      <th>BMI</th>\n",
       "      <th>BMI_Category</th>\n",
       "      <th>Daily_Steps</th>\n",
       "      <th>Calories_Intake</th>\n",
       "      <th>Hours_of_Sleep</th>\n",
       "      <th>Heart_Rate</th>\n",
       "      <th>Blood_Pressure</th>\n",
       "      <th>Exercise_Hours_per_Week</th>\n",
       "      <th>Smoker</th>\n",
       "      <th>Alcohol_Consumption_per_Week</th>\n",
       "      <th>Diabetic</th>\n",
       "      <th>Heart_Disease</th>\n",
       "    </tr>\n",
       "  </thead>\n",
       "  <tbody>\n",
       "    <tr>\n",
       "      <th>0</th>\n",
       "      <td>1</td>\n",
       "      <td>56</td>\n",
       "      <td>55 - 65</td>\n",
       "      <td>Male</td>\n",
       "      <td>164</td>\n",
       "      <td>81</td>\n",
       "      <td>30.72</td>\n",
       "      <td>Obese</td>\n",
       "      <td>5134</td>\n",
       "      <td>1796</td>\n",
       "      <td>8.6</td>\n",
       "      <td>102</td>\n",
       "      <td>137/72</td>\n",
       "      <td>8.1</td>\n",
       "      <td>No</td>\n",
       "      <td>7</td>\n",
       "      <td>No</td>\n",
       "      <td>No</td>\n",
       "    </tr>\n",
       "    <tr>\n",
       "      <th>1</th>\n",
       "      <td>2</td>\n",
       "      <td>69</td>\n",
       "      <td>66+</td>\n",
       "      <td>Male</td>\n",
       "      <td>156</td>\n",
       "      <td>82</td>\n",
       "      <td>20.86</td>\n",
       "      <td>Normal</td>\n",
       "      <td>12803</td>\n",
       "      <td>1650</td>\n",
       "      <td>4.5</td>\n",
       "      <td>103</td>\n",
       "      <td>129/65</td>\n",
       "      <td>3.7</td>\n",
       "      <td>No</td>\n",
       "      <td>7</td>\n",
       "      <td>No</td>\n",
       "      <td>No</td>\n",
       "    </tr>\n",
       "    <tr>\n",
       "      <th>2</th>\n",
       "      <td>3</td>\n",
       "      <td>46</td>\n",
       "      <td>43 - 54</td>\n",
       "      <td>Female</td>\n",
       "      <td>158</td>\n",
       "      <td>65</td>\n",
       "      <td>30.93</td>\n",
       "      <td>Obese</td>\n",
       "      <td>16408</td>\n",
       "      <td>1756</td>\n",
       "      <td>4.3</td>\n",
       "      <td>74</td>\n",
       "      <td>127/68</td>\n",
       "      <td>3.2</td>\n",
       "      <td>Yes</td>\n",
       "      <td>0</td>\n",
       "      <td>No</td>\n",
       "      <td>No</td>\n",
       "    </tr>\n",
       "    <tr>\n",
       "      <th>3</th>\n",
       "      <td>4</td>\n",
       "      <td>32</td>\n",
       "      <td>25 - 32</td>\n",
       "      <td>Male</td>\n",
       "      <td>197</td>\n",
       "      <td>87</td>\n",
       "      <td>31.19</td>\n",
       "      <td>Obese</td>\n",
       "      <td>18420</td>\n",
       "      <td>2359</td>\n",
       "      <td>4.1</td>\n",
       "      <td>116</td>\n",
       "      <td>125/86</td>\n",
       "      <td>8.5</td>\n",
       "      <td>No</td>\n",
       "      <td>5</td>\n",
       "      <td>No</td>\n",
       "      <td>No</td>\n",
       "    </tr>\n",
       "    <tr>\n",
       "      <th>4</th>\n",
       "      <td>5</td>\n",
       "      <td>60</td>\n",
       "      <td>55 - 65</td>\n",
       "      <td>Male</td>\n",
       "      <td>157</td>\n",
       "      <td>63</td>\n",
       "      <td>29.37</td>\n",
       "      <td>Overweight</td>\n",
       "      <td>17351</td>\n",
       "      <td>2556</td>\n",
       "      <td>5.1</td>\n",
       "      <td>111</td>\n",
       "      <td>100/64</td>\n",
       "      <td>8.5</td>\n",
       "      <td>Yes</td>\n",
       "      <td>8</td>\n",
       "      <td>No</td>\n",
       "      <td>No</td>\n",
       "    </tr>\n",
       "  </tbody>\n",
       "</table>\n",
       "</div>"
      ],
      "text/plain": [
       "   ID  Age Age_Group  Gender  Height_cm  Weight_kg    BMI BMI_Category  \\\n",
       "0   1   56  55 - 65     Male        164         81  30.72        Obese   \n",
       "1   2   69       66+    Male        156         82  20.86       Normal   \n",
       "2   3   46   43 - 54  Female        158         65  30.93        Obese   \n",
       "3   4   32   25 - 32    Male        197         87  31.19        Obese   \n",
       "4   5   60  55 - 65     Male        157         63  29.37   Overweight   \n",
       "\n",
       "   Daily_Steps  Calories_Intake  Hours_of_Sleep  Heart_Rate Blood_Pressure  \\\n",
       "0         5134             1796             8.6         102         137/72   \n",
       "1        12803             1650             4.5         103         129/65   \n",
       "2        16408             1756             4.3          74         127/68   \n",
       "3        18420             2359             4.1         116         125/86   \n",
       "4        17351             2556             5.1         111         100/64   \n",
       "\n",
       "   Exercise_Hours_per_Week Smoker  Alcohol_Consumption_per_Week Diabetic  \\\n",
       "0                      8.1     No                             7       No   \n",
       "1                      3.7     No                             7       No   \n",
       "2                      3.2    Yes                             0       No   \n",
       "3                      8.5     No                             5       No   \n",
       "4                      8.5    Yes                             8       No   \n",
       "\n",
       "  Heart_Disease  \n",
       "0            No  \n",
       "1            No  \n",
       "2            No  \n",
       "3            No  \n",
       "4            No  "
      ]
     },
     "execution_count": 3,
     "metadata": {},
     "output_type": "execute_result"
    }
   ],
   "source": [
    "df.head()"
   ]
  },
  {
   "cell_type": "code",
   "execution_count": 4,
   "id": "897c4848",
   "metadata": {},
   "outputs": [
    {
     "name": "stdout",
     "output_type": "stream",
     "text": [
      "<class 'pandas.core.frame.DataFrame'>\n",
      "RangeIndex: 1000 entries, 0 to 999\n",
      "Data columns (total 18 columns):\n",
      " #   Column                        Non-Null Count  Dtype  \n",
      "---  ------                        --------------  -----  \n",
      " 0   ID                            1000 non-null   int64  \n",
      " 1   Age                           1000 non-null   int64  \n",
      " 2   Age_Group                     1000 non-null   object \n",
      " 3   Gender                        1000 non-null   object \n",
      " 4   Height_cm                     1000 non-null   int64  \n",
      " 5   Weight_kg                     1000 non-null   int64  \n",
      " 6   BMI                           1000 non-null   float64\n",
      " 7   BMI_Category                  1000 non-null   object \n",
      " 8   Daily_Steps                   1000 non-null   int64  \n",
      " 9   Calories_Intake               1000 non-null   int64  \n",
      " 10  Hours_of_Sleep                1000 non-null   float64\n",
      " 11  Heart_Rate                    1000 non-null   int64  \n",
      " 12  Blood_Pressure                1000 non-null   object \n",
      " 13  Exercise_Hours_per_Week       1000 non-null   float64\n",
      " 14  Smoker                        1000 non-null   object \n",
      " 15  Alcohol_Consumption_per_Week  1000 non-null   int64  \n",
      " 16  Diabetic                      1000 non-null   object \n",
      " 17  Heart_Disease                 1000 non-null   object \n",
      "dtypes: float64(3), int64(8), object(7)\n",
      "memory usage: 140.8+ KB\n"
     ]
    }
   ],
   "source": [
    "df.info()"
   ]
  },
  {
   "cell_type": "code",
   "execution_count": null,
   "id": "39f020a5",
   "metadata": {},
   "outputs": [
    {
     "data": {
      "text/html": [
       "<div>\n",
       "<style scoped>\n",
       "    .dataframe tbody tr th:only-of-type {\n",
       "        vertical-align: middle;\n",
       "    }\n",
       "\n",
       "    .dataframe tbody tr th {\n",
       "        vertical-align: top;\n",
       "    }\n",
       "\n",
       "    .dataframe thead th {\n",
       "        text-align: right;\n",
       "    }\n",
       "</style>\n",
       "<table border=\"1\" class=\"dataframe\">\n",
       "  <thead>\n",
       "    <tr style=\"text-align: right;\">\n",
       "      <th></th>\n",
       "      <th>Age</th>\n",
       "      <th>Daily_Steps</th>\n",
       "      <th>Calories_Intake</th>\n",
       "      <th>Hours_of_Sleep</th>\n",
       "      <th>Heart_Rate</th>\n",
       "      <th>Exercise_Hours_per_Week</th>\n",
       "      <th>Alcohol_Consumption_per_Week</th>\n",
       "    </tr>\n",
       "  </thead>\n",
       "  <tbody>\n",
       "    <tr>\n",
       "      <th>count</th>\n",
       "      <td>1000.0</td>\n",
       "      <td>1000.0</td>\n",
       "      <td>1000.0</td>\n",
       "      <td>1000.0</td>\n",
       "      <td>1000.0</td>\n",
       "      <td>1000.0</td>\n",
       "      <td>1000.0</td>\n",
       "    </tr>\n",
       "    <tr>\n",
       "      <th>mean</th>\n",
       "      <td>49.9</td>\n",
       "      <td>10717.0</td>\n",
       "      <td>2327.1</td>\n",
       "      <td>6.9</td>\n",
       "      <td>84.7</td>\n",
       "      <td>5.0</td>\n",
       "      <td>4.6</td>\n",
       "    </tr>\n",
       "    <tr>\n",
       "      <th>std</th>\n",
       "      <td>18.1</td>\n",
       "      <td>5444.7</td>\n",
       "      <td>657.8</td>\n",
       "      <td>1.8</td>\n",
       "      <td>20.1</td>\n",
       "      <td>2.8</td>\n",
       "      <td>2.9</td>\n",
       "    </tr>\n",
       "    <tr>\n",
       "      <th>min</th>\n",
       "      <td>18.0</td>\n",
       "      <td>1016.0</td>\n",
       "      <td>1201.0</td>\n",
       "      <td>4.0</td>\n",
       "      <td>50.0</td>\n",
       "      <td>0.0</td>\n",
       "      <td>0.0</td>\n",
       "    </tr>\n",
       "    <tr>\n",
       "      <th>25%</th>\n",
       "      <td>35.0</td>\n",
       "      <td>6028.2</td>\n",
       "      <td>1745.8</td>\n",
       "      <td>5.3</td>\n",
       "      <td>67.0</td>\n",
       "      <td>2.7</td>\n",
       "      <td>2.0</td>\n",
       "    </tr>\n",
       "    <tr>\n",
       "      <th>50%</th>\n",
       "      <td>50.0</td>\n",
       "      <td>10898.0</td>\n",
       "      <td>2328.5</td>\n",
       "      <td>6.9</td>\n",
       "      <td>84.0</td>\n",
       "      <td>5.1</td>\n",
       "      <td>5.0</td>\n",
       "    </tr>\n",
       "    <tr>\n",
       "      <th>75%</th>\n",
       "      <td>66.0</td>\n",
       "      <td>15253.2</td>\n",
       "      <td>2880.0</td>\n",
       "      <td>8.4</td>\n",
       "      <td>103.0</td>\n",
       "      <td>7.6</td>\n",
       "      <td>7.0</td>\n",
       "    </tr>\n",
       "    <tr>\n",
       "      <th>max</th>\n",
       "      <td>79.0</td>\n",
       "      <td>19931.0</td>\n",
       "      <td>3498.0</td>\n",
       "      <td>10.0</td>\n",
       "      <td>119.0</td>\n",
       "      <td>10.0</td>\n",
       "      <td>9.0</td>\n",
       "    </tr>\n",
       "  </tbody>\n",
       "</table>\n",
       "</div>"
      ],
      "text/plain": [
       "          Age  Daily_Steps  Calories_Intake  Hours_of_Sleep  Heart_Rate  \\\n",
       "count  1000.0       1000.0           1000.0          1000.0      1000.0   \n",
       "mean     49.9      10717.0           2327.1             6.9        84.7   \n",
       "std      18.1       5444.7            657.8             1.8        20.1   \n",
       "min      18.0       1016.0           1201.0             4.0        50.0   \n",
       "25%      35.0       6028.2           1745.8             5.3        67.0   \n",
       "50%      50.0      10898.0           2328.5             6.9        84.0   \n",
       "75%      66.0      15253.2           2880.0             8.4       103.0   \n",
       "max      79.0      19931.0           3498.0            10.0       119.0   \n",
       "\n",
       "       Exercise_Hours_per_Week  Alcohol_Consumption_per_Week  \n",
       "count                   1000.0                        1000.0  \n",
       "mean                       5.0                           4.6  \n",
       "std                        2.8                           2.9  \n",
       "min                        0.0                           0.0  \n",
       "25%                        2.7                           2.0  \n",
       "50%                        5.1                           5.0  \n",
       "75%                        7.6                           7.0  \n",
       "max                       10.0                           9.0  "
      ]
     },
     "execution_count": 20,
     "metadata": {},
     "output_type": "execute_result"
    }
   ],
   "source": [
    "df[['Age', 'Daily_Steps', 'Calories_Intake', 'Hours_of_Sleep', 'Exercise_Hours_per_Week', 'Alcohol_Consumption_per_Week']].describe().round(1)"
   ]
  },
  {
   "cell_type": "markdown",
   "id": "82afe918",
   "metadata": {},
   "source": [
    "### Checar distribuição de peso"
   ]
  },
  {
   "cell_type": "code",
   "execution_count": 9,
   "id": "4eb60b9b",
   "metadata": {},
   "outputs": [
    {
     "data": {
      "text/plain": [
       "BMI_Category\n",
       "Normal        389\n",
       "Obese         331\n",
       "Overweight    280\n",
       "Name: count, dtype: int64"
      ]
     },
     "execution_count": 9,
     "metadata": {},
     "output_type": "execute_result"
    }
   ],
   "source": [
    "sample_pop_bmi = df['BMI_Category'].value_counts()\n",
    "sample_pop_bmi"
   ]
  },
  {
   "cell_type": "markdown",
   "id": "29923014",
   "metadata": {},
   "source": [
    "### Analysis of daily steps"
   ]
  },
  {
   "cell_type": "code",
   "execution_count": 10,
   "id": "dd1ee702",
   "metadata": {},
   "outputs": [],
   "source": [
    "daily_steps_mean = df['Daily_Steps'].mean().round(1)"
   ]
  },
  {
   "cell_type": "markdown",
   "id": "74268829",
   "metadata": {},
   "source": [
    "#### Analysis of BMI category of people whose daily step is below the average"
   ]
  },
  {
   "cell_type": "code",
   "execution_count": 11,
   "id": "fa5676da",
   "metadata": {},
   "outputs": [
    {
     "data": {
      "text/plain": [
       "BMI_Category\n",
       "Normal        185\n",
       "Obese         162\n",
       "Overweight    144\n",
       "Name: count, dtype: int64"
      ]
     },
     "execution_count": 11,
     "metadata": {},
     "output_type": "execute_result"
    }
   ],
   "source": [
    "few_steps_pop = df.loc[df['Daily_Steps']< daily_steps_mean, 'BMI_Category'].value_counts()\n",
    "few_steps_pop"
   ]
  },
  {
   "cell_type": "code",
   "execution_count": 12,
   "id": "faaee231",
   "metadata": {},
   "outputs": [
    {
     "data": {
      "text/plain": [
       "BMI_Category\n",
       "Normal        47.6\n",
       "Obese         48.9\n",
       "Overweight    51.4\n",
       "Name: count, dtype: float64"
      ]
     },
     "execution_count": 12,
     "metadata": {},
     "output_type": "execute_result"
    }
   ],
   "source": [
    "((few_steps_pop/ sample_pop_bmi) *100).round(1) # porcentagem de pessoas em cada categoria em relação ao total de pessoas dessa categoria no dataset"
   ]
  },
  {
   "cell_type": "markdown",
   "id": "7e68f011",
   "metadata": {},
   "source": [
    "#### Analysis of BMI category of people whose daily step is above the average"
   ]
  },
  {
   "cell_type": "code",
   "execution_count": 13,
   "id": "06d9a58d",
   "metadata": {},
   "outputs": [
    {
     "data": {
      "text/plain": [
       "BMI_Category\n",
       "Normal        204\n",
       "Obese         169\n",
       "Overweight    136\n",
       "Name: count, dtype: int64"
      ]
     },
     "execution_count": 13,
     "metadata": {},
     "output_type": "execute_result"
    }
   ],
   "source": [
    "more_steps_pop = df.loc[df['Daily_Steps']> daily_steps_mean, 'BMI_Category'].value_counts()\n",
    "more_steps_pop"
   ]
  },
  {
   "cell_type": "code",
   "execution_count": 14,
   "id": "b3768e50",
   "metadata": {},
   "outputs": [
    {
     "data": {
      "text/plain": [
       "BMI_Category\n",
       "Normal        52.4\n",
       "Obese         51.1\n",
       "Overweight    48.6\n",
       "Name: count, dtype: float64"
      ]
     },
     "execution_count": 14,
     "metadata": {},
     "output_type": "execute_result"
    }
   ],
   "source": [
    "((more_steps_pop/ sample_pop_bmi) *100).round(1) # porcentagem de pessoas em cada categoria em relação ao total de pessoas dessa categoria"
   ]
  },
  {
   "cell_type": "markdown",
   "id": "0718f03a",
   "metadata": {},
   "source": [
    "#### Conclusion: for this sample, daily steps does not have a strong relation to BMI"
   ]
  },
  {
   "cell_type": "markdown",
   "id": "3376c48c",
   "metadata": {},
   "source": [
    "### Exercise per week"
   ]
  },
  {
   "cell_type": "code",
   "execution_count": 15,
   "id": "c964c7c0",
   "metadata": {},
   "outputs": [
    {
     "data": {
      "text/html": [
       "<div>\n",
       "<style scoped>\n",
       "    .dataframe tbody tr th:only-of-type {\n",
       "        vertical-align: middle;\n",
       "    }\n",
       "\n",
       "    .dataframe tbody tr th {\n",
       "        vertical-align: top;\n",
       "    }\n",
       "\n",
       "    .dataframe thead th {\n",
       "        text-align: right;\n",
       "    }\n",
       "</style>\n",
       "<table border=\"1\" class=\"dataframe\">\n",
       "  <thead>\n",
       "    <tr style=\"text-align: right;\">\n",
       "      <th>BMI_Category</th>\n",
       "      <th>Normal</th>\n",
       "      <th>Obese</th>\n",
       "      <th>Overweight</th>\n",
       "    </tr>\n",
       "    <tr>\n",
       "      <th>Smoker</th>\n",
       "      <th></th>\n",
       "      <th></th>\n",
       "      <th></th>\n",
       "    </tr>\n",
       "  </thead>\n",
       "  <tbody>\n",
       "    <tr>\n",
       "      <th>No</th>\n",
       "      <td>5.0</td>\n",
       "      <td>5.3</td>\n",
       "      <td>5.0</td>\n",
       "    </tr>\n",
       "    <tr>\n",
       "      <th>Yes</th>\n",
       "      <td>4.8</td>\n",
       "      <td>4.7</td>\n",
       "      <td>4.8</td>\n",
       "    </tr>\n",
       "  </tbody>\n",
       "</table>\n",
       "</div>"
      ],
      "text/plain": [
       "BMI_Category  Normal  Obese  Overweight\n",
       "Smoker                                 \n",
       "No               5.0    5.3         5.0\n",
       "Yes              4.8    4.7         4.8"
      ]
     },
     "execution_count": 15,
     "metadata": {},
     "output_type": "execute_result"
    }
   ],
   "source": [
    "pd.pivot_table(df, values = 'Exercise_Hours_per_Week', index= ('Smoker'), columns= 'BMI_Category', aggfunc= 'mean').round(1)"
   ]
  },
  {
   "cell_type": "markdown",
   "id": "d8453259",
   "metadata": {},
   "source": [
    "#### Smoking and obesity does not seem to be playing a part in how much people exercise"
   ]
  },
  {
   "cell_type": "code",
   "execution_count": 16,
   "id": "d71daab9",
   "metadata": {},
   "outputs": [
    {
     "data": {
      "text/html": [
       "<div>\n",
       "<style scoped>\n",
       "    .dataframe tbody tr th:only-of-type {\n",
       "        vertical-align: middle;\n",
       "    }\n",
       "\n",
       "    .dataframe tbody tr th {\n",
       "        vertical-align: top;\n",
       "    }\n",
       "\n",
       "    .dataframe thead th {\n",
       "        text-align: right;\n",
       "    }\n",
       "</style>\n",
       "<table border=\"1\" class=\"dataframe\">\n",
       "  <thead>\n",
       "    <tr style=\"text-align: right;\">\n",
       "      <th>BMI_Category</th>\n",
       "      <th>Normal</th>\n",
       "      <th>Obese</th>\n",
       "      <th>Overweight</th>\n",
       "    </tr>\n",
       "    <tr>\n",
       "      <th>Smoker</th>\n",
       "      <th></th>\n",
       "      <th></th>\n",
       "      <th></th>\n",
       "    </tr>\n",
       "  </thead>\n",
       "  <tbody>\n",
       "    <tr>\n",
       "      <th>No</th>\n",
       "      <td>1619.5</td>\n",
       "      <td>1382.7</td>\n",
       "      <td>1133.0</td>\n",
       "    </tr>\n",
       "    <tr>\n",
       "      <th>Yes</th>\n",
       "      <td>327.4</td>\n",
       "      <td>324.1</td>\n",
       "      <td>258.8</td>\n",
       "    </tr>\n",
       "  </tbody>\n",
       "</table>\n",
       "</div>"
      ],
      "text/plain": [
       "BMI_Category  Normal   Obese  Overweight\n",
       "Smoker                                  \n",
       "No            1619.5  1382.7      1133.0\n",
       "Yes            327.4   324.1       258.8"
      ]
     },
     "execution_count": 16,
     "metadata": {},
     "output_type": "execute_result"
    }
   ],
   "source": [
    "pd.pivot_table(df, values = 'Exercise_Hours_per_Week', index= ('Smoker'), columns= 'BMI_Category', aggfunc= 'sum').round(1)"
   ]
  },
  {
   "cell_type": "markdown",
   "id": "b68146e2",
   "metadata": {},
   "source": [
    "#### However when Sum is used instead of Mean, no smokers exercise a lot more than smokers, in all BMI categories. but this is caused by having a lot more non-smokers in the sample"
   ]
  },
  {
   "cell_type": "code",
   "execution_count": 17,
   "id": "bd6c73cc",
   "metadata": {},
   "outputs": [
    {
     "data": {
      "text/html": [
       "<div>\n",
       "<style scoped>\n",
       "    .dataframe tbody tr th:only-of-type {\n",
       "        vertical-align: middle;\n",
       "    }\n",
       "\n",
       "    .dataframe tbody tr th {\n",
       "        vertical-align: top;\n",
       "    }\n",
       "\n",
       "    .dataframe thead th {\n",
       "        text-align: right;\n",
       "    }\n",
       "</style>\n",
       "<table border=\"1\" class=\"dataframe\">\n",
       "  <thead>\n",
       "    <tr style=\"text-align: right;\">\n",
       "      <th></th>\n",
       "      <th>Exercise_Hours_per_Week</th>\n",
       "    </tr>\n",
       "  </thead>\n",
       "  <tbody>\n",
       "    <tr>\n",
       "      <th>count</th>\n",
       "      <td>191.000000</td>\n",
       "    </tr>\n",
       "    <tr>\n",
       "      <th>mean</th>\n",
       "      <td>4.765969</td>\n",
       "    </tr>\n",
       "    <tr>\n",
       "      <th>std</th>\n",
       "      <td>3.005004</td>\n",
       "    </tr>\n",
       "    <tr>\n",
       "      <th>min</th>\n",
       "      <td>0.100000</td>\n",
       "    </tr>\n",
       "    <tr>\n",
       "      <th>25%</th>\n",
       "      <td>1.950000</td>\n",
       "    </tr>\n",
       "    <tr>\n",
       "      <th>50%</th>\n",
       "      <td>4.500000</td>\n",
       "    </tr>\n",
       "    <tr>\n",
       "      <th>75%</th>\n",
       "      <td>7.550000</td>\n",
       "    </tr>\n",
       "    <tr>\n",
       "      <th>max</th>\n",
       "      <td>10.000000</td>\n",
       "    </tr>\n",
       "  </tbody>\n",
       "</table>\n",
       "</div>"
      ],
      "text/plain": [
       "       Exercise_Hours_per_Week\n",
       "count               191.000000\n",
       "mean                  4.765969\n",
       "std                   3.005004\n",
       "min                   0.100000\n",
       "25%                   1.950000\n",
       "50%                   4.500000\n",
       "75%                   7.550000\n",
       "max                  10.000000"
      ]
     },
     "execution_count": 17,
     "metadata": {},
     "output_type": "execute_result"
    }
   ],
   "source": [
    "df.loc[df['Smoker'] == 'Yes', ('Exercise_Hours_per_Week',)].describe()"
   ]
  },
  {
   "cell_type": "code",
   "execution_count": 18,
   "id": "e1f8740d",
   "metadata": {},
   "outputs": [
    {
     "data": {
      "text/html": [
       "<div>\n",
       "<style scoped>\n",
       "    .dataframe tbody tr th:only-of-type {\n",
       "        vertical-align: middle;\n",
       "    }\n",
       "\n",
       "    .dataframe tbody tr th {\n",
       "        vertical-align: top;\n",
       "    }\n",
       "\n",
       "    .dataframe thead th {\n",
       "        text-align: right;\n",
       "    }\n",
       "</style>\n",
       "<table border=\"1\" class=\"dataframe\">\n",
       "  <thead>\n",
       "    <tr style=\"text-align: right;\">\n",
       "      <th></th>\n",
       "      <th>Exercise_Hours_per_Week</th>\n",
       "    </tr>\n",
       "  </thead>\n",
       "  <tbody>\n",
       "    <tr>\n",
       "      <th>count</th>\n",
       "      <td>809.000000</td>\n",
       "    </tr>\n",
       "    <tr>\n",
       "      <th>mean</th>\n",
       "      <td>5.111496</td>\n",
       "    </tr>\n",
       "    <tr>\n",
       "      <th>std</th>\n",
       "      <td>2.807280</td>\n",
       "    </tr>\n",
       "    <tr>\n",
       "      <th>min</th>\n",
       "      <td>0.000000</td>\n",
       "    </tr>\n",
       "    <tr>\n",
       "      <th>25%</th>\n",
       "      <td>2.800000</td>\n",
       "    </tr>\n",
       "    <tr>\n",
       "      <th>50%</th>\n",
       "      <td>5.200000</td>\n",
       "    </tr>\n",
       "    <tr>\n",
       "      <th>75%</th>\n",
       "      <td>7.600000</td>\n",
       "    </tr>\n",
       "    <tr>\n",
       "      <th>max</th>\n",
       "      <td>10.000000</td>\n",
       "    </tr>\n",
       "  </tbody>\n",
       "</table>\n",
       "</div>"
      ],
      "text/plain": [
       "       Exercise_Hours_per_Week\n",
       "count               809.000000\n",
       "mean                  5.111496\n",
       "std                   2.807280\n",
       "min                   0.000000\n",
       "25%                   2.800000\n",
       "50%                   5.200000\n",
       "75%                   7.600000\n",
       "max                  10.000000"
      ]
     },
     "execution_count": 18,
     "metadata": {},
     "output_type": "execute_result"
    }
   ],
   "source": [
    "df.loc[df['Smoker'] == 'No', ('Exercise_Hours_per_Week',)].describe()"
   ]
  },
  {
   "cell_type": "markdown",
   "id": "bffeba45",
   "metadata": {},
   "source": [
    "### Pivot table on BMI categories"
   ]
  },
  {
   "cell_type": "code",
   "execution_count": 19,
   "id": "364efc17",
   "metadata": {},
   "outputs": [
    {
     "data": {
      "text/plain": [
       "BMI_Category\n",
       "Normal        389\n",
       "Obese         331\n",
       "Overweight    280\n",
       "Name: count, dtype: int64"
      ]
     },
     "execution_count": 19,
     "metadata": {},
     "output_type": "execute_result"
    }
   ],
   "source": [
    "df['BMI_Category'].value_counts()"
   ]
  },
  {
   "cell_type": "code",
   "execution_count": 20,
   "id": "c34f3f54",
   "metadata": {},
   "outputs": [
    {
     "data": {
      "text/html": [
       "<div>\n",
       "<style scoped>\n",
       "    .dataframe tbody tr th:only-of-type {\n",
       "        vertical-align: middle;\n",
       "    }\n",
       "\n",
       "    .dataframe tbody tr th {\n",
       "        vertical-align: top;\n",
       "    }\n",
       "\n",
       "    .dataframe thead th {\n",
       "        text-align: right;\n",
       "    }\n",
       "</style>\n",
       "<table border=\"1\" class=\"dataframe\">\n",
       "  <thead>\n",
       "    <tr style=\"text-align: right;\">\n",
       "      <th></th>\n",
       "      <th>BMI_Category</th>\n",
       "      <th>Normal</th>\n",
       "      <th>Obese</th>\n",
       "      <th>Overweight</th>\n",
       "    </tr>\n",
       "    <tr>\n",
       "      <th>Heart_Disease</th>\n",
       "      <th>Diabetic</th>\n",
       "      <th></th>\n",
       "      <th></th>\n",
       "      <th></th>\n",
       "    </tr>\n",
       "  </thead>\n",
       "  <tbody>\n",
       "    <tr>\n",
       "      <th rowspan=\"2\" valign=\"top\">No</th>\n",
       "      <th>No</th>\n",
       "      <td>10790.7</td>\n",
       "      <td>10521.9</td>\n",
       "      <td>10451.2</td>\n",
       "    </tr>\n",
       "    <tr>\n",
       "      <th>Yes</th>\n",
       "      <td>11423.9</td>\n",
       "      <td>11562.6</td>\n",
       "      <td>11362.6</td>\n",
       "    </tr>\n",
       "    <tr>\n",
       "      <th rowspan=\"2\" valign=\"top\">Yes</th>\n",
       "      <th>No</th>\n",
       "      <td>10539.9</td>\n",
       "      <td>9838.5</td>\n",
       "      <td>9284.6</td>\n",
       "    </tr>\n",
       "    <tr>\n",
       "      <th>Yes</th>\n",
       "      <td>14792.6</td>\n",
       "      <td>14237.8</td>\n",
       "      <td>12956.5</td>\n",
       "    </tr>\n",
       "  </tbody>\n",
       "</table>\n",
       "</div>"
      ],
      "text/plain": [
       "BMI_Category             Normal    Obese  Overweight\n",
       "Heart_Disease Diabetic                              \n",
       "No            No        10790.7  10521.9     10451.2\n",
       "              Yes       11423.9  11562.6     11362.6\n",
       "Yes           No        10539.9   9838.5      9284.6\n",
       "              Yes       14792.6  14237.8     12956.5"
      ]
     },
     "execution_count": 20,
     "metadata": {},
     "output_type": "execute_result"
    }
   ],
   "source": [
    "pd.pivot_table(df, values= 'Daily_Steps', index=('Heart_Disease', 'Diabetic'), columns= 'BMI_Category', aggfunc= 'mean').round(1)"
   ]
  },
  {
   "cell_type": "code",
   "execution_count": 21,
   "id": "8dc3fabd",
   "metadata": {},
   "outputs": [
    {
     "data": {
      "text/html": [
       "<div>\n",
       "<style scoped>\n",
       "    .dataframe tbody tr th:only-of-type {\n",
       "        vertical-align: middle;\n",
       "    }\n",
       "\n",
       "    .dataframe tbody tr th {\n",
       "        vertical-align: top;\n",
       "    }\n",
       "\n",
       "    .dataframe thead th {\n",
       "        text-align: right;\n",
       "    }\n",
       "</style>\n",
       "<table border=\"1\" class=\"dataframe\">\n",
       "  <thead>\n",
       "    <tr style=\"text-align: right;\">\n",
       "      <th></th>\n",
       "      <th>BMI_Category</th>\n",
       "      <th>Normal</th>\n",
       "      <th>Obese</th>\n",
       "      <th>Overweight</th>\n",
       "    </tr>\n",
       "    <tr>\n",
       "      <th>Heart_Disease</th>\n",
       "      <th>Diabetic</th>\n",
       "      <th></th>\n",
       "      <th></th>\n",
       "      <th></th>\n",
       "    </tr>\n",
       "  </thead>\n",
       "  <tbody>\n",
       "    <tr>\n",
       "      <th rowspan=\"2\" valign=\"top\">No</th>\n",
       "      <th>No</th>\n",
       "      <td>5.1</td>\n",
       "      <td>5.1</td>\n",
       "      <td>4.8</td>\n",
       "    </tr>\n",
       "    <tr>\n",
       "      <th>Yes</th>\n",
       "      <td>4.8</td>\n",
       "      <td>5.4</td>\n",
       "      <td>5.3</td>\n",
       "    </tr>\n",
       "    <tr>\n",
       "      <th rowspan=\"2\" valign=\"top\">Yes</th>\n",
       "      <th>No</th>\n",
       "      <td>4.9</td>\n",
       "      <td>4.9</td>\n",
       "      <td>5.5</td>\n",
       "    </tr>\n",
       "    <tr>\n",
       "      <th>Yes</th>\n",
       "      <td>4.0</td>\n",
       "      <td>6.0</td>\n",
       "      <td>5.2</td>\n",
       "    </tr>\n",
       "  </tbody>\n",
       "</table>\n",
       "</div>"
      ],
      "text/plain": [
       "BMI_Category            Normal  Obese  Overweight\n",
       "Heart_Disease Diabetic                           \n",
       "No            No           5.1    5.1         4.8\n",
       "              Yes          4.8    5.4         5.3\n",
       "Yes           No           4.9    4.9         5.5\n",
       "              Yes          4.0    6.0         5.2"
      ]
     },
     "execution_count": 21,
     "metadata": {},
     "output_type": "execute_result"
    }
   ],
   "source": [
    "pd.pivot_table(df, values= 'Exercise_Hours_per_Week', index=('Heart_Disease', 'Diabetic'), columns= 'BMI_Category', aggfunc= 'mean').round(1)"
   ]
  },
  {
   "cell_type": "markdown",
   "id": "92924cb2",
   "metadata": {},
   "source": [
    "Pessoas diabeticas de todas as categorias de BMI tem média diária de passo maior quando comparadas com a mesma categoria mas sem diabete. \n",
    "Doença cardíaca não apresenta o mesmo padrão (pessoas com doenças cardíacas sem diabetes andam menos do que pessoas sem doença cardíaca sem diabete)\n",
    "O grupo doença cardíaca [Sim] e diabete [não] é o que tem menor média de passos"
   ]
  },
  {
   "cell_type": "markdown",
   "id": "d5eda867",
   "metadata": {},
   "source": [
    "### Recorte gênero feminino"
   ]
  },
  {
   "cell_type": "code",
   "execution_count": 22,
   "id": "34612114",
   "metadata": {},
   "outputs": [
    {
     "data": {
      "text/plain": [
       "Gender\n",
       "Male      523\n",
       "Female    477\n",
       "Name: count, dtype: int64"
      ]
     },
     "execution_count": 22,
     "metadata": {},
     "output_type": "execute_result"
    }
   ],
   "source": [
    "df['Gender'].value_counts()"
   ]
  },
  {
   "cell_type": "code",
   "execution_count": 23,
   "id": "c3c8a24c",
   "metadata": {},
   "outputs": [
    {
     "data": {
      "text/html": [
       "<div>\n",
       "<style scoped>\n",
       "    .dataframe tbody tr th:only-of-type {\n",
       "        vertical-align: middle;\n",
       "    }\n",
       "\n",
       "    .dataframe tbody tr th {\n",
       "        vertical-align: top;\n",
       "    }\n",
       "\n",
       "    .dataframe thead th {\n",
       "        text-align: right;\n",
       "    }\n",
       "</style>\n",
       "<table border=\"1\" class=\"dataframe\">\n",
       "  <thead>\n",
       "    <tr style=\"text-align: right;\">\n",
       "      <th>Gender</th>\n",
       "      <th>Female</th>\n",
       "      <th>Male</th>\n",
       "    </tr>\n",
       "  </thead>\n",
       "  <tbody>\n",
       "    <tr>\n",
       "      <th>Alcohol_Consumption_per_Week</th>\n",
       "      <td>4.8</td>\n",
       "      <td>4.4</td>\n",
       "    </tr>\n",
       "    <tr>\n",
       "      <th>Calories_Intake</th>\n",
       "      <td>2339.6</td>\n",
       "      <td>2315.7</td>\n",
       "    </tr>\n",
       "    <tr>\n",
       "      <th>Daily_Steps</th>\n",
       "      <td>10450.4</td>\n",
       "      <td>10960.2</td>\n",
       "    </tr>\n",
       "    <tr>\n",
       "      <th>Exercise_Hours_per_Week</th>\n",
       "      <td>5.0</td>\n",
       "      <td>5.1</td>\n",
       "    </tr>\n",
       "    <tr>\n",
       "      <th>Hours_of_Sleep</th>\n",
       "      <td>6.9</td>\n",
       "      <td>6.9</td>\n",
       "    </tr>\n",
       "  </tbody>\n",
       "</table>\n",
       "</div>"
      ],
      "text/plain": [
       "Gender                         Female     Male\n",
       "Alcohol_Consumption_per_Week      4.8      4.4\n",
       "Calories_Intake                2339.6   2315.7\n",
       "Daily_Steps                   10450.4  10960.2\n",
       "Exercise_Hours_per_Week           5.0      5.1\n",
       "Hours_of_Sleep                    6.9      6.9"
      ]
     },
     "execution_count": 23,
     "metadata": {},
     "output_type": "execute_result"
    }
   ],
   "source": [
    "pd.pivot_table(df, values= ('Daily_Steps', 'Calories_Intake', 'Hours_of_Sleep', 'Exercise_Hours_per_Week', 'Alcohol_Consumption_per_Week'), columns= 'Gender', \n",
    "               aggfunc={'Daily_Steps':'mean', 'Calories_Intake':'mean', 'Hours_of_Sleep':'mean', 'Exercise_Hours_per_Week':'mean', 'Alcohol_Consumption_per_Week':'mean'}). round(1)"
   ]
  },
  {
   "cell_type": "markdown",
   "id": "1d51d8b0",
   "metadata": {},
   "source": [
    "### Análise de Idade"
   ]
  },
  {
   "cell_type": "code",
   "execution_count": 19,
   "id": "2edf03d7",
   "metadata": {},
   "outputs": [
    {
     "data": {
      "text/html": [
       "<div>\n",
       "<style scoped>\n",
       "    .dataframe tbody tr th:only-of-type {\n",
       "        vertical-align: middle;\n",
       "    }\n",
       "\n",
       "    .dataframe tbody tr th {\n",
       "        vertical-align: top;\n",
       "    }\n",
       "\n",
       "    .dataframe thead th {\n",
       "        text-align: right;\n",
       "    }\n",
       "</style>\n",
       "<table border=\"1\" class=\"dataframe\">\n",
       "  <thead>\n",
       "    <tr style=\"text-align: right;\">\n",
       "      <th>Age_Group</th>\n",
       "      <th>18 - 24</th>\n",
       "      <th>25 - 32</th>\n",
       "      <th>33 - 42</th>\n",
       "      <th>43 - 54</th>\n",
       "      <th>55 - 65</th>\n",
       "      <th>66+</th>\n",
       "    </tr>\n",
       "  </thead>\n",
       "  <tbody>\n",
       "    <tr>\n",
       "      <th>Alcohol_Consumption_per_Week</th>\n",
       "      <td>5.0</td>\n",
       "      <td>5.0</td>\n",
       "      <td>5.0</td>\n",
       "      <td>5.0</td>\n",
       "      <td>5.0</td>\n",
       "      <td>4.0</td>\n",
       "    </tr>\n",
       "    <tr>\n",
       "      <th>Calories_Intake</th>\n",
       "      <td>2330.0</td>\n",
       "      <td>2338.0</td>\n",
       "      <td>2289.0</td>\n",
       "      <td>2346.5</td>\n",
       "      <td>2444.0</td>\n",
       "      <td>2247.5</td>\n",
       "    </tr>\n",
       "    <tr>\n",
       "      <th>Daily_Steps</th>\n",
       "      <td>11502.5</td>\n",
       "      <td>10878.0</td>\n",
       "      <td>12348.0</td>\n",
       "      <td>10272.0</td>\n",
       "      <td>10846.0</td>\n",
       "      <td>10543.5</td>\n",
       "    </tr>\n",
       "    <tr>\n",
       "      <th>Exercise_Hours_per_Week</th>\n",
       "      <td>5.2</td>\n",
       "      <td>5.2</td>\n",
       "      <td>5.3</td>\n",
       "      <td>4.5</td>\n",
       "      <td>5.0</td>\n",
       "      <td>5.1</td>\n",
       "    </tr>\n",
       "    <tr>\n",
       "      <th>Hours_of_Sleep</th>\n",
       "      <td>6.8</td>\n",
       "      <td>7.0</td>\n",
       "      <td>7.0</td>\n",
       "      <td>6.6</td>\n",
       "      <td>6.9</td>\n",
       "      <td>7.0</td>\n",
       "    </tr>\n",
       "  </tbody>\n",
       "</table>\n",
       "</div>"
      ],
      "text/plain": [
       "Age_Group                     18 - 24  25 - 32  33 - 42  43 - 54  55 - 65   \\\n",
       "Alcohol_Consumption_per_Week      5.0      5.0      5.0      5.0       5.0   \n",
       "Calories_Intake                2330.0   2338.0   2289.0   2346.5    2444.0   \n",
       "Daily_Steps                   11502.5  10878.0  12348.0  10272.0   10846.0   \n",
       "Exercise_Hours_per_Week           5.2      5.2      5.3      4.5       5.0   \n",
       "Hours_of_Sleep                    6.8      7.0      7.0      6.6       6.9   \n",
       "\n",
       "Age_Group                         66+  \n",
       "Alcohol_Consumption_per_Week      4.0  \n",
       "Calories_Intake                2247.5  \n",
       "Daily_Steps                   10543.5  \n",
       "Exercise_Hours_per_Week           5.1  \n",
       "Hours_of_Sleep                    7.0  "
      ]
     },
     "execution_count": 19,
     "metadata": {},
     "output_type": "execute_result"
    }
   ],
   "source": [
    "pd.pivot_table(df, values= ('Daily_Steps', 'Calories_Intake', 'Hours_of_Sleep', 'Exercise_Hours_per_Week', 'Alcohol_Consumption_per_Week'), columns= 'Age_Group', \n",
    "               aggfunc={'Daily_Steps':'median', 'Calories_Intake':'median', 'Hours_of_Sleep':'median', 'Exercise_Hours_per_Week':'median', 'Alcohol_Consumption_per_Week':'median'}). round(1)"
   ]
  },
  {
   "cell_type": "markdown",
   "id": "4a88bfdb",
   "metadata": {},
   "source": [
    "### Insights so far\n",
    "* good distribution of people with normal weight, overweight and obese for analysis\n",
    "* For this sample, daily steps does not have a Strong relation to BMI\n",
    "* smoking and obesisty does not seem to affect too much how much people exercise\n",
    "* However heart disease had a negative effect on how much people exercise\n",
    "* While diabetes has a positive impact on how much people exercise"
   ]
  }
 ],
 "metadata": {
  "kernelspec": {
   "display_name": "Python 3",
   "language": "python",
   "name": "python3"
  },
  "language_info": {
   "codemirror_mode": {
    "name": "ipython",
    "version": 3
   },
   "file_extension": ".py",
   "mimetype": "text/x-python",
   "name": "python",
   "nbconvert_exporter": "python",
   "pygments_lexer": "ipython3",
   "version": "3.13.2"
  }
 },
 "nbformat": 4,
 "nbformat_minor": 5
}
