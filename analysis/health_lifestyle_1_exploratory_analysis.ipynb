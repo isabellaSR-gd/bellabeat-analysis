{
 "cells": [
  {
   "cell_type": "markdown",
   "id": "78e98cb3",
   "metadata": {},
   "source": [
    "### Análise exploratória health lifestyle dataset"
   ]
  },
  {
   "cell_type": "code",
   "execution_count": 154,
   "id": "70c4bebb",
   "metadata": {},
   "outputs": [],
   "source": [
    "import pandas as pd\n",
    "import numpy as np\n",
    "from pathlib import Path"
   ]
  },
  {
   "cell_type": "code",
   "execution_count": 155,
   "id": "9bc68a92",
   "metadata": {},
   "outputs": [
    {
     "name": "stdout",
     "output_type": "stream",
     "text": [
      "caminho do diretório D:\\python\\bellabeat-analysis\n"
     ]
    }
   ],
   "source": [
    "# This facility open the file,  wihout pass all the file path \n",
    "caminho_arquivo = Path('clean_new_data_obesity.csv').resolve().parents[1]\n",
    "print('caminho do diretório',caminho_arquivo)"
   ]
  },
  {
   "cell_type": "code",
   "execution_count": 156,
   "id": "887353cc",
   "metadata": {},
   "outputs": [],
   "source": [
    "df = pd.read_csv(f'{caminho_arquivo}/database/health-lifestyle-data/health_activity_data_treated.csv')"
   ]
  },
  {
   "cell_type": "markdown",
   "id": "09b91291",
   "metadata": {},
   "source": [
    "## Análise exploratória e estatística inicial"
   ]
  },
  {
   "cell_type": "code",
   "execution_count": 157,
   "id": "5af32d9b",
   "metadata": {},
   "outputs": [
    {
     "data": {
      "text/html": [
       "<div>\n",
       "<style scoped>\n",
       "    .dataframe tbody tr th:only-of-type {\n",
       "        vertical-align: middle;\n",
       "    }\n",
       "\n",
       "    .dataframe tbody tr th {\n",
       "        vertical-align: top;\n",
       "    }\n",
       "\n",
       "    .dataframe thead th {\n",
       "        text-align: right;\n",
       "    }\n",
       "</style>\n",
       "<table border=\"1\" class=\"dataframe\">\n",
       "  <thead>\n",
       "    <tr style=\"text-align: right;\">\n",
       "      <th></th>\n",
       "      <th>ID</th>\n",
       "      <th>Age</th>\n",
       "      <th>Age_Group</th>\n",
       "      <th>Gender</th>\n",
       "      <th>Gender_bool</th>\n",
       "      <th>Height_cm</th>\n",
       "      <th>Weight_kg</th>\n",
       "      <th>BMI</th>\n",
       "      <th>BMI_Category</th>\n",
       "      <th>Daily_Steps</th>\n",
       "      <th>...</th>\n",
       "      <th>Heart_Rate</th>\n",
       "      <th>Blood_Pressure</th>\n",
       "      <th>Exercise_Hours_per_Week</th>\n",
       "      <th>Smoker</th>\n",
       "      <th>Smoker_bool</th>\n",
       "      <th>Alcohol_Consumption_per_Week</th>\n",
       "      <th>Diabetic</th>\n",
       "      <th>Diabetic_bool</th>\n",
       "      <th>Heart_Disease</th>\n",
       "      <th>Heart_Disease_bool</th>\n",
       "    </tr>\n",
       "  </thead>\n",
       "  <tbody>\n",
       "    <tr>\n",
       "      <th>0</th>\n",
       "      <td>1</td>\n",
       "      <td>56</td>\n",
       "      <td>56 - 62</td>\n",
       "      <td>Male</td>\n",
       "      <td>0</td>\n",
       "      <td>164</td>\n",
       "      <td>81</td>\n",
       "      <td>30.72</td>\n",
       "      <td>Obese</td>\n",
       "      <td>5134</td>\n",
       "      <td>...</td>\n",
       "      <td>102</td>\n",
       "      <td>137/72</td>\n",
       "      <td>8.1</td>\n",
       "      <td>No</td>\n",
       "      <td>0</td>\n",
       "      <td>7</td>\n",
       "      <td>No</td>\n",
       "      <td>0</td>\n",
       "      <td>No</td>\n",
       "      <td>0</td>\n",
       "    </tr>\n",
       "    <tr>\n",
       "      <th>1</th>\n",
       "      <td>2</td>\n",
       "      <td>69</td>\n",
       "      <td>63+</td>\n",
       "      <td>Male</td>\n",
       "      <td>0</td>\n",
       "      <td>156</td>\n",
       "      <td>82</td>\n",
       "      <td>20.86</td>\n",
       "      <td>Normal</td>\n",
       "      <td>12803</td>\n",
       "      <td>...</td>\n",
       "      <td>103</td>\n",
       "      <td>129/65</td>\n",
       "      <td>3.7</td>\n",
       "      <td>No</td>\n",
       "      <td>0</td>\n",
       "      <td>7</td>\n",
       "      <td>No</td>\n",
       "      <td>0</td>\n",
       "      <td>No</td>\n",
       "      <td>0</td>\n",
       "    </tr>\n",
       "    <tr>\n",
       "      <th>2</th>\n",
       "      <td>3</td>\n",
       "      <td>46</td>\n",
       "      <td>45 - 55</td>\n",
       "      <td>Female</td>\n",
       "      <td>1</td>\n",
       "      <td>158</td>\n",
       "      <td>65</td>\n",
       "      <td>30.93</td>\n",
       "      <td>Obese</td>\n",
       "      <td>16408</td>\n",
       "      <td>...</td>\n",
       "      <td>74</td>\n",
       "      <td>127/68</td>\n",
       "      <td>3.2</td>\n",
       "      <td>Yes</td>\n",
       "      <td>1</td>\n",
       "      <td>0</td>\n",
       "      <td>No</td>\n",
       "      <td>0</td>\n",
       "      <td>No</td>\n",
       "      <td>0</td>\n",
       "    </tr>\n",
       "    <tr>\n",
       "      <th>3</th>\n",
       "      <td>4</td>\n",
       "      <td>32</td>\n",
       "      <td>31 - 38</td>\n",
       "      <td>Male</td>\n",
       "      <td>0</td>\n",
       "      <td>197</td>\n",
       "      <td>87</td>\n",
       "      <td>31.19</td>\n",
       "      <td>Obese</td>\n",
       "      <td>18420</td>\n",
       "      <td>...</td>\n",
       "      <td>116</td>\n",
       "      <td>125/86</td>\n",
       "      <td>8.5</td>\n",
       "      <td>No</td>\n",
       "      <td>0</td>\n",
       "      <td>5</td>\n",
       "      <td>No</td>\n",
       "      <td>0</td>\n",
       "      <td>No</td>\n",
       "      <td>0</td>\n",
       "    </tr>\n",
       "    <tr>\n",
       "      <th>4</th>\n",
       "      <td>5</td>\n",
       "      <td>60</td>\n",
       "      <td>56 - 62</td>\n",
       "      <td>Male</td>\n",
       "      <td>0</td>\n",
       "      <td>157</td>\n",
       "      <td>63</td>\n",
       "      <td>29.37</td>\n",
       "      <td>Overweight</td>\n",
       "      <td>17351</td>\n",
       "      <td>...</td>\n",
       "      <td>111</td>\n",
       "      <td>100/64</td>\n",
       "      <td>8.5</td>\n",
       "      <td>Yes</td>\n",
       "      <td>1</td>\n",
       "      <td>8</td>\n",
       "      <td>No</td>\n",
       "      <td>0</td>\n",
       "      <td>No</td>\n",
       "      <td>0</td>\n",
       "    </tr>\n",
       "  </tbody>\n",
       "</table>\n",
       "<p>5 rows × 22 columns</p>\n",
       "</div>"
      ],
      "text/plain": [
       "   ID  Age Age_Group  Gender  Gender_bool  Height_cm  Weight_kg    BMI  \\\n",
       "0   1   56   56 - 62    Male            0        164         81  30.72   \n",
       "1   2   69       63+    Male            0        156         82  20.86   \n",
       "2   3   46  45 - 55   Female            1        158         65  30.93   \n",
       "3   4   32   31 - 38    Male            0        197         87  31.19   \n",
       "4   5   60   56 - 62    Male            0        157         63  29.37   \n",
       "\n",
       "  BMI_Category  Daily_Steps  ...  Heart_Rate  Blood_Pressure  \\\n",
       "0        Obese         5134  ...         102          137/72   \n",
       "1       Normal        12803  ...         103          129/65   \n",
       "2        Obese        16408  ...          74          127/68   \n",
       "3        Obese        18420  ...         116          125/86   \n",
       "4   Overweight        17351  ...         111          100/64   \n",
       "\n",
       "   Exercise_Hours_per_Week Smoker  Smoker_bool Alcohol_Consumption_per_Week  \\\n",
       "0                      8.1     No            0                            7   \n",
       "1                      3.7     No            0                            7   \n",
       "2                      3.2    Yes            1                            0   \n",
       "3                      8.5     No            0                            5   \n",
       "4                      8.5    Yes            1                            8   \n",
       "\n",
       "   Diabetic  Diabetic_bool Heart_Disease  Heart_Disease_bool  \n",
       "0        No              0            No                   0  \n",
       "1        No              0            No                   0  \n",
       "2        No              0            No                   0  \n",
       "3        No              0            No                   0  \n",
       "4        No              0            No                   0  \n",
       "\n",
       "[5 rows x 22 columns]"
      ]
     },
     "execution_count": 157,
     "metadata": {},
     "output_type": "execute_result"
    }
   ],
   "source": [
    "df.head()"
   ]
  },
  {
   "cell_type": "code",
   "execution_count": null,
   "id": "a6a86071",
   "metadata": {},
   "outputs": [],
   "source": [
    "df[['Age', 'Daily_Steps', 'Calories_Intake', 'Hours_of_Sleep', 'Heart_Rate', 'Exercise_Hours_per_Week']].describe().round(1)"
   ]
  },
  {
   "cell_type": "code",
   "execution_count": 158,
   "id": "897c4848",
   "metadata": {},
   "outputs": [
    {
     "name": "stdout",
     "output_type": "stream",
     "text": [
      "<class 'pandas.core.frame.DataFrame'>\n",
      "RangeIndex: 1000 entries, 0 to 999\n",
      "Data columns (total 22 columns):\n",
      " #   Column                        Non-Null Count  Dtype  \n",
      "---  ------                        --------------  -----  \n",
      " 0   ID                            1000 non-null   int64  \n",
      " 1   Age                           1000 non-null   int64  \n",
      " 2   Age_Group                     1000 non-null   object \n",
      " 3   Gender                        1000 non-null   object \n",
      " 4   Gender_bool                   1000 non-null   int64  \n",
      " 5   Height_cm                     1000 non-null   int64  \n",
      " 6   Weight_kg                     1000 non-null   int64  \n",
      " 7   BMI                           1000 non-null   float64\n",
      " 8   BMI_Category                  1000 non-null   object \n",
      " 9   Daily_Steps                   1000 non-null   int64  \n",
      " 10  Calories_Intake               1000 non-null   int64  \n",
      " 11  Hours_of_Sleep                1000 non-null   float64\n",
      " 12  Heart_Rate                    1000 non-null   int64  \n",
      " 13  Blood_Pressure                1000 non-null   object \n",
      " 14  Exercise_Hours_per_Week       1000 non-null   float64\n",
      " 15  Smoker                        1000 non-null   object \n",
      " 16  Smoker_bool                   1000 non-null   int64  \n",
      " 17  Alcohol_Consumption_per_Week  1000 non-null   int64  \n",
      " 18  Diabetic                      1000 non-null   object \n",
      " 19  Diabetic_bool                 1000 non-null   int64  \n",
      " 20  Heart_Disease                 1000 non-null   object \n",
      " 21  Heart_Disease_bool            1000 non-null   int64  \n",
      "dtypes: float64(3), int64(12), object(7)\n",
      "memory usage: 172.0+ KB\n"
     ]
    }
   ],
   "source": [
    "df.info()"
   ]
  },
  {
   "cell_type": "code",
   "execution_count": 159,
   "id": "39f020a5",
   "metadata": {},
   "outputs": [
    {
     "data": {
      "text/html": [
       "<div>\n",
       "<style scoped>\n",
       "    .dataframe tbody tr th:only-of-type {\n",
       "        vertical-align: middle;\n",
       "    }\n",
       "\n",
       "    .dataframe tbody tr th {\n",
       "        vertical-align: top;\n",
       "    }\n",
       "\n",
       "    .dataframe thead th {\n",
       "        text-align: right;\n",
       "    }\n",
       "</style>\n",
       "<table border=\"1\" class=\"dataframe\">\n",
       "  <thead>\n",
       "    <tr style=\"text-align: right;\">\n",
       "      <th></th>\n",
       "      <th>Age</th>\n",
       "      <th>Daily_Steps</th>\n",
       "      <th>Calories_Intake</th>\n",
       "      <th>Hours_of_Sleep</th>\n",
       "      <th>Exercise_Hours_per_Week</th>\n",
       "      <th>Alcohol_Consumption_per_Week</th>\n",
       "    </tr>\n",
       "  </thead>\n",
       "  <tbody>\n",
       "    <tr>\n",
       "      <th>count</th>\n",
       "      <td>1000.0</td>\n",
       "      <td>1000.0</td>\n",
       "      <td>1000.0</td>\n",
       "      <td>1000.0</td>\n",
       "      <td>1000.0</td>\n",
       "      <td>1000.0</td>\n",
       "    </tr>\n",
       "    <tr>\n",
       "      <th>mean</th>\n",
       "      <td>49.9</td>\n",
       "      <td>10717.0</td>\n",
       "      <td>2327.1</td>\n",
       "      <td>6.9</td>\n",
       "      <td>5.0</td>\n",
       "      <td>4.6</td>\n",
       "    </tr>\n",
       "    <tr>\n",
       "      <th>std</th>\n",
       "      <td>18.1</td>\n",
       "      <td>5444.7</td>\n",
       "      <td>657.8</td>\n",
       "      <td>1.8</td>\n",
       "      <td>2.8</td>\n",
       "      <td>2.9</td>\n",
       "    </tr>\n",
       "    <tr>\n",
       "      <th>min</th>\n",
       "      <td>18.0</td>\n",
       "      <td>1016.0</td>\n",
       "      <td>1201.0</td>\n",
       "      <td>4.0</td>\n",
       "      <td>0.0</td>\n",
       "      <td>0.0</td>\n",
       "    </tr>\n",
       "    <tr>\n",
       "      <th>25%</th>\n",
       "      <td>35.0</td>\n",
       "      <td>6028.2</td>\n",
       "      <td>1745.8</td>\n",
       "      <td>5.3</td>\n",
       "      <td>2.7</td>\n",
       "      <td>2.0</td>\n",
       "    </tr>\n",
       "    <tr>\n",
       "      <th>50%</th>\n",
       "      <td>50.0</td>\n",
       "      <td>10898.0</td>\n",
       "      <td>2328.5</td>\n",
       "      <td>6.9</td>\n",
       "      <td>5.1</td>\n",
       "      <td>5.0</td>\n",
       "    </tr>\n",
       "    <tr>\n",
       "      <th>75%</th>\n",
       "      <td>66.0</td>\n",
       "      <td>15253.2</td>\n",
       "      <td>2880.0</td>\n",
       "      <td>8.4</td>\n",
       "      <td>7.6</td>\n",
       "      <td>7.0</td>\n",
       "    </tr>\n",
       "    <tr>\n",
       "      <th>max</th>\n",
       "      <td>79.0</td>\n",
       "      <td>19931.0</td>\n",
       "      <td>3498.0</td>\n",
       "      <td>10.0</td>\n",
       "      <td>10.0</td>\n",
       "      <td>9.0</td>\n",
       "    </tr>\n",
       "  </tbody>\n",
       "</table>\n",
       "</div>"
      ],
      "text/plain": [
       "          Age  Daily_Steps  Calories_Intake  Hours_of_Sleep  \\\n",
       "count  1000.0       1000.0           1000.0          1000.0   \n",
       "mean     49.9      10717.0           2327.1             6.9   \n",
       "std      18.1       5444.7            657.8             1.8   \n",
       "min      18.0       1016.0           1201.0             4.0   \n",
       "25%      35.0       6028.2           1745.8             5.3   \n",
       "50%      50.0      10898.0           2328.5             6.9   \n",
       "75%      66.0      15253.2           2880.0             8.4   \n",
       "max      79.0      19931.0           3498.0            10.0   \n",
       "\n",
       "       Exercise_Hours_per_Week  Alcohol_Consumption_per_Week  \n",
       "count                   1000.0                        1000.0  \n",
       "mean                       5.0                           4.6  \n",
       "std                        2.8                           2.9  \n",
       "min                        0.0                           0.0  \n",
       "25%                        2.7                           2.0  \n",
       "50%                        5.1                           5.0  \n",
       "75%                        7.6                           7.0  \n",
       "max                       10.0                           9.0  "
      ]
     },
     "execution_count": 159,
     "metadata": {},
     "output_type": "execute_result"
    }
   ],
   "source": [
    "df[['Age', 'Daily_Steps', 'Calories_Intake', 'Hours_of_Sleep', 'Exercise_Hours_per_Week', 'Alcohol_Consumption_per_Week']].describe().round(1)"
   ]
  },
  {
   "cell_type": "markdown",
   "id": "07097dbc",
   "metadata": {},
   "source": [
    "### Como o Bellabeat tem público feminino, fazer recorte de gênero no dataset para encontrar padrões de exercício e estilo de vida em mulheres"
   ]
  },
  {
   "cell_type": "code",
   "execution_count": 197,
   "id": "34612114",
   "metadata": {},
   "outputs": [
    {
     "data": {
      "text/plain": [
       "Gender\n",
       "Male      523\n",
       "Female    477\n",
       "Name: count, dtype: int64"
      ]
     },
     "execution_count": 197,
     "metadata": {},
     "output_type": "execute_result"
    }
   ],
   "source": [
    "df['Gender'].value_counts()"
   ]
  },
  {
   "cell_type": "code",
   "execution_count": 198,
   "id": "de1646f0",
   "metadata": {},
   "outputs": [],
   "source": [
    "df_fem = df.loc[df['Gender'] == 'Female']"
   ]
  },
  {
   "cell_type": "markdown",
   "id": "82afe918",
   "metadata": {},
   "source": [
    "### Checar distribuição de peso"
   ]
  },
  {
   "cell_type": "markdown",
   "id": "29923014",
   "metadata": {},
   "source": [
    "### Analysis of daily steps"
   ]
  },
  {
   "cell_type": "code",
   "execution_count": 225,
   "id": "dd1ee702",
   "metadata": {},
   "outputs": [],
   "source": [
    "daily_steps_mean = df_fem['Daily_Steps'].mean().round(1)"
   ]
  },
  {
   "cell_type": "markdown",
   "id": "74268829",
   "metadata": {},
   "source": [
    "#### Analysis of BMI category of people whose daily step is below the average"
   ]
  },
  {
   "cell_type": "code",
   "execution_count": 226,
   "id": "fa5676da",
   "metadata": {},
   "outputs": [
    {
     "data": {
      "text/plain": [
       "BMI_Category\n",
       "Normal        88\n",
       "Obese         83\n",
       "Overweight    72\n",
       "Name: count, dtype: int64"
      ]
     },
     "execution_count": 226,
     "metadata": {},
     "output_type": "execute_result"
    }
   ],
   "source": [
    "few_steps_pop = df_fem.loc[df_fem['Daily_Steps']< daily_steps_mean, 'BMI_Category'].value_counts()\n",
    "few_steps_pop"
   ]
  },
  {
   "cell_type": "markdown",
   "id": "7e68f011",
   "metadata": {},
   "source": [
    "#### Analysis of BMI category of people whose daily step is above the average"
   ]
  },
  {
   "cell_type": "code",
   "execution_count": 228,
   "id": "06d9a58d",
   "metadata": {},
   "outputs": [
    {
     "data": {
      "text/plain": [
       "BMI_Category\n",
       "Normal        90\n",
       "Obese         85\n",
       "Overweight    59\n",
       "Name: count, dtype: int64"
      ]
     },
     "execution_count": 228,
     "metadata": {},
     "output_type": "execute_result"
    }
   ],
   "source": [
    "more_steps_pop = df_fem.loc[df_fem['Daily_Steps']> daily_steps_mean, 'BMI_Category'].value_counts()\n",
    "more_steps_pop"
   ]
  },
  {
   "cell_type": "markdown",
   "id": "0718f03a",
   "metadata": {},
   "source": [
    "#### Conclusion: for this sample, daily steps does not have a strong relation to BMI"
   ]
  },
  {
   "cell_type": "markdown",
   "id": "3376c48c",
   "metadata": {},
   "source": [
    "### Exercise per week"
   ]
  },
  {
   "cell_type": "code",
   "execution_count": 206,
   "id": "c964c7c0",
   "metadata": {},
   "outputs": [
    {
     "data": {
      "text/html": [
       "<div>\n",
       "<style scoped>\n",
       "    .dataframe tbody tr th:only-of-type {\n",
       "        vertical-align: middle;\n",
       "    }\n",
       "\n",
       "    .dataframe tbody tr th {\n",
       "        vertical-align: top;\n",
       "    }\n",
       "\n",
       "    .dataframe thead th {\n",
       "        text-align: right;\n",
       "    }\n",
       "</style>\n",
       "<table border=\"1\" class=\"dataframe\">\n",
       "  <thead>\n",
       "    <tr style=\"text-align: right;\">\n",
       "      <th>BMI_Category</th>\n",
       "      <th>Normal</th>\n",
       "      <th>Obese</th>\n",
       "      <th>Overweight</th>\n",
       "    </tr>\n",
       "    <tr>\n",
       "      <th>Gender</th>\n",
       "      <th></th>\n",
       "      <th></th>\n",
       "      <th></th>\n",
       "    </tr>\n",
       "  </thead>\n",
       "  <tbody>\n",
       "    <tr>\n",
       "      <th>Female</th>\n",
       "      <td>5.1</td>\n",
       "      <td>4.9</td>\n",
       "      <td>4.8</td>\n",
       "    </tr>\n",
       "  </tbody>\n",
       "</table>\n",
       "</div>"
      ],
      "text/plain": [
       "BMI_Category  Normal  Obese  Overweight\n",
       "Gender                                 \n",
       "Female           5.1    4.9         4.8"
      ]
     },
     "execution_count": 206,
     "metadata": {},
     "output_type": "execute_result"
    }
   ],
   "source": [
    "pd.pivot_table(df_fem, values = 'Exercise_Hours_per_Week', index= ('Gender'), columns= 'BMI_Category', aggfunc= 'mean').round(1)"
   ]
  },
  {
   "cell_type": "markdown",
   "id": "bffeba45",
   "metadata": {},
   "source": [
    "### Pivot table on BMI categories"
   ]
  },
  {
   "cell_type": "code",
   "execution_count": 209,
   "id": "364efc17",
   "metadata": {},
   "outputs": [
    {
     "data": {
      "text/plain": [
       "BMI_Category\n",
       "Normal        178\n",
       "Obese         168\n",
       "Overweight    131\n",
       "Name: count, dtype: int64"
      ]
     },
     "execution_count": 209,
     "metadata": {},
     "output_type": "execute_result"
    }
   ],
   "source": [
    "df_fem['BMI_Category'].value_counts()"
   ]
  },
  {
   "cell_type": "code",
   "execution_count": null,
   "id": "c34f3f54",
   "metadata": {},
   "outputs": [
    {
     "data": {
      "text/html": [
       "<div>\n",
       "<style scoped>\n",
       "    .dataframe tbody tr th:only-of-type {\n",
       "        vertical-align: middle;\n",
       "    }\n",
       "\n",
       "    .dataframe tbody tr th {\n",
       "        vertical-align: top;\n",
       "    }\n",
       "\n",
       "    .dataframe thead th {\n",
       "        text-align: right;\n",
       "    }\n",
       "</style>\n",
       "<table border=\"1\" class=\"dataframe\">\n",
       "  <thead>\n",
       "    <tr style=\"text-align: right;\">\n",
       "      <th></th>\n",
       "      <th>BMI_Category</th>\n",
       "      <th>Normal</th>\n",
       "      <th>Obese</th>\n",
       "      <th>Overweight</th>\n",
       "    </tr>\n",
       "    <tr>\n",
       "      <th>Heart_Disease</th>\n",
       "      <th>Diabetic</th>\n",
       "      <th></th>\n",
       "      <th></th>\n",
       "      <th></th>\n",
       "    </tr>\n",
       "  </thead>\n",
       "  <tbody>\n",
       "    <tr>\n",
       "      <th rowspan=\"2\" valign=\"top\">No</th>\n",
       "      <th>No</th>\n",
       "      <td>10834.0</td>\n",
       "      <td>10546.2</td>\n",
       "      <td>10137.7</td>\n",
       "    </tr>\n",
       "    <tr>\n",
       "      <th>Yes</th>\n",
       "      <td>10534.7</td>\n",
       "      <td>10516.0</td>\n",
       "      <td>10553.6</td>\n",
       "    </tr>\n",
       "    <tr>\n",
       "      <th rowspan=\"2\" valign=\"top\">Yes</th>\n",
       "      <th>No</th>\n",
       "      <td>9788.9</td>\n",
       "      <td>7783.0</td>\n",
       "      <td>8251.2</td>\n",
       "    </tr>\n",
       "    <tr>\n",
       "      <th>Yes</th>\n",
       "      <td>13205.0</td>\n",
       "      <td>16609.7</td>\n",
       "      <td>NaN</td>\n",
       "    </tr>\n",
       "  </tbody>\n",
       "</table>\n",
       "</div>"
      ],
      "text/plain": [
       "BMI_Category             Normal    Obese  Overweight\n",
       "Heart_Disease Diabetic                              \n",
       "No            No        10834.0  10546.2     10137.7\n",
       "              Yes       10534.7  10516.0     10553.6\n",
       "Yes           No         9788.9   7783.0      8251.2\n",
       "              Yes       13205.0  16609.7         NaN"
      ]
     },
     "execution_count": 229,
     "metadata": {},
     "output_type": "execute_result"
    }
   ],
   "source": [
    "# tabela para analisar como doença cardiaca e diabetes afeta qntde de passos diário\n",
    "pd.pivot_table(df_fem, values= 'Daily_Steps', index=('Heart_Disease', 'Diabetic'), columns= 'BMI_Category', aggfunc= 'mean').round(1)"
   ]
  },
  {
   "cell_type": "code",
   "execution_count": null,
   "id": "8dc3fabd",
   "metadata": {},
   "outputs": [
    {
     "data": {
      "text/html": [
       "<div>\n",
       "<style scoped>\n",
       "    .dataframe tbody tr th:only-of-type {\n",
       "        vertical-align: middle;\n",
       "    }\n",
       "\n",
       "    .dataframe tbody tr th {\n",
       "        vertical-align: top;\n",
       "    }\n",
       "\n",
       "    .dataframe thead th {\n",
       "        text-align: right;\n",
       "    }\n",
       "</style>\n",
       "<table border=\"1\" class=\"dataframe\">\n",
       "  <thead>\n",
       "    <tr style=\"text-align: right;\">\n",
       "      <th></th>\n",
       "      <th>BMI_Category</th>\n",
       "      <th>Normal</th>\n",
       "      <th>Obese</th>\n",
       "      <th>Overweight</th>\n",
       "    </tr>\n",
       "    <tr>\n",
       "      <th>Heart_Disease</th>\n",
       "      <th>Diabetic</th>\n",
       "      <th></th>\n",
       "      <th></th>\n",
       "      <th></th>\n",
       "    </tr>\n",
       "  </thead>\n",
       "  <tbody>\n",
       "    <tr>\n",
       "      <th rowspan=\"2\" valign=\"top\">No</th>\n",
       "      <th>No</th>\n",
       "      <td>5.3</td>\n",
       "      <td>4.9</td>\n",
       "      <td>4.6</td>\n",
       "    </tr>\n",
       "    <tr>\n",
       "      <th>Yes</th>\n",
       "      <td>4.3</td>\n",
       "      <td>5.4</td>\n",
       "      <td>5.4</td>\n",
       "    </tr>\n",
       "    <tr>\n",
       "      <th rowspan=\"2\" valign=\"top\">Yes</th>\n",
       "      <th>No</th>\n",
       "      <td>5.0</td>\n",
       "      <td>4.1</td>\n",
       "      <td>5.5</td>\n",
       "    </tr>\n",
       "    <tr>\n",
       "      <th>Yes</th>\n",
       "      <td>6.5</td>\n",
       "      <td>6.6</td>\n",
       "      <td>NaN</td>\n",
       "    </tr>\n",
       "  </tbody>\n",
       "</table>\n",
       "</div>"
      ],
      "text/plain": [
       "BMI_Category            Normal  Obese  Overweight\n",
       "Heart_Disease Diabetic                           \n",
       "No            No           5.3    4.9         4.6\n",
       "              Yes          4.3    5.4         5.4\n",
       "Yes           No           5.0    4.1         5.5\n",
       "              Yes          6.5    6.6         NaN"
      ]
     },
     "execution_count": 211,
     "metadata": {},
     "output_type": "execute_result"
    }
   ],
   "source": [
    "# tabela para analisar como doença cardiaca e diabetes afeta tempo de exercício\n",
    "pd.pivot_table(df_fem, values= 'Exercise_Hours_per_Week', index=('Heart_Disease', 'Diabetic'), columns= 'BMI_Category', aggfunc= 'mean').round(1)"
   ]
  },
  {
   "cell_type": "markdown",
   "id": "92924cb2",
   "metadata": {},
   "source": [
    "Pessoas diabeticas de todas as categorias de BMI tem média diária de passo maior quando comparadas com a mesma categoria mas sem diabete. \n",
    "Doença cardíaca não apresenta o mesmo padrão (pessoas com doenças cardíacas sem diabetes andam menos do que pessoas sem doença cardíaca sem diabete)\n",
    "O grupo doença cardíaca [Sim] e diabete [não] é o que tem menor média de passos"
   ]
  },
  {
   "cell_type": "code",
   "execution_count": 212,
   "id": "c3c8a24c",
   "metadata": {},
   "outputs": [
    {
     "data": {
      "text/html": [
       "<div>\n",
       "<style scoped>\n",
       "    .dataframe tbody tr th:only-of-type {\n",
       "        vertical-align: middle;\n",
       "    }\n",
       "\n",
       "    .dataframe tbody tr th {\n",
       "        vertical-align: top;\n",
       "    }\n",
       "\n",
       "    .dataframe thead th {\n",
       "        text-align: right;\n",
       "    }\n",
       "</style>\n",
       "<table border=\"1\" class=\"dataframe\">\n",
       "  <thead>\n",
       "    <tr style=\"text-align: right;\">\n",
       "      <th>Gender</th>\n",
       "      <th>Female</th>\n",
       "    </tr>\n",
       "  </thead>\n",
       "  <tbody>\n",
       "    <tr>\n",
       "      <th>Alcohol_Consumption_per_Week</th>\n",
       "      <td>4.8</td>\n",
       "    </tr>\n",
       "    <tr>\n",
       "      <th>Calories_Intake</th>\n",
       "      <td>2339.6</td>\n",
       "    </tr>\n",
       "    <tr>\n",
       "      <th>Daily_Steps</th>\n",
       "      <td>10450.4</td>\n",
       "    </tr>\n",
       "    <tr>\n",
       "      <th>Exercise_Hours_per_Week</th>\n",
       "      <td>5.0</td>\n",
       "    </tr>\n",
       "    <tr>\n",
       "      <th>Hours_of_Sleep</th>\n",
       "      <td>6.9</td>\n",
       "    </tr>\n",
       "  </tbody>\n",
       "</table>\n",
       "</div>"
      ],
      "text/plain": [
       "Gender                         Female\n",
       "Alcohol_Consumption_per_Week      4.8\n",
       "Calories_Intake                2339.6\n",
       "Daily_Steps                   10450.4\n",
       "Exercise_Hours_per_Week           5.0\n",
       "Hours_of_Sleep                    6.9"
      ]
     },
     "execution_count": 212,
     "metadata": {},
     "output_type": "execute_result"
    }
   ],
   "source": [
    "pd.pivot_table(df_fem, values= ('Daily_Steps', 'Calories_Intake', 'Hours_of_Sleep', 'Exercise_Hours_per_Week', 'Alcohol_Consumption_per_Week'), columns= ('Gender'), \n",
    "               aggfunc={'Daily_Steps':'mean', 'Calories_Intake':'mean', 'Hours_of_Sleep':'mean', 'Exercise_Hours_per_Week':'mean', 'Alcohol_Consumption_per_Week':'mean'}). round(1)"
   ]
  },
  {
   "cell_type": "markdown",
   "id": "1d51d8b0",
   "metadata": {},
   "source": [
    "### Análise de habitos por idade"
   ]
  },
  {
   "cell_type": "code",
   "execution_count": 213,
   "id": "5c208c99",
   "metadata": {},
   "outputs": [
    {
     "data": {
      "text/plain": [
       "Heart_Disease\n",
       "No     435\n",
       "Yes     42\n",
       "Name: count, dtype: int64"
      ]
     },
     "execution_count": 213,
     "metadata": {},
     "output_type": "execute_result"
    }
   ],
   "source": [
    "df_fem['Heart_Disease'].value_counts()"
   ]
  },
  {
   "cell_type": "code",
   "execution_count": 214,
   "id": "43a9f4b6",
   "metadata": {},
   "outputs": [
    {
     "data": {
      "text/plain": [
       "Diabetic\n",
       "No     405\n",
       "Yes     72\n",
       "Name: count, dtype: int64"
      ]
     },
     "execution_count": 214,
     "metadata": {},
     "output_type": "execute_result"
    }
   ],
   "source": [
    "df_fem['Diabetic'].value_counts()"
   ]
  },
  {
   "cell_type": "code",
   "execution_count": 215,
   "id": "31b33185",
   "metadata": {},
   "outputs": [
    {
     "data": {
      "text/html": [
       "<div>\n",
       "<style scoped>\n",
       "    .dataframe tbody tr th:only-of-type {\n",
       "        vertical-align: middle;\n",
       "    }\n",
       "\n",
       "    .dataframe tbody tr th {\n",
       "        vertical-align: top;\n",
       "    }\n",
       "\n",
       "    .dataframe thead th {\n",
       "        text-align: right;\n",
       "    }\n",
       "</style>\n",
       "<table border=\"1\" class=\"dataframe\">\n",
       "  <thead>\n",
       "    <tr style=\"text-align: right;\">\n",
       "      <th>Diabetic</th>\n",
       "      <th>No</th>\n",
       "      <th>Yes</th>\n",
       "    </tr>\n",
       "    <tr>\n",
       "      <th>Age_Group</th>\n",
       "      <th></th>\n",
       "      <th></th>\n",
       "    </tr>\n",
       "  </thead>\n",
       "  <tbody>\n",
       "    <tr>\n",
       "      <th>18 - 24</th>\n",
       "      <td>42</td>\n",
       "      <td>13</td>\n",
       "    </tr>\n",
       "    <tr>\n",
       "      <th>25 - 30</th>\n",
       "      <td>38</td>\n",
       "      <td>2</td>\n",
       "    </tr>\n",
       "    <tr>\n",
       "      <th>31 - 38</th>\n",
       "      <td>45</td>\n",
       "      <td>7</td>\n",
       "    </tr>\n",
       "    <tr>\n",
       "      <th>39 - 45</th>\n",
       "      <td>47</td>\n",
       "      <td>6</td>\n",
       "    </tr>\n",
       "    <tr>\n",
       "      <th>45 - 55</th>\n",
       "      <td>77</td>\n",
       "      <td>14</td>\n",
       "    </tr>\n",
       "    <tr>\n",
       "      <th>56 - 62</th>\n",
       "      <td>46</td>\n",
       "      <td>5</td>\n",
       "    </tr>\n",
       "    <tr>\n",
       "      <th>63+</th>\n",
       "      <td>110</td>\n",
       "      <td>25</td>\n",
       "    </tr>\n",
       "  </tbody>\n",
       "</table>\n",
       "</div>"
      ],
      "text/plain": [
       "Diabetic    No  Yes\n",
       "Age_Group          \n",
       "18 - 24     42   13\n",
       "25 - 30     38    2\n",
       "31 - 38     45    7\n",
       "39 - 45     47    6\n",
       "45 - 55     77   14\n",
       "56 - 62     46    5\n",
       "63+        110   25"
      ]
     },
     "execution_count": 215,
     "metadata": {},
     "output_type": "execute_result"
    }
   ],
   "source": [
    "pd.pivot_table(df_fem, values ='ID', index='Age_Group', columns=('Diabetic'), aggfunc='count')"
   ]
  },
  {
   "cell_type": "code",
   "execution_count": 216,
   "id": "1d392613",
   "metadata": {},
   "outputs": [
    {
     "data": {
      "text/html": [
       "<div>\n",
       "<style scoped>\n",
       "    .dataframe tbody tr th:only-of-type {\n",
       "        vertical-align: middle;\n",
       "    }\n",
       "\n",
       "    .dataframe tbody tr th {\n",
       "        vertical-align: top;\n",
       "    }\n",
       "\n",
       "    .dataframe thead th {\n",
       "        text-align: right;\n",
       "    }\n",
       "</style>\n",
       "<table border=\"1\" class=\"dataframe\">\n",
       "  <thead>\n",
       "    <tr style=\"text-align: right;\">\n",
       "      <th>Heart_Disease</th>\n",
       "      <th>No</th>\n",
       "      <th>Yes</th>\n",
       "    </tr>\n",
       "    <tr>\n",
       "      <th>Age_Group</th>\n",
       "      <th></th>\n",
       "      <th></th>\n",
       "    </tr>\n",
       "  </thead>\n",
       "  <tbody>\n",
       "    <tr>\n",
       "      <th>18 - 24</th>\n",
       "      <td>51</td>\n",
       "      <td>4</td>\n",
       "    </tr>\n",
       "    <tr>\n",
       "      <th>25 - 30</th>\n",
       "      <td>37</td>\n",
       "      <td>3</td>\n",
       "    </tr>\n",
       "    <tr>\n",
       "      <th>31 - 38</th>\n",
       "      <td>44</td>\n",
       "      <td>8</td>\n",
       "    </tr>\n",
       "    <tr>\n",
       "      <th>39 - 45</th>\n",
       "      <td>52</td>\n",
       "      <td>1</td>\n",
       "    </tr>\n",
       "    <tr>\n",
       "      <th>45 - 55</th>\n",
       "      <td>83</td>\n",
       "      <td>8</td>\n",
       "    </tr>\n",
       "    <tr>\n",
       "      <th>56 - 62</th>\n",
       "      <td>45</td>\n",
       "      <td>6</td>\n",
       "    </tr>\n",
       "    <tr>\n",
       "      <th>63+</th>\n",
       "      <td>123</td>\n",
       "      <td>12</td>\n",
       "    </tr>\n",
       "  </tbody>\n",
       "</table>\n",
       "</div>"
      ],
      "text/plain": [
       "Heart_Disease   No  Yes\n",
       "Age_Group              \n",
       "18 - 24         51    4\n",
       "25 - 30         37    3\n",
       "31 - 38         44    8\n",
       "39 - 45         52    1\n",
       "45 - 55         83    8\n",
       "56 - 62         45    6\n",
       "63+            123   12"
      ]
     },
     "execution_count": 216,
     "metadata": {},
     "output_type": "execute_result"
    }
   ],
   "source": [
    "pd.pivot_table(df_fem, values ='ID', index='Age_Group', columns=('Heart_Disease'), aggfunc='count')"
   ]
  },
  {
   "cell_type": "code",
   "execution_count": 217,
   "id": "2edf03d7",
   "metadata": {},
   "outputs": [
    {
     "data": {
      "text/html": [
       "<div>\n",
       "<style scoped>\n",
       "    .dataframe tbody tr th:only-of-type {\n",
       "        vertical-align: middle;\n",
       "    }\n",
       "\n",
       "    .dataframe tbody tr th {\n",
       "        vertical-align: top;\n",
       "    }\n",
       "\n",
       "    .dataframe thead th {\n",
       "        text-align: right;\n",
       "    }\n",
       "</style>\n",
       "<table border=\"1\" class=\"dataframe\">\n",
       "  <thead>\n",
       "    <tr style=\"text-align: right;\">\n",
       "      <th>Age_Group</th>\n",
       "      <th>18 - 24</th>\n",
       "      <th>25 - 30</th>\n",
       "      <th>31 - 38</th>\n",
       "      <th>39 - 45</th>\n",
       "      <th>45 - 55</th>\n",
       "      <th>56 - 62</th>\n",
       "      <th>63+</th>\n",
       "    </tr>\n",
       "  </thead>\n",
       "  <tbody>\n",
       "    <tr>\n",
       "      <th>Alcohol_Consumption_per_Week</th>\n",
       "      <td>6.0</td>\n",
       "      <td>6.0</td>\n",
       "      <td>6.0</td>\n",
       "      <td>5.0</td>\n",
       "      <td>5.0</td>\n",
       "      <td>6.0</td>\n",
       "      <td>4.0</td>\n",
       "    </tr>\n",
       "    <tr>\n",
       "      <th>Calories_Intake</th>\n",
       "      <td>2520.0</td>\n",
       "      <td>2224.5</td>\n",
       "      <td>2081.5</td>\n",
       "      <td>2403.0</td>\n",
       "      <td>2292.0</td>\n",
       "      <td>2372.0</td>\n",
       "      <td>2391.0</td>\n",
       "    </tr>\n",
       "    <tr>\n",
       "      <th>Daily_Steps</th>\n",
       "      <td>10121.0</td>\n",
       "      <td>11212.0</td>\n",
       "      <td>9708.0</td>\n",
       "      <td>12380.0</td>\n",
       "      <td>9635.0</td>\n",
       "      <td>11160.0</td>\n",
       "      <td>8940.0</td>\n",
       "    </tr>\n",
       "    <tr>\n",
       "      <th>Exercise_Hours_per_Week</th>\n",
       "      <td>4.8</td>\n",
       "      <td>5.0</td>\n",
       "      <td>5.8</td>\n",
       "      <td>5.2</td>\n",
       "      <td>4.9</td>\n",
       "      <td>4.9</td>\n",
       "      <td>4.9</td>\n",
       "    </tr>\n",
       "    <tr>\n",
       "      <th>Hours_of_Sleep</th>\n",
       "      <td>6.9</td>\n",
       "      <td>8.0</td>\n",
       "      <td>6.9</td>\n",
       "      <td>6.7</td>\n",
       "      <td>6.9</td>\n",
       "      <td>7.9</td>\n",
       "      <td>6.4</td>\n",
       "    </tr>\n",
       "  </tbody>\n",
       "</table>\n",
       "</div>"
      ],
      "text/plain": [
       "Age_Group                     18 - 24  25 - 30  31 - 38  39 - 45  45 - 55   \\\n",
       "Alcohol_Consumption_per_Week      6.0      6.0      6.0      5.0       5.0   \n",
       "Calories_Intake                2520.0   2224.5   2081.5   2403.0    2292.0   \n",
       "Daily_Steps                   10121.0  11212.0   9708.0  12380.0    9635.0   \n",
       "Exercise_Hours_per_Week           4.8      5.0      5.8      5.2       4.9   \n",
       "Hours_of_Sleep                    6.9      8.0      6.9      6.7       6.9   \n",
       "\n",
       "Age_Group                     56 - 62     63+  \n",
       "Alcohol_Consumption_per_Week      6.0     4.0  \n",
       "Calories_Intake                2372.0  2391.0  \n",
       "Daily_Steps                   11160.0  8940.0  \n",
       "Exercise_Hours_per_Week           4.9     4.9  \n",
       "Hours_of_Sleep                    7.9     6.4  "
      ]
     },
     "execution_count": 217,
     "metadata": {},
     "output_type": "execute_result"
    }
   ],
   "source": [
    "pd.pivot_table(df_fem, values= ('Daily_Steps', 'Calories_Intake', 'Hours_of_Sleep', 'Exercise_Hours_per_Week', 'Alcohol_Consumption_per_Week'), columns= ('Age_Group'), \n",
    "               aggfunc={'Daily_Steps':'median', 'Calories_Intake':'median', 'Hours_of_Sleep':'median', 'Exercise_Hours_per_Week':'median', 'Alcohol_Consumption_per_Week':'median'}). round(1)"
   ]
  },
  {
   "cell_type": "code",
   "execution_count": 218,
   "id": "e33b85e6",
   "metadata": {},
   "outputs": [
    {
     "data": {
      "text/html": [
       "<div>\n",
       "<style scoped>\n",
       "    .dataframe tbody tr th:only-of-type {\n",
       "        vertical-align: middle;\n",
       "    }\n",
       "\n",
       "    .dataframe tbody tr th {\n",
       "        vertical-align: top;\n",
       "    }\n",
       "\n",
       "    .dataframe thead th {\n",
       "        text-align: right;\n",
       "    }\n",
       "</style>\n",
       "<table border=\"1\" class=\"dataframe\">\n",
       "  <thead>\n",
       "    <tr style=\"text-align: right;\">\n",
       "      <th>Age_Group</th>\n",
       "      <th>18 - 24</th>\n",
       "      <th>25 - 30</th>\n",
       "      <th>31 - 38</th>\n",
       "      <th>39 - 45</th>\n",
       "      <th>45 - 55</th>\n",
       "      <th>56 - 62</th>\n",
       "      <th>63+</th>\n",
       "    </tr>\n",
       "    <tr>\n",
       "      <th>Diabetic</th>\n",
       "      <th></th>\n",
       "      <th></th>\n",
       "      <th></th>\n",
       "      <th></th>\n",
       "      <th></th>\n",
       "      <th></th>\n",
       "      <th></th>\n",
       "    </tr>\n",
       "  </thead>\n",
       "  <tbody>\n",
       "    <tr>\n",
       "      <th>No</th>\n",
       "      <td>10888.0</td>\n",
       "      <td>10878.0</td>\n",
       "      <td>9671.0</td>\n",
       "      <td>12087.0</td>\n",
       "      <td>10275.0</td>\n",
       "      <td>11054.5</td>\n",
       "      <td>8818.5</td>\n",
       "    </tr>\n",
       "    <tr>\n",
       "      <th>Yes</th>\n",
       "      <td>7719.0</td>\n",
       "      <td>17412.5</td>\n",
       "      <td>11165.0</td>\n",
       "      <td>15110.5</td>\n",
       "      <td>8051.0</td>\n",
       "      <td>14158.0</td>\n",
       "      <td>10220.0</td>\n",
       "    </tr>\n",
       "  </tbody>\n",
       "</table>\n",
       "</div>"
      ],
      "text/plain": [
       "Age_Group  18 - 24  25 - 30  31 - 38  39 - 45  45 - 55   56 - 62      63+\n",
       "Diabetic                                                                 \n",
       "No         10888.0  10878.0   9671.0  12087.0   10275.0  11054.5   8818.5\n",
       "Yes         7719.0  17412.5  11165.0  15110.5    8051.0  14158.0  10220.0"
      ]
     },
     "execution_count": 218,
     "metadata": {},
     "output_type": "execute_result"
    }
   ],
   "source": [
    "pd.pivot_table(df_fem, index = ('Diabetic'), values= 'Daily_Steps', columns= ('Age_Group'), \n",
    "               aggfunc={'Daily_Steps':'median'}). round(1)"
   ]
  },
  {
   "cell_type": "code",
   "execution_count": 183,
   "id": "19f9e772",
   "metadata": {},
   "outputs": [
    {
     "data": {
      "text/html": [
       "<div>\n",
       "<style scoped>\n",
       "    .dataframe tbody tr th:only-of-type {\n",
       "        vertical-align: middle;\n",
       "    }\n",
       "\n",
       "    .dataframe tbody tr th {\n",
       "        vertical-align: top;\n",
       "    }\n",
       "\n",
       "    .dataframe thead th {\n",
       "        text-align: right;\n",
       "    }\n",
       "</style>\n",
       "<table border=\"1\" class=\"dataframe\">\n",
       "  <thead>\n",
       "    <tr style=\"text-align: right;\">\n",
       "      <th>Age_Group</th>\n",
       "      <th>18 - 24</th>\n",
       "      <th>25 - 30</th>\n",
       "      <th>31 - 38</th>\n",
       "      <th>39 - 45</th>\n",
       "      <th>45 - 55</th>\n",
       "      <th>56 - 62</th>\n",
       "      <th>63+</th>\n",
       "    </tr>\n",
       "    <tr>\n",
       "      <th>Diabetic</th>\n",
       "      <th></th>\n",
       "      <th></th>\n",
       "      <th></th>\n",
       "      <th></th>\n",
       "      <th></th>\n",
       "      <th></th>\n",
       "      <th></th>\n",
       "    </tr>\n",
       "  </thead>\n",
       "  <tbody>\n",
       "    <tr>\n",
       "      <th>No</th>\n",
       "      <td>4.9</td>\n",
       "      <td>4.8</td>\n",
       "      <td>6.0</td>\n",
       "      <td>5.2</td>\n",
       "      <td>4.3</td>\n",
       "      <td>4.9</td>\n",
       "      <td>4.8</td>\n",
       "    </tr>\n",
       "    <tr>\n",
       "      <th>Yes</th>\n",
       "      <td>3.9</td>\n",
       "      <td>5.5</td>\n",
       "      <td>2.1</td>\n",
       "      <td>5.4</td>\n",
       "      <td>6.0</td>\n",
       "      <td>4.3</td>\n",
       "      <td>5.1</td>\n",
       "    </tr>\n",
       "  </tbody>\n",
       "</table>\n",
       "</div>"
      ],
      "text/plain": [
       "Age_Group  18 - 24  25 - 30  31 - 38  39 - 45  45 - 55   56 - 62  63+\n",
       "Diabetic                                                             \n",
       "No             4.9      4.8      6.0      5.2       4.3      4.9  4.8\n",
       "Yes            3.9      5.5      2.1      5.4       6.0      4.3  5.1"
      ]
     },
     "execution_count": 183,
     "metadata": {},
     "output_type": "execute_result"
    }
   ],
   "source": [
    "pd.pivot_table(df_fem, index = ('Diabetic'), values= 'Exercise_Hours_per_Week', columns= ('Age_Group'), \n",
    "               aggfunc={'Exercise_Hours_per_Week':'median'}). round(1)"
   ]
  },
  {
   "cell_type": "markdown",
   "id": "6d86ef34",
   "metadata": {},
   "source": [
    "### Daily steps e exercício por idade"
   ]
  },
  {
   "cell_type": "code",
   "execution_count": 196,
   "id": "561c4528",
   "metadata": {},
   "outputs": [
    {
     "data": {
      "text/html": [
       "<div>\n",
       "<style scoped>\n",
       "    .dataframe tbody tr th:only-of-type {\n",
       "        vertical-align: middle;\n",
       "    }\n",
       "\n",
       "    .dataframe tbody tr th {\n",
       "        vertical-align: top;\n",
       "    }\n",
       "\n",
       "    .dataframe thead th {\n",
       "        text-align: right;\n",
       "    }\n",
       "</style>\n",
       "<table border=\"1\" class=\"dataframe\">\n",
       "  <thead>\n",
       "    <tr style=\"text-align: right;\">\n",
       "      <th>Age_Group</th>\n",
       "      <th>18 - 24</th>\n",
       "      <th>25 - 30</th>\n",
       "      <th>31 - 38</th>\n",
       "      <th>39 - 45</th>\n",
       "      <th>45 - 55</th>\n",
       "      <th>56 - 62</th>\n",
       "      <th>63+</th>\n",
       "    </tr>\n",
       "  </thead>\n",
       "  <tbody>\n",
       "    <tr>\n",
       "      <th>Daily_Steps</th>\n",
       "      <td>10121.0</td>\n",
       "      <td>11212.0</td>\n",
       "      <td>9708.0</td>\n",
       "      <td>12380.0</td>\n",
       "      <td>9635.0</td>\n",
       "      <td>11160.0</td>\n",
       "      <td>8940.0</td>\n",
       "    </tr>\n",
       "  </tbody>\n",
       "</table>\n",
       "</div>"
      ],
      "text/plain": [
       "Age_Group    18 - 24  25 - 30  31 - 38  39 - 45  45 - 55   56 - 62     63+\n",
       "Daily_Steps  10121.0  11212.0   9708.0  12380.0    9635.0  11160.0  8940.0"
      ]
     },
     "execution_count": 196,
     "metadata": {},
     "output_type": "execute_result"
    }
   ],
   "source": [
    "pd.pivot_table(df_fem, values= 'Daily_Steps', columns= ('Age_Group'), \n",
    "               aggfunc={'Daily_Steps':'median'}). round(1)"
   ]
  },
  {
   "cell_type": "code",
   "execution_count": 195,
   "id": "80faf484",
   "metadata": {},
   "outputs": [
    {
     "data": {
      "text/html": [
       "<div>\n",
       "<style scoped>\n",
       "    .dataframe tbody tr th:only-of-type {\n",
       "        vertical-align: middle;\n",
       "    }\n",
       "\n",
       "    .dataframe tbody tr th {\n",
       "        vertical-align: top;\n",
       "    }\n",
       "\n",
       "    .dataframe thead th {\n",
       "        text-align: right;\n",
       "    }\n",
       "</style>\n",
       "<table border=\"1\" class=\"dataframe\">\n",
       "  <thead>\n",
       "    <tr style=\"text-align: right;\">\n",
       "      <th>Age_Group</th>\n",
       "      <th>18 - 24</th>\n",
       "      <th>25 - 30</th>\n",
       "      <th>31 - 38</th>\n",
       "      <th>39 - 45</th>\n",
       "      <th>45 - 55</th>\n",
       "      <th>56 - 62</th>\n",
       "      <th>63+</th>\n",
       "    </tr>\n",
       "  </thead>\n",
       "  <tbody>\n",
       "    <tr>\n",
       "      <th>Exercise_Hours_per_Week</th>\n",
       "      <td>4.8</td>\n",
       "      <td>5.0</td>\n",
       "      <td>5.8</td>\n",
       "      <td>5.2</td>\n",
       "      <td>4.9</td>\n",
       "      <td>4.9</td>\n",
       "      <td>4.9</td>\n",
       "    </tr>\n",
       "  </tbody>\n",
       "</table>\n",
       "</div>"
      ],
      "text/plain": [
       "Age_Group                18 - 24  25 - 30  31 - 38  39 - 45  45 - 55   \\\n",
       "Exercise_Hours_per_Week      4.8      5.0      5.8      5.2       4.9   \n",
       "\n",
       "Age_Group                56 - 62  63+  \n",
       "Exercise_Hours_per_Week      4.9  4.9  "
      ]
     },
     "execution_count": 195,
     "metadata": {},
     "output_type": "execute_result"
    }
   ],
   "source": [
    "pd.pivot_table(df_fem, values= 'Exercise_Hours_per_Week', columns= ('Age_Group'), \n",
    "               aggfunc={'Exercise_Hours_per_Week':'median'}). round(1)"
   ]
  },
  {
   "cell_type": "markdown",
   "id": "4a88bfdb",
   "metadata": {},
   "source": [
    "### Insights so far\n",
    "* good distribution of people with normal weight, overweight and obese for analysis\n",
    "* For this sample, daily steps does not have a Strong relation to BMI\n",
    "* smoking and obesisty does not seem to affect too much how much people exercise\n",
    "* However heart disease had a negative effect on how much people exercise\n",
    "* While diabetes has a positive impact on how much people exercise"
   ]
  },
  {
   "cell_type": "markdown",
   "id": "1e8f20cb",
   "metadata": {},
   "source": [
    "Analisar por sexo e por faixa de grupo\n",
    "Como o markting é focado mais para mulheres, essa análise focou neste grupo"
   ]
  },
  {
   "cell_type": "code",
   "execution_count": 219,
   "id": "14fa692e",
   "metadata": {},
   "outputs": [
    {
     "data": {
      "text/html": [
       "<div>\n",
       "<style scoped>\n",
       "    .dataframe tbody tr th:only-of-type {\n",
       "        vertical-align: middle;\n",
       "    }\n",
       "\n",
       "    .dataframe tbody tr th {\n",
       "        vertical-align: top;\n",
       "    }\n",
       "\n",
       "    .dataframe thead th {\n",
       "        text-align: right;\n",
       "    }\n",
       "</style>\n",
       "<table border=\"1\" class=\"dataframe\">\n",
       "  <thead>\n",
       "    <tr style=\"text-align: right;\">\n",
       "      <th>BMI_Category</th>\n",
       "      <th>Normal</th>\n",
       "      <th>Obese</th>\n",
       "      <th>Overweight</th>\n",
       "    </tr>\n",
       "  </thead>\n",
       "  <tbody>\n",
       "    <tr>\n",
       "      <th>Exercise_Hours_per_Week</th>\n",
       "      <td>5.0</td>\n",
       "      <td>4.9</td>\n",
       "      <td>5.1</td>\n",
       "    </tr>\n",
       "  </tbody>\n",
       "</table>\n",
       "</div>"
      ],
      "text/plain": [
       "BMI_Category             Normal  Obese  Overweight\n",
       "Exercise_Hours_per_Week     5.0    4.9         5.1"
      ]
     },
     "execution_count": 219,
     "metadata": {},
     "output_type": "execute_result"
    }
   ],
   "source": [
    "pd.pivot_table(df_fem, values= 'Exercise_Hours_per_Week', columns= ('BMI_Category'), \n",
    "               aggfunc={'Exercise_Hours_per_Week':'median'}). round(1)"
   ]
  },
  {
   "cell_type": "code",
   "execution_count": 51,
   "id": "34f2c8a5",
   "metadata": {},
   "outputs": [],
   "source": [
    "female = df[df['Gender']== 'Female']"
   ]
  },
  {
   "cell_type": "code",
   "execution_count": null,
   "id": "4e68df8b",
   "metadata": {},
   "outputs": [
    {
     "data": {
      "text/html": [
       "<div>\n",
       "<style scoped>\n",
       "    .dataframe tbody tr th:only-of-type {\n",
       "        vertical-align: middle;\n",
       "    }\n",
       "\n",
       "    .dataframe tbody tr th {\n",
       "        vertical-align: top;\n",
       "    }\n",
       "\n",
       "    .dataframe thead th {\n",
       "        text-align: right;\n",
       "    }\n",
       "</style>\n",
       "<table border=\"1\" class=\"dataframe\">\n",
       "  <thead>\n",
       "    <tr style=\"text-align: right;\">\n",
       "      <th>Gender</th>\n",
       "      <th>Female</th>\n",
       "      <th>Male</th>\n",
       "    </tr>\n",
       "    <tr>\n",
       "      <th>Exercise_Hours_per_Week</th>\n",
       "      <th></th>\n",
       "      <th></th>\n",
       "    </tr>\n",
       "  </thead>\n",
       "  <tbody>\n",
       "    <tr>\n",
       "      <th>0.0</th>\n",
       "      <td>0</td>\n",
       "      <td>4</td>\n",
       "    </tr>\n",
       "    <tr>\n",
       "      <th>0.1</th>\n",
       "      <td>6</td>\n",
       "      <td>5</td>\n",
       "    </tr>\n",
       "    <tr>\n",
       "      <th>0.2</th>\n",
       "      <td>5</td>\n",
       "      <td>6</td>\n",
       "    </tr>\n",
       "    <tr>\n",
       "      <th>0.3</th>\n",
       "      <td>5</td>\n",
       "      <td>8</td>\n",
       "    </tr>\n",
       "    <tr>\n",
       "      <th>0.4</th>\n",
       "      <td>4</td>\n",
       "      <td>3</td>\n",
       "    </tr>\n",
       "    <tr>\n",
       "      <th>...</th>\n",
       "      <td>...</td>\n",
       "      <td>...</td>\n",
       "    </tr>\n",
       "    <tr>\n",
       "      <th>9.6</th>\n",
       "      <td>3</td>\n",
       "      <td>7</td>\n",
       "    </tr>\n",
       "    <tr>\n",
       "      <th>9.7</th>\n",
       "      <td>4</td>\n",
       "      <td>4</td>\n",
       "    </tr>\n",
       "    <tr>\n",
       "      <th>9.8</th>\n",
       "      <td>4</td>\n",
       "      <td>4</td>\n",
       "    </tr>\n",
       "    <tr>\n",
       "      <th>9.9</th>\n",
       "      <td>6</td>\n",
       "      <td>5</td>\n",
       "    </tr>\n",
       "    <tr>\n",
       "      <th>10.0</th>\n",
       "      <td>0</td>\n",
       "      <td>5</td>\n",
       "    </tr>\n",
       "  </tbody>\n",
       "</table>\n",
       "<p>101 rows × 2 columns</p>\n",
       "</div>"
      ],
      "text/plain": [
       "Gender                   Female  Male\n",
       "Exercise_Hours_per_Week              \n",
       "0.0                           0     4\n",
       "0.1                           6     5\n",
       "0.2                           5     6\n",
       "0.3                           5     8\n",
       "0.4                           4     3\n",
       "...                         ...   ...\n",
       "9.6                           3     7\n",
       "9.7                           4     4\n",
       "9.8                           4     4\n",
       "9.9                           6     5\n",
       "10.0                          0     5\n",
       "\n",
       "[101 rows x 2 columns]"
      ]
     },
     "execution_count": 49,
     "metadata": {},
     "output_type": "execute_result"
    }
   ],
   "source": [
    "associativa = pd.crosstab(\n",
    "    index=[df['Exercise_Hours_per_Week']],\n",
    "    columns=df['Gender']\n",
    ")\n",
    "associativa "
   ]
  },
  {
   "cell_type": "markdown",
   "id": "e88bcf11",
   "metadata": {},
   "source": [
    "Analisar a média de mulheres "
   ]
  },
  {
   "cell_type": "code",
   "execution_count": 52,
   "id": "51c4a041",
   "metadata": {},
   "outputs": [
    {
     "data": {
      "text/html": [
       "<div>\n",
       "<style scoped>\n",
       "    .dataframe tbody tr th:only-of-type {\n",
       "        vertical-align: middle;\n",
       "    }\n",
       "\n",
       "    .dataframe tbody tr th {\n",
       "        vertical-align: top;\n",
       "    }\n",
       "\n",
       "    .dataframe thead th {\n",
       "        text-align: right;\n",
       "    }\n",
       "</style>\n",
       "<table border=\"1\" class=\"dataframe\">\n",
       "  <thead>\n",
       "    <tr style=\"text-align: right;\">\n",
       "      <th>Gender</th>\n",
       "      <th>Female</th>\n",
       "    </tr>\n",
       "    <tr>\n",
       "      <th>Exercise_Hours_per_Week</th>\n",
       "      <th></th>\n",
       "    </tr>\n",
       "  </thead>\n",
       "  <tbody>\n",
       "    <tr>\n",
       "      <th>0.1</th>\n",
       "      <td>6</td>\n",
       "    </tr>\n",
       "    <tr>\n",
       "      <th>0.2</th>\n",
       "      <td>5</td>\n",
       "    </tr>\n",
       "    <tr>\n",
       "      <th>0.3</th>\n",
       "      <td>5</td>\n",
       "    </tr>\n",
       "    <tr>\n",
       "      <th>0.4</th>\n",
       "      <td>4</td>\n",
       "    </tr>\n",
       "    <tr>\n",
       "      <th>0.5</th>\n",
       "      <td>7</td>\n",
       "    </tr>\n",
       "    <tr>\n",
       "      <th>...</th>\n",
       "      <td>...</td>\n",
       "    </tr>\n",
       "    <tr>\n",
       "      <th>9.5</th>\n",
       "      <td>3</td>\n",
       "    </tr>\n",
       "    <tr>\n",
       "      <th>9.6</th>\n",
       "      <td>3</td>\n",
       "    </tr>\n",
       "    <tr>\n",
       "      <th>9.7</th>\n",
       "      <td>4</td>\n",
       "    </tr>\n",
       "    <tr>\n",
       "      <th>9.8</th>\n",
       "      <td>4</td>\n",
       "    </tr>\n",
       "    <tr>\n",
       "      <th>9.9</th>\n",
       "      <td>6</td>\n",
       "    </tr>\n",
       "  </tbody>\n",
       "</table>\n",
       "<p>96 rows × 1 columns</p>\n",
       "</div>"
      ],
      "text/plain": [
       "Gender                   Female\n",
       "Exercise_Hours_per_Week        \n",
       "0.1                           6\n",
       "0.2                           5\n",
       "0.3                           5\n",
       "0.4                           4\n",
       "0.5                           7\n",
       "...                         ...\n",
       "9.5                           3\n",
       "9.6                           3\n",
       "9.7                           4\n",
       "9.8                           4\n",
       "9.9                           6\n",
       "\n",
       "[96 rows x 1 columns]"
      ]
     },
     "execution_count": 52,
     "metadata": {},
     "output_type": "execute_result"
    }
   ],
   "source": [
    "associativa = pd.crosstab(\n",
    "    index=[female['Exercise_Hours_per_Week']],\n",
    "    columns=female['Gender']\n",
    ")\n",
    "associativa "
   ]
  },
  {
   "cell_type": "code",
   "execution_count": 61,
   "id": "3533c5bb",
   "metadata": {},
   "outputs": [
    {
     "data": {
      "text/html": [
       "<div>\n",
       "<style scoped>\n",
       "    .dataframe tbody tr th:only-of-type {\n",
       "        vertical-align: middle;\n",
       "    }\n",
       "\n",
       "    .dataframe tbody tr th {\n",
       "        vertical-align: top;\n",
       "    }\n",
       "\n",
       "    .dataframe thead th {\n",
       "        text-align: right;\n",
       "    }\n",
       "</style>\n",
       "<table border=\"1\" class=\"dataframe\">\n",
       "  <thead>\n",
       "    <tr style=\"text-align: right;\">\n",
       "      <th></th>\n",
       "      <th>ID</th>\n",
       "      <th>Age</th>\n",
       "      <th>Age_Group</th>\n",
       "      <th>Gender</th>\n",
       "      <th>Gender_bool</th>\n",
       "      <th>Height_cm</th>\n",
       "      <th>Weight_kg</th>\n",
       "      <th>BMI</th>\n",
       "      <th>BMI_Category</th>\n",
       "      <th>Daily_Steps</th>\n",
       "      <th>...</th>\n",
       "      <th>Heart_Rate</th>\n",
       "      <th>Blood_Pressure</th>\n",
       "      <th>Exercise_Hours_per_Week</th>\n",
       "      <th>Smoker</th>\n",
       "      <th>Smoker_bool</th>\n",
       "      <th>Alcohol_Consumption_per_Week</th>\n",
       "      <th>Diabetic</th>\n",
       "      <th>Diabetic_bool</th>\n",
       "      <th>Heart_Disease</th>\n",
       "      <th>Heart_Disease_bool</th>\n",
       "    </tr>\n",
       "  </thead>\n",
       "  <tbody>\n",
       "    <tr>\n",
       "      <th>0</th>\n",
       "      <td>1</td>\n",
       "      <td>56</td>\n",
       "      <td>55 - 65</td>\n",
       "      <td>Male</td>\n",
       "      <td>0</td>\n",
       "      <td>164</td>\n",
       "      <td>81</td>\n",
       "      <td>30.72</td>\n",
       "      <td>Obese</td>\n",
       "      <td>5134</td>\n",
       "      <td>...</td>\n",
       "      <td>102</td>\n",
       "      <td>137/72</td>\n",
       "      <td>8.1</td>\n",
       "      <td>No</td>\n",
       "      <td>0</td>\n",
       "      <td>7</td>\n",
       "      <td>No</td>\n",
       "      <td>0</td>\n",
       "      <td>No</td>\n",
       "      <td>0</td>\n",
       "    </tr>\n",
       "    <tr>\n",
       "      <th>1</th>\n",
       "      <td>2</td>\n",
       "      <td>69</td>\n",
       "      <td>66+</td>\n",
       "      <td>Male</td>\n",
       "      <td>0</td>\n",
       "      <td>156</td>\n",
       "      <td>82</td>\n",
       "      <td>20.86</td>\n",
       "      <td>Normal</td>\n",
       "      <td>12803</td>\n",
       "      <td>...</td>\n",
       "      <td>103</td>\n",
       "      <td>129/65</td>\n",
       "      <td>3.7</td>\n",
       "      <td>No</td>\n",
       "      <td>0</td>\n",
       "      <td>7</td>\n",
       "      <td>No</td>\n",
       "      <td>0</td>\n",
       "      <td>No</td>\n",
       "      <td>0</td>\n",
       "    </tr>\n",
       "    <tr>\n",
       "      <th>2</th>\n",
       "      <td>3</td>\n",
       "      <td>46</td>\n",
       "      <td>43 - 54</td>\n",
       "      <td>Female</td>\n",
       "      <td>1</td>\n",
       "      <td>158</td>\n",
       "      <td>65</td>\n",
       "      <td>30.93</td>\n",
       "      <td>Obese</td>\n",
       "      <td>16408</td>\n",
       "      <td>...</td>\n",
       "      <td>74</td>\n",
       "      <td>127/68</td>\n",
       "      <td>3.2</td>\n",
       "      <td>Yes</td>\n",
       "      <td>1</td>\n",
       "      <td>0</td>\n",
       "      <td>No</td>\n",
       "      <td>0</td>\n",
       "      <td>No</td>\n",
       "      <td>0</td>\n",
       "    </tr>\n",
       "  </tbody>\n",
       "</table>\n",
       "<p>3 rows × 22 columns</p>\n",
       "</div>"
      ],
      "text/plain": [
       "   ID  Age Age_Group  Gender  Gender_bool  Height_cm  Weight_kg    BMI  \\\n",
       "0   1   56  55 - 65     Male            0        164         81  30.72   \n",
       "1   2   69       66+    Male            0        156         82  20.86   \n",
       "2   3   46   43 - 54  Female            1        158         65  30.93   \n",
       "\n",
       "  BMI_Category  Daily_Steps  ...  Heart_Rate  Blood_Pressure  \\\n",
       "0        Obese         5134  ...         102          137/72   \n",
       "1       Normal        12803  ...         103          129/65   \n",
       "2        Obese        16408  ...          74          127/68   \n",
       "\n",
       "   Exercise_Hours_per_Week Smoker  Smoker_bool Alcohol_Consumption_per_Week  \\\n",
       "0                      8.1     No            0                            7   \n",
       "1                      3.7     No            0                            7   \n",
       "2                      3.2    Yes            1                            0   \n",
       "\n",
       "   Diabetic  Diabetic_bool Heart_Disease  Heart_Disease_bool  \n",
       "0        No              0            No                   0  \n",
       "1        No              0            No                   0  \n",
       "2        No              0            No                   0  \n",
       "\n",
       "[3 rows x 22 columns]"
      ]
     },
     "execution_count": 61,
     "metadata": {},
     "output_type": "execute_result"
    }
   ],
   "source": [
    "df.head(3)\n"
   ]
  },
  {
   "cell_type": "code",
   "execution_count": 65,
   "id": "fd8084d1",
   "metadata": {},
   "outputs": [
    {
     "data": {
      "text/plain": [
       "BMI_Category\n",
       "Normal        5.088764\n",
       "Obese         4.931548\n",
       "Overweight    4.806870\n",
       "Name: Exercise_Hours_per_Week, dtype: float64"
      ]
     },
     "execution_count": 65,
     "metadata": {},
     "output_type": "execute_result"
    }
   ],
   "source": [
    "# Média de treino por BMI \n",
    "media_por_grupo_female = female.groupby('BMI_Category')['Exercise_Hours_per_Week'].mean()\n",
    "media_por_grupo_female\n"
   ]
  },
  {
   "cell_type": "code",
   "execution_count": 69,
   "id": "1c7bfea1",
   "metadata": {},
   "outputs": [
    {
     "data": {
      "text/plain": [
       "Age_Group\n",
       "18 - 24     5.023636\n",
       "25 - 32     4.907692\n",
       "33 - 42     5.313699\n",
       "43 - 54     4.744762\n",
       "55 - 65     5.041772\n",
       "66+         4.850442\n",
       "Name: Exercise_Hours_per_Week, dtype: float64"
      ]
     },
     "execution_count": 69,
     "metadata": {},
     "output_type": "execute_result"
    }
   ],
   "source": [
    "agrupado_female = female.groupby(['Age_Group'])['Exercise_Hours_per_Week'].mean()\n",
    "agrupado_female"
   ]
  },
  {
   "cell_type": "code",
   "execution_count": null,
   "id": "aad668e1",
   "metadata": {},
   "outputs": [
    {
     "data": {
      "text/plain": [
       "Age_Group  BMI_Category\n",
       "18 - 24    Normal          6.231579\n",
       "           Obese           4.710000\n",
       "           Overweight      3.981250\n",
       "25 - 32    Normal          5.215385\n",
       "           Obese           5.104545\n",
       "           Overweight      4.417647\n",
       "33 - 42    Normal          5.650000\n",
       "           Obese           4.839286\n",
       "           Overweight      5.541176\n",
       "43 - 54    Normal          4.459091\n",
       "           Obese           5.191892\n",
       "           Overweight      4.579167\n",
       "55 - 65    Normal          5.237143\n",
       "           Obese           5.150000\n",
       "           Overweight      4.622727\n",
       "66+        Normal          4.664103\n",
       "           Obese           4.643590\n",
       "           Overweight      5.288571\n",
       "Name: Exercise_Hours_per_Week, dtype: float64"
      ]
     },
     "execution_count": 68,
     "metadata": {},
     "output_type": "execute_result"
    }
   ],
   "source": [
    "agrupado_female = female.groupby(['Age_Group', 'BMI_Category'])['Exercise_Hours_per_Week'].mean()\n",
    "agrupado_female"
   ]
  },
  {
   "cell_type": "code",
   "execution_count": null,
   "id": "ed3d3fd3",
   "metadata": {},
   "outputs": [
    {
     "data": {
      "text/html": [
       "<div>\n",
       "<style scoped>\n",
       "    .dataframe tbody tr th:only-of-type {\n",
       "        vertical-align: middle;\n",
       "    }\n",
       "\n",
       "    .dataframe tbody tr th {\n",
       "        vertical-align: top;\n",
       "    }\n",
       "\n",
       "    .dataframe thead th {\n",
       "        text-align: right;\n",
       "    }\n",
       "</style>\n",
       "<table border=\"1\" class=\"dataframe\">\n",
       "  <thead>\n",
       "    <tr style=\"text-align: right;\">\n",
       "      <th>Heart_Disease</th>\n",
       "      <th>No</th>\n",
       "      <th>Yes</th>\n",
       "    </tr>\n",
       "    <tr>\n",
       "      <th>Age_Group</th>\n",
       "      <th></th>\n",
       "      <th></th>\n",
       "    </tr>\n",
       "  </thead>\n",
       "  <tbody>\n",
       "    <tr>\n",
       "      <th>18 - 24</th>\n",
       "      <td>51</td>\n",
       "      <td>4</td>\n",
       "    </tr>\n",
       "    <tr>\n",
       "      <th>25 - 32</th>\n",
       "      <td>49</td>\n",
       "      <td>3</td>\n",
       "    </tr>\n",
       "    <tr>\n",
       "      <th>33 - 42</th>\n",
       "      <td>64</td>\n",
       "      <td>9</td>\n",
       "    </tr>\n",
       "    <tr>\n",
       "      <th>43 - 54</th>\n",
       "      <td>97</td>\n",
       "      <td>8</td>\n",
       "    </tr>\n",
       "    <tr>\n",
       "      <th>55 - 65</th>\n",
       "      <td>71</td>\n",
       "      <td>8</td>\n",
       "    </tr>\n",
       "    <tr>\n",
       "      <th>66+</th>\n",
       "      <td>103</td>\n",
       "      <td>10</td>\n",
       "    </tr>\n",
       "  </tbody>\n",
       "</table>\n",
       "</div>"
      ],
      "text/plain": [
       "Heart_Disease   No  Yes\n",
       "Age_Group              \n",
       "18 - 24         51    4\n",
       "25 - 32         49    3\n",
       "33 - 42         64    9\n",
       "43 - 54         97    8\n",
       "55 - 65         71    8\n",
       "66+            103   10"
      ]
     },
     "execution_count": 72,
     "metadata": {},
     "output_type": "execute_result"
    }
   ],
   "source": [
    "# problemas de coração por grupo \n",
    "associativa_2 = pd.crosstab(\n",
    "    index=[female['Age_Group']], \n",
    "    columns=female['Heart_Disease']\n",
    ")\n",
    "associativa_2\n"
   ]
  },
  {
   "cell_type": "code",
   "execution_count": 83,
   "id": "88c29c94",
   "metadata": {},
   "outputs": [
    {
     "data": {
      "text/plain": [
       "Age_Group  Heart_Disease\n",
       "18 - 24    No               4.760784\n",
       "           Yes              8.375000\n",
       "25 - 32    No               4.879592\n",
       "           Yes              5.366667\n",
       "33 - 42    No               5.376563\n",
       "           Yes              4.866667\n",
       "43 - 54    No               4.740206\n",
       "           Yes              4.800000\n",
       "55 - 65    No               5.095775\n",
       "           Yes              4.562500\n",
       "66+        No               4.868932\n",
       "           Yes              4.660000\n",
       "Name: Exercise_Hours_per_Week, dtype: float64"
      ]
     },
     "execution_count": 83,
     "metadata": {},
     "output_type": "execute_result"
    }
   ],
   "source": [
    "# Será que mulhere que tem problemas de coração tende se exercita menos ?\n",
    "agrupado_female = female.groupby(['Age_Group', 'Heart_Disease'])['Exercise_Hours_per_Week'].mean()\n",
    "agrupado_female"
   ]
  },
  {
   "cell_type": "markdown",
   "id": "1c8a08f0",
   "metadata": {},
   "source": [
    "### Mulheres com 18 - 24 anos que tem problemas cardiacos tende a se excercita mais a média de treino, bem a mais do que quando não tem \n",
    "\n",
    "* proposta de markting \n",
    "  - Markting para mulheres 18 24 anos e sugerir fibit para elas, especialmente se existe alguma funcionalidade que controle batimentos cardiacos, algo que colabore para treino e controle para esse grupo, visto que é um grupo que tem uma média de exercicios alta quando tem problemas de coração\n",
    "\n",
    "  * Se for analisar, acontece o oposto com mulheres da faixa etaria bem mais velha\n",
    "  "
   ]
  },
  {
   "cell_type": "code",
   "execution_count": null,
   "id": "f730cd08",
   "metadata": {},
   "outputs": [
    {
     "data": {
      "text/html": [
       "<div>\n",
       "<style scoped>\n",
       "    .dataframe tbody tr th:only-of-type {\n",
       "        vertical-align: middle;\n",
       "    }\n",
       "\n",
       "    .dataframe tbody tr th {\n",
       "        vertical-align: top;\n",
       "    }\n",
       "\n",
       "    .dataframe thead th {\n",
       "        text-align: right;\n",
       "    }\n",
       "</style>\n",
       "<table border=\"1\" class=\"dataframe\">\n",
       "  <thead>\n",
       "    <tr style=\"text-align: right;\">\n",
       "      <th>Smoker</th>\n",
       "      <th>No</th>\n",
       "      <th>Yes</th>\n",
       "    </tr>\n",
       "    <tr>\n",
       "      <th>Age_Group</th>\n",
       "      <th></th>\n",
       "      <th></th>\n",
       "    </tr>\n",
       "  </thead>\n",
       "  <tbody>\n",
       "    <tr>\n",
       "      <th>18 - 24</th>\n",
       "      <td>43</td>\n",
       "      <td>12</td>\n",
       "    </tr>\n",
       "    <tr>\n",
       "      <th>25 - 32</th>\n",
       "      <td>42</td>\n",
       "      <td>10</td>\n",
       "    </tr>\n",
       "    <tr>\n",
       "      <th>33 - 42</th>\n",
       "      <td>61</td>\n",
       "      <td>12</td>\n",
       "    </tr>\n",
       "    <tr>\n",
       "      <th>43 - 54</th>\n",
       "      <td>80</td>\n",
       "      <td>25</td>\n",
       "    </tr>\n",
       "    <tr>\n",
       "      <th>55 - 65</th>\n",
       "      <td>64</td>\n",
       "      <td>15</td>\n",
       "    </tr>\n",
       "    <tr>\n",
       "      <th>66+</th>\n",
       "      <td>91</td>\n",
       "      <td>22</td>\n",
       "    </tr>\n",
       "  </tbody>\n",
       "</table>\n",
       "</div>"
      ],
      "text/plain": [
       "Smoker     No  Yes\n",
       "Age_Group         \n",
       "18 - 24    43   12\n",
       "25 - 32    42   10\n",
       "33 - 42    61   12\n",
       "43 - 54    80   25\n",
       "55 - 65    64   15\n",
       "66+        91   22"
      ]
     },
     "execution_count": 75,
     "metadata": {},
     "output_type": "execute_result"
    }
   ],
   "source": [
    "# Fumante por grupo \n",
    "associativa_4 = pd.crosstab(\n",
    "    index=[female['Age_Group']], \n",
    "    columns=female['Smoker']\n",
    ")\n",
    "associativa_4"
   ]
  },
  {
   "cell_type": "code",
   "execution_count": null,
   "id": "42a42aa2",
   "metadata": {},
   "outputs": [
    {
     "data": {
      "text/plain": [
       "Age_Group\n",
       "18 - 24     5.109091\n",
       "25 - 32     5.307692\n",
       "33 - 42     5.301370\n",
       "43 - 54     4.514286\n",
       "55 - 65     5.113924\n",
       "66+         4.168142\n",
       "Name: Alcohol_Consumption_per_Week, dtype: float64"
      ]
     },
     "execution_count": 77,
     "metadata": {},
     "output_type": "execute_result"
    }
   ],
   "source": [
    "# Consumo de alcool por grupo \n",
    "agrupado_female = female.groupby(['Age_Group'])['Alcohol_Consumption_per_Week'].mean()\n",
    "agrupado_female"
   ]
  },
  {
   "cell_type": "code",
   "execution_count": null,
   "id": "d363203e",
   "metadata": {},
   "outputs": [
    {
     "data": {
      "text/html": [
       "<div>\n",
       "<style scoped>\n",
       "    .dataframe tbody tr th:only-of-type {\n",
       "        vertical-align: middle;\n",
       "    }\n",
       "\n",
       "    .dataframe tbody tr th {\n",
       "        vertical-align: top;\n",
       "    }\n",
       "\n",
       "    .dataframe thead th {\n",
       "        text-align: right;\n",
       "    }\n",
       "</style>\n",
       "<table border=\"1\" class=\"dataframe\">\n",
       "  <thead>\n",
       "    <tr style=\"text-align: right;\">\n",
       "      <th>Age_Group</th>\n",
       "      <th>18 - 24</th>\n",
       "      <th>25 - 32</th>\n",
       "      <th>33 - 42</th>\n",
       "      <th>43 - 54</th>\n",
       "      <th>55 - 65</th>\n",
       "      <th>66+</th>\n",
       "    </tr>\n",
       "    <tr>\n",
       "      <th>BMI_Category</th>\n",
       "      <th></th>\n",
       "      <th></th>\n",
       "      <th></th>\n",
       "      <th></th>\n",
       "      <th></th>\n",
       "      <th></th>\n",
       "    </tr>\n",
       "  </thead>\n",
       "  <tbody>\n",
       "    <tr>\n",
       "      <th>Normal</th>\n",
       "      <td>19</td>\n",
       "      <td>13</td>\n",
       "      <td>28</td>\n",
       "      <td>44</td>\n",
       "      <td>35</td>\n",
       "      <td>39</td>\n",
       "    </tr>\n",
       "    <tr>\n",
       "      <th>Obese</th>\n",
       "      <td>20</td>\n",
       "      <td>22</td>\n",
       "      <td>28</td>\n",
       "      <td>37</td>\n",
       "      <td>22</td>\n",
       "      <td>39</td>\n",
       "    </tr>\n",
       "    <tr>\n",
       "      <th>Overweight</th>\n",
       "      <td>16</td>\n",
       "      <td>17</td>\n",
       "      <td>17</td>\n",
       "      <td>24</td>\n",
       "      <td>22</td>\n",
       "      <td>35</td>\n",
       "      <th>BMI_Category</th>\n",
       "      <th>Normal</th>\n",
       "      <th>Obese</th>\n",
       "      <th>Overweight</th>\n",
       "    </tr>\n",
       "  </thead>\n",
       "  <tbody>\n",
       "    <tr>\n",
       "      <th>Daily_Steps</th>\n",
       "      <td>10458.0</td>\n",
       "      <td>10611.5</td>\n",
       "      <td>8954.0</td>\n",
       "    </tr>\n",
       "  </tbody>\n",
       "</table>\n",
       "</div>"
      ],
      "text/plain": [
       "Age_Group     18 - 24  25 - 32  33 - 42  43 - 54  55 - 65   66+\n",
       "BMI_Category                                                   \n",
       "Normal             19       13       28       44        35   39\n",
       "Obese              20       22       28       37        22   39\n",
       "Overweight         16       17       17       24        22   35"
      ]
     },
     "execution_count": null,
     "metadata": {},
     "output_type": "execute_result"
    }
   ],
   "source": [
    "# BMI por grupo\n",
    "associativa_5 = pd.crosstab(\n",
    "    index=[female['BMI_Category']], \n",
    "    columns=female['Age_Group']\n",
    ")\n",
    "associativa_5\n"
   ]
  },
  {
   "cell_type": "markdown",
   "id": "0bbc6f3c",
   "metadata": {},
   "source": [
    "Observações.\n",
    "Como há mais pessoas com sobrepeso e obesa  entre 43 - 54  e 66 a média de treino delas \n",
    "está proxima da média de treino dos grupos que tem menos obesos da méia de treino dessas pessoas que tem obsidade\n",
    "Mesmo o grupo de 18 - 24 anos ter menos pessoas com peso normal, elas tem uma média maior de treino.\n",
    "Então pessoas dessa faixa etária tendem a se exercita mais, isso influência em ter pessoas com menoso sobrepreso e obsidade ? provavelmente, já que essas pessoas da faixa etária 43 - 54 mais e 66 + quase não possuo problemas de coração. "
   ]
  },
  {
   "cell_type": "markdown",
   "id": "5662891d",
   "metadata": {},
   "source": [
    "Analisando a quantidade de pessoas que fuma e a média de consumo de algo por semana, ver que entre os grupos não tem uma diferença tão grande. \n",
    "\n",
    "Mesmo tendo pessoas com peso normal maior na faixa 43 - 54, 66 + essas pessoas mulheres nesta faixa se exercitam menos, o que pode influência na quantidade de sobrepreso e obsidade.  Consumo de alcool e quantidade fumante não é tão desproporcional analisando pelo grupo e questão de problema de coração também.\n",
    "\n",
    "Então, por que esse grupo quando tem peso normal tem uma média de se exercita menor, mulhres de 43 - 54 e 66 +. menos tendo maior quantidade delas de peso normal, se exercitam um pouco menos que 18 - 24"
   ]
  },
  {
   "cell_type": "code",
   "execution_count": 191,
   "id": "90e212f0",
   "metadata": {},
   "outputs": [
    {
     "data": {
      "text/html": [
       "<div>\n",
       "<style scoped>\n",
       "    .dataframe tbody tr th:only-of-type {\n",
       "        vertical-align: middle;\n",
       "    }\n",
       "\n",
       "    .dataframe tbody tr th {\n",
       "        vertical-align: top;\n",
       "    }\n",
       "\n",
       "    .dataframe thead th {\n",
       "        text-align: right;\n",
       "    }\n",
       "</style>\n",
       "<table border=\"1\" class=\"dataframe\">\n",
       "  <thead>\n",
       "    <tr style=\"text-align: right;\">\n",
       "      <th>BMI_Category</th>\n",
       "      <th>Normal</th>\n",
       "      <th>Obese</th>\n",
       "      <th>Overweight</th>\n",
       "    </tr>\n",
       "    <tr>\n",
       "      <th>Diabetic</th>\n",
       "      <th></th>\n",
       "      <th></th>\n",
       "      <th></th>\n",
       "    </tr>\n",
       "  </thead>\n",
       "  <tbody>\n",
       "    <tr>\n",
       "      <th>No</th>\n",
       "      <td>5.3</td>\n",
       "      <td>4.6</td>\n",
       "      <td>4.8</td>\n",
       "    </tr>\n",
       "    <tr>\n",
       "      <th>Yes</th>\n",
       "      <td>3.9</td>\n",
       "      <td>6.0</td>\n",
       "      <td>5.2</td>\n",
       "    </tr>\n",
       "  </tbody>\n",
       "</table>\n",
       "</div>"
      ],
      "text/plain": [
       "BMI_Category  Normal  Obese  Overweight\n",
       "Diabetic                               \n",
       "No               5.3    4.6         4.8\n",
       "Yes              3.9    6.0         5.2"
      ]
     },
     "execution_count": 191,
     "metadata": {},
     "output_type": "execute_result"
    }
   ],
   "source": [
    "pd.pivot_table(df_fem, values= 'Exercise_Hours_per_Week',index= 'Diabetic', columns= ('BMI_Category'), \n",
    "               aggfunc={'Exercise_Hours_per_Week':'median'}). round(1)"
   ]
  },
  {
   "cell_type": "code",
   "execution_count": 192,
   "id": "59f67e8f",
   "metadata": {},
   "outputs": [
    {
     "data": {
      "text/html": [
       "<div>\n",
       "<style scoped>\n",
       "    .dataframe tbody tr th:only-of-type {\n",
       "        vertical-align: middle;\n",
       "    }\n",
       "\n",
       "    .dataframe tbody tr th {\n",
       "        vertical-align: top;\n",
       "    }\n",
       "\n",
       "    .dataframe thead th {\n",
       "        text-align: right;\n",
       "    }\n",
       "</style>\n",
       "<table border=\"1\" class=\"dataframe\">\n",
       "  <thead>\n",
       "    <tr style=\"text-align: right;\">\n",
       "      <th>BMI_Category</th>\n",
       "      <th>Normal</th>\n",
       "      <th>Obese</th>\n",
       "      <th>Overweight</th>\n",
       "    </tr>\n",
       "    <tr>\n",
       "      <th>Heart_Disease</th>\n",
       "      <th></th>\n",
       "      <th></th>\n",
       "      <th></th>\n",
       "    </tr>\n",
       "  </thead>\n",
       "  <tbody>\n",
       "    <tr>\n",
       "      <th>No</th>\n",
       "      <td>5.1</td>\n",
       "      <td>4.9</td>\n",
       "      <td>5.1</td>\n",
       "    </tr>\n",
       "    <tr>\n",
       "      <th>Yes</th>\n",
       "      <td>4.9</td>\n",
       "      <td>4.5</td>\n",
       "      <td>5.9</td>\n",
       "    </tr>\n",
       "  </tbody>\n",
       "</table>\n",
       "</div>"
      ],
      "text/plain": [
       "BMI_Category   Normal  Obese  Overweight\n",
       "Heart_Disease                           \n",
       "No                5.1    4.9         5.1\n",
       "Yes               4.9    4.5         5.9"
      ]
     },
     "execution_count": 192,
     "metadata": {},
     "output_type": "execute_result"
    }
   ],
   "source": [
    "pd.pivot_table(df_fem, values= 'Exercise_Hours_per_Week',index= 'Heart_Disease', columns= ('BMI_Category'), \n",
    "               aggfunc={'Exercise_Hours_per_Week':'median'}). round(1)"
   ]
  },
  {
   "cell_type": "code",
   "execution_count": 193,
   "id": "9ca6ae8e",
   "metadata": {},
   "outputs": [
    {
     "data": {
      "text/html": [
       "<div>\n",
       "<style scoped>\n",
       "    .dataframe tbody tr th:only-of-type {\n",
       "        vertical-align: middle;\n",
       "    }\n",
       "\n",
       "    .dataframe tbody tr th {\n",
       "        vertical-align: top;\n",
       "    }\n",
       "\n",
       "    .dataframe thead th {\n",
       "        text-align: right;\n",
       "    }\n",
       "</style>\n",
       "<table border=\"1\" class=\"dataframe\">\n",
       "  <thead>\n",
       "    <tr style=\"text-align: right;\">\n",
       "      <th>BMI_Category</th>\n",
       "      <th>Normal</th>\n",
       "      <th>Obese</th>\n",
       "      <th>Overweight</th>\n",
       "    </tr>\n",
       "    <tr>\n",
       "      <th>Heart_Disease</th>\n",
       "      <th></th>\n",
       "      <th></th>\n",
       "      <th></th>\n",
       "    </tr>\n",
       "  </thead>\n",
       "  <tbody>\n",
       "    <tr>\n",
       "      <th>No</th>\n",
       "      <td>10454.0</td>\n",
       "      <td>10497.0</td>\n",
       "      <td>8954.0</td>\n",
       "    </tr>\n",
       "    <tr>\n",
       "      <th>Yes</th>\n",
       "      <td>11361.0</td>\n",
       "      <td>11589.0</td>\n",
       "      <td>8347.0</td>\n",
       "    </tr>\n",
       "  </tbody>\n",
       "</table>\n",
       "</div>"
      ],
      "text/plain": [
       "BMI_Category    Normal    Obese  Overweight\n",
       "Heart_Disease                              \n",
       "No             10454.0  10497.0      8954.0\n",
       "Yes            11361.0  11589.0      8347.0"
      ]
     },
     "execution_count": 193,
     "metadata": {},
     "output_type": "execute_result"
    }
   ],
   "source": [
    "pd.pivot_table(df_fem, values= 'Daily_Steps',index= 'Heart_Disease', columns= ('BMI_Category'), \n",
    "               aggfunc={'Daily_Steps':'median'}). round(1)"
   ]
  },
  {
   "cell_type": "code",
   "execution_count": 1,
   "id": "ade98d46",
   "metadata": {},
   "outputs": [],
   "source": [
    "# finalizado"
   ]
  }
 ],
 "metadata": {
  "kernelspec": {
   "display_name": "Python 3",
   "language": "python",
   "name": "python3"
  },
  "language_info": {
   "codemirror_mode": {
    "name": "ipython",
    "version": 3
   },
   "file_extension": ".py",
   "mimetype": "text/x-python",
   "name": "python",
   "nbconvert_exporter": "python",
   "pygments_lexer": "ipython3",
   "version": "3.13.2"
  }
 },
 "nbformat": 4,
 "nbformat_minor": 5
}
