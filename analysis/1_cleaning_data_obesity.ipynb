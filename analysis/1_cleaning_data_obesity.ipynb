{
 "cells": [
  {
   "cell_type": "markdown",
   "id": "1c970146",
   "metadata": {},
   "source": [
    "Limpeza e reestruturação dos dados do dataset obesity"
   ]
  },
  {
   "cell_type": "code",
   "execution_count": 2,
   "id": "e6889e45",
   "metadata": {},
   "outputs": [],
   "source": [
    "import pandas as pd"
   ]
  },
  {
   "cell_type": "code",
   "execution_count": 72,
   "id": "6352a63d",
   "metadata": {},
   "outputs": [],
   "source": [
    "df = pd.read_csv('D:/python/bellabeat-analysis/database/obesity-data/obesity_new.csv')"
   ]
  },
  {
   "cell_type": "code",
   "execution_count": 88,
   "id": "d32a81a7",
   "metadata": {},
   "outputs": [
    {
     "data": {
      "text/html": [
       "<div>\n",
       "<style scoped>\n",
       "    .dataframe tbody tr th:only-of-type {\n",
       "        vertical-align: middle;\n",
       "    }\n",
       "\n",
       "    .dataframe tbody tr th {\n",
       "        vertical-align: top;\n",
       "    }\n",
       "\n",
       "    .dataframe thead th {\n",
       "        text-align: right;\n",
       "    }\n",
       "</style>\n",
       "<table border=\"1\" class=\"dataframe\">\n",
       "  <thead>\n",
       "    <tr style=\"text-align: right;\">\n",
       "      <th></th>\n",
       "      <th>gender</th>\n",
       "      <th>age</th>\n",
       "      <th>overweight_family_history</th>\n",
       "      <th>caloric_food_intake</th>\n",
       "      <th>vegetable_intake</th>\n",
       "      <th>meal_count</th>\n",
       "      <th>food_between_meals</th>\n",
       "      <th>smoking</th>\n",
       "      <th>water_intake</th>\n",
       "      <th>calorie_monitoring</th>\n",
       "      <th>physical_activity</th>\n",
       "      <th>screen_time</th>\n",
       "      <th>CALC</th>\n",
       "      <th>automobile</th>\n",
       "      <th>bike</th>\n",
       "      <th>motorbike</th>\n",
       "      <th>public_transit</th>\n",
       "      <th>walking</th>\n",
       "      <th>obesity_level</th>\n",
       "    </tr>\n",
       "  </thead>\n",
       "  <tbody>\n",
       "    <tr>\n",
       "      <th>0</th>\n",
       "      <td>Female</td>\n",
       "      <td>21</td>\n",
       "      <td>Yes</td>\n",
       "      <td>No</td>\n",
       "      <td>2</td>\n",
       "      <td>3</td>\n",
       "      <td>1</td>\n",
       "      <td>No</td>\n",
       "      <td>2</td>\n",
       "      <td>No</td>\n",
       "      <td>0</td>\n",
       "      <td>1</td>\n",
       "      <td>0</td>\n",
       "      <td>0</td>\n",
       "      <td>0</td>\n",
       "      <td>0</td>\n",
       "      <td>1</td>\n",
       "      <td>0</td>\n",
       "      <td>0</td>\n",
       "    </tr>\n",
       "    <tr>\n",
       "      <th>1</th>\n",
       "      <td>Female</td>\n",
       "      <td>21</td>\n",
       "      <td>Yes</td>\n",
       "      <td>No</td>\n",
       "      <td>3</td>\n",
       "      <td>3</td>\n",
       "      <td>1</td>\n",
       "      <td>Yes</td>\n",
       "      <td>3</td>\n",
       "      <td>Yes</td>\n",
       "      <td>3</td>\n",
       "      <td>0</td>\n",
       "      <td>1</td>\n",
       "      <td>0</td>\n",
       "      <td>0</td>\n",
       "      <td>0</td>\n",
       "      <td>1</td>\n",
       "      <td>0</td>\n",
       "      <td>0</td>\n",
       "    </tr>\n",
       "    <tr>\n",
       "      <th>2</th>\n",
       "      <td>Male</td>\n",
       "      <td>23</td>\n",
       "      <td>Yes</td>\n",
       "      <td>No</td>\n",
       "      <td>2</td>\n",
       "      <td>3</td>\n",
       "      <td>1</td>\n",
       "      <td>No</td>\n",
       "      <td>2</td>\n",
       "      <td>No</td>\n",
       "      <td>2</td>\n",
       "      <td>1</td>\n",
       "      <td>2</td>\n",
       "      <td>0</td>\n",
       "      <td>0</td>\n",
       "      <td>0</td>\n",
       "      <td>1</td>\n",
       "      <td>0</td>\n",
       "      <td>0</td>\n",
       "    </tr>\n",
       "    <tr>\n",
       "      <th>3</th>\n",
       "      <td>Male</td>\n",
       "      <td>27</td>\n",
       "      <td>No</td>\n",
       "      <td>No</td>\n",
       "      <td>3</td>\n",
       "      <td>3</td>\n",
       "      <td>1</td>\n",
       "      <td>No</td>\n",
       "      <td>2</td>\n",
       "      <td>No</td>\n",
       "      <td>2</td>\n",
       "      <td>0</td>\n",
       "      <td>2</td>\n",
       "      <td>0</td>\n",
       "      <td>0</td>\n",
       "      <td>0</td>\n",
       "      <td>0</td>\n",
       "      <td>1</td>\n",
       "      <td>0</td>\n",
       "    </tr>\n",
       "    <tr>\n",
       "      <th>4</th>\n",
       "      <td>Male</td>\n",
       "      <td>22</td>\n",
       "      <td>No</td>\n",
       "      <td>No</td>\n",
       "      <td>2</td>\n",
       "      <td>1</td>\n",
       "      <td>1</td>\n",
       "      <td>No</td>\n",
       "      <td>2</td>\n",
       "      <td>No</td>\n",
       "      <td>0</td>\n",
       "      <td>0</td>\n",
       "      <td>1</td>\n",
       "      <td>0</td>\n",
       "      <td>0</td>\n",
       "      <td>0</td>\n",
       "      <td>1</td>\n",
       "      <td>0</td>\n",
       "      <td>0</td>\n",
       "    </tr>\n",
       "  </tbody>\n",
       "</table>\n",
       "</div>"
      ],
      "text/plain": [
       "   gender age overweight_family_history caloric_food_intake vegetable_intake  \\\n",
       "0  Female  21                       Yes                  No                2   \n",
       "1  Female  21                       Yes                  No                3   \n",
       "2    Male  23                       Yes                  No                2   \n",
       "3    Male  27                        No                  No                3   \n",
       "4    Male  22                        No                  No                2   \n",
       "\n",
       "  meal_count  food_between_meals smoking water_intake calorie_monitoring  \\\n",
       "0          3                   1      No            2                 No   \n",
       "1          3                   1     Yes            3                Yes   \n",
       "2          3                   1      No            2                 No   \n",
       "3          3                   1      No            2                 No   \n",
       "4          1                   1      No            2                 No   \n",
       "\n",
       "  physical_activity screen_time  CALC  automobile  bike  motorbike  \\\n",
       "0                 0           1     0           0     0          0   \n",
       "1                 3           0     1           0     0          0   \n",
       "2                 2           1     2           0     0          0   \n",
       "3                 2           0     2           0     0          0   \n",
       "4                 0           0     1           0     0          0   \n",
       "\n",
       "   public_transit  walking  obesity_level  \n",
       "0               1        0              0  \n",
       "1               1        0              0  \n",
       "2               1        0              0  \n",
       "3               0        1              0  \n",
       "4               1        0              0  "
      ]
     },
     "execution_count": 88,
     "metadata": {},
     "output_type": "execute_result"
    }
   ],
   "source": [
    "df.head()"
   ]
  },
  {
   "cell_type": "markdown",
   "id": "602e8516",
   "metadata": {},
   "source": [
    "renomeando colunas com base nas siglas e informações do dataset"
   ]
  },
  {
   "cell_type": "code",
   "execution_count": 73,
   "id": "1881cf19",
   "metadata": {},
   "outputs": [],
   "source": [
    "df = df.rename(columns= {'Gender':'gender', 'family_history_with_overweight':'overweight_family_history' ,'Age':'age', 'FAVC':'caloric_food_intake', 'FCVC':'vegetable_intake', 'NCP':'meal_count', 'CAEC':'food_between_meals', 'SMOKE':'smoking', 'CH2O':'water_intake', 'SCC':'calorie_monitoring', 'FAF':'physical_activity', 'TUE':'screen_time', 'Automobile':'automobile', 'Bike':'bike', 'Motorbike':'motorbike', 'Public_Transportation':'public_transit', 'Walking':'walking', 'NObeyesdad':'obesity_level' })"
   ]
  },
  {
   "cell_type": "markdown",
   "id": "8f3c3ae1",
   "metadata": {},
   "source": [
    "renomear atributos das colunas"
   ]
  },
  {
   "cell_type": "code",
   "execution_count": 74,
   "id": "64814032",
   "metadata": {},
   "outputs": [],
   "source": [
    "def rename_gender(gender):\n",
    "    if gender == 0:\n",
    "        return 'Female'\n",
    "    else:\n",
    "        return 'Male'"
   ]
  },
  {
   "cell_type": "code",
   "execution_count": 75,
   "id": "08074fe6",
   "metadata": {},
   "outputs": [],
   "source": [
    "df['gender'] = df['gender'].apply(rename_gender)"
   ]
  },
  {
   "cell_type": "code",
   "execution_count": 76,
   "id": "65fc53c2",
   "metadata": {},
   "outputs": [],
   "source": [
    "def rename_bool_data(data):\n",
    "    if data == 0:\n",
    "        return 'No'\n",
    "    else:\n",
    "        return 'Yes'"
   ]
  },
  {
   "cell_type": "code",
   "execution_count": 77,
   "id": "09a16aa1",
   "metadata": {},
   "outputs": [],
   "source": [
    "df['overweight_family_history'] = df['overweight_family_history'].apply(rename_bool_data)"
   ]
  },
  {
   "cell_type": "code",
   "execution_count": 78,
   "id": "4cc3ce12",
   "metadata": {},
   "outputs": [],
   "source": [
    "df['caloric_food_intake'] = df['caloric_food_intake'].apply(rename_bool_data)"
   ]
  },
  {
   "cell_type": "code",
   "execution_count": 79,
   "id": "8b04c192",
   "metadata": {},
   "outputs": [],
   "source": [
    "df['smoking'] = df['smoking'].apply(rename_bool_data)"
   ]
  },
  {
   "cell_type": "code",
   "execution_count": 80,
   "id": "656f14c6",
   "metadata": {},
   "outputs": [],
   "source": [
    "df['calorie_monitoring'] = df['calorie_monitoring'].apply(rename_bool_data)"
   ]
  },
  {
   "cell_type": "code",
   "execution_count": 89,
   "id": "e3600f1a",
   "metadata": {},
   "outputs": [],
   "source": [
    "df.to_csv('D:/python/bellabeat-analysis/database/obesity-data/cleaned_data_obesity.csv', index = False)"
   ]
  },
  {
   "cell_type": "code",
   "execution_count": 83,
   "id": "c0885f00",
   "metadata": {},
   "outputs": [
    {
     "data": {
      "text/plain": [
       "Series([], Name: count, dtype: int64)"
      ]
     },
     "execution_count": 83,
     "metadata": {},
     "output_type": "execute_result"
    }
   ],
   "source": [
    "df[~df['vegetable_intake'].isin(['1', '2', '3'])]['vegetable_intake'].value_counts()"
   ]
  },
  {
   "cell_type": "code",
   "execution_count": 82,
   "id": "1738f36e",
   "metadata": {},
   "outputs": [],
   "source": [
    "df['vegetable_intake'] = df['vegetable_intake'].str[:1]"
   ]
  },
  {
   "cell_type": "code",
   "execution_count": 84,
   "id": "567c1bfd",
   "metadata": {},
   "outputs": [
    {
     "data": {
      "text/plain": [
       "vegetable_intake\n",
       "2    1257\n",
       "3     652\n",
       "1     202\n",
       "Name: count, dtype: int64"
      ]
     },
     "execution_count": 84,
     "metadata": {},
     "output_type": "execute_result"
    }
   ],
   "source": [
    "df['vegetable_intake'].value_counts()"
   ]
  },
  {
   "cell_type": "code",
   "execution_count": 85,
   "id": "9eaacc45",
   "metadata": {},
   "outputs": [
    {
     "data": {
      "text/plain": [
       "physical_activity\n",
       "110.174      2\n",
       "520.407      2\n",
       "1.252.472    2\n",
       "1.067.817    2\n",
       "2.892.922    2\n",
       "            ..\n",
       "1.412.357    1\n",
       "300.964      1\n",
       "115.369      1\n",
       "43.101       1\n",
       "319.156      1\n",
       "Name: count, Length: 1185, dtype: int64"
      ]
     },
     "execution_count": 85,
     "metadata": {},
     "output_type": "execute_result"
    }
   ],
   "source": [
    "df[~df['physical_activity'].isin(['0', '1', '2', '3'])]['physical_activity'].value_counts()"
   ]
  },
  {
   "cell_type": "code",
   "execution_count": 86,
   "id": "ecfc1d9f",
   "metadata": {},
   "outputs": [],
   "source": [
    "df['physical_activity'] = df['physical_activity'].str[:1]"
   ]
  },
  {
   "cell_type": "code",
   "execution_count": 87,
   "id": "ab74fef7",
   "metadata": {},
   "outputs": [
    {
     "data": {
      "text/plain": [
       "physical_activity\n",
       "1    815\n",
       "0    411\n",
       "2    374\n",
       "3    133\n",
       "9    100\n",
       "8     65\n",
       "6     61\n",
       "7     54\n",
       "5     53\n",
       "4     45\n",
       "Name: count, dtype: int64"
      ]
     },
     "execution_count": 87,
     "metadata": {},
     "output_type": "execute_result"
    }
   ],
   "source": [
    "df['physical_activity'].value_counts()"
   ]
  }
 ],
 "metadata": {
  "kernelspec": {
   "display_name": "Python 3",
   "language": "python",
   "name": "python3"
  },
  "language_info": {
   "codemirror_mode": {
    "name": "ipython",
    "version": 3
   },
   "file_extension": ".py",
   "mimetype": "text/x-python",
   "name": "python",
   "nbconvert_exporter": "python",
   "pygments_lexer": "ipython3",
   "version": "3.13.2"
  }
 },
 "nbformat": 4,
 "nbformat_minor": 5
}
