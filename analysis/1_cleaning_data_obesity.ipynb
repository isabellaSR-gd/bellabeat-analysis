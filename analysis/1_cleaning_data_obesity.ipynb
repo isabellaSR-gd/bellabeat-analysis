{
 "cells": [
  {
   "cell_type": "markdown",
   "id": "1c970146",
   "metadata": {},
   "source": [
    "Limpeza e reestruturação dos dados do dataset obesity"
   ]
  },
  {
   "cell_type": "code",
   "execution_count": 2,
   "id": "e6889e45",
   "metadata": {},
   "outputs": [],
   "source": [
    "import pandas as pd\n",
    "from pathlib import Path"
   ]
  },
  {
   "cell_type": "code",
   "execution_count": 3,
   "id": "dedf60cb",
   "metadata": {},
   "outputs": [
    {
     "name": "stdout",
     "output_type": "stream",
     "text": [
      "caminho do diretório C:\\Users\\niniv\\OneDrive\\Área de Trabalho\\bellabeat-analysis\n"
     ]
    }
   ],
   "source": [
    "# Facilitar para não precisar ficar mudando o caminho do arquivo. \n",
    "caminho_arquivo = Path('obsety new.csv').resolve().parents[1]\n",
    "print('caminho do diretório',caminho_arquivo)\n"
   ]
  },
  {
   "cell_type": "code",
   "execution_count": 5,
   "id": "6352a63d",
   "metadata": {},
   "outputs": [],
   "source": [
    "df = pd.read_csv(f'{caminho_arquivo}/database/obesity-data/obesity new.csv')"
   ]
  },
  {
   "cell_type": "code",
   "execution_count": 7,
   "id": "d32a81a7",
   "metadata": {},
   "outputs": [
    {
     "data": {
      "text/html": [
       "<div>\n",
       "<style scoped>\n",
       "    .dataframe tbody tr th:only-of-type {\n",
       "        vertical-align: middle;\n",
       "    }\n",
       "\n",
       "    .dataframe tbody tr th {\n",
       "        vertical-align: top;\n",
       "    }\n",
       "\n",
       "    .dataframe thead th {\n",
       "        text-align: right;\n",
       "    }\n",
       "</style>\n",
       "<table border=\"1\" class=\"dataframe\">\n",
       "  <thead>\n",
       "    <tr style=\"text-align: right;\">\n",
       "      <th></th>\n",
       "      <th>Gender</th>\n",
       "      <th>Age</th>\n",
       "      <th>family_history_with_overweight</th>\n",
       "      <th>FAVC</th>\n",
       "      <th>FCVC</th>\n",
       "      <th>NCP</th>\n",
       "      <th>CAEC</th>\n",
       "      <th>SMOKE</th>\n",
       "      <th>CH2O</th>\n",
       "      <th>SCC</th>\n",
       "      <th>FAF</th>\n",
       "      <th>TUE</th>\n",
       "      <th>CALC</th>\n",
       "      <th>Automobile</th>\n",
       "      <th>Bike</th>\n",
       "      <th>Motorbike</th>\n",
       "      <th>Public_Transportation</th>\n",
       "      <th>Walking</th>\n",
       "      <th>NObeyesdad</th>\n",
       "    </tr>\n",
       "  </thead>\n",
       "  <tbody>\n",
       "    <tr>\n",
       "      <th>0</th>\n",
       "      <td>0</td>\n",
       "      <td>21</td>\n",
       "      <td>1</td>\n",
       "      <td>0</td>\n",
       "      <td>2</td>\n",
       "      <td>3</td>\n",
       "      <td>1</td>\n",
       "      <td>0</td>\n",
       "      <td>2</td>\n",
       "      <td>0</td>\n",
       "      <td>0</td>\n",
       "      <td>1</td>\n",
       "      <td>0</td>\n",
       "      <td>0</td>\n",
       "      <td>0</td>\n",
       "      <td>0</td>\n",
       "      <td>1</td>\n",
       "      <td>0</td>\n",
       "      <td>0</td>\n",
       "    </tr>\n",
       "    <tr>\n",
       "      <th>1</th>\n",
       "      <td>0</td>\n",
       "      <td>21</td>\n",
       "      <td>1</td>\n",
       "      <td>0</td>\n",
       "      <td>3</td>\n",
       "      <td>3</td>\n",
       "      <td>1</td>\n",
       "      <td>1</td>\n",
       "      <td>3</td>\n",
       "      <td>1</td>\n",
       "      <td>3</td>\n",
       "      <td>0</td>\n",
       "      <td>1</td>\n",
       "      <td>0</td>\n",
       "      <td>0</td>\n",
       "      <td>0</td>\n",
       "      <td>1</td>\n",
       "      <td>0</td>\n",
       "      <td>0</td>\n",
       "    </tr>\n",
       "    <tr>\n",
       "      <th>2</th>\n",
       "      <td>1</td>\n",
       "      <td>23</td>\n",
       "      <td>1</td>\n",
       "      <td>0</td>\n",
       "      <td>2</td>\n",
       "      <td>3</td>\n",
       "      <td>1</td>\n",
       "      <td>0</td>\n",
       "      <td>2</td>\n",
       "      <td>0</td>\n",
       "      <td>2</td>\n",
       "      <td>1</td>\n",
       "      <td>2</td>\n",
       "      <td>0</td>\n",
       "      <td>0</td>\n",
       "      <td>0</td>\n",
       "      <td>1</td>\n",
       "      <td>0</td>\n",
       "      <td>0</td>\n",
       "    </tr>\n",
       "    <tr>\n",
       "      <th>3</th>\n",
       "      <td>1</td>\n",
       "      <td>27</td>\n",
       "      <td>0</td>\n",
       "      <td>0</td>\n",
       "      <td>3</td>\n",
       "      <td>3</td>\n",
       "      <td>1</td>\n",
       "      <td>0</td>\n",
       "      <td>2</td>\n",
       "      <td>0</td>\n",
       "      <td>2</td>\n",
       "      <td>0</td>\n",
       "      <td>2</td>\n",
       "      <td>0</td>\n",
       "      <td>0</td>\n",
       "      <td>0</td>\n",
       "      <td>0</td>\n",
       "      <td>1</td>\n",
       "      <td>0</td>\n",
       "    </tr>\n",
       "    <tr>\n",
       "      <th>4</th>\n",
       "      <td>1</td>\n",
       "      <td>22</td>\n",
       "      <td>0</td>\n",
       "      <td>0</td>\n",
       "      <td>2</td>\n",
       "      <td>1</td>\n",
       "      <td>1</td>\n",
       "      <td>0</td>\n",
       "      <td>2</td>\n",
       "      <td>0</td>\n",
       "      <td>0</td>\n",
       "      <td>0</td>\n",
       "      <td>1</td>\n",
       "      <td>0</td>\n",
       "      <td>0</td>\n",
       "      <td>0</td>\n",
       "      <td>1</td>\n",
       "      <td>0</td>\n",
       "      <td>0</td>\n",
       "    </tr>\n",
       "    <tr>\n",
       "      <th>5</th>\n",
       "      <td>1</td>\n",
       "      <td>29</td>\n",
       "      <td>0</td>\n",
       "      <td>1</td>\n",
       "      <td>2</td>\n",
       "      <td>3</td>\n",
       "      <td>1</td>\n",
       "      <td>0</td>\n",
       "      <td>2</td>\n",
       "      <td>0</td>\n",
       "      <td>0</td>\n",
       "      <td>0</td>\n",
       "      <td>1</td>\n",
       "      <td>1</td>\n",
       "      <td>0</td>\n",
       "      <td>0</td>\n",
       "      <td>0</td>\n",
       "      <td>0</td>\n",
       "      <td>0</td>\n",
       "    </tr>\n",
       "    <tr>\n",
       "      <th>6</th>\n",
       "      <td>0</td>\n",
       "      <td>23</td>\n",
       "      <td>1</td>\n",
       "      <td>1</td>\n",
       "      <td>3</td>\n",
       "      <td>3</td>\n",
       "      <td>1</td>\n",
       "      <td>0</td>\n",
       "      <td>2</td>\n",
       "      <td>0</td>\n",
       "      <td>1</td>\n",
       "      <td>0</td>\n",
       "      <td>1</td>\n",
       "      <td>0</td>\n",
       "      <td>0</td>\n",
       "      <td>1</td>\n",
       "      <td>0</td>\n",
       "      <td>0</td>\n",
       "      <td>0</td>\n",
       "    </tr>\n",
       "    <tr>\n",
       "      <th>7</th>\n",
       "      <td>1</td>\n",
       "      <td>22</td>\n",
       "      <td>0</td>\n",
       "      <td>0</td>\n",
       "      <td>2</td>\n",
       "      <td>3</td>\n",
       "      <td>1</td>\n",
       "      <td>0</td>\n",
       "      <td>2</td>\n",
       "      <td>0</td>\n",
       "      <td>3</td>\n",
       "      <td>0</td>\n",
       "      <td>1</td>\n",
       "      <td>0</td>\n",
       "      <td>0</td>\n",
       "      <td>0</td>\n",
       "      <td>1</td>\n",
       "      <td>0</td>\n",
       "      <td>0</td>\n",
       "    </tr>\n",
       "    <tr>\n",
       "      <th>8</th>\n",
       "      <td>1</td>\n",
       "      <td>24</td>\n",
       "      <td>1</td>\n",
       "      <td>1</td>\n",
       "      <td>3</td>\n",
       "      <td>3</td>\n",
       "      <td>1</td>\n",
       "      <td>0</td>\n",
       "      <td>2</td>\n",
       "      <td>0</td>\n",
       "      <td>1</td>\n",
       "      <td>1</td>\n",
       "      <td>2</td>\n",
       "      <td>0</td>\n",
       "      <td>0</td>\n",
       "      <td>0</td>\n",
       "      <td>1</td>\n",
       "      <td>0</td>\n",
       "      <td>0</td>\n",
       "    </tr>\n",
       "    <tr>\n",
       "      <th>9</th>\n",
       "      <td>1</td>\n",
       "      <td>22</td>\n",
       "      <td>1</td>\n",
       "      <td>1</td>\n",
       "      <td>2</td>\n",
       "      <td>3</td>\n",
       "      <td>1</td>\n",
       "      <td>0</td>\n",
       "      <td>2</td>\n",
       "      <td>0</td>\n",
       "      <td>1</td>\n",
       "      <td>1</td>\n",
       "      <td>0</td>\n",
       "      <td>0</td>\n",
       "      <td>0</td>\n",
       "      <td>0</td>\n",
       "      <td>1</td>\n",
       "      <td>0</td>\n",
       "      <td>0</td>\n",
       "    </tr>\n",
       "  </tbody>\n",
       "</table>\n",
       "</div>"
      ],
      "text/plain": [
       "   Gender Age  family_history_with_overweight  FAVC FCVC NCP  CAEC  SMOKE  \\\n",
       "0       0  21                               1     0    2   3     1      0   \n",
       "1       0  21                               1     0    3   3     1      1   \n",
       "2       1  23                               1     0    2   3     1      0   \n",
       "3       1  27                               0     0    3   3     1      0   \n",
       "4       1  22                               0     0    2   1     1      0   \n",
       "5       1  29                               0     1    2   3     1      0   \n",
       "6       0  23                               1     1    3   3     1      0   \n",
       "7       1  22                               0     0    2   3     1      0   \n",
       "8       1  24                               1     1    3   3     1      0   \n",
       "9       1  22                               1     1    2   3     1      0   \n",
       "\n",
       "  CH2O  SCC FAF TUE  CALC  Automobile  Bike  Motorbike  Public_Transportation  \\\n",
       "0    2    0   0   1     0           0     0          0                      1   \n",
       "1    3    1   3   0     1           0     0          0                      1   \n",
       "2    2    0   2   1     2           0     0          0                      1   \n",
       "3    2    0   2   0     2           0     0          0                      0   \n",
       "4    2    0   0   0     1           0     0          0                      1   \n",
       "5    2    0   0   0     1           1     0          0                      0   \n",
       "6    2    0   1   0     1           0     0          1                      0   \n",
       "7    2    0   3   0     1           0     0          0                      1   \n",
       "8    2    0   1   1     2           0     0          0                      1   \n",
       "9    2    0   1   1     0           0     0          0                      1   \n",
       "\n",
       "   Walking  NObeyesdad  \n",
       "0        0           0  \n",
       "1        0           0  \n",
       "2        0           0  \n",
       "3        1           0  \n",
       "4        0           0  \n",
       "5        0           0  \n",
       "6        0           0  \n",
       "7        0           0  \n",
       "8        0           0  \n",
       "9        0           0  "
      ]
     },
     "execution_count": 7,
     "metadata": {},
     "output_type": "execute_result"
    }
   ],
   "source": [
    "df.head(10)"
   ]
  },
  {
   "cell_type": "markdown",
   "id": "602e8516",
   "metadata": {},
   "source": [
    "renomeando colunas com base nas siglas e informações do dataset"
   ]
  },
  {
   "cell_type": "code",
   "execution_count": 33,
   "id": "1881cf19",
   "metadata": {},
   "outputs": [],
   "source": [
    "df = df.rename(columns= {'Gender':'gender', 'family_history_with_overweight':'overweight_family_history' ,'Age':'age', 'FAVC':'caloric_food_intake', 'FCVC':'vegetable_intake', 'NCP':'meal_count', 'CAEC':'food_between_meals', 'SMOKE':'smoking', 'CH2O':'water_intake', 'SCC':'calorie_monitoring', 'FAF':'physical_activity', 'TUE':'screen_time', 'Automobile':'automobile', 'Bike':'bike', 'Motorbike':'motorbike', 'Public_Transportation':'public_transit', 'Walking':'walking', 'NObeyesdad':'obesity_level' })"
   ]
  },
  {
   "cell_type": "markdown",
   "id": "8f3c3ae1",
   "metadata": {},
   "source": [
    "renomear atributos das colunas: gênero"
   ]
  },
  {
   "cell_type": "code",
   "execution_count": 34,
   "id": "64814032",
   "metadata": {},
   "outputs": [],
   "source": [
    "def rename_gender(gender):\n",
    "    if gender == 0:\n",
    "        return 'Female'\n",
    "    else:\n",
    "        return 'Male'"
   ]
  },
  {
   "cell_type": "code",
   "execution_count": 35,
   "id": "08074fe6",
   "metadata": {},
   "outputs": [],
   "source": [
    "df['gender'] = df['gender'].apply(rename_gender)"
   ]
  },
  {
   "cell_type": "code",
   "execution_count": 36,
   "id": "43680a0f",
   "metadata": {},
   "outputs": [
    {
     "data": {
      "text/plain": [
       "0       Female\n",
       "1       Female\n",
       "2         Male\n",
       "3         Male\n",
       "4         Male\n",
       "         ...  \n",
       "2106    Female\n",
       "2107    Female\n",
       "2108    Female\n",
       "2109    Female\n",
       "2110    Female\n",
       "Name: gender, Length: 2111, dtype: object"
      ]
     },
     "execution_count": 36,
     "metadata": {},
     "output_type": "execute_result"
    }
   ],
   "source": [
    "df['gender'] "
   ]
  },
  {
   "cell_type": "markdown",
   "id": "3ecb0e30",
   "metadata": {},
   "source": [
    "renomear atributos das colunas: boleanos"
   ]
  },
  {
   "cell_type": "code",
   "execution_count": 37,
   "id": "65fc53c2",
   "metadata": {},
   "outputs": [],
   "source": [
    "def rename_bool_data(data):\n",
    "    if data == 0:\n",
    "        return 'No'\n",
    "    else:\n",
    "        return 'Yes'"
   ]
  },
  {
   "cell_type": "code",
   "execution_count": 38,
   "id": "09a16aa1",
   "metadata": {},
   "outputs": [],
   "source": [
    "df['overweight_family_history'] = df['overweight_family_history'].apply(rename_bool_data)"
   ]
  },
  {
   "cell_type": "code",
   "execution_count": 39,
   "id": "4cc3ce12",
   "metadata": {},
   "outputs": [],
   "source": [
    "df['caloric_food_intake'] = df['caloric_food_intake'].apply(rename_bool_data)"
   ]
  },
  {
   "cell_type": "code",
   "execution_count": 40,
   "id": "8b04c192",
   "metadata": {},
   "outputs": [],
   "source": [
    "df['smoking'] = df['smoking'].apply(rename_bool_data)"
   ]
  },
  {
   "cell_type": "code",
   "execution_count": 41,
   "id": "656f14c6",
   "metadata": {},
   "outputs": [],
   "source": [
    "df['calorie_monitoring'] = df['calorie_monitoring'].apply(rename_bool_data)"
   ]
  },
  {
   "cell_type": "markdown",
   "id": "5a14d562",
   "metadata": {},
   "source": [
    "renomear atributos das colunas: consumo de vegetais"
   ]
  },
  {
   "cell_type": "code",
   "execution_count": 42,
   "id": "c0885f00",
   "metadata": {},
   "outputs": [
    {
     "data": {
      "text/plain": [
       "vegetable_intake\n",
       "2.407.817    2\n",
       "2.758.394    2\n",
       "2.971.574    2\n",
       "2.442.536    2\n",
       "2.568.063    2\n",
       "            ..\n",
       "2.010.684    1\n",
       "2.300.408    1\n",
       "2.119.643    1\n",
       "2.901.924    1\n",
       "2.680.375    1\n",
       "Name: count, Length: 807, dtype: int64"
      ]
     },
     "execution_count": 42,
     "metadata": {},
     "output_type": "execute_result"
    }
   ],
   "source": [
    "df[~df['vegetable_intake'].isin(['1', '2', '3'])]['vegetable_intake'].value_counts()"
   ]
  },
  {
   "cell_type": "markdown",
   "id": "250b847d",
   "metadata": {},
   "source": [
    "Total que cada valor aparece na coluna vegetable, há valores diferente de 3, 2, 1 "
   ]
  },
  {
   "cell_type": "code",
   "execution_count": 43,
   "id": "404fe6b7",
   "metadata": {},
   "outputs": [
    {
     "data": {
      "text/plain": [
       "vegetable_intake\n",
       "3            652\n",
       "2            600\n",
       "1             33\n",
       "2.823.179      2\n",
       "221.498        2\n",
       "            ... \n",
       "2.927.409      1\n",
       "2.706.134      1\n",
       "2.010.684      1\n",
       "2.300.408      1\n",
       "2.680.375      1\n",
       "Name: count, Length: 810, dtype: int64"
      ]
     },
     "execution_count": 43,
     "metadata": {},
     "output_type": "execute_result"
    }
   ],
   "source": [
    "vegetable = df['vegetable_intake'].value_counts()\n",
    "vegetable "
   ]
  },
  {
   "cell_type": "code",
   "execution_count": 44,
   "id": "1738f36e",
   "metadata": {},
   "outputs": [],
   "source": [
    "df['vegetable_intake'] = df['vegetable_intake'].str[:1]"
   ]
  },
  {
   "cell_type": "code",
   "execution_count": 45,
   "id": "567c1bfd",
   "metadata": {},
   "outputs": [
    {
     "data": {
      "text/plain": [
       "vegetable_intake\n",
       "2    1257\n",
       "3     652\n",
       "1     202\n",
       "Name: count, dtype: int64"
      ]
     },
     "execution_count": 45,
     "metadata": {},
     "output_type": "execute_result"
    }
   ],
   "source": [
    "df['vegetable_intake'].value_counts()"
   ]
  },
  {
   "cell_type": "markdown",
   "id": "a758511f",
   "metadata": {},
   "source": [
    "Conferindo se a idade tem numeros não inteiros ou negativos \n"
   ]
  },
  {
   "cell_type": "code",
   "execution_count": 46,
   "id": "01aed8bd",
   "metadata": {},
   "outputs": [
    {
     "data": {
      "text/plain": [
       "age\n",
       "18            128\n",
       "26            101\n",
       "21             96\n",
       "23             89\n",
       "19             59\n",
       "             ... \n",
       "2.332.012       1\n",
       "34.243.146      1\n",
       "18.549.437      1\n",
       "36.310.292      1\n",
       "23.664.709      1\n",
       "Name: count, Length: 1402, dtype: int64"
      ]
     },
     "execution_count": 46,
     "metadata": {},
     "output_type": "execute_result"
    }
   ],
   "source": [
    "age = df['age'].value_counts()\n",
    "age.to_csv('age.csv')\n",
    "age"
   ]
  },
  {
   "cell_type": "markdown",
   "id": "4cc57d05",
   "metadata": {},
   "source": [
    "AGE tem valores que não são inteiros, ajustando"
   ]
  },
  {
   "cell_type": "code",
   "execution_count": 47,
   "id": "46ca75e4",
   "metadata": {
    "vscode": {
     "languageId": "ruby"
    }
   },
   "outputs": [
    {
     "data": {
      "text/plain": [
       "age\n",
       "21    252\n",
       "18    227\n",
       "19    172\n",
       "23    156\n",
       "22    154\n",
       "25    145\n",
       "26    137\n",
       "20    132\n",
       "24     77\n",
       "17     77\n",
       "30     60\n",
       "2      59\n",
       "31     42\n",
       "29     40\n",
       "33     34\n",
       "37     32\n",
       "1      32\n",
       "38     29\n",
       "34     28\n",
       "27     28\n",
       "16     26\n",
       "40     21\n",
       "28     21\n",
       "3      18\n",
       "32     17\n",
       "39     17\n",
       "35     12\n",
       "36     11\n",
       "41     11\n",
       "43      6\n",
       "55      4\n",
       "45      4\n",
       "4       4\n",
       "42      3\n",
       "46      1\n",
       "50      1\n",
       "5       1\n",
       "15      1\n",
       "14      1\n",
       "52      1\n",
       "61      1\n",
       "56      1\n",
       "51      1\n",
       "44      1\n",
       "47      1\n",
       "Name: count, dtype: int64"
      ]
     },
     "execution_count": 47,
     "metadata": {},
     "output_type": "execute_result"
    }
   ],
   "source": [
    "# Idade ajustada\n",
    "lista = [ ]\n",
    "age = df['age'].tolist()\n",
    "for linha_age in age:\n",
    "    age_inteiro = linha_age.split('.')[0]\n",
    "    lista.append(age_inteiro)\n",
    "df['age'] = lista\n",
    "age = df['age'].value_counts()\n",
    "age\n",
    "df['age']  = df['age'].astype(int)\n",
    "# limpar idade que mesmo apos o tratamento passaram de 100\n",
    "condicao = df['age'] > 100\n",
    "df = df.drop(index=df[condicao].index)\n",
    "age = df['age'].value_counts()\n",
    "age"
   ]
  },
  {
   "cell_type": "code",
   "execution_count": 48,
   "id": "378a8af4",
   "metadata": {},
   "outputs": [],
   "source": [
    "def rename_consumption(data):\n",
    "    if data == '0':\n",
    "        return 'does not consume'\n",
    "    elif data == '1':\n",
    "        return 'low consumption'\n",
    "    elif data == '2':\n",
    "        return 'moderate consumption'\n",
    "    else:\n",
    "        return 'high consumption'"
   ]
  },
  {
   "cell_type": "code",
   "execution_count": 49,
   "id": "11c75bca",
   "metadata": {},
   "outputs": [],
   "source": [
    "df['vegetable_intake'] = df['vegetable_intake'].apply(rename_consumption)"
   ]
  },
  {
   "cell_type": "markdown",
   "id": "226bf684",
   "metadata": {},
   "source": [
    "renomear atributos das colunas: consumo de água"
   ]
  },
  {
   "cell_type": "code",
   "execution_count": 50,
   "id": "d5293892",
   "metadata": {},
   "outputs": [
    {
     "data": {
      "text/plain": [
       "<bound method IndexOpsMixin.value_counts of 0               2\n",
       "1               3\n",
       "2               2\n",
       "3               2\n",
       "4               2\n",
       "          ...    \n",
       "2106    1.728.139\n",
       "2107      200.513\n",
       "2108    2.054.193\n",
       "2109    2.852.339\n",
       "2110    2.863.513\n",
       "Name: water_intake, Length: 2099, dtype: object>"
      ]
     },
     "execution_count": 50,
     "metadata": {},
     "output_type": "execute_result"
    }
   ],
   "source": [
    "df['water_intake'].value_counts"
   ]
  },
  {
   "cell_type": "code",
   "execution_count": 51,
   "id": "9eaacc45",
   "metadata": {},
   "outputs": [
    {
     "data": {
      "text/plain": [
       "water_intake\n",
       "1.636.326    3\n",
       "2.825.629    3\n",
       "1.179.942    2\n",
       "2.450.069    2\n",
       "1.229.915    2\n",
       "            ..\n",
       "1.221.281    1\n",
       "1.622.638    1\n",
       "2.452.986    1\n",
       "2.035.954    1\n",
       "2.863.513    1\n",
       "Name: count, Length: 1258, dtype: int64"
      ]
     },
     "execution_count": 51,
     "metadata": {},
     "output_type": "execute_result"
    }
   ],
   "source": [
    "df[~df['water_intake'].isin(['0', '1', '2', '3', '4'])]['water_intake'].value_counts()"
   ]
  },
  {
   "cell_type": "code",
   "execution_count": 52,
   "id": "ecfc1d9f",
   "metadata": {},
   "outputs": [],
   "source": [
    "df['water_intake'] = df['water_intake'].str[:1]"
   ]
  },
  {
   "cell_type": "code",
   "execution_count": 53,
   "id": "ab74fef7",
   "metadata": {},
   "outputs": [
    {
     "data": {
      "text/plain": [
       "water_intake\n",
       "2    1174\n",
       "1     765\n",
       "3     160\n",
       "Name: count, dtype: int64"
      ]
     },
     "execution_count": 53,
     "metadata": {},
     "output_type": "execute_result"
    }
   ],
   "source": [
    "df['water_intake'].value_counts()"
   ]
  },
  {
   "cell_type": "code",
   "execution_count": 54,
   "id": "4c26aa29",
   "metadata": {},
   "outputs": [],
   "source": [
    "df['water_intake'] = df['water_intake'].apply(rename_consumption)"
   ]
  },
  {
   "cell_type": "code",
   "execution_count": 55,
   "id": "e3600f1a",
   "metadata": {},
   "outputs": [],
   "source": [
    "df.to_csv('C:/Users/niniv/OneDrive/Área de Trabalho/bellabeat-analysis/database/obesity-data/cleaned_data_obesity.csv', index = False)"
   ]
  },
  {
   "cell_type": "markdown",
   "id": "4a9558fa",
   "metadata": {},
   "source": [
    "Abrindo novamente o csv de obsidade, o novo com alterações para conferir "
   ]
  },
  {
   "cell_type": "code",
   "execution_count": 56,
   "id": "41b516ca",
   "metadata": {},
   "outputs": [
    {
     "data": {
      "text/html": [
       "<div>\n",
       "<style scoped>\n",
       "    .dataframe tbody tr th:only-of-type {\n",
       "        vertical-align: middle;\n",
       "    }\n",
       "\n",
       "    .dataframe tbody tr th {\n",
       "        vertical-align: top;\n",
       "    }\n",
       "\n",
       "    .dataframe thead th {\n",
       "        text-align: right;\n",
       "    }\n",
       "</style>\n",
       "<table border=\"1\" class=\"dataframe\">\n",
       "  <thead>\n",
       "    <tr style=\"text-align: right;\">\n",
       "      <th></th>\n",
       "      <th>gender</th>\n",
       "      <th>age</th>\n",
       "      <th>overweight_family_history</th>\n",
       "      <th>caloric_food_intake</th>\n",
       "      <th>vegetable_intake</th>\n",
       "      <th>meal_count</th>\n",
       "      <th>food_between_meals</th>\n",
       "      <th>smoking</th>\n",
       "      <th>water_intake</th>\n",
       "      <th>calorie_monitoring</th>\n",
       "      <th>physical_activity</th>\n",
       "      <th>screen_time</th>\n",
       "      <th>CALC</th>\n",
       "      <th>automobile</th>\n",
       "      <th>bike</th>\n",
       "      <th>motorbike</th>\n",
       "      <th>public_transit</th>\n",
       "      <th>walking</th>\n",
       "      <th>obesity_level</th>\n",
       "    </tr>\n",
       "  </thead>\n",
       "  <tbody>\n",
       "    <tr>\n",
       "      <th>0</th>\n",
       "      <td>Female</td>\n",
       "      <td>21</td>\n",
       "      <td>Yes</td>\n",
       "      <td>No</td>\n",
       "      <td>moderate consumption</td>\n",
       "      <td>3</td>\n",
       "      <td>1</td>\n",
       "      <td>No</td>\n",
       "      <td>moderate consumption</td>\n",
       "      <td>No</td>\n",
       "      <td>0</td>\n",
       "      <td>1</td>\n",
       "      <td>0</td>\n",
       "      <td>0</td>\n",
       "      <td>0</td>\n",
       "      <td>0</td>\n",
       "      <td>1</td>\n",
       "      <td>0</td>\n",
       "      <td>0</td>\n",
       "    </tr>\n",
       "    <tr>\n",
       "      <th>1</th>\n",
       "      <td>Female</td>\n",
       "      <td>21</td>\n",
       "      <td>Yes</td>\n",
       "      <td>No</td>\n",
       "      <td>high consumption</td>\n",
       "      <td>3</td>\n",
       "      <td>1</td>\n",
       "      <td>Yes</td>\n",
       "      <td>high consumption</td>\n",
       "      <td>Yes</td>\n",
       "      <td>3</td>\n",
       "      <td>0</td>\n",
       "      <td>1</td>\n",
       "      <td>0</td>\n",
       "      <td>0</td>\n",
       "      <td>0</td>\n",
       "      <td>1</td>\n",
       "      <td>0</td>\n",
       "      <td>0</td>\n",
       "    </tr>\n",
       "    <tr>\n",
       "      <th>2</th>\n",
       "      <td>Male</td>\n",
       "      <td>23</td>\n",
       "      <td>Yes</td>\n",
       "      <td>No</td>\n",
       "      <td>moderate consumption</td>\n",
       "      <td>3</td>\n",
       "      <td>1</td>\n",
       "      <td>No</td>\n",
       "      <td>moderate consumption</td>\n",
       "      <td>No</td>\n",
       "      <td>2</td>\n",
       "      <td>1</td>\n",
       "      <td>2</td>\n",
       "      <td>0</td>\n",
       "      <td>0</td>\n",
       "      <td>0</td>\n",
       "      <td>1</td>\n",
       "      <td>0</td>\n",
       "      <td>0</td>\n",
       "    </tr>\n",
       "    <tr>\n",
       "      <th>3</th>\n",
       "      <td>Male</td>\n",
       "      <td>27</td>\n",
       "      <td>No</td>\n",
       "      <td>No</td>\n",
       "      <td>high consumption</td>\n",
       "      <td>3</td>\n",
       "      <td>1</td>\n",
       "      <td>No</td>\n",
       "      <td>moderate consumption</td>\n",
       "      <td>No</td>\n",
       "      <td>2</td>\n",
       "      <td>0</td>\n",
       "      <td>2</td>\n",
       "      <td>0</td>\n",
       "      <td>0</td>\n",
       "      <td>0</td>\n",
       "      <td>0</td>\n",
       "      <td>1</td>\n",
       "      <td>0</td>\n",
       "    </tr>\n",
       "    <tr>\n",
       "      <th>4</th>\n",
       "      <td>Male</td>\n",
       "      <td>22</td>\n",
       "      <td>No</td>\n",
       "      <td>No</td>\n",
       "      <td>moderate consumption</td>\n",
       "      <td>1</td>\n",
       "      <td>1</td>\n",
       "      <td>No</td>\n",
       "      <td>moderate consumption</td>\n",
       "      <td>No</td>\n",
       "      <td>0</td>\n",
       "      <td>0</td>\n",
       "      <td>1</td>\n",
       "      <td>0</td>\n",
       "      <td>0</td>\n",
       "      <td>0</td>\n",
       "      <td>1</td>\n",
       "      <td>0</td>\n",
       "      <td>0</td>\n",
       "    </tr>\n",
       "    <tr>\n",
       "      <th>...</th>\n",
       "      <td>...</td>\n",
       "      <td>...</td>\n",
       "      <td>...</td>\n",
       "      <td>...</td>\n",
       "      <td>...</td>\n",
       "      <td>...</td>\n",
       "      <td>...</td>\n",
       "      <td>...</td>\n",
       "      <td>...</td>\n",
       "      <td>...</td>\n",
       "      <td>...</td>\n",
       "      <td>...</td>\n",
       "      <td>...</td>\n",
       "      <td>...</td>\n",
       "      <td>...</td>\n",
       "      <td>...</td>\n",
       "      <td>...</td>\n",
       "      <td>...</td>\n",
       "      <td>...</td>\n",
       "    </tr>\n",
       "    <tr>\n",
       "      <th>2094</th>\n",
       "      <td>Female</td>\n",
       "      <td>20</td>\n",
       "      <td>Yes</td>\n",
       "      <td>Yes</td>\n",
       "      <td>high consumption</td>\n",
       "      <td>3</td>\n",
       "      <td>1</td>\n",
       "      <td>No</td>\n",
       "      <td>low consumption</td>\n",
       "      <td>No</td>\n",
       "      <td>1.676.269</td>\n",
       "      <td>906.247</td>\n",
       "      <td>1</td>\n",
       "      <td>0</td>\n",
       "      <td>0</td>\n",
       "      <td>0</td>\n",
       "      <td>1</td>\n",
       "      <td>0</td>\n",
       "      <td>1</td>\n",
       "    </tr>\n",
       "    <tr>\n",
       "      <th>2095</th>\n",
       "      <td>Female</td>\n",
       "      <td>21</td>\n",
       "      <td>Yes</td>\n",
       "      <td>Yes</td>\n",
       "      <td>high consumption</td>\n",
       "      <td>3</td>\n",
       "      <td>1</td>\n",
       "      <td>No</td>\n",
       "      <td>moderate consumption</td>\n",
       "      <td>No</td>\n",
       "      <td>134.139</td>\n",
       "      <td>59.927</td>\n",
       "      <td>1</td>\n",
       "      <td>0</td>\n",
       "      <td>0</td>\n",
       "      <td>0</td>\n",
       "      <td>1</td>\n",
       "      <td>0</td>\n",
       "      <td>1</td>\n",
       "    </tr>\n",
       "    <tr>\n",
       "      <th>2096</th>\n",
       "      <td>Female</td>\n",
       "      <td>22</td>\n",
       "      <td>Yes</td>\n",
       "      <td>Yes</td>\n",
       "      <td>high consumption</td>\n",
       "      <td>3</td>\n",
       "      <td>1</td>\n",
       "      <td>No</td>\n",
       "      <td>moderate consumption</td>\n",
       "      <td>No</td>\n",
       "      <td>1.414.209</td>\n",
       "      <td>646.288</td>\n",
       "      <td>1</td>\n",
       "      <td>0</td>\n",
       "      <td>0</td>\n",
       "      <td>0</td>\n",
       "      <td>1</td>\n",
       "      <td>0</td>\n",
       "      <td>1</td>\n",
       "    </tr>\n",
       "    <tr>\n",
       "      <th>2097</th>\n",
       "      <td>Female</td>\n",
       "      <td>24</td>\n",
       "      <td>Yes</td>\n",
       "      <td>Yes</td>\n",
       "      <td>high consumption</td>\n",
       "      <td>3</td>\n",
       "      <td>1</td>\n",
       "      <td>No</td>\n",
       "      <td>moderate consumption</td>\n",
       "      <td>No</td>\n",
       "      <td>1.139.107</td>\n",
       "      <td>586.035</td>\n",
       "      <td>1</td>\n",
       "      <td>0</td>\n",
       "      <td>0</td>\n",
       "      <td>0</td>\n",
       "      <td>1</td>\n",
       "      <td>0</td>\n",
       "      <td>1</td>\n",
       "    </tr>\n",
       "    <tr>\n",
       "      <th>2098</th>\n",
       "      <td>Female</td>\n",
       "      <td>23</td>\n",
       "      <td>Yes</td>\n",
       "      <td>Yes</td>\n",
       "      <td>high consumption</td>\n",
       "      <td>3</td>\n",
       "      <td>1</td>\n",
       "      <td>No</td>\n",
       "      <td>moderate consumption</td>\n",
       "      <td>No</td>\n",
       "      <td>1.026.452</td>\n",
       "      <td>714.137</td>\n",
       "      <td>1</td>\n",
       "      <td>0</td>\n",
       "      <td>0</td>\n",
       "      <td>0</td>\n",
       "      <td>1</td>\n",
       "      <td>0</td>\n",
       "      <td>1</td>\n",
       "    </tr>\n",
       "  </tbody>\n",
       "</table>\n",
       "<p>2099 rows × 19 columns</p>\n",
       "</div>"
      ],
      "text/plain": [
       "      gender  age overweight_family_history caloric_food_intake  \\\n",
       "0     Female   21                       Yes                  No   \n",
       "1     Female   21                       Yes                  No   \n",
       "2       Male   23                       Yes                  No   \n",
       "3       Male   27                        No                  No   \n",
       "4       Male   22                        No                  No   \n",
       "...      ...  ...                       ...                 ...   \n",
       "2094  Female   20                       Yes                 Yes   \n",
       "2095  Female   21                       Yes                 Yes   \n",
       "2096  Female   22                       Yes                 Yes   \n",
       "2097  Female   24                       Yes                 Yes   \n",
       "2098  Female   23                       Yes                 Yes   \n",
       "\n",
       "          vegetable_intake meal_count  food_between_meals smoking  \\\n",
       "0     moderate consumption          3                   1      No   \n",
       "1         high consumption          3                   1     Yes   \n",
       "2     moderate consumption          3                   1      No   \n",
       "3         high consumption          3                   1      No   \n",
       "4     moderate consumption          1                   1      No   \n",
       "...                    ...        ...                 ...     ...   \n",
       "2094      high consumption          3                   1      No   \n",
       "2095      high consumption          3                   1      No   \n",
       "2096      high consumption          3                   1      No   \n",
       "2097      high consumption          3                   1      No   \n",
       "2098      high consumption          3                   1      No   \n",
       "\n",
       "              water_intake calorie_monitoring physical_activity screen_time  \\\n",
       "0     moderate consumption                 No                 0           1   \n",
       "1         high consumption                Yes                 3           0   \n",
       "2     moderate consumption                 No                 2           1   \n",
       "3     moderate consumption                 No                 2           0   \n",
       "4     moderate consumption                 No                 0           0   \n",
       "...                    ...                ...               ...         ...   \n",
       "2094       low consumption                 No         1.676.269     906.247   \n",
       "2095  moderate consumption                 No           134.139      59.927   \n",
       "2096  moderate consumption                 No         1.414.209     646.288   \n",
       "2097  moderate consumption                 No         1.139.107     586.035   \n",
       "2098  moderate consumption                 No         1.026.452     714.137   \n",
       "\n",
       "      CALC  automobile  bike  motorbike  public_transit  walking  \\\n",
       "0        0           0     0          0               1        0   \n",
       "1        1           0     0          0               1        0   \n",
       "2        2           0     0          0               1        0   \n",
       "3        2           0     0          0               0        1   \n",
       "4        1           0     0          0               1        0   \n",
       "...    ...         ...   ...        ...             ...      ...   \n",
       "2094     1           0     0          0               1        0   \n",
       "2095     1           0     0          0               1        0   \n",
       "2096     1           0     0          0               1        0   \n",
       "2097     1           0     0          0               1        0   \n",
       "2098     1           0     0          0               1        0   \n",
       "\n",
       "      obesity_level  \n",
       "0                 0  \n",
       "1                 0  \n",
       "2                 0  \n",
       "3                 0  \n",
       "4                 0  \n",
       "...             ...  \n",
       "2094              1  \n",
       "2095              1  \n",
       "2096              1  \n",
       "2097              1  \n",
       "2098              1  \n",
       "\n",
       "[2099 rows x 19 columns]"
      ]
     },
     "execution_count": 56,
     "metadata": {},
     "output_type": "execute_result"
    }
   ],
   "source": [
    "df = pd.read_csv(f'{caminho_arquivo}/database/obesity-data/cleaned_data_obesity.csv')\n",
    "df "
   ]
  },
  {
   "cell_type": "code",
   "execution_count": null,
   "id": "af47fd55",
   "metadata": {},
   "outputs": [],
   "source": []
  }
 ],
 "metadata": {
  "kernelspec": {
   "display_name": "Python 3",
   "language": "python",
   "name": "python3"
  },
  "language_info": {
   "codemirror_mode": {
    "name": "ipython",
    "version": 3
   },
   "file_extension": ".py",
   "mimetype": "text/x-python",
   "name": "python",
   "nbconvert_exporter": "python",
   "pygments_lexer": "ipython3",
   "version": "3.12.3"
  }
 },
 "nbformat": 4,
 "nbformat_minor": 5
}
