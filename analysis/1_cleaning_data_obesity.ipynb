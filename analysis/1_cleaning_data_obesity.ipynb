{
 "cells": [
  {
   "cell_type": "markdown",
   "id": "1c970146",
   "metadata": {},
   "source": [
    "Limpeza e reestruturação dos dados do dataset obesity"
   ]
  },
  {
   "cell_type": "code",
   "execution_count": 4,
   "id": "e6889e45",
   "metadata": {},
   "outputs": [],
   "source": [
    "import pandas as pd"
   ]
  },
  {
   "cell_type": "code",
   "execution_count": 44,
   "id": "6352a63d",
   "metadata": {},
   "outputs": [],
   "source": [
    "df = pd.read_csv('D:/python/bellabeat-analysis/database/obesity-data/obesity_new.csv')"
   ]
  },
  {
   "cell_type": "code",
   "execution_count": 74,
   "id": "d32a81a7",
   "metadata": {},
   "outputs": [
    {
     "data": {
      "text/html": [
       "<div>\n",
       "<style scoped>\n",
       "    .dataframe tbody tr th:only-of-type {\n",
       "        vertical-align: middle;\n",
       "    }\n",
       "\n",
       "    .dataframe tbody tr th {\n",
       "        vertical-align: top;\n",
       "    }\n",
       "\n",
       "    .dataframe thead th {\n",
       "        text-align: right;\n",
       "    }\n",
       "</style>\n",
       "<table border=\"1\" class=\"dataframe\">\n",
       "  <thead>\n",
       "    <tr style=\"text-align: right;\">\n",
       "      <th></th>\n",
       "      <th>gender</th>\n",
       "      <th>age</th>\n",
       "      <th>overweight_family_history</th>\n",
       "      <th>caloric_food_intake</th>\n",
       "      <th>vegetable_intake</th>\n",
       "      <th>meal_count</th>\n",
       "      <th>food_between_meals</th>\n",
       "      <th>smoking</th>\n",
       "      <th>water_intake</th>\n",
       "      <th>calorie_monitoring</th>\n",
       "      <th>physical_activity</th>\n",
       "      <th>screen_time</th>\n",
       "      <th>CALC</th>\n",
       "      <th>automobile</th>\n",
       "      <th>bike</th>\n",
       "      <th>motorbike</th>\n",
       "      <th>public_transit</th>\n",
       "      <th>walking</th>\n",
       "      <th>obesity_level</th>\n",
       "    </tr>\n",
       "  </thead>\n",
       "  <tbody>\n",
       "    <tr>\n",
       "      <th>0</th>\n",
       "      <td>Female</td>\n",
       "      <td>21</td>\n",
       "      <td>Yes</td>\n",
       "      <td>No</td>\n",
       "      <td>moderate consumption</td>\n",
       "      <td>3</td>\n",
       "      <td>1</td>\n",
       "      <td>No</td>\n",
       "      <td>moderate consumption</td>\n",
       "      <td>No</td>\n",
       "      <td>0</td>\n",
       "      <td>1</td>\n",
       "      <td>0</td>\n",
       "      <td>0</td>\n",
       "      <td>0</td>\n",
       "      <td>0</td>\n",
       "      <td>1</td>\n",
       "      <td>0</td>\n",
       "      <td>0</td>\n",
       "    </tr>\n",
       "    <tr>\n",
       "      <th>1</th>\n",
       "      <td>Female</td>\n",
       "      <td>21</td>\n",
       "      <td>Yes</td>\n",
       "      <td>No</td>\n",
       "      <td>high consumption</td>\n",
       "      <td>3</td>\n",
       "      <td>1</td>\n",
       "      <td>Yes</td>\n",
       "      <td>high consumption</td>\n",
       "      <td>Yes</td>\n",
       "      <td>3</td>\n",
       "      <td>0</td>\n",
       "      <td>1</td>\n",
       "      <td>0</td>\n",
       "      <td>0</td>\n",
       "      <td>0</td>\n",
       "      <td>1</td>\n",
       "      <td>0</td>\n",
       "      <td>0</td>\n",
       "    </tr>\n",
       "    <tr>\n",
       "      <th>2</th>\n",
       "      <td>Male</td>\n",
       "      <td>23</td>\n",
       "      <td>Yes</td>\n",
       "      <td>No</td>\n",
       "      <td>moderate consumption</td>\n",
       "      <td>3</td>\n",
       "      <td>1</td>\n",
       "      <td>No</td>\n",
       "      <td>moderate consumption</td>\n",
       "      <td>No</td>\n",
       "      <td>2</td>\n",
       "      <td>1</td>\n",
       "      <td>2</td>\n",
       "      <td>0</td>\n",
       "      <td>0</td>\n",
       "      <td>0</td>\n",
       "      <td>1</td>\n",
       "      <td>0</td>\n",
       "      <td>0</td>\n",
       "    </tr>\n",
       "    <tr>\n",
       "      <th>3</th>\n",
       "      <td>Male</td>\n",
       "      <td>27</td>\n",
       "      <td>No</td>\n",
       "      <td>No</td>\n",
       "      <td>high consumption</td>\n",
       "      <td>3</td>\n",
       "      <td>1</td>\n",
       "      <td>No</td>\n",
       "      <td>moderate consumption</td>\n",
       "      <td>No</td>\n",
       "      <td>2</td>\n",
       "      <td>0</td>\n",
       "      <td>2</td>\n",
       "      <td>0</td>\n",
       "      <td>0</td>\n",
       "      <td>0</td>\n",
       "      <td>0</td>\n",
       "      <td>1</td>\n",
       "      <td>0</td>\n",
       "    </tr>\n",
       "    <tr>\n",
       "      <th>4</th>\n",
       "      <td>Male</td>\n",
       "      <td>22</td>\n",
       "      <td>No</td>\n",
       "      <td>No</td>\n",
       "      <td>moderate consumption</td>\n",
       "      <td>1</td>\n",
       "      <td>1</td>\n",
       "      <td>No</td>\n",
       "      <td>moderate consumption</td>\n",
       "      <td>No</td>\n",
       "      <td>0</td>\n",
       "      <td>0</td>\n",
       "      <td>1</td>\n",
       "      <td>0</td>\n",
       "      <td>0</td>\n",
       "      <td>0</td>\n",
       "      <td>1</td>\n",
       "      <td>0</td>\n",
       "      <td>0</td>\n",
       "    </tr>\n",
       "  </tbody>\n",
       "</table>\n",
       "</div>"
      ],
      "text/plain": [
       "   gender age overweight_family_history caloric_food_intake  \\\n",
       "0  Female  21                       Yes                  No   \n",
       "1  Female  21                       Yes                  No   \n",
       "2    Male  23                       Yes                  No   \n",
       "3    Male  27                        No                  No   \n",
       "4    Male  22                        No                  No   \n",
       "\n",
       "       vegetable_intake meal_count  food_between_meals smoking  \\\n",
       "0  moderate consumption          3                   1      No   \n",
       "1      high consumption          3                   1     Yes   \n",
       "2  moderate consumption          3                   1      No   \n",
       "3      high consumption          3                   1      No   \n",
       "4  moderate consumption          1                   1      No   \n",
       "\n",
       "           water_intake calorie_monitoring physical_activity screen_time  \\\n",
       "0  moderate consumption                 No                 0           1   \n",
       "1      high consumption                Yes                 3           0   \n",
       "2  moderate consumption                 No                 2           1   \n",
       "3  moderate consumption                 No                 2           0   \n",
       "4  moderate consumption                 No                 0           0   \n",
       "\n",
       "   CALC  automobile  bike  motorbike  public_transit  walking  obesity_level  \n",
       "0     0           0     0          0               1        0              0  \n",
       "1     1           0     0          0               1        0              0  \n",
       "2     2           0     0          0               1        0              0  \n",
       "3     2           0     0          0               0        1              0  \n",
       "4     1           0     0          0               1        0              0  "
      ]
     },
     "execution_count": 74,
     "metadata": {},
     "output_type": "execute_result"
    }
   ],
   "source": [
    "df.head()"
   ]
  },
  {
   "cell_type": "markdown",
   "id": "602e8516",
   "metadata": {},
   "source": [
    "renomeando colunas com base nas siglas e informações do dataset"
   ]
  },
  {
   "cell_type": "code",
   "execution_count": 50,
   "id": "1881cf19",
   "metadata": {},
   "outputs": [],
   "source": [
    "df = df.rename(columns= {'Gender':'gender', 'family_history_with_overweight':'overweight_family_history' ,'Age':'age', 'FAVC':'caloric_food_intake', 'FCVC':'vegetable_intake', 'NCP':'meal_count', 'CAEC':'food_between_meals', 'SMOKE':'smoking', 'CH2O':'water_intake', 'SCC':'calorie_monitoring', 'FAF':'physical_activity', 'TUE':'screen_time', 'Automobile':'automobile', 'Bike':'bike', 'Motorbike':'motorbike', 'Public_Transportation':'public_transit', 'Walking':'walking', 'NObeyesdad':'obesity_level' })"
   ]
  },
  {
   "cell_type": "markdown",
   "id": "8f3c3ae1",
   "metadata": {},
   "source": [
    "renomear atributos das colunas: gênero"
   ]
  },
  {
   "cell_type": "code",
   "execution_count": 51,
   "id": "64814032",
   "metadata": {},
   "outputs": [],
   "source": [
    "def rename_gender(gender):\n",
    "    if gender == 0:\n",
    "        return 'Female'\n",
    "    else:\n",
    "        return 'Male'"
   ]
  },
  {
   "cell_type": "code",
   "execution_count": 52,
   "id": "08074fe6",
   "metadata": {},
   "outputs": [],
   "source": [
    "df['gender'] = df['gender'].apply(rename_gender)"
   ]
  },
  {
   "cell_type": "markdown",
   "id": "3ecb0e30",
   "metadata": {},
   "source": [
    "renomear atributos das colunas: boleanos"
   ]
  },
  {
   "cell_type": "code",
   "execution_count": 53,
   "id": "65fc53c2",
   "metadata": {},
   "outputs": [],
   "source": [
    "def rename_bool_data(data):\n",
    "    if data == 0:\n",
    "        return 'No'\n",
    "    else:\n",
    "        return 'Yes'"
   ]
  },
  {
   "cell_type": "code",
   "execution_count": 54,
   "id": "09a16aa1",
   "metadata": {},
   "outputs": [],
   "source": [
    "df['overweight_family_history'] = df['overweight_family_history'].apply(rename_bool_data)"
   ]
  },
  {
   "cell_type": "code",
   "execution_count": 55,
   "id": "4cc3ce12",
   "metadata": {},
   "outputs": [],
   "source": [
    "df['caloric_food_intake'] = df['caloric_food_intake'].apply(rename_bool_data)"
   ]
  },
  {
   "cell_type": "code",
   "execution_count": 56,
   "id": "8b04c192",
   "metadata": {},
   "outputs": [],
   "source": [
    "df['smoking'] = df['smoking'].apply(rename_bool_data)"
   ]
  },
  {
   "cell_type": "code",
   "execution_count": 57,
   "id": "656f14c6",
   "metadata": {},
   "outputs": [],
   "source": [
    "df['calorie_monitoring'] = df['calorie_monitoring'].apply(rename_bool_data)"
   ]
  },
  {
   "cell_type": "markdown",
   "id": "5a14d562",
   "metadata": {},
   "source": [
    "renomear atributos das colunas: consumo de vegetais"
   ]
  },
  {
   "cell_type": "code",
   "execution_count": 58,
   "id": "c0885f00",
   "metadata": {},
   "outputs": [
    {
     "data": {
      "text/plain": [
       "vegetable_intake\n",
       "2.568.063    2\n",
       "2.903.545    2\n",
       "2.938.031    2\n",
       "2.823.179    2\n",
       "2.442.536    2\n",
       "            ..\n",
       "2.919.526    1\n",
       "2.724.121    1\n",
       "2.801.992    1\n",
       "2.748.971    1\n",
       "201.695      1\n",
       "Name: count, Length: 807, dtype: int64"
      ]
     },
     "execution_count": 58,
     "metadata": {},
     "output_type": "execute_result"
    }
   ],
   "source": [
    "df[~df['vegetable_intake'].isin(['1', '2', '3'])]['vegetable_intake'].value_counts()"
   ]
  },
  {
   "cell_type": "code",
   "execution_count": 59,
   "id": "1738f36e",
   "metadata": {},
   "outputs": [],
   "source": [
    "df['vegetable_intake'] = df['vegetable_intake'].str[:1]"
   ]
  },
  {
   "cell_type": "code",
   "execution_count": 63,
   "id": "567c1bfd",
   "metadata": {},
   "outputs": [
    {
     "data": {
      "text/plain": [
       "vegetable_intake\n",
       "moderate consumption    1257\n",
       "high consumption         652\n",
       "low consumption          202\n",
       "Name: count, dtype: int64"
      ]
     },
     "execution_count": 63,
     "metadata": {},
     "output_type": "execute_result"
    }
   ],
   "source": [
    "df['vegetable_intake'].value_counts()"
   ]
  },
  {
   "cell_type": "code",
   "execution_count": 70,
   "id": "378a8af4",
   "metadata": {},
   "outputs": [],
   "source": [
    "def rename_consumption(data):\n",
    "    if data == '0':\n",
    "        return 'does not consume'\n",
    "    elif data == '1':\n",
    "        return 'low consumption'\n",
    "    elif data == '2':\n",
    "        return 'moderate consumption'\n",
    "    else:\n",
    "        return 'high consumption'"
   ]
  },
  {
   "cell_type": "code",
   "execution_count": null,
   "id": "11c75bca",
   "metadata": {},
   "outputs": [],
   "source": [
    "df['vegetable_intake'] = df['vegetable_intake'].apply(rename_consumption)"
   ]
  },
  {
   "cell_type": "markdown",
   "id": "226bf684",
   "metadata": {},
   "source": [
    "renomear atributos das colunas: consumo de água"
   ]
  },
  {
   "cell_type": "code",
   "execution_count": 66,
   "id": "d5293892",
   "metadata": {},
   "outputs": [
    {
     "data": {
      "text/plain": [
       "<bound method IndexOpsMixin.value_counts of 0               2\n",
       "1               3\n",
       "2               2\n",
       "3               2\n",
       "4               2\n",
       "          ...    \n",
       "2106    1.728.139\n",
       "2107      200.513\n",
       "2108    2.054.193\n",
       "2109    2.852.339\n",
       "2110    2.863.513\n",
       "Name: water_intake, Length: 2111, dtype: object>"
      ]
     },
     "execution_count": 66,
     "metadata": {},
     "output_type": "execute_result"
    }
   ],
   "source": [
    "df['water_intake'].value_counts"
   ]
  },
  {
   "cell_type": "code",
   "execution_count": 67,
   "id": "9eaacc45",
   "metadata": {},
   "outputs": [
    {
     "data": {
      "text/plain": [
       "water_intake\n",
       "1.636.326    3\n",
       "2.825.629    3\n",
       "1.876.915    2\n",
       "2.450.069    2\n",
       "1.490.613    2\n",
       "            ..\n",
       "2.722.276    1\n",
       "2.634.342    1\n",
       "261.939      1\n",
       "278.678      1\n",
       "1.152.736    1\n",
       "Name: count, Length: 1265, dtype: int64"
      ]
     },
     "execution_count": 67,
     "metadata": {},
     "output_type": "execute_result"
    }
   ],
   "source": [
    "df[~df['water_intake'].isin(['0', '1', '2', '3', '4'])]['water_intake'].value_counts()"
   ]
  },
  {
   "cell_type": "code",
   "execution_count": 68,
   "id": "ecfc1d9f",
   "metadata": {},
   "outputs": [],
   "source": [
    "df['water_intake'] = df['water_intake'].str[:1]"
   ]
  },
  {
   "cell_type": "code",
   "execution_count": 73,
   "id": "ab74fef7",
   "metadata": {},
   "outputs": [
    {
     "data": {
      "text/plain": [
       "water_intake\n",
       "moderate consumption    1180\n",
       "low consumption          769\n",
       "high consumption         162\n",
       "Name: count, dtype: int64"
      ]
     },
     "execution_count": 73,
     "metadata": {},
     "output_type": "execute_result"
    }
   ],
   "source": [
    "df['water_intake'].value_counts()"
   ]
  },
  {
   "cell_type": "code",
   "execution_count": 72,
   "id": "4c26aa29",
   "metadata": {},
   "outputs": [],
   "source": [
    "df['water_intake'] = df['water_intake'].apply(rename_consumption)"
   ]
  },
  {
   "cell_type": "code",
   "execution_count": 75,
   "id": "e3600f1a",
   "metadata": {},
   "outputs": [],
   "source": [
    "df.to_csv('D:/python/bellabeat-analysis/database/obesity-data/cleaned_data_obesity.csv', index = False)"
   ]
  }
 ],
 "metadata": {
  "kernelspec": {
   "display_name": "Python 3",
   "language": "python",
   "name": "python3"
  },
  "language_info": {
   "codemirror_mode": {
    "name": "ipython",
    "version": 3
   },
   "file_extension": ".py",
   "mimetype": "text/x-python",
   "name": "python",
   "nbconvert_exporter": "python",
   "pygments_lexer": "ipython3",
   "version": "3.13.2"
  }
 },
 "nbformat": 4,
 "nbformat_minor": 5
}
