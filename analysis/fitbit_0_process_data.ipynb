{
 "cells": [
  {
   "cell_type": "markdown",
   "id": "2875aea1",
   "metadata": {},
   "source": [
    "## Adicionar colunas para ajudar a análise"
   ]
  },
  {
   "cell_type": "code",
   "execution_count": 2,
   "id": "f86b420e",
   "metadata": {},
   "outputs": [],
   "source": [
    "import pandas as pd\n",
    "from pathlib import Path"
   ]
  },
  {
   "cell_type": "code",
   "execution_count": 3,
   "id": "19ae0435",
   "metadata": {},
   "outputs": [
    {
     "name": "stdout",
     "output_type": "stream",
     "text": [
      "caminho do diretório D:\\python\\bellabeat-analysis\n"
     ]
    }
   ],
   "source": [
    "# This facilitates opening the file,  wihout needing to input all the file path, as there are two people coding in this project.\n",
    "caminho_arquivo = Path('dailyActivity_merged.csv').resolve().parents[1]\n",
    "print('caminho do diretório',caminho_arquivo)"
   ]
  },
  {
   "cell_type": "code",
   "execution_count": 10,
   "id": "29274835",
   "metadata": {},
   "outputs": [],
   "source": [
    "d_activity = pd.read_csv(f'{caminho_arquivo}/database/fitbit-data/dailyActivity_merged.csv')\n",
    "heartrate = pd.read_csv(f'{caminho_arquivo}/database/fitbit-data/heartrate_seconds_merged.csv')\n",
    "h_calories = pd.read_csv(f'{caminho_arquivo}/database/fitbit-data/hourlyCalories_merged.csv')\n",
    "h_intensity = pd.read_csv(f'{caminho_arquivo}/database/fitbit-data/hourlyIntensities_merged.csv')\n",
    "m_calories = pd.read_csv(f'{caminho_arquivo}/database/fitbit-data/minuteCaloriesNarrow_merged.csv')\n",
    "m_intensity = pd.read_csv(f'{caminho_arquivo}/database/fitbit-data/minuteIntensitiesNarrow_merged.csv')\n",
    "m_sleep = pd.read_csv(f'{caminho_arquivo}//database/fitbit-data/minuteSleep_merged.csv')\n",
    "weightlog = pd.read_csv(f'{caminho_arquivo}/database/fitbit-data/weightLogInfo_merged.csv')"
   ]
  },
  {
   "cell_type": "markdown",
   "id": "332c8e0a",
   "metadata": {},
   "source": [
    "### Coluna de IMC - weightlog"
   ]
  },
  {
   "cell_type": "code",
   "execution_count": null,
   "id": "29ebd21f",
   "metadata": {},
   "outputs": [],
   "source": [
    "for index, linha in weightlog.iterrows():\n",
    "     BMI = linha['BMI']\n",
    "     if BMI < 18.5:\n",
    "         weightlog.at[index, 'BMI_describe'] = 'Underweight'\n",
    "     elif BMI >= 18.5 and BMI <= 24.9:\n",
    "         weightlog.at[index, 'BMI_describe'] = 'Normal weight'\n",
    "     elif BMI >= 25 and BMI <= 29.9:\n",
    "         weightlog.at[index, 'BMI_describe'] = 'Overweight'\n",
    "     else:\n",
    "         weightlog.at[index, 'BMI_describe'] = 'Obesity'"
   ]
  },
  {
   "cell_type": "code",
   "execution_count": null,
   "id": "589de457",
   "metadata": {},
   "outputs": [],
   "source": [
    "weightlog.to_csv('weightLogInfo_merged_treated.csv', index= False)"
   ]
  },
  {
   "cell_type": "markdown",
   "id": "f8dd0e4c",
   "metadata": {},
   "source": [
    "### Coluna de exercício somado - d_activity"
   ]
  },
  {
   "cell_type": "code",
   "execution_count": null,
   "id": "bf9a05b8",
   "metadata": {},
   "outputs": [
    {
     "name": "stdout",
     "output_type": "stream",
     "text": [
      "<class 'pandas.core.frame.DataFrame'>\n",
      "RangeIndex: 457 entries, 0 to 456\n",
      "Data columns (total 15 columns):\n",
      " #   Column                    Non-Null Count  Dtype  \n",
      "---  ------                    --------------  -----  \n",
      " 0   Id                        457 non-null    int64  \n",
      " 1   ActivityDate              457 non-null    object \n",
      " 2   TotalSteps                457 non-null    int64  \n",
      " 3   TotalDistance             457 non-null    float64\n",
      " 4   TrackerDistance           457 non-null    float64\n",
      " 5   LoggedActivitiesDistance  457 non-null    float64\n",
      " 6   VeryActiveDistance        457 non-null    float64\n",
      " 7   ModeratelyActiveDistance  457 non-null    float64\n",
      " 8   LightActiveDistance       457 non-null    float64\n",
      " 9   SedentaryActiveDistance   457 non-null    float64\n",
      " 10  VeryActiveMinutes         457 non-null    int64  \n",
      " 11  FairlyActiveMinutes       457 non-null    int64  \n",
      " 12  LightlyActiveMinutes      457 non-null    int64  \n",
      " 13  SedentaryMinutes          457 non-null    int64  \n",
      " 14  Calories                  457 non-null    int64  \n",
      "dtypes: float64(7), int64(7), object(1)\n",
      "memory usage: 53.7+ KB\n"
     ]
    }
   ],
   "source": [
    "d_activity.info()"
   ]
  }
 ],
 "metadata": {
  "kernelspec": {
   "display_name": "Python 3",
   "language": "python",
   "name": "python3"
  },
  "language_info": {
   "codemirror_mode": {
    "name": "ipython",
    "version": 3
   },
   "file_extension": ".py",
   "mimetype": "text/x-python",
   "name": "python",
   "nbconvert_exporter": "python",
   "pygments_lexer": "ipython3",
   "version": "3.13.2"
  }
 },
 "nbformat": 4,
 "nbformat_minor": 5
}
