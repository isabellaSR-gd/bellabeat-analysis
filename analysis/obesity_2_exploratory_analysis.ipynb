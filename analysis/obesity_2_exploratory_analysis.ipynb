{
 "cells": [
  {
   "cell_type": "markdown",
   "id": "ad1ee82b",
   "metadata": {},
   "source": [
    "# Exploratory data analysis - obesity"
   ]
  },
  {
   "cell_type": "code",
<<<<<<< HEAD
   "execution_count": 2,
=======
   "execution_count": 1,
>>>>>>> 87d1118a10d642a32ad029f1b62999a0ac67e1e5
   "id": "c7986f29",
   "metadata": {},
   "outputs": [],
   "source": [
    "import pandas as pd\n",
    "from pathlib import Path\n",
    "import matplotlib.pyplot as plt\n",
    "import plotly.express as px\n",
    "import numpy as np "
   ]
  },
  {
   "cell_type": "code",
<<<<<<< HEAD
   "execution_count": 3,
=======
   "execution_count": 2,
>>>>>>> 87d1118a10d642a32ad029f1b62999a0ac67e1e5
   "id": "39046513",
   "metadata": {},
   "outputs": [
    {
     "name": "stdout",
     "output_type": "stream",
     "text": [
      "caminho do diretório C:\\Users\\niniv\\OneDrive\\Área de Trabalho\\bellabeat-analysis\n"
     ]
    }
   ],
   "source": [
    "# This facility open the file,  wihout pass all the file path \n",
    "caminho_arquivo = Path('clean_new_data_obesity.csv').resolve().parents[1]\n",
    "print('caminho do diretório',caminho_arquivo)"
   ]
  },
  {
   "cell_type": "code",
<<<<<<< HEAD
   "execution_count": 4,
=======
   "execution_count": 3,
>>>>>>> 87d1118a10d642a32ad029f1b62999a0ac67e1e5
   "id": "5518e5df",
   "metadata": {},
   "outputs": [],
   "source": [
    "# upload data set \n",
    "df = pd.read_csv(f'{caminho_arquivo}/database/obesity-data/cleaned_data_obesity.csv', sep =',')"
   ]
  },
  {
   "cell_type": "code",
<<<<<<< HEAD
   "execution_count": 5,
=======
   "execution_count": 4,
>>>>>>> 87d1118a10d642a32ad029f1b62999a0ac67e1e5
   "id": "7ef3af5b",
   "metadata": {},
   "outputs": [
    {
     "data": {
      "text/html": [
       "<div>\n",
       "<style scoped>\n",
       "    .dataframe tbody tr th:only-of-type {\n",
       "        vertical-align: middle;\n",
       "    }\n",
       "\n",
       "    .dataframe tbody tr th {\n",
       "        vertical-align: top;\n",
       "    }\n",
       "\n",
       "    .dataframe thead th {\n",
       "        text-align: right;\n",
       "    }\n",
       "</style>\n",
       "<table border=\"1\" class=\"dataframe\">\n",
       "  <thead>\n",
       "    <tr style=\"text-align: right;\">\n",
       "      <th></th>\n",
       "      <th>Gender</th>\n",
       "      <th>Age</th>\n",
       "      <th>Height (cm)</th>\n",
       "      <th>Overweight_Family</th>\n",
       "      <th>Consumption_of_Fast_Food</th>\n",
       "      <th>Frequency_of_Consuming_Vegetables</th>\n",
       "      <th>Number_of_Main_Meals_Daily</th>\n",
       "      <th>Food_Intake_Between_Meals</th>\n",
       "      <th>Smoking</th>\n",
       "      <th>Liquid_Intake_Daily</th>\n",
       "      <th>Calculation_of_Calorie_Intake</th>\n",
       "      <th>Weekly_Physical_Activity</th>\n",
       "      <th>Schedule_Dedicated_to_Technology</th>\n",
       "      <th>Type_of_Transportation_Used</th>\n",
       "      <th>Class</th>\n",
       "    </tr>\n",
       "  </thead>\n",
       "  <tbody>\n",
       "    <tr>\n",
       "      <th>0</th>\n",
       "      <td>Female</td>\n",
       "      <td>18</td>\n",
       "      <td>155</td>\n",
       "      <td>No</td>\n",
       "      <td>No</td>\n",
       "      <td>3-Always</td>\n",
       "      <td>1</td>\n",
       "      <td>3-Usually</td>\n",
       "      <td>No</td>\n",
       "      <td>Less than a liter</td>\n",
       "      <td>No</td>\n",
       "      <td>3-4 days</td>\n",
       "      <td>5+ hours</td>\n",
       "      <td>4</td>\n",
       "      <td>Normal Weight</td>\n",
       "    </tr>\n",
       "    <tr>\n",
       "      <th>1</th>\n",
       "      <td>Female</td>\n",
       "      <td>18</td>\n",
       "      <td>158</td>\n",
       "      <td>No</td>\n",
       "      <td>No</td>\n",
       "      <td>3-Always</td>\n",
       "      <td>1</td>\n",
       "      <td>1-Rarely</td>\n",
       "      <td>No</td>\n",
       "      <td>Less than a liter</td>\n",
       "      <td>No</td>\n",
       "      <td>No physical activity</td>\n",
       "      <td>5+ hours</td>\n",
       "      <td>3</td>\n",
       "      <td>Normal Weight</td>\n",
       "    </tr>\n",
       "    <tr>\n",
       "      <th>2</th>\n",
       "      <td>Female</td>\n",
       "      <td>18</td>\n",
       "      <td>159</td>\n",
       "      <td>No</td>\n",
       "      <td>No</td>\n",
       "      <td>2-Sometimes</td>\n",
       "      <td>1</td>\n",
       "      <td>3-Usually</td>\n",
       "      <td>No</td>\n",
       "      <td>More than 2 liters</td>\n",
       "      <td>No</td>\n",
       "      <td>1-2 days</td>\n",
       "      <td>5+ hours</td>\n",
       "      <td>4</td>\n",
       "      <td>Normal Weight</td>\n",
       "    </tr>\n",
       "    <tr>\n",
       "      <th>3</th>\n",
       "      <td>Female</td>\n",
       "      <td>18</td>\n",
       "      <td>162</td>\n",
       "      <td>No</td>\n",
       "      <td>No</td>\n",
       "      <td>2-Sometimes</td>\n",
       "      <td>2</td>\n",
       "      <td>2-Sometimes</td>\n",
       "      <td>No</td>\n",
       "      <td>1 to 2 liters</td>\n",
       "      <td>No</td>\n",
       "      <td>No physical activity</td>\n",
       "      <td>5+ hours</td>\n",
       "      <td>4</td>\n",
       "      <td>Normal Weight</td>\n",
       "    </tr>\n",
       "  </tbody>\n",
       "</table>\n",
       "</div>"
      ],
      "text/plain": [
       "   Gender  Age  Height (cm) Overweight_Family Consumption_of_Fast_Food  \\\n",
       "0  Female   18          155                No                       No   \n",
       "1  Female   18          158                No                       No   \n",
       "2  Female   18          159                No                       No   \n",
       "3  Female   18          162                No                       No   \n",
       "\n",
       "  Frequency_of_Consuming_Vegetables  Number_of_Main_Meals_Daily  \\\n",
       "0                          3-Always                           1   \n",
       "1                          3-Always                           1   \n",
       "2                       2-Sometimes                           1   \n",
       "3                       2-Sometimes                           2   \n",
       "\n",
       "  Food_Intake_Between_Meals Smoking Liquid_Intake_Daily  \\\n",
       "0                 3-Usually      No   Less than a liter   \n",
       "1                  1-Rarely      No   Less than a liter   \n",
       "2                 3-Usually      No  More than 2 liters   \n",
       "3               2-Sometimes      No       1 to 2 liters   \n",
       "\n",
       "  Calculation_of_Calorie_Intake Weekly_Physical_Activity  \\\n",
       "0                            No                 3-4 days   \n",
       "1                            No     No physical activity   \n",
       "2                            No                 1-2 days   \n",
       "3                            No     No physical activity   \n",
       "\n",
       "  Schedule_Dedicated_to_Technology  Type_of_Transportation_Used          Class  \n",
       "0                         5+ hours                            4  Normal Weight  \n",
       "1                         5+ hours                            3  Normal Weight  \n",
       "2                         5+ hours                            4  Normal Weight  \n",
       "3                         5+ hours                            4  Normal Weight  "
      ]
     },
<<<<<<< HEAD
     "execution_count": 5,
=======
     "execution_count": 4,
>>>>>>> 87d1118a10d642a32ad029f1b62999a0ac67e1e5
     "metadata": {},
     "output_type": "execute_result"
    }
   ],
   "source": [
    "# opening file obsity \n",
    "df.head(4)"
   ]
  },
  {
   "cell_type": "code",
<<<<<<< HEAD
   "execution_count": 6,
=======
   "execution_count": 5,
>>>>>>> 87d1118a10d642a32ad029f1b62999a0ac67e1e5
   "id": "f0cfb189",
   "metadata": {},
   "outputs": [],
   "source": [
    "select_columns = df[['Overweight_Family', 'Consumption_of_Fast_Food', 'Class']]\n"
   ]
  },
  {
   "cell_type": "code",
   "execution_count": 17,
   "id": "76c45423",
   "metadata": {},
   "outputs": [
    {
     "data": {
      "text/plain": [
       "Class\n",
       "Normal Weight    658\n",
       "Overweight       592\n",
       "Obesity          287\n",
       "Underweight       73\n",
       "Name: count, dtype: int64"
      ]
     },
     "execution_count": 17,
     "metadata": {},
     "output_type": "execute_result"
    }
   ],
   "source": [
    "df['Class'].value_counts()"
   ]
  },
  {
   "cell_type": "markdown",
   "id": "070e71fd",
   "metadata": {},
   "source": [
    "## Análise exercício vs peso"
   ]
  },
  {
   "cell_type": "code",
<<<<<<< HEAD
   "execution_count": 7,
=======
   "execution_count": 6,
>>>>>>> 87d1118a10d642a32ad029f1b62999a0ac67e1e5
   "id": "3783b59f",
   "metadata": {},
   "outputs": [
    {
     "data": {
      "text/html": [
       "<div>\n",
       "<style scoped>\n",
       "    .dataframe tbody tr th:only-of-type {\n",
       "        vertical-align: middle;\n",
       "    }\n",
       "\n",
       "    .dataframe tbody tr th {\n",
       "        vertical-align: top;\n",
       "    }\n",
       "\n",
       "    .dataframe thead tr th {\n",
       "        text-align: left;\n",
       "    }\n",
       "\n",
       "    .dataframe thead tr:last-of-type th {\n",
       "        text-align: right;\n",
       "    }\n",
       "</style>\n",
       "<table border=\"1\" class=\"dataframe\">\n",
       "  <thead>\n",
       "    <tr>\n",
       "      <th></th>\n",
       "      <th colspan=\"4\" halign=\"left\">Age</th>\n",
       "    </tr>\n",
       "    <tr>\n",
       "      <th>Class</th>\n",
       "      <th>Normal Weight</th>\n",
       "      <th>Obesity</th>\n",
       "      <th>Overweight</th>\n",
       "      <th>Underweight</th>\n",
       "    </tr>\n",
       "    <tr>\n",
       "      <th>Weekly_Physical_Activity</th>\n",
       "      <th></th>\n",
       "      <th></th>\n",
       "      <th></th>\n",
       "      <th></th>\n",
       "    </tr>\n",
       "  </thead>\n",
       "  <tbody>\n",
       "    <tr>\n",
       "      <th>1-2 days</th>\n",
       "      <td>145.0</td>\n",
       "      <td>38.0</td>\n",
       "      <td>93.0</td>\n",
       "      <td>14.0</td>\n",
       "    </tr>\n",
       "    <tr>\n",
       "      <th>3-4 days</th>\n",
       "      <td>187.0</td>\n",
       "      <td>52.0</td>\n",
       "      <td>127.0</td>\n",
       "      <td>4.0</td>\n",
       "    </tr>\n",
       "    <tr>\n",
       "      <th>5-6 days</th>\n",
       "      <td>116.0</td>\n",
       "      <td>68.0</td>\n",
       "      <td>172.0</td>\n",
       "      <td>2.0</td>\n",
       "    </tr>\n",
       "    <tr>\n",
       "      <th>6+ days</th>\n",
       "      <td>97.0</td>\n",
       "      <td>120.0</td>\n",
       "      <td>169.0</td>\n",
       "      <td>NaN</td>\n",
       "    </tr>\n",
       "    <tr>\n",
       "      <th>No physical activity</th>\n",
       "      <td>113.0</td>\n",
       "      <td>9.0</td>\n",
       "      <td>31.0</td>\n",
       "      <td>53.0</td>\n",
       "    </tr>\n",
       "  </tbody>\n",
       "</table>\n",
       "</div>"
      ],
      "text/plain": [
       "                                   Age                               \n",
       "Class                    Normal Weight Obesity Overweight Underweight\n",
       "Weekly_Physical_Activity                                             \n",
       "1-2 days                         145.0    38.0       93.0        14.0\n",
       "3-4 days                         187.0    52.0      127.0         4.0\n",
       "5-6 days                         116.0    68.0      172.0         2.0\n",
       "6+ days                           97.0   120.0      169.0         NaN\n",
       "No physical activity             113.0     9.0       31.0        53.0"
      ]
     },
<<<<<<< HEAD
     "execution_count": 7,
=======
     "execution_count": 6,
>>>>>>> 87d1118a10d642a32ad029f1b62999a0ac67e1e5
     "metadata": {},
     "output_type": "execute_result"
    }
   ],
   "source": [
    "pd.pivot_table(df, values= ['Age'] , index= ['Weekly_Physical_Activity'], columns= ['Class'], aggfunc= 'count')"
   ]
  },
  {
   "cell_type": "code",
<<<<<<< HEAD
   "execution_count": 8,
=======
   "execution_count": 7,
>>>>>>> 87d1118a10d642a32ad029f1b62999a0ac67e1e5
   "id": "a8be6f66",
   "metadata": {},
   "outputs": [
    {
     "data": {
      "text/html": [
       "<div>\n",
       "<style scoped>\n",
       "    .dataframe tbody tr th:only-of-type {\n",
       "        vertical-align: middle;\n",
       "    }\n",
       "\n",
       "    .dataframe tbody tr th {\n",
       "        vertical-align: top;\n",
       "    }\n",
       "\n",
       "    .dataframe thead tr th {\n",
       "        text-align: left;\n",
       "    }\n",
       "\n",
       "    .dataframe thead tr:last-of-type th {\n",
       "        text-align: right;\n",
       "    }\n",
       "</style>\n",
       "<table border=\"1\" class=\"dataframe\">\n",
       "  <thead>\n",
       "    <tr>\n",
       "      <th></th>\n",
       "      <th colspan=\"4\" halign=\"left\">Age</th>\n",
       "    </tr>\n",
       "    <tr>\n",
       "      <th>Class</th>\n",
       "      <th>Normal Weight</th>\n",
       "      <th>Obesity</th>\n",
       "      <th>Overweight</th>\n",
       "      <th>Underweight</th>\n",
       "    </tr>\n",
       "    <tr>\n",
       "      <th>Liquid_Intake_Daily</th>\n",
       "      <th></th>\n",
       "      <th></th>\n",
       "      <th></th>\n",
       "      <th></th>\n",
       "    </tr>\n",
       "  </thead>\n",
       "  <tbody>\n",
       "    <tr>\n",
       "      <th>1 to 2 liters</th>\n",
       "      <td>211</td>\n",
       "      <td>114</td>\n",
       "      <td>178</td>\n",
       "      <td>20</td>\n",
       "    </tr>\n",
       "    <tr>\n",
       "      <th>Less than a liter</th>\n",
       "      <td>167</td>\n",
       "      <td>104</td>\n",
       "      <td>144</td>\n",
       "      <td>41</td>\n",
       "    </tr>\n",
       "    <tr>\n",
       "      <th>More than 2 liters</th>\n",
       "      <td>280</td>\n",
       "      <td>69</td>\n",
       "      <td>270</td>\n",
       "      <td>12</td>\n",
       "    </tr>\n",
       "  </tbody>\n",
       "</table>\n",
       "</div>"
      ],
      "text/plain": [
       "                              Age                               \n",
       "Class               Normal Weight Obesity Overweight Underweight\n",
       "Liquid_Intake_Daily                                             \n",
       "1 to 2 liters                 211     114        178          20\n",
       "Less than a liter             167     104        144          41\n",
       "More than 2 liters            280      69        270          12"
      ]
     },
<<<<<<< HEAD
     "execution_count": 8,
=======
     "execution_count": 7,
>>>>>>> 87d1118a10d642a32ad029f1b62999a0ac67e1e5
     "metadata": {},
     "output_type": "execute_result"
    }
   ],
   "source": [
    "pd.pivot_table(df, values = ['Age'], index= ['Liquid_Intake_Daily'], columns=['Class'], aggfunc='count')"
   ]
  },
  {
   "cell_type": "markdown",
   "id": "0794c76d",
   "metadata": {},
   "source": [
    "### Overweight family background and fast food consumption effect on weight"
   ]
  },
  {
   "cell_type": "code",
<<<<<<< HEAD
   "execution_count": 9,
=======
   "execution_count": 8,
>>>>>>> 87d1118a10d642a32ad029f1b62999a0ac67e1e5
   "id": "dd309315",
   "metadata": {},
   "outputs": [
    {
     "data": {
      "text/html": [
       "<div>\n",
       "<style scoped>\n",
       "    .dataframe tbody tr th:only-of-type {\n",
       "        vertical-align: middle;\n",
       "    }\n",
       "\n",
       "    .dataframe tbody tr th {\n",
       "        vertical-align: top;\n",
       "    }\n",
       "\n",
       "    .dataframe thead th {\n",
       "        text-align: right;\n",
       "    }\n",
       "</style>\n",
       "<table border=\"1\" class=\"dataframe\">\n",
       "  <thead>\n",
       "    <tr style=\"text-align: right;\">\n",
       "      <th></th>\n",
       "      <th>Class</th>\n",
       "      <th>Normal Weight</th>\n",
       "      <th>Obesity</th>\n",
       "      <th>Overweight</th>\n",
       "      <th>Underweight</th>\n",
       "    </tr>\n",
       "    <tr>\n",
       "      <th>Overweight_Family</th>\n",
       "      <th>Consumption_of_Fast_Food</th>\n",
       "      <th></th>\n",
       "      <th></th>\n",
       "      <th></th>\n",
       "      <th></th>\n",
       "    </tr>\n",
       "  </thead>\n",
       "  <tbody>\n",
       "    <tr>\n",
       "      <th rowspan=\"2\" valign=\"top\">No</th>\n",
       "      <th>No</th>\n",
       "      <td>552</td>\n",
       "      <td>84</td>\n",
       "      <td>353</td>\n",
       "      <td>59</td>\n",
       "    </tr>\n",
       "    <tr>\n",
       "      <th>Yes</th>\n",
       "      <td>53</td>\n",
       "      <td>81</td>\n",
       "      <td>154</td>\n",
       "      <td>8</td>\n",
       "    </tr>\n",
       "    <tr>\n",
       "      <th rowspan=\"2\" valign=\"top\">Yes</th>\n",
       "      <th>No</th>\n",
       "      <td>41</td>\n",
       "      <td>40</td>\n",
       "      <td>39</td>\n",
       "      <td>6</td>\n",
       "    </tr>\n",
       "    <tr>\n",
       "      <th>Yes</th>\n",
       "      <td>12</td>\n",
       "      <td>82</td>\n",
       "      <td>46</td>\n",
       "      <td>0</td>\n",
       "    </tr>\n",
       "  </tbody>\n",
       "</table>\n",
       "</div>"
      ],
      "text/plain": [
       "Class                                       Normal Weight  Obesity  \\\n",
       "Overweight_Family Consumption_of_Fast_Food                           \n",
       "No                No                                  552       84   \n",
       "                  Yes                                  53       81   \n",
       "Yes               No                                   41       40   \n",
       "                  Yes                                  12       82   \n",
       "\n",
       "Class                                       Overweight  Underweight  \n",
       "Overweight_Family Consumption_of_Fast_Food                           \n",
       "No                No                               353           59  \n",
       "                  Yes                              154            8  \n",
       "Yes               No                                39            6  \n",
       "                  Yes                               46            0  "
      ]
     },
<<<<<<< HEAD
     "execution_count": 9,
=======
     "execution_count": 8,
>>>>>>> 87d1118a10d642a32ad029f1b62999a0ac67e1e5
     "metadata": {},
     "output_type": "execute_result"
    }
   ],
   "source": [
    "associativa = pd.crosstab(\n",
    "    index=[select_columns['Overweight_Family'], select_columns['Consumption_of_Fast_Food']],\n",
    "    columns=select_columns['Class']\n",
    ")\n",
    "associativa "
   ]
  },
  {
   "cell_type": "code",
<<<<<<< HEAD
   "execution_count": 10,
=======
   "execution_count": 9,
>>>>>>> 87d1118a10d642a32ad029f1b62999a0ac67e1e5
   "id": "49d1ec84",
   "metadata": {},
   "outputs": [
    {
     "data": {
      "text/plain": [
<<<<<<< HEAD
       "<matplotlib.legend.Legend at 0x11530ffc260>"
      ]
     },
     "execution_count": 10,
=======
       "<matplotlib.legend.Legend at 0x23993fa6350>"
      ]
     },
     "execution_count": 9,
>>>>>>> 87d1118a10d642a32ad029f1b62999a0ac67e1e5
     "metadata": {},
     "output_type": "execute_result"
    },
    {
     "data": {
      "image/png": "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",
      "text/plain": [
       "<Figure size 640x480 with 1 Axes>"
      ]
     },
     "metadata": {},
     "output_type": "display_data"
    }
   ],
   "source": [
    "associativa.plot.bar()\n",
    "plt.legend(title = 'Overweight_Family')"
   ]
  },
  {
   "cell_type": "markdown",
   "id": "ab2b90c2",
   "metadata": {},
   "source": [
    "### Vegetable and fast food consumption effect on weight"
   ]
  },
  {
   "cell_type": "code",
   "execution_count": 11,
   "id": "dced5a77",
   "metadata": {},
   "outputs": [],
   "source": [
    "select_columns_2 = df[['Frequency_of_Consuming_Vegetables', 'Consumption_of_Fast_Food', 'Class']]"
   ]
  },
  {
   "cell_type": "code",
   "execution_count": 12,
   "id": "cc3018b9",
   "metadata": {},
   "outputs": [
    {
     "data": {
      "text/html": [
       "<div>\n",
       "<style scoped>\n",
       "    .dataframe tbody tr th:only-of-type {\n",
       "        vertical-align: middle;\n",
       "    }\n",
       "\n",
       "    .dataframe tbody tr th {\n",
       "        vertical-align: top;\n",
       "    }\n",
       "\n",
       "    .dataframe thead th {\n",
       "        text-align: right;\n",
       "    }\n",
       "</style>\n",
       "<table border=\"1\" class=\"dataframe\">\n",
       "  <thead>\n",
       "    <tr style=\"text-align: right;\">\n",
       "      <th></th>\n",
       "      <th>Class</th>\n",
       "      <th>Normal Weight</th>\n",
       "      <th>Obesity</th>\n",
       "      <th>Overweight</th>\n",
       "      <th>Underweight</th>\n",
       "    </tr>\n",
       "    <tr>\n",
       "      <th>Overweight_Family</th>\n",
       "      <th>Consumption_of_Fast_Food</th>\n",
       "      <th></th>\n",
       "      <th></th>\n",
       "      <th></th>\n",
       "      <th></th>\n",
       "    </tr>\n",
       "  </thead>\n",
       "  <tbody>\n",
       "    <tr>\n",
       "      <th rowspan=\"2\" valign=\"top\">No</th>\n",
       "      <th>No</th>\n",
       "      <td>552</td>\n",
       "      <td>84</td>\n",
       "      <td>353</td>\n",
       "      <td>59</td>\n",
       "    </tr>\n",
       "    <tr>\n",
       "      <th>Yes</th>\n",
       "      <td>53</td>\n",
       "      <td>81</td>\n",
       "      <td>154</td>\n",
       "      <td>8</td>\n",
       "    </tr>\n",
       "    <tr>\n",
       "      <th rowspan=\"2\" valign=\"top\">Yes</th>\n",
       "      <th>No</th>\n",
       "      <td>41</td>\n",
       "      <td>40</td>\n",
       "      <td>39</td>\n",
       "      <td>6</td>\n",
       "    </tr>\n",
       "    <tr>\n",
       "      <th>Yes</th>\n",
       "      <td>12</td>\n",
       "      <td>82</td>\n",
       "      <td>46</td>\n",
       "      <td>0</td>\n",
       "    </tr>\n",
       "  </tbody>\n",
       "</table>\n",
       "</div>"
      ],
      "text/plain": [
       "Class                                       Normal Weight  Obesity  \\\n",
       "Overweight_Family Consumption_of_Fast_Food                           \n",
       "No                No                                  552       84   \n",
       "                  Yes                                  53       81   \n",
       "Yes               No                                   41       40   \n",
       "                  Yes                                  12       82   \n",
       "\n",
       "Class                                       Overweight  Underweight  \n",
       "Overweight_Family Consumption_of_Fast_Food                           \n",
       "No                No                               353           59  \n",
       "                  Yes                              154            8  \n",
       "Yes               No                                39            6  \n",
       "                  Yes                               46            0  "
      ]
     },
     "execution_count": 12,
     "metadata": {},
     "output_type": "execute_result"
    }
   ],
   "source": [
    "associativa_2 = pd.crosstab(\n",
    "    index=[select_columns_2['Frequency_of_Consuming_Vegetables'], select_columns_2['Consumption_of_Fast_Food']],\n",
    "    columns=select_columns_2['Class']\n",
    ")\n",
    "associativa "
   ]
  },
  {
   "cell_type": "code",
   "execution_count": 13,
   "id": "4436742b",
   "metadata": {},
   "outputs": [
    {
     "data": {
      "text/plain": [
<<<<<<< HEAD
       "<matplotlib.legend.Legend at 0x115312fd190>"
=======
       "<matplotlib.legend.Legend at 0x23994005090>"
>>>>>>> 87d1118a10d642a32ad029f1b62999a0ac67e1e5
      ]
     },
     "execution_count": 13,
     "metadata": {},
     "output_type": "execute_result"
    },
    {
     "data": {
      "image/png": "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",
      "text/plain": [
       "<Figure size 640x480 with 1 Axes>"
      ]
     },
     "metadata": {},
     "output_type": "display_data"
    }
   ],
   "source": [
    "associativa_2.plot.bar()\n",
    "plt.legend(title = 'Overweight_Family')"
   ]
  },
  {
   "cell_type": "code",
<<<<<<< HEAD
   "execution_count": 14,
=======
   "execution_count": 15,
>>>>>>> 87d1118a10d642a32ad029f1b62999a0ac67e1e5
   "id": "298e6ac0",
   "metadata": {},
   "outputs": [
    {
     "ename": "NameError",
     "evalue": "name 'df_obsity' is not defined",
     "output_type": "error",
     "traceback": [
      "\u001b[1;31m---------------------------------------------------------------------------\u001b[0m",
      "\u001b[1;31mNameError\u001b[0m                                 Traceback (most recent call last)",
      "Cell \u001b[1;32mIn[14], line 1\u001b[0m\n\u001b[1;32m----> 1\u001b[0m select_columns_3 \u001b[38;5;241m=\u001b[39m \u001b[43mdf_obsity\u001b[49m[[\u001b[38;5;124m'\u001b[39m\u001b[38;5;124mWeekly_Physical_Activity\u001b[39m\u001b[38;5;124m'\u001b[39m, \u001b[38;5;124m'\u001b[39m\u001b[38;5;124mFrequency_of_Consuming_Vegetables\u001b[39m\u001b[38;5;124m'\u001b[39m, \u001b[38;5;124m'\u001b[39m\u001b[38;5;124mCalculation_of_Calorie_Intake\u001b[39m\u001b[38;5;124m'\u001b[39m,\u001b[38;5;124m'\u001b[39m\u001b[38;5;124mLiquid_Intake_Daily\u001b[39m\u001b[38;5;124m'\u001b[39m, \u001b[38;5;124m'\u001b[39m\u001b[38;5;124mClass\u001b[39m\u001b[38;5;124m'\u001b[39m]]\n",
      "\u001b[1;31mNameError\u001b[0m: name 'df_obsity' is not defined"
     ]
    }
   ],
   "source": [
    "select_columns_3 = df[['Weekly_Physical_Activity', 'Frequency_of_Consuming_Vegetables', 'Calculation_of_Calorie_Intake','Liquid_Intake_Daily', 'Class']]"
   ]
  },
  {
   "cell_type": "code",
   "execution_count": 16,
   "id": "45591369",
   "metadata": {},
   "outputs": [
    {
     "data": {
      "text/plain": [
       "<matplotlib.legend.Legend at 0x239958047d0>"
      ]
     },
     "execution_count": 16,
     "metadata": {},
     "output_type": "execute_result"
    },
    {
     "data": {
      "image/png": "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",
      "text/plain": [
       "<Figure size 640x480 with 1 Axes>"
      ]
     },
     "metadata": {},
     "output_type": "display_data"
    }
   ],
   "source": [
    "associativa_3 = pd.crosstab(\n",
    "    index=[select_columns_3['Weekly_Physical_Activity'],  select_columns_3['Liquid_Intake_Daily']],\n",
    "    columns=select_columns_3['Class']\n",
    ")\n",
    "associativa_3\n",
    "associativa_3.plot.bar()\n",
    "plt.legend(title = 'Overweight_Family')"
   ]
  }
 ],
 "metadata": {
  "kernelspec": {
   "display_name": "Python 3",
   "language": "python",
   "name": "python3"
  },
  "language_info": {
   "codemirror_mode": {
    "name": "ipython",
    "version": 3
   },
   "file_extension": ".py",
   "mimetype": "text/x-python",
   "name": "python",
   "nbconvert_exporter": "python",
   "pygments_lexer": "ipython3",
   "version": "3.12.3"
  }
 },
 "nbformat": 4,
 "nbformat_minor": 5
}
