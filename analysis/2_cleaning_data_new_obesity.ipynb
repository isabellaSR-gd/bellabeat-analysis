{
 "cells": [
  {
   "cell_type": "markdown",
   "id": "1c970146",
   "metadata": {},
   "source": [
    "Limpeza e reestruturação dos dados do dataset obesity"
   ]
  },
  {
   "cell_type": "code",
   "execution_count": 9,
   "id": "e6889e45",
   "metadata": {},
   "outputs": [],
   "source": [
    "import pandas as pd\n",
    "from pathlib import Path\n"
   ]
  },
  {
   "cell_type": "code",
   "execution_count": 10,
   "id": "7e5ca921",
   "metadata": {},
   "outputs": [
    {
     "name": "stdout",
     "output_type": "stream",
     "text": [
      "caminho do diretório D:\\python\\bellabeat-analysis\n"
     ]
    }
   ],
   "source": [
    "# Facilitar para não precisar ficar mudando o caminho do arquivo. \n",
    "caminho_arquivo = Path('obsety new.csv').resolve().parents[1]\n",
    "print('caminho do diretório',caminho_arquivo)"
   ]
  },
  {
   "cell_type": "code",
   "execution_count": 11,
   "id": "99c81977",
   "metadata": {},
   "outputs": [],
   "source": [
    "# Abrindo data set\n",
    "df = pd.read_csv(f'{caminho_arquivo}/database/obesity-data/Obesity_Dataset.csv', sep =',')"
   ]
  },
  {
   "cell_type": "code",
   "execution_count": 12,
   "id": "d32a81a7",
   "metadata": {},
   "outputs": [
    {
     "data": {
      "text/html": [
       "<div>\n",
       "<style scoped>\n",
       "    .dataframe tbody tr th:only-of-type {\n",
       "        vertical-align: middle;\n",
       "    }\n",
       "\n",
       "    .dataframe tbody tr th {\n",
       "        vertical-align: top;\n",
       "    }\n",
       "\n",
       "    .dataframe thead th {\n",
       "        text-align: right;\n",
       "    }\n",
       "</style>\n",
       "<table border=\"1\" class=\"dataframe\">\n",
       "  <thead>\n",
       "    <tr style=\"text-align: right;\">\n",
       "      <th></th>\n",
       "      <th>Sex</th>\n",
       "      <th>Age</th>\n",
       "      <th>Height</th>\n",
       "      <th>Overweight_Obese_Family</th>\n",
       "      <th>Consumption_of_Fast_Food</th>\n",
       "      <th>Frequency_of_Consuming_Vegetables</th>\n",
       "      <th>Number_of_Main_Meals_Daily</th>\n",
       "      <th>Food_Intake_Between_Meals</th>\n",
       "      <th>Smoking</th>\n",
       "      <th>Liquid_Intake_Daily</th>\n",
       "      <th>Calculation_of_Calorie_Intake</th>\n",
       "      <th>Physical_Excercise</th>\n",
       "      <th>Schedule_Dedicated_to_Technology</th>\n",
       "      <th>Type_of_Transportation_Used</th>\n",
       "      <th>Class</th>\n",
       "    </tr>\n",
       "  </thead>\n",
       "  <tbody>\n",
       "    <tr>\n",
       "      <th>0</th>\n",
       "      <td>2</td>\n",
       "      <td>18</td>\n",
       "      <td>155</td>\n",
       "      <td>2</td>\n",
       "      <td>2</td>\n",
       "      <td>3</td>\n",
       "      <td>1</td>\n",
       "      <td>3</td>\n",
       "      <td>2</td>\n",
       "      <td>1</td>\n",
       "      <td>2</td>\n",
       "      <td>3</td>\n",
       "      <td>3</td>\n",
       "      <td>4</td>\n",
       "      <td>2</td>\n",
       "    </tr>\n",
       "    <tr>\n",
       "      <th>1</th>\n",
       "      <td>2</td>\n",
       "      <td>18</td>\n",
       "      <td>158</td>\n",
       "      <td>2</td>\n",
       "      <td>2</td>\n",
       "      <td>3</td>\n",
       "      <td>1</td>\n",
       "      <td>1</td>\n",
       "      <td>2</td>\n",
       "      <td>1</td>\n",
       "      <td>2</td>\n",
       "      <td>1</td>\n",
       "      <td>3</td>\n",
       "      <td>3</td>\n",
       "      <td>2</td>\n",
       "    </tr>\n",
       "    <tr>\n",
       "      <th>2</th>\n",
       "      <td>2</td>\n",
       "      <td>18</td>\n",
       "      <td>159</td>\n",
       "      <td>2</td>\n",
       "      <td>2</td>\n",
       "      <td>2</td>\n",
       "      <td>1</td>\n",
       "      <td>3</td>\n",
       "      <td>2</td>\n",
       "      <td>3</td>\n",
       "      <td>2</td>\n",
       "      <td>2</td>\n",
       "      <td>3</td>\n",
       "      <td>4</td>\n",
       "      <td>2</td>\n",
       "    </tr>\n",
       "    <tr>\n",
       "      <th>3</th>\n",
       "      <td>2</td>\n",
       "      <td>18</td>\n",
       "      <td>162</td>\n",
       "      <td>2</td>\n",
       "      <td>2</td>\n",
       "      <td>2</td>\n",
       "      <td>2</td>\n",
       "      <td>2</td>\n",
       "      <td>2</td>\n",
       "      <td>2</td>\n",
       "      <td>2</td>\n",
       "      <td>1</td>\n",
       "      <td>3</td>\n",
       "      <td>4</td>\n",
       "      <td>2</td>\n",
       "    </tr>\n",
       "    <tr>\n",
       "      <th>4</th>\n",
       "      <td>2</td>\n",
       "      <td>18</td>\n",
       "      <td>165</td>\n",
       "      <td>2</td>\n",
       "      <td>1</td>\n",
       "      <td>2</td>\n",
       "      <td>1</td>\n",
       "      <td>3</td>\n",
       "      <td>2</td>\n",
       "      <td>1</td>\n",
       "      <td>2</td>\n",
       "      <td>3</td>\n",
       "      <td>3</td>\n",
       "      <td>2</td>\n",
       "      <td>2</td>\n",
       "    </tr>\n",
       "  </tbody>\n",
       "</table>\n",
       "</div>"
      ],
      "text/plain": [
       "   Sex  Age  Height  Overweight_Obese_Family  Consumption_of_Fast_Food  \\\n",
       "0    2   18     155                        2                         2   \n",
       "1    2   18     158                        2                         2   \n",
       "2    2   18     159                        2                         2   \n",
       "3    2   18     162                        2                         2   \n",
       "4    2   18     165                        2                         1   \n",
       "\n",
       "   Frequency_of_Consuming_Vegetables  Number_of_Main_Meals_Daily  \\\n",
       "0                                  3                           1   \n",
       "1                                  3                           1   \n",
       "2                                  2                           1   \n",
       "3                                  2                           2   \n",
       "4                                  2                           1   \n",
       "\n",
       "   Food_Intake_Between_Meals  Smoking  Liquid_Intake_Daily  \\\n",
       "0                          3        2                    1   \n",
       "1                          1        2                    1   \n",
       "2                          3        2                    3   \n",
       "3                          2        2                    2   \n",
       "4                          3        2                    1   \n",
       "\n",
       "   Calculation_of_Calorie_Intake  Physical_Excercise  \\\n",
       "0                              2                   3   \n",
       "1                              2                   1   \n",
       "2                              2                   2   \n",
       "3                              2                   1   \n",
       "4                              2                   3   \n",
       "\n",
       "   Schedule_Dedicated_to_Technology  Type_of_Transportation_Used  Class  \n",
       "0                                 3                            4      2  \n",
       "1                                 3                            3      2  \n",
       "2                                 3                            4      2  \n",
       "3                                 3                            4      2  \n",
       "4                                 3                            2      2  "
      ]
     },
     "execution_count": 12,
     "metadata": {},
     "output_type": "execute_result"
    }
   ],
   "source": [
    "df.head()"
   ]
  },
  {
   "cell_type": "markdown",
   "id": "602e8516",
   "metadata": {},
   "source": [
    "renomeando colunas com base nas siglas e informações do dataset"
   ]
  },
  {
   "cell_type": "code",
   "execution_count": 13,
   "id": "1881cf19",
   "metadata": {},
   "outputs": [],
   "source": [
    "# Renomeando as colunas\n",
    "df = df.rename(columns= {'Sex':'Gender' , 'Height':'Height (cm)', 'Overweight_Obese_Family':'Overweight_Family' , 'Physical_Excercise':'Weekly_Physical_Activity' })"
   ]
  },
  {
   "cell_type": "code",
   "execution_count": 14,
   "id": "3d0ffb82",
   "metadata": {},
   "outputs": [
    {
     "data": {
      "text/html": [
       "<div>\n",
       "<style scoped>\n",
       "    .dataframe tbody tr th:only-of-type {\n",
       "        vertical-align: middle;\n",
       "    }\n",
       "\n",
       "    .dataframe tbody tr th {\n",
       "        vertical-align: top;\n",
       "    }\n",
       "\n",
       "    .dataframe thead th {\n",
       "        text-align: right;\n",
       "    }\n",
       "</style>\n",
       "<table border=\"1\" class=\"dataframe\">\n",
       "  <thead>\n",
       "    <tr style=\"text-align: right;\">\n",
       "      <th></th>\n",
       "      <th>Gender</th>\n",
       "      <th>Age</th>\n",
       "      <th>Height (cm)</th>\n",
       "      <th>Overweight_Family</th>\n",
       "      <th>Consumption_of_Fast_Food</th>\n",
       "      <th>Frequency_of_Consuming_Vegetables</th>\n",
       "      <th>Number_of_Main_Meals_Daily</th>\n",
       "      <th>Food_Intake_Between_Meals</th>\n",
       "      <th>Smoking</th>\n",
       "      <th>Liquid_Intake_Daily</th>\n",
       "      <th>Calculation_of_Calorie_Intake</th>\n",
       "      <th>Weekly_Physical_Activity</th>\n",
       "      <th>Schedule_Dedicated_to_Technology</th>\n",
       "      <th>Type_of_Transportation_Used</th>\n",
       "      <th>Class</th>\n",
       "    </tr>\n",
       "  </thead>\n",
       "  <tbody>\n",
       "    <tr>\n",
       "      <th>0</th>\n",
       "      <td>2</td>\n",
       "      <td>18</td>\n",
       "      <td>155</td>\n",
       "      <td>2</td>\n",
       "      <td>2</td>\n",
       "      <td>3</td>\n",
       "      <td>1</td>\n",
       "      <td>3</td>\n",
       "      <td>2</td>\n",
       "      <td>1</td>\n",
       "      <td>2</td>\n",
       "      <td>3</td>\n",
       "      <td>3</td>\n",
       "      <td>4</td>\n",
       "      <td>2</td>\n",
       "    </tr>\n",
       "    <tr>\n",
       "      <th>1</th>\n",
       "      <td>2</td>\n",
       "      <td>18</td>\n",
       "      <td>158</td>\n",
       "      <td>2</td>\n",
       "      <td>2</td>\n",
       "      <td>3</td>\n",
       "      <td>1</td>\n",
       "      <td>1</td>\n",
       "      <td>2</td>\n",
       "      <td>1</td>\n",
       "      <td>2</td>\n",
       "      <td>1</td>\n",
       "      <td>3</td>\n",
       "      <td>3</td>\n",
       "      <td>2</td>\n",
       "    </tr>\n",
       "    <tr>\n",
       "      <th>2</th>\n",
       "      <td>2</td>\n",
       "      <td>18</td>\n",
       "      <td>159</td>\n",
       "      <td>2</td>\n",
       "      <td>2</td>\n",
       "      <td>2</td>\n",
       "      <td>1</td>\n",
       "      <td>3</td>\n",
       "      <td>2</td>\n",
       "      <td>3</td>\n",
       "      <td>2</td>\n",
       "      <td>2</td>\n",
       "      <td>3</td>\n",
       "      <td>4</td>\n",
       "      <td>2</td>\n",
       "    </tr>\n",
       "    <tr>\n",
       "      <th>3</th>\n",
       "      <td>2</td>\n",
       "      <td>18</td>\n",
       "      <td>162</td>\n",
       "      <td>2</td>\n",
       "      <td>2</td>\n",
       "      <td>2</td>\n",
       "      <td>2</td>\n",
       "      <td>2</td>\n",
       "      <td>2</td>\n",
       "      <td>2</td>\n",
       "      <td>2</td>\n",
       "      <td>1</td>\n",
       "      <td>3</td>\n",
       "      <td>4</td>\n",
       "      <td>2</td>\n",
       "    </tr>\n",
       "    <tr>\n",
       "      <th>4</th>\n",
       "      <td>2</td>\n",
       "      <td>18</td>\n",
       "      <td>165</td>\n",
       "      <td>2</td>\n",
       "      <td>1</td>\n",
       "      <td>2</td>\n",
       "      <td>1</td>\n",
       "      <td>3</td>\n",
       "      <td>2</td>\n",
       "      <td>1</td>\n",
       "      <td>2</td>\n",
       "      <td>3</td>\n",
       "      <td>3</td>\n",
       "      <td>2</td>\n",
       "      <td>2</td>\n",
       "    </tr>\n",
       "  </tbody>\n",
       "</table>\n",
       "</div>"
      ],
      "text/plain": [
       "   Gender  Age  Height (cm)  Overweight_Family  Consumption_of_Fast_Food  \\\n",
       "0       2   18          155                  2                         2   \n",
       "1       2   18          158                  2                         2   \n",
       "2       2   18          159                  2                         2   \n",
       "3       2   18          162                  2                         2   \n",
       "4       2   18          165                  2                         1   \n",
       "\n",
       "   Frequency_of_Consuming_Vegetables  Number_of_Main_Meals_Daily  \\\n",
       "0                                  3                           1   \n",
       "1                                  3                           1   \n",
       "2                                  2                           1   \n",
       "3                                  2                           2   \n",
       "4                                  2                           1   \n",
       "\n",
       "   Food_Intake_Between_Meals  Smoking  Liquid_Intake_Daily  \\\n",
       "0                          3        2                    1   \n",
       "1                          1        2                    1   \n",
       "2                          3        2                    3   \n",
       "3                          2        2                    2   \n",
       "4                          3        2                    1   \n",
       "\n",
       "   Calculation_of_Calorie_Intake  Weekly_Physical_Activity  \\\n",
       "0                              2                         3   \n",
       "1                              2                         1   \n",
       "2                              2                         2   \n",
       "3                              2                         1   \n",
       "4                              2                         3   \n",
       "\n",
       "   Schedule_Dedicated_to_Technology  Type_of_Transportation_Used  Class  \n",
       "0                                 3                            4      2  \n",
       "1                                 3                            3      2  \n",
       "2                                 3                            4      2  \n",
       "3                                 3                            4      2  \n",
       "4                                 3                            2      2  "
      ]
     },
     "execution_count": 14,
     "metadata": {},
     "output_type": "execute_result"
    }
   ],
   "source": [
    "df.head(5)"
   ]
  },
  {
   "cell_type": "markdown",
   "id": "8f3c3ae1",
   "metadata": {},
   "source": [
    "renomear atributos das colunas: gênero"
   ]
  },
  {
   "cell_type": "code",
   "execution_count": 15,
   "id": "64814032",
   "metadata": {},
   "outputs": [],
   "source": [
    "# Função para renomear os registros da coluna Gender\n",
    "def rename_gender(gender):\n",
    "    if gender == 2:\n",
    "        return 'Female'\n",
    "    else:\n",
    "        return 'Male'"
   ]
  },
  {
   "cell_type": "code",
   "execution_count": 16,
   "id": "08074fe6",
   "metadata": {},
   "outputs": [],
   "source": [
    "# Chamando a função rename_gender\n",
    "df['Gender'] = df['Gender'].apply(rename_gender)"
   ]
  },
  {
   "cell_type": "markdown",
   "id": "53f97967",
   "metadata": {},
   "source": [
    "Renomear atributos de frequência (comida entre refeições e consumo de vegetais)"
   ]
  },
  {
   "cell_type": "code",
   "execution_count": 17,
   "id": "28097322",
   "metadata": {},
   "outputs": [
    {
     "data": {
      "text/plain": [
       "Food_Intake_Between_Meals\n",
       "2    564\n",
       "3    417\n",
       "1    346\n",
       "4    283\n",
       "Name: count, dtype: int64"
      ]
     },
     "execution_count": 17,
     "metadata": {},
     "output_type": "execute_result"
    }
   ],
   "source": [
    "df['Food_Intake_Between_Meals'].value_counts()"
   ]
  },
  {
   "cell_type": "code",
   "execution_count": 18,
   "id": "322f25f9",
   "metadata": {},
   "outputs": [],
   "source": [
    "# Função para renomear os registros da coluna Food_Intake_Between_Meals\n",
    "def rename_food_intake(data):\n",
    "    if data == 1:\n",
    "        return '1-Rarely'\n",
    "    elif data == 2:\n",
    "        return '2-Sometimes'\n",
    "    elif data == 3:\n",
    "        return '3-Usually'\n",
    "    else:\n",
    "        return '4-Always'"
   ]
  },
  {
   "cell_type": "code",
   "execution_count": 19,
   "id": "969b5789",
   "metadata": {},
   "outputs": [],
   "source": [
    "# Chamando a função rename_food_intake\n",
    "df['Food_Intake_Between_Meals'] = df['Food_Intake_Between_Meals'].apply(rename_food_intake)"
   ]
  },
  {
   "cell_type": "code",
   "execution_count": 20,
   "id": "43680a0f",
   "metadata": {},
   "outputs": [
    {
     "data": {
      "text/plain": [
       "Frequency_of_Consuming_Vegetables\n",
       "2    708\n",
       "3    502\n",
       "1    400\n",
       "Name: count, dtype: int64"
      ]
     },
     "execution_count": 20,
     "metadata": {},
     "output_type": "execute_result"
    }
   ],
   "source": [
    "df['Frequency_of_Consuming_Vegetables'].value_counts()"
   ]
  },
  {
   "cell_type": "code",
   "execution_count": 21,
   "id": "2f2fab07",
   "metadata": {},
   "outputs": [],
   "source": [
    "# Função para renomear os registros da coluna Frequency_of_Consuming_Vegetables\n",
    "def rename_vegetable_intake(data):\n",
    "    if data == 1:\n",
    "        return '1-Rarely'\n",
    "    elif data == 2:\n",
    "        return '2-Sometimes'\n",
    "    else:\n",
    "        return '3-Always'"
   ]
  },
  {
   "cell_type": "code",
   "execution_count": 22,
   "id": "54a0288b",
   "metadata": {},
   "outputs": [],
   "source": [
    "# Chamando a função rename_vegetable_intake\n",
    "df['Frequency_of_Consuming_Vegetables'] = df['Frequency_of_Consuming_Vegetables'].apply(rename_vegetable_intake)"
   ]
  },
  {
   "cell_type": "markdown",
   "id": "3ecb0e30",
   "metadata": {},
   "source": [
    "renomear atributos das colunas: boleanos"
   ]
  },
  {
   "cell_type": "code",
   "execution_count": 23,
   "id": "65fc53c2",
   "metadata": {},
   "outputs": [],
   "source": [
    "# Função para renomear os registros das colunas Overweight_Family, Consumption_of_Fast_Food, Smoking\n",
    "def rename_bool_data(data):\n",
    "    if data == 2:\n",
    "        return 'No'\n",
    "    else:\n",
    "        return 'Yes'"
   ]
  },
  {
   "cell_type": "code",
   "execution_count": 24,
   "id": "09a16aa1",
   "metadata": {},
   "outputs": [],
   "source": [
    "# Chamando a função rename_bool_data\n",
    "df['Overweight_Family'] = df['Overweight_Family'].apply(rename_bool_data)"
   ]
  },
  {
   "cell_type": "code",
   "execution_count": 25,
   "id": "4cc3ce12",
   "metadata": {},
   "outputs": [],
   "source": [
    "# Chamando a função rename_bool_data\n",
    "df['Consumption_of_Fast_Food'] = df['Consumption_of_Fast_Food'].apply(rename_bool_data)"
   ]
  },
  {
   "cell_type": "code",
   "execution_count": 26,
   "id": "8b04c192",
   "metadata": {},
   "outputs": [],
   "source": [
    "# Chamando a função rename_bool_data\n",
    "df['Smoking'] = df['Smoking'].apply(rename_bool_data)"
   ]
  },
  {
   "cell_type": "code",
   "execution_count": 27,
   "id": "656f14c6",
   "metadata": {},
   "outputs": [],
   "source": [
    "# Chamando a função rename_bool_data\n",
    "df['Calculation_of_Calorie_Intake'] = df['Calculation_of_Calorie_Intake'].apply(rename_bool_data)"
   ]
  },
  {
   "cell_type": "markdown",
   "id": "226bf684",
   "metadata": {},
   "source": [
    "renomear atributos das colunas: consumo de água, physical activity, schedule to technology , type of transport, Class"
   ]
  },
  {
   "cell_type": "code",
   "execution_count": 28,
   "id": "4fdb6732",
   "metadata": {},
   "outputs": [],
   "source": [
    "# Função para renomear os registros da coluna Liquid_Intake_Daily\n",
    "def rename_water_intake(data):\n",
    "    if data == 1:\n",
    "        return 'Less than a liter'\n",
    "    elif data == 2:\n",
    "        return '1 to 2 liters'\n",
    "    else:\n",
    "        return 'More than 2 liters'\n",
    "        \n"
   ]
  },
  {
   "cell_type": "code",
   "execution_count": 29,
   "id": "ecfc1d9f",
   "metadata": {},
   "outputs": [],
   "source": [
    "# Chamando a função rename_water_intake\n",
    "df['Liquid_Intake_Daily'] = df['Liquid_Intake_Daily'].apply(rename_water_intake)"
   ]
  },
  {
   "cell_type": "code",
   "execution_count": 30,
   "id": "e8702320",
   "metadata": {},
   "outputs": [],
   "source": [
    "# Função para renomear os registros da coluna Weekly_Physical_Activity\n",
    "def rename_physical_activity(data):\n",
    "    if data == 1:\n",
    "        return 'No physical activity'\n",
    "    elif data == 2:\n",
    "        return '1-2 days'\n",
    "    elif data == 3:\n",
    "        return '3-4 days'\n",
    "    elif data == 4:\n",
    "        return '5-6 days'\n",
    "    else:\n",
    "        return '6+ days'\n",
    "    "
   ]
  },
  {
   "cell_type": "code",
   "execution_count": 31,
   "id": "73314144",
   "metadata": {},
   "outputs": [],
   "source": [
    "# Chamando a função rename_physical_activity\n",
    "df['Weekly_Physical_Activity'] = df['Weekly_Physical_Activity'].apply(rename_physical_activity)"
   ]
  },
  {
   "cell_type": "code",
   "execution_count": 32,
   "id": "6b755466",
   "metadata": {},
   "outputs": [],
   "source": [
    "# Função para renomear os registros da coluna Schedule_Dedicated_to_Technology\n",
    "def rename_technology_schedule(data):\n",
    "    if data == 1:\n",
    "        return '0-2 hours'\n",
    "    elif data == 2:\n",
    "        return '3-5 hours'\n",
    "    else:\n",
    "        return '5+ hours'"
   ]
  },
  {
   "cell_type": "code",
   "execution_count": 33,
   "id": "61793b99",
   "metadata": {},
   "outputs": [],
   "source": [
    "# Chamando a função rename_technology_schedule\n",
    "df['Schedule_Dedicated_to_Technology'] = df['Schedule_Dedicated_to_Technology'].apply(rename_technology_schedule)"
   ]
  },
  {
   "cell_type": "code",
   "execution_count": 34,
   "id": "4712de58",
   "metadata": {},
   "outputs": [
    {
     "data": {
      "text/plain": [
       "Class\n",
       "2    658\n",
       "3    592\n",
       "4    287\n",
       "1     73\n",
       "Name: count, dtype: int64"
      ]
     },
     "execution_count": 34,
     "metadata": {},
     "output_type": "execute_result"
    }
   ],
   "source": [
    "df['Class'].value_counts()"
   ]
  },
  {
   "cell_type": "code",
   "execution_count": 35,
   "id": "b2f98992",
   "metadata": {},
   "outputs": [],
   "source": [
    "# Função para renomear os registros da coluna Class\n",
    "def rename_class(data):\n",
    "    if data == 1:\n",
    "        return 'Underweight'\n",
    "    elif data == 2:\n",
    "        return 'Normal Weight'\n",
    "    elif data == 3:\n",
    "        return 'Overweight'\n",
    "    else:\n",
    "        return 'Obesity'"
   ]
  },
  {
   "cell_type": "code",
   "execution_count": 36,
   "id": "a561b0d2",
   "metadata": {},
   "outputs": [],
   "source": [
    "# Chamando a função rename_class \n",
    "df['Class'] = df['Class'].apply(rename_class)"
   ]
  },
  {
   "cell_type": "code",
   "execution_count": 37,
   "id": "a2fab3ed",
   "metadata": {},
   "outputs": [
    {
     "data": {
      "text/plain": [
       "Type_of_Transportation_Used\n",
       "1    660\n",
       "4    602\n",
       "5    138\n",
       "3    116\n",
       "2     94\n",
       "Name: count, dtype: int64"
      ]
     },
     "execution_count": 37,
     "metadata": {},
     "output_type": "execute_result"
    }
   ],
   "source": [
    "# Vendo total de registro unicos na tabela Type_of_Transportation_Used\n",
    "df['Type_of_Transportation_Used'].value_counts()"
   ]
  },
  {
   "cell_type": "code",
   "execution_count": 38,
   "id": "fc6810dc",
   "metadata": {},
   "outputs": [],
   "source": [
    "# Função para renomear os registros da coluna Type_of_Transportation_Used\n",
    "def rename_type_of_transportation_used(data):\n",
    "    if data == 1:\n",
    "        return 'Automobile'\n",
    "    elif data == 2: \n",
    "       return 'Motorbike'\n",
    "    elif data == 3: \n",
    "       return 'Bike'\n",
    "    elif data == 4: \n",
    "       return 'Public transportation'\n",
    "    else:\n",
    "       return 'Walking'"
   ]
  },
  {
   "cell_type": "code",
   "execution_count": 39,
   "id": "eed963bd",
   "metadata": {},
   "outputs": [],
   "source": [
    "# Chamando a função rename_type_of_transportation_used \n",
    "df['Type_of_Transportation_Used'] = df['Type_of_Transportation_Used'].apply(rename_type_of_transportation_used)"
   ]
  },
  {
   "cell_type": "code",
   "execution_count": 40,
   "id": "d5293892",
   "metadata": {},
   "outputs": [
    {
     "data": {
      "text/plain": [
       "Index(['Gender', 'Age', 'Height (cm)', 'Overweight_Family',\n",
       "       'Consumption_of_Fast_Food', 'Frequency_of_Consuming_Vegetables',\n",
       "       'Number_of_Main_Meals_Daily', 'Food_Intake_Between_Meals', 'Smoking',\n",
       "       'Liquid_Intake_Daily', 'Calculation_of_Calorie_Intake',\n",
       "       'Weekly_Physical_Activity', 'Schedule_Dedicated_to_Technology',\n",
       "       'Type_of_Transportation_Used', 'Class'],\n",
       "      dtype='object')"
      ]
     },
     "execution_count": 40,
     "metadata": {},
     "output_type": "execute_result"
    }
   ],
   "source": [
    "df.columns"
   ]
  },
  {
   "cell_type": "code",
   "execution_count": 41,
   "id": "78070fec",
   "metadata": {},
   "outputs": [
    {
     "data": {
      "text/html": [
       "<div>\n",
       "<style scoped>\n",
       "    .dataframe tbody tr th:only-of-type {\n",
       "        vertical-align: middle;\n",
       "    }\n",
       "\n",
       "    .dataframe tbody tr th {\n",
       "        vertical-align: top;\n",
       "    }\n",
       "\n",
       "    .dataframe thead th {\n",
       "        text-align: right;\n",
       "    }\n",
       "</style>\n",
       "<table border=\"1\" class=\"dataframe\">\n",
       "  <thead>\n",
       "    <tr style=\"text-align: right;\">\n",
       "      <th></th>\n",
       "      <th>Gender</th>\n",
       "      <th>Age</th>\n",
       "      <th>Height (cm)</th>\n",
       "      <th>Overweight_Family</th>\n",
       "      <th>Consumption_of_Fast_Food</th>\n",
       "      <th>Frequency_of_Consuming_Vegetables</th>\n",
       "      <th>Number_of_Main_Meals_Daily</th>\n",
       "      <th>Food_Intake_Between_Meals</th>\n",
       "      <th>Smoking</th>\n",
       "      <th>Liquid_Intake_Daily</th>\n",
       "      <th>Calculation_of_Calorie_Intake</th>\n",
       "      <th>Weekly_Physical_Activity</th>\n",
       "      <th>Schedule_Dedicated_to_Technology</th>\n",
       "      <th>Type_of_Transportation_Used</th>\n",
       "      <th>Class</th>\n",
       "    </tr>\n",
       "  </thead>\n",
       "  <tbody>\n",
       "    <tr>\n",
       "      <th>0</th>\n",
       "      <td>Female</td>\n",
       "      <td>18</td>\n",
       "      <td>155</td>\n",
       "      <td>No</td>\n",
       "      <td>No</td>\n",
       "      <td>3-Always</td>\n",
       "      <td>1</td>\n",
       "      <td>3-Usually</td>\n",
       "      <td>No</td>\n",
       "      <td>Less than a liter</td>\n",
       "      <td>No</td>\n",
       "      <td>3-4 days</td>\n",
       "      <td>5+ hours</td>\n",
       "      <td>Public transportation</td>\n",
       "      <td>Normal Weight</td>\n",
       "    </tr>\n",
       "    <tr>\n",
       "      <th>1</th>\n",
       "      <td>Female</td>\n",
       "      <td>18</td>\n",
       "      <td>158</td>\n",
       "      <td>No</td>\n",
       "      <td>No</td>\n",
       "      <td>3-Always</td>\n",
       "      <td>1</td>\n",
       "      <td>1-Rarely</td>\n",
       "      <td>No</td>\n",
       "      <td>Less than a liter</td>\n",
       "      <td>No</td>\n",
       "      <td>No physical activity</td>\n",
       "      <td>5+ hours</td>\n",
       "      <td>Bike</td>\n",
       "      <td>Normal Weight</td>\n",
       "    </tr>\n",
       "    <tr>\n",
       "      <th>2</th>\n",
       "      <td>Female</td>\n",
       "      <td>18</td>\n",
       "      <td>159</td>\n",
       "      <td>No</td>\n",
       "      <td>No</td>\n",
       "      <td>2-Sometimes</td>\n",
       "      <td>1</td>\n",
       "      <td>3-Usually</td>\n",
       "      <td>No</td>\n",
       "      <td>More than 2 liters</td>\n",
       "      <td>No</td>\n",
       "      <td>1-2 days</td>\n",
       "      <td>5+ hours</td>\n",
       "      <td>Public transportation</td>\n",
       "      <td>Normal Weight</td>\n",
       "    </tr>\n",
       "    <tr>\n",
       "      <th>3</th>\n",
       "      <td>Female</td>\n",
       "      <td>18</td>\n",
       "      <td>162</td>\n",
       "      <td>No</td>\n",
       "      <td>No</td>\n",
       "      <td>2-Sometimes</td>\n",
       "      <td>2</td>\n",
       "      <td>2-Sometimes</td>\n",
       "      <td>No</td>\n",
       "      <td>1 to 2 liters</td>\n",
       "      <td>No</td>\n",
       "      <td>No physical activity</td>\n",
       "      <td>5+ hours</td>\n",
       "      <td>Public transportation</td>\n",
       "      <td>Normal Weight</td>\n",
       "    </tr>\n",
       "    <tr>\n",
       "      <th>4</th>\n",
       "      <td>Female</td>\n",
       "      <td>18</td>\n",
       "      <td>165</td>\n",
       "      <td>No</td>\n",
       "      <td>Yes</td>\n",
       "      <td>2-Sometimes</td>\n",
       "      <td>1</td>\n",
       "      <td>3-Usually</td>\n",
       "      <td>No</td>\n",
       "      <td>Less than a liter</td>\n",
       "      <td>No</td>\n",
       "      <td>3-4 days</td>\n",
       "      <td>5+ hours</td>\n",
       "      <td>Motorbike</td>\n",
       "      <td>Normal Weight</td>\n",
       "    </tr>\n",
       "  </tbody>\n",
       "</table>\n",
       "</div>"
      ],
      "text/plain": [
       "   Gender  Age  Height (cm) Overweight_Family Consumption_of_Fast_Food  \\\n",
       "0  Female   18          155                No                       No   \n",
       "1  Female   18          158                No                       No   \n",
       "2  Female   18          159                No                       No   \n",
       "3  Female   18          162                No                       No   \n",
       "4  Female   18          165                No                      Yes   \n",
       "\n",
       "  Frequency_of_Consuming_Vegetables  Number_of_Main_Meals_Daily  \\\n",
       "0                          3-Always                           1   \n",
       "1                          3-Always                           1   \n",
       "2                       2-Sometimes                           1   \n",
       "3                       2-Sometimes                           2   \n",
       "4                       2-Sometimes                           1   \n",
       "\n",
       "  Food_Intake_Between_Meals Smoking Liquid_Intake_Daily  \\\n",
       "0                 3-Usually      No   Less than a liter   \n",
       "1                  1-Rarely      No   Less than a liter   \n",
       "2                 3-Usually      No  More than 2 liters   \n",
       "3               2-Sometimes      No       1 to 2 liters   \n",
       "4                 3-Usually      No   Less than a liter   \n",
       "\n",
       "  Calculation_of_Calorie_Intake Weekly_Physical_Activity  \\\n",
       "0                            No                 3-4 days   \n",
       "1                            No     No physical activity   \n",
       "2                            No                 1-2 days   \n",
       "3                            No     No physical activity   \n",
       "4                            No                 3-4 days   \n",
       "\n",
       "  Schedule_Dedicated_to_Technology Type_of_Transportation_Used          Class  \n",
       "0                         5+ hours       Public transportation  Normal Weight  \n",
       "1                         5+ hours                        Bike  Normal Weight  \n",
       "2                         5+ hours       Public transportation  Normal Weight  \n",
       "3                         5+ hours       Public transportation  Normal Weight  \n",
       "4                         5+ hours                   Motorbike  Normal Weight  "
      ]
     },
     "execution_count": 41,
     "metadata": {},
     "output_type": "execute_result"
    }
   ],
   "source": [
    "#Visualizando o data set com todas as alterações realizadas acima \n",
    "df.head(5)"
   ]
  },
  {
   "cell_type": "code",
   "execution_count": 42,
   "id": "068670ac",
   "metadata": {},
   "outputs": [],
   "source": [
    "# Salvando o data set com todas as alterações realizadas acima\n",
    "df.to_csv(f'{caminho_arquivo}/database/obesity-data/clean_new_data_obesity.csv')"
   ]
  },
  {
   "cell_type": "markdown",
   "id": "037207ca",
   "metadata": {},
   "source": [
    "Análise de exercício vs peso"
   ]
  },
  {
   "cell_type": "code",
   "execution_count": 43,
   "id": "e35f517f",
   "metadata": {},
   "outputs": [
    {
     "data": {
      "text/html": [
       "<div>\n",
       "<style scoped>\n",
       "    .dataframe tbody tr th:only-of-type {\n",
       "        vertical-align: middle;\n",
       "    }\n",
       "\n",
       "    .dataframe tbody tr th {\n",
       "        vertical-align: top;\n",
       "    }\n",
       "\n",
       "    .dataframe thead tr th {\n",
       "        text-align: left;\n",
       "    }\n",
       "\n",
       "    .dataframe thead tr:last-of-type th {\n",
       "        text-align: right;\n",
       "    }\n",
       "</style>\n",
       "<table border=\"1\" class=\"dataframe\">\n",
       "  <thead>\n",
       "    <tr>\n",
       "      <th></th>\n",
       "      <th colspan=\"4\" halign=\"left\">Age</th>\n",
       "    </tr>\n",
       "    <tr>\n",
       "      <th>Class</th>\n",
       "      <th>Normal Weight</th>\n",
       "      <th>Obesity</th>\n",
       "      <th>Overweight</th>\n",
       "      <th>Underweight</th>\n",
       "    </tr>\n",
       "    <tr>\n",
       "      <th>Weekly_Physical_Activity</th>\n",
       "      <th></th>\n",
       "      <th></th>\n",
       "      <th></th>\n",
       "      <th></th>\n",
       "    </tr>\n",
       "  </thead>\n",
       "  <tbody>\n",
       "    <tr>\n",
       "      <th>1-2 days</th>\n",
       "      <td>145.0</td>\n",
       "      <td>38.0</td>\n",
       "      <td>93.0</td>\n",
       "      <td>14.0</td>\n",
       "    </tr>\n",
       "    <tr>\n",
       "      <th>3-4 days</th>\n",
       "      <td>187.0</td>\n",
       "      <td>52.0</td>\n",
       "      <td>127.0</td>\n",
       "      <td>4.0</td>\n",
       "    </tr>\n",
       "    <tr>\n",
       "      <th>5-6 days</th>\n",
       "      <td>116.0</td>\n",
       "      <td>68.0</td>\n",
       "      <td>172.0</td>\n",
       "      <td>2.0</td>\n",
       "    </tr>\n",
       "    <tr>\n",
       "      <th>6+ days</th>\n",
       "      <td>97.0</td>\n",
       "      <td>120.0</td>\n",
       "      <td>169.0</td>\n",
       "      <td>NaN</td>\n",
       "    </tr>\n",
       "    <tr>\n",
       "      <th>No physical activity</th>\n",
       "      <td>113.0</td>\n",
       "      <td>9.0</td>\n",
       "      <td>31.0</td>\n",
       "      <td>53.0</td>\n",
       "    </tr>\n",
       "  </tbody>\n",
       "</table>\n",
       "</div>"
      ],
      "text/plain": [
       "                                   Age                               \n",
       "Class                    Normal Weight Obesity Overweight Underweight\n",
       "Weekly_Physical_Activity                                             \n",
       "1-2 days                         145.0    38.0       93.0        14.0\n",
       "3-4 days                         187.0    52.0      127.0         4.0\n",
       "5-6 days                         116.0    68.0      172.0         2.0\n",
       "6+ days                           97.0   120.0      169.0         NaN\n",
       "No physical activity             113.0     9.0       31.0        53.0"
      ]
     },
     "execution_count": 43,
     "metadata": {},
     "output_type": "execute_result"
    }
   ],
   "source": [
    "pd.pivot_table(df, values= ['Age'] , index= ['Weekly_Physical_Activity'], columns= ['Class'], aggfunc= 'count')"
   ]
  },
  {
   "cell_type": "code",
   "execution_count": 54,
   "id": "1f3c61f6",
   "metadata": {},
   "outputs": [
    {
     "data": {
      "text/html": [
       "<div>\n",
       "<style scoped>\n",
       "    .dataframe tbody tr th:only-of-type {\n",
       "        vertical-align: middle;\n",
       "    }\n",
       "\n",
       "    .dataframe tbody tr th {\n",
       "        vertical-align: top;\n",
       "    }\n",
       "\n",
       "    .dataframe thead tr th {\n",
       "        text-align: left;\n",
       "    }\n",
       "\n",
       "    .dataframe thead tr:last-of-type th {\n",
       "        text-align: right;\n",
       "    }\n",
       "</style>\n",
       "<table border=\"1\" class=\"dataframe\">\n",
       "  <thead>\n",
       "    <tr>\n",
       "      <th></th>\n",
       "      <th colspan=\"4\" halign=\"left\">Age</th>\n",
       "    </tr>\n",
       "    <tr>\n",
       "      <th>Class</th>\n",
       "      <th>Normal Weight</th>\n",
       "      <th>Obesity</th>\n",
       "      <th>Overweight</th>\n",
       "      <th>Underweight</th>\n",
       "    </tr>\n",
       "    <tr>\n",
       "      <th>Liquid_Intake_Daily</th>\n",
       "      <th></th>\n",
       "      <th></th>\n",
       "      <th></th>\n",
       "      <th></th>\n",
       "    </tr>\n",
       "  </thead>\n",
       "  <tbody>\n",
       "    <tr>\n",
       "      <th>1 to 2 liters</th>\n",
       "      <td>211</td>\n",
       "      <td>114</td>\n",
       "      <td>178</td>\n",
       "      <td>20</td>\n",
       "    </tr>\n",
       "    <tr>\n",
       "      <th>Less than a liter</th>\n",
       "      <td>167</td>\n",
       "      <td>104</td>\n",
       "      <td>144</td>\n",
       "      <td>41</td>\n",
       "    </tr>\n",
       "    <tr>\n",
       "      <th>More than 2 liters</th>\n",
       "      <td>280</td>\n",
       "      <td>69</td>\n",
       "      <td>270</td>\n",
       "      <td>12</td>\n",
       "    </tr>\n",
       "  </tbody>\n",
       "</table>\n",
       "</div>"
      ],
      "text/plain": [
       "                              Age                               \n",
       "Class               Normal Weight Obesity Overweight Underweight\n",
       "Liquid_Intake_Daily                                             \n",
       "1 to 2 liters                 211     114        178          20\n",
       "Less than a liter             167     104        144          41\n",
       "More than 2 liters            280      69        270          12"
      ]
     },
     "execution_count": 54,
     "metadata": {},
     "output_type": "execute_result"
    }
   ],
   "source": [
    "pd.pivot_table(df, values = ['Age'], index= ['Liquid_Intake_Daily'], columns=['Class'], aggfunc='count')"
   ]
  }
 ],
 "metadata": {
  "kernelspec": {
   "display_name": "Python 3",
   "language": "python",
   "name": "python3"
  },
  "language_info": {
   "codemirror_mode": {
    "name": "ipython",
    "version": 3
   },
   "file_extension": ".py",
   "mimetype": "text/x-python",
   "name": "python",
   "nbconvert_exporter": "python",
   "pygments_lexer": "ipython3",
   "version": "3.13.2"
  }
 },
 "nbformat": 4,
 "nbformat_minor": 5
}
