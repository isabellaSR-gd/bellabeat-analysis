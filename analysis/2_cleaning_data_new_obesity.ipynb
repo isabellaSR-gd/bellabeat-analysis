{
 "cells": [
  {
   "cell_type": "markdown",
   "id": "1c970146",
   "metadata": {},
   "source": [
    "Limpeza e reestruturação dos dados do dataset obesity"
   ]
  },
  {
   "cell_type": "code",
   "execution_count": 1,
   "id": "e6889e45",
   "metadata": {},
   "outputs": [],
   "source": [
    "import pandas as pd"
   ]
  },
  {
   "cell_type": "code",
   "execution_count": 2,
   "id": "6352a63d",
   "metadata": {},
   "outputs": [],
   "source": [
    "df = pd.read_csv('C:/Users/niniv/OneDrive/Área de Trabalho/bellabeat-analysis/database/obesity-data/obesity new.csv')"
   ]
  },
  {
   "cell_type": "code",
   "execution_count": 30,
   "id": "20119303",
   "metadata": {},
   "outputs": [],
   "source": [
    "df = pd.read_excel('D:/python/bellabeat-analysis/database/obesity-data/Obesity_Dataset.xlsx')"
   ]
  },
  {
   "cell_type": "code",
   "execution_count": 77,
   "id": "d32a81a7",
   "metadata": {},
   "outputs": [
    {
     "data": {
      "text/html": [
       "<div>\n",
       "<style scoped>\n",
       "    .dataframe tbody tr th:only-of-type {\n",
       "        vertical-align: middle;\n",
       "    }\n",
       "\n",
       "    .dataframe tbody tr th {\n",
       "        vertical-align: top;\n",
       "    }\n",
       "\n",
       "    .dataframe thead th {\n",
       "        text-align: right;\n",
       "    }\n",
       "</style>\n",
       "<table border=\"1\" class=\"dataframe\">\n",
       "  <thead>\n",
       "    <tr style=\"text-align: right;\">\n",
       "      <th></th>\n",
       "      <th>Gender</th>\n",
       "      <th>Age</th>\n",
       "      <th>Height (cm)</th>\n",
       "      <th>Overweight_Family</th>\n",
       "      <th>Consumption_of_Fast_Food</th>\n",
       "      <th>Frequency_of_Consuming_Vegetables</th>\n",
       "      <th>Number_of_Main_Meals_Daily</th>\n",
       "      <th>Food_Intake_Between_Meals</th>\n",
       "      <th>Smoking</th>\n",
       "      <th>Liquid_Intake_Daily</th>\n",
       "      <th>Calculation_of_Calorie_Intake</th>\n",
       "      <th>Weekly_Physical_Activity</th>\n",
       "      <th>Schedule_Dedicated_to_Technology</th>\n",
       "      <th>Type_of_Transportation_Used</th>\n",
       "      <th>Class</th>\n",
       "    </tr>\n",
       "  </thead>\n",
       "  <tbody>\n",
       "    <tr>\n",
       "      <th>0</th>\n",
       "      <td>Female</td>\n",
       "      <td>18</td>\n",
       "      <td>155</td>\n",
       "      <td>No</td>\n",
       "      <td>No</td>\n",
       "      <td>3-Always</td>\n",
       "      <td>1</td>\n",
       "      <td>3-Usually</td>\n",
       "      <td>No</td>\n",
       "      <td>Less than a liter</td>\n",
       "      <td>No</td>\n",
       "      <td>3-4 days</td>\n",
       "      <td>5+ hours</td>\n",
       "      <td>4</td>\n",
       "      <td>Normal Weight</td>\n",
       "    </tr>\n",
       "    <tr>\n",
       "      <th>1</th>\n",
       "      <td>Female</td>\n",
       "      <td>18</td>\n",
       "      <td>158</td>\n",
       "      <td>No</td>\n",
       "      <td>No</td>\n",
       "      <td>3-Always</td>\n",
       "      <td>1</td>\n",
       "      <td>1-Rarely</td>\n",
       "      <td>No</td>\n",
       "      <td>Less than a liter</td>\n",
       "      <td>No</td>\n",
       "      <td>No physical activity</td>\n",
       "      <td>5+ hours</td>\n",
       "      <td>3</td>\n",
       "      <td>Normal Weight</td>\n",
       "    </tr>\n",
       "    <tr>\n",
       "      <th>2</th>\n",
       "      <td>Female</td>\n",
       "      <td>18</td>\n",
       "      <td>159</td>\n",
       "      <td>No</td>\n",
       "      <td>No</td>\n",
       "      <td>2-Sometimes</td>\n",
       "      <td>1</td>\n",
       "      <td>3-Usually</td>\n",
       "      <td>No</td>\n",
       "      <td>More than 2 liters</td>\n",
       "      <td>No</td>\n",
       "      <td>1-2 days</td>\n",
       "      <td>5+ hours</td>\n",
       "      <td>4</td>\n",
       "      <td>Normal Weight</td>\n",
       "    </tr>\n",
       "    <tr>\n",
       "      <th>3</th>\n",
       "      <td>Female</td>\n",
       "      <td>18</td>\n",
       "      <td>162</td>\n",
       "      <td>No</td>\n",
       "      <td>No</td>\n",
       "      <td>2-Sometimes</td>\n",
       "      <td>2</td>\n",
       "      <td>2-Sometimes</td>\n",
       "      <td>No</td>\n",
       "      <td>1 to 2 liters</td>\n",
       "      <td>No</td>\n",
       "      <td>No physical activity</td>\n",
       "      <td>5+ hours</td>\n",
       "      <td>4</td>\n",
       "      <td>Normal Weight</td>\n",
       "    </tr>\n",
       "    <tr>\n",
       "      <th>4</th>\n",
       "      <td>Female</td>\n",
       "      <td>18</td>\n",
       "      <td>165</td>\n",
       "      <td>No</td>\n",
       "      <td>Yes</td>\n",
       "      <td>2-Sometimes</td>\n",
       "      <td>1</td>\n",
       "      <td>3-Usually</td>\n",
       "      <td>No</td>\n",
       "      <td>Less than a liter</td>\n",
       "      <td>No</td>\n",
       "      <td>3-4 days</td>\n",
       "      <td>5+ hours</td>\n",
       "      <td>2</td>\n",
       "      <td>Normal Weight</td>\n",
       "    </tr>\n",
       "  </tbody>\n",
       "</table>\n",
       "</div>"
      ],
      "text/plain": [
       "   Gender  Age  Height (cm) Overweight_Family Consumption_of_Fast_Food  \\\n",
       "0  Female   18          155                No                       No   \n",
       "1  Female   18          158                No                       No   \n",
       "2  Female   18          159                No                       No   \n",
       "3  Female   18          162                No                       No   \n",
       "4  Female   18          165                No                      Yes   \n",
       "\n",
       "  Frequency_of_Consuming_Vegetables  Number_of_Main_Meals_Daily  \\\n",
       "0                          3-Always                           1   \n",
       "1                          3-Always                           1   \n",
       "2                       2-Sometimes                           1   \n",
       "3                       2-Sometimes                           2   \n",
       "4                       2-Sometimes                           1   \n",
       "\n",
       "  Food_Intake_Between_Meals Smoking Liquid_Intake_Daily  \\\n",
       "0                 3-Usually      No   Less than a liter   \n",
       "1                  1-Rarely      No   Less than a liter   \n",
       "2                 3-Usually      No  More than 2 liters   \n",
       "3               2-Sometimes      No       1 to 2 liters   \n",
       "4                 3-Usually      No   Less than a liter   \n",
       "\n",
       "  Calculation_of_Calorie_Intake Weekly_Physical_Activity  \\\n",
       "0                            No                 3-4 days   \n",
       "1                            No     No physical activity   \n",
       "2                            No                 1-2 days   \n",
       "3                            No     No physical activity   \n",
       "4                            No                 3-4 days   \n",
       "\n",
       "  Schedule_Dedicated_to_Technology  Type_of_Transportation_Used          Class  \n",
       "0                         5+ hours                            4  Normal Weight  \n",
       "1                         5+ hours                            3  Normal Weight  \n",
       "2                         5+ hours                            4  Normal Weight  \n",
       "3                         5+ hours                            4  Normal Weight  \n",
       "4                         5+ hours                            2  Normal Weight  "
      ]
     },
     "execution_count": 77,
     "metadata": {},
     "output_type": "execute_result"
    }
   ],
   "source": [
    "df.head()"
   ]
  },
  {
   "cell_type": "markdown",
   "id": "602e8516",
   "metadata": {},
   "source": [
    "renomeando colunas com base nas siglas e informações do dataset"
   ]
  },
  {
   "cell_type": "code",
   "execution_count": null,
   "id": "1881cf19",
   "metadata": {},
   "outputs": [],
   "source": [
    "df = df.rename(columns= {'Sex':'Gender' , 'Height':'Height (cm)', 'Overweight_Obese_Family':'Overweight_Family' , 'Physical_Excercise':'Weekly_Physical_Activity' })"
   ]
  },
  {
   "cell_type": "markdown",
   "id": "8f3c3ae1",
   "metadata": {},
   "source": [
    "renomear atributos das colunas: gênero"
   ]
  },
  {
   "cell_type": "code",
   "execution_count": 34,
   "id": "64814032",
   "metadata": {},
   "outputs": [],
   "source": [
    "def rename_gender(gender):\n",
    "    if gender == 2:\n",
    "        return 'Female'\n",
    "    else:\n",
    "        return 'Male'"
   ]
  },
  {
   "cell_type": "code",
   "execution_count": 35,
   "id": "08074fe6",
   "metadata": {},
   "outputs": [],
   "source": [
    "df['Gender'] = df['Gender'].apply(rename_gender)"
   ]
  },
  {
   "cell_type": "markdown",
   "id": "53f97967",
   "metadata": {},
   "source": [
    "Renomear atributos de frequência (comida entre refeições e consumo de vegetais)"
   ]
  },
  {
   "cell_type": "code",
   "execution_count": 39,
   "id": "28097322",
   "metadata": {},
   "outputs": [
    {
     "data": {
      "text/plain": [
       "Food_Intake_Between_Meals\n",
       "2-Sometimes    564\n",
       "3-Usually      417\n",
       "1-Rarely       346\n",
       "4-Always       283\n",
       "Name: count, dtype: int64"
      ]
     },
     "execution_count": 39,
     "metadata": {},
     "output_type": "execute_result"
    }
   ],
   "source": [
    "df['Food_Intake_Between_Meals'].value_counts()"
   ]
  },
  {
   "cell_type": "code",
   "execution_count": 37,
   "id": "322f25f9",
   "metadata": {},
   "outputs": [],
   "source": [
    "def rename_food_intake(data):\n",
    "    if data == 1:\n",
    "        return '1-Rarely'\n",
    "    elif data == 2:\n",
    "        return '2-Sometimes'\n",
    "    elif data == 3:\n",
    "        return '3-Usually'\n",
    "    else:\n",
    "        return '4-Always'"
   ]
  },
  {
   "cell_type": "code",
   "execution_count": 38,
   "id": "969b5789",
   "metadata": {},
   "outputs": [],
   "source": [
    "df['Food_Intake_Between_Meals'] = df['Food_Intake_Between_Meals'].apply(rename_food_intake)"
   ]
  },
  {
   "cell_type": "code",
   "execution_count": 44,
   "id": "43680a0f",
   "metadata": {},
   "outputs": [
    {
     "data": {
      "text/plain": [
       "Frequency_of_Consuming_Vegetables\n",
       "2-Sometimes    708\n",
       "3-Always       502\n",
       "1-Rarely       400\n",
       "Name: count, dtype: int64"
      ]
     },
     "execution_count": 44,
     "metadata": {},
     "output_type": "execute_result"
    }
   ],
   "source": [
    "df['Frequency_of_Consuming_Vegetables'].value_counts()"
   ]
  },
  {
   "cell_type": "code",
   "execution_count": 42,
   "id": "2f2fab07",
   "metadata": {},
   "outputs": [],
   "source": [
    "def rename_vegetable_intake(data):\n",
    "    if data == 1:\n",
    "        return '1-Rarely'\n",
    "    elif data == 2:\n",
    "        return '2-Sometimes'\n",
    "    else:\n",
    "        return '3-Always'"
   ]
  },
  {
   "cell_type": "code",
   "execution_count": 43,
   "id": "54a0288b",
   "metadata": {},
   "outputs": [],
   "source": [
    "df['Frequency_of_Consuming_Vegetables'] = df['Frequency_of_Consuming_Vegetables'].apply(rename_vegetable_intake)"
   ]
  },
  {
   "cell_type": "markdown",
   "id": "3ecb0e30",
   "metadata": {},
   "source": [
    "renomear atributos das colunas: boleanos"
   ]
  },
  {
   "cell_type": "code",
   "execution_count": 46,
   "id": "65fc53c2",
   "metadata": {},
   "outputs": [],
   "source": [
    "def rename_bool_data(data):\n",
    "    if data == 2:\n",
    "        return 'No'\n",
    "    else:\n",
    "        return 'Yes'"
   ]
  },
  {
   "cell_type": "code",
   "execution_count": 47,
   "id": "09a16aa1",
   "metadata": {},
   "outputs": [],
   "source": [
    "df['Overweight_Family'] = df['Overweight_Family'].apply(rename_bool_data)"
   ]
  },
  {
   "cell_type": "code",
   "execution_count": 48,
   "id": "4cc3ce12",
   "metadata": {},
   "outputs": [],
   "source": [
    "df['Consumption_of_Fast_Food'] = df['Consumption_of_Fast_Food'].apply(rename_bool_data)"
   ]
  },
  {
   "cell_type": "code",
   "execution_count": 49,
   "id": "8b04c192",
   "metadata": {},
   "outputs": [],
   "source": [
    "df['Smoking'] = df['Smoking'].apply(rename_bool_data)"
   ]
  },
  {
   "cell_type": "code",
   "execution_count": 50,
   "id": "656f14c6",
   "metadata": {},
   "outputs": [],
   "source": [
    "df['Calculation_of_Calorie_Intake'] = df['Calculation_of_Calorie_Intake'].apply(rename_bool_data)"
   ]
  },
  {
   "cell_type": "markdown",
   "id": "226bf684",
   "metadata": {},
   "source": [
    "renomear atributos das colunas: consumo de água, physical activity, schedule to technology , type of transport, Class"
   ]
  },
  {
   "cell_type": "code",
   "execution_count": 59,
   "id": "4fdb6732",
   "metadata": {},
   "outputs": [],
   "source": [
    "def rename_water_intake(data):\n",
    "    if data == 1:\n",
    "        return 'Less than a liter'\n",
    "    elif data == 2:\n",
    "        return '1 to 2 liters'\n",
    "    else:\n",
    "        return 'More than 2 liters'\n",
    "        \n"
   ]
  },
  {
   "cell_type": "code",
   "execution_count": 61,
   "id": "ecfc1d9f",
   "metadata": {},
   "outputs": [],
   "source": [
    "df['Liquid_Intake_Daily'] = df['Liquid_Intake_Daily'].apply(rename_water_intake)"
   ]
  },
  {
   "cell_type": "code",
   "execution_count": 66,
   "id": "e8702320",
   "metadata": {},
   "outputs": [],
   "source": [
    "def rename_physical_activity(data):\n",
    "    if data == 1:\n",
    "        return 'No physical activity'\n",
    "    elif data == 2:\n",
    "        return '1-2 days'\n",
    "    elif data == 3:\n",
    "        return '3-4 days'\n",
    "    elif data == 4:\n",
    "        return '5-6 days'\n",
    "    else:\n",
    "        return '6+ days'\n",
    "    "
   ]
  },
  {
   "cell_type": "code",
   "execution_count": 67,
   "id": "73314144",
   "metadata": {},
   "outputs": [],
   "source": [
    "df['Weekly_Physical_Activity'] = df['Weekly_Physical_Activity'].apply(rename_physical_activity)"
   ]
  },
  {
   "cell_type": "code",
   "execution_count": 70,
   "id": "6b755466",
   "metadata": {},
   "outputs": [],
   "source": [
    "def rename_technology_schedule(data):\n",
    "    if data == 1:\n",
    "        return '0-2 hours'\n",
    "    elif data == 2:\n",
    "        return '3-5 hours'\n",
    "    else:\n",
    "        return '5+ hours'"
   ]
  },
  {
   "cell_type": "code",
   "execution_count": 71,
   "id": "61793b99",
   "metadata": {},
   "outputs": [],
   "source": [
    "df['Schedule_Dedicated_to_Technology'] = df['Schedule_Dedicated_to_Technology'].apply(rename_technology_schedule)"
   ]
  },
  {
   "cell_type": "code",
   "execution_count": 76,
   "id": "4712de58",
   "metadata": {},
   "outputs": [
    {
     "data": {
      "text/plain": [
       "Class\n",
       "Normal Weight    658\n",
       "Overweight       592\n",
       "Obesity          287\n",
       "Underweight       73\n",
       "Name: count, dtype: int64"
      ]
     },
     "execution_count": 76,
     "metadata": {},
     "output_type": "execute_result"
    }
   ],
   "source": [
    "df['Class'].value_counts()"
   ]
  },
  {
   "cell_type": "code",
   "execution_count": 74,
   "id": "b2f98992",
   "metadata": {},
   "outputs": [],
   "source": [
    "def rename_class(data):\n",
    "    if data == 1:\n",
    "        return 'Underweight'\n",
    "    elif data == 2:\n",
    "        return 'Normal Weight'\n",
    "    elif data == 3:\n",
    "        return 'Overweight'\n",
    "    else:\n",
    "        return 'Obesity'"
   ]
  },
  {
   "cell_type": "code",
   "execution_count": 75,
   "id": "a561b0d2",
   "metadata": {},
   "outputs": [],
   "source": [
    "df['Class'] = df['Class'].apply(rename_class)"
   ]
  },
  {
   "cell_type": "code",
   "execution_count": 78,
   "id": "d5293892",
   "metadata": {},
   "outputs": [
    {
     "data": {
      "text/plain": [
       "Index(['Gender', 'Age', 'Height (cm)', 'Overweight_Family',\n",
       "       'Consumption_of_Fast_Food', 'Frequency_of_Consuming_Vegetables',\n",
       "       'Number_of_Main_Meals_Daily', 'Food_Intake_Between_Meals', 'Smoking',\n",
       "       'Liquid_Intake_Daily', 'Calculation_of_Calorie_Intake',\n",
       "       'Weekly_Physical_Activity', 'Schedule_Dedicated_to_Technology',\n",
       "       'Type_of_Transportation_Used', 'Class'],\n",
       "      dtype='object')"
      ]
     },
     "execution_count": 78,
     "metadata": {},
     "output_type": "execute_result"
    }
   ],
   "source": [
    "df.columns"
   ]
  },
  {
   "cell_type": "code",
   "execution_count": 79,
   "id": "e35f517f",
   "metadata": {},
   "outputs": [
    {
     "data": {
      "text/html": [
       "<div>\n",
       "<style scoped>\n",
       "    .dataframe tbody tr th:only-of-type {\n",
       "        vertical-align: middle;\n",
       "    }\n",
       "\n",
       "    .dataframe tbody tr th {\n",
       "        vertical-align: top;\n",
       "    }\n",
       "\n",
       "    .dataframe thead tr th {\n",
       "        text-align: left;\n",
       "    }\n",
       "\n",
       "    .dataframe thead tr:last-of-type th {\n",
       "        text-align: right;\n",
       "    }\n",
       "</style>\n",
       "<table border=\"1\" class=\"dataframe\">\n",
       "  <thead>\n",
       "    <tr>\n",
       "      <th></th>\n",
       "      <th colspan=\"4\" halign=\"left\">Age</th>\n",
       "    </tr>\n",
       "    <tr>\n",
       "      <th>Class</th>\n",
       "      <th>Normal Weight</th>\n",
       "      <th>Obesity</th>\n",
       "      <th>Overweight</th>\n",
       "      <th>Underweight</th>\n",
       "    </tr>\n",
       "    <tr>\n",
       "      <th>Weekly_Physical_Activity</th>\n",
       "      <th></th>\n",
       "      <th></th>\n",
       "      <th></th>\n",
       "      <th></th>\n",
       "    </tr>\n",
       "  </thead>\n",
       "  <tbody>\n",
       "    <tr>\n",
       "      <th>1-2 days</th>\n",
       "      <td>145.0</td>\n",
       "      <td>38.0</td>\n",
       "      <td>93.0</td>\n",
       "      <td>14.0</td>\n",
       "    </tr>\n",
       "    <tr>\n",
       "      <th>3-4 days</th>\n",
       "      <td>187.0</td>\n",
       "      <td>52.0</td>\n",
       "      <td>127.0</td>\n",
       "      <td>4.0</td>\n",
       "    </tr>\n",
       "    <tr>\n",
       "      <th>5-6 days</th>\n",
       "      <td>116.0</td>\n",
       "      <td>68.0</td>\n",
       "      <td>172.0</td>\n",
       "      <td>2.0</td>\n",
       "    </tr>\n",
       "    <tr>\n",
       "      <th>6+ days</th>\n",
       "      <td>97.0</td>\n",
       "      <td>120.0</td>\n",
       "      <td>169.0</td>\n",
       "      <td>NaN</td>\n",
       "    </tr>\n",
       "    <tr>\n",
       "      <th>No physical activity</th>\n",
       "      <td>113.0</td>\n",
       "      <td>9.0</td>\n",
       "      <td>31.0</td>\n",
       "      <td>53.0</td>\n",
       "    </tr>\n",
       "  </tbody>\n",
       "</table>\n",
       "</div>"
      ],
      "text/plain": [
       "                                   Age                               \n",
       "Class                    Normal Weight Obesity Overweight Underweight\n",
       "Weekly_Physical_Activity                                             \n",
       "1-2 days                         145.0    38.0       93.0        14.0\n",
       "3-4 days                         187.0    52.0      127.0         4.0\n",
       "5-6 days                         116.0    68.0      172.0         2.0\n",
       "6+ days                           97.0   120.0      169.0         NaN\n",
       "No physical activity             113.0     9.0       31.0        53.0"
      ]
     },
     "execution_count": 79,
     "metadata": {},
     "output_type": "execute_result"
    }
   ],
   "source": [
    "pd.pivot_table(df, values= ['Age'] , index= ['Weekly_Physical_Activity'], columns= ['Class'], aggfunc= 'count')"
   ]
  },
  {
   "cell_type": "code",
   "execution_count": null,
   "id": "e3600f1a",
   "metadata": {},
   "outputs": [],
   "source": [
    "df.to_csv('C:/Users/niniv/OneDrive/Área de Trabalho/bellabeat-analysis/database/obesity-data/cleaned_data_obesity.csv', index = False)"
   ]
  },
  {
   "cell_type": "code",
   "execution_count": 80,
   "id": "068670ac",
   "metadata": {},
   "outputs": [],
   "source": [
    "df.to_csv('D:/python/bellabeat-analysis/database/obesity-data/clean_new_data_obesity.csv')"
   ]
  }
 ],
 "metadata": {
  "kernelspec": {
   "display_name": "Python 3",
   "language": "python",
   "name": "python3"
  },
  "language_info": {
   "codemirror_mode": {
    "name": "ipython",
    "version": 3
   },
   "file_extension": ".py",
   "mimetype": "text/x-python",
   "name": "python",
   "nbconvert_exporter": "python",
   "pygments_lexer": "ipython3",
   "version": "3.13.2"
  }
 },
 "nbformat": 4,
 "nbformat_minor": 5
}
