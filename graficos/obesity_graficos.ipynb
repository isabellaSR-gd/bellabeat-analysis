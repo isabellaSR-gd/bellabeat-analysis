{
 "cells": [
  {
   "cell_type": "code",
   "execution_count": 6,
   "id": "f4f74ef5",
   "metadata": {},
   "outputs": [],
   "source": [
    "import pandas as pd\n",
    "from pathlib import Path\n",
    "import numpy as np \n",
    "import matplotlib as plt"
   ]
  },
  {
   "cell_type": "code",
   "execution_count": 2,
   "id": "abba95f9",
   "metadata": {},
   "outputs": [
    {
     "name": "stdout",
     "output_type": "stream",
     "text": [
      "caminho do diretório D:\\python\\bellabeat-analysis\n"
     ]
    }
   ],
   "source": [
    "# usando path para facilitar acesso a arquivos\n",
    "caminho_arquivo = Path('clean_new_data_obesity.csv').resolve().parents[1]\n",
    "print('caminho do diretório',caminho_arquivo)"
   ]
  },
  {
   "cell_type": "code",
   "execution_count": 3,
   "id": "d55cf794",
   "metadata": {},
   "outputs": [],
   "source": [
    "# upload data set \n",
    "df = pd.read_csv(f'{caminho_arquivo}/database/obesity-data/clean_new_data_obesity.csv', sep =',')"
   ]
  },
  {
   "cell_type": "code",
   "execution_count": 4,
   "id": "ff475733",
   "metadata": {},
   "outputs": [],
   "source": [
    "df_female = df.loc[df['Gender']== 'Female']"
   ]
  },
  {
   "cell_type": "code",
   "execution_count": 17,
   "id": "eae60116",
   "metadata": {},
   "outputs": [
    {
     "data": {
      "text/html": [
       "<div>\n",
       "<style scoped>\n",
       "    .dataframe tbody tr th:only-of-type {\n",
       "        vertical-align: middle;\n",
       "    }\n",
       "\n",
       "    .dataframe tbody tr th {\n",
       "        vertical-align: top;\n",
       "    }\n",
       "\n",
       "    .dataframe thead tr th {\n",
       "        text-align: left;\n",
       "    }\n",
       "\n",
       "    .dataframe thead tr:last-of-type th {\n",
       "        text-align: right;\n",
       "    }\n",
       "</style>\n",
       "<table border=\"1\" class=\"dataframe\">\n",
       "  <thead>\n",
       "    <tr>\n",
       "      <th></th>\n",
       "      <th colspan=\"2\" halign=\"left\">Age</th>\n",
       "    </tr>\n",
       "    <tr>\n",
       "      <th>Class</th>\n",
       "      <th>Overweight or obese</th>\n",
       "      <th>Under or normal weight</th>\n",
       "    </tr>\n",
       "    <tr>\n",
       "      <th>Weekly_Physical_Activity</th>\n",
       "      <th></th>\n",
       "      <th></th>\n",
       "    </tr>\n",
       "  </thead>\n",
       "  <tbody>\n",
       "    <tr>\n",
       "      <th>1-2 days</th>\n",
       "      <td>45</td>\n",
       "      <td>123</td>\n",
       "    </tr>\n",
       "    <tr>\n",
       "      <th>3-4 days</th>\n",
       "      <td>63</td>\n",
       "      <td>145</td>\n",
       "    </tr>\n",
       "    <tr>\n",
       "      <th>5+ days</th>\n",
       "      <td>241</td>\n",
       "      <td>149</td>\n",
       "    </tr>\n",
       "    <tr>\n",
       "      <th>No physical activity</th>\n",
       "      <td>20</td>\n",
       "      <td>112</td>\n",
       "    </tr>\n",
       "  </tbody>\n",
       "</table>\n",
       "</div>"
      ],
      "text/plain": [
       "                                         Age                       \n",
       "Class                    Overweight or obese Under or normal weight\n",
       "Weekly_Physical_Activity                                           \n",
       "1-2 days                                  45                    123\n",
       "3-4 days                                  63                    145\n",
       "5+ days                                  241                    149\n",
       "No physical activity                      20                    112"
      ]
     },
     "execution_count": 17,
     "metadata": {},
     "output_type": "execute_result"
    }
   ],
   "source": [
    "exercise_per_weight= pd.pivot_table(df_female, values= ['Age'] , index= ['Weekly_Physical_Activity'], columns= ['Class'], aggfunc= 'count')\n",
    "exercise_per_weight"
   ]
  },
  {
   "cell_type": "code",
   "execution_count": 16,
   "id": "a86a7533",
   "metadata": {},
   "outputs": [
    {
     "data": {
      "text/plain": [
       "<Axes: xlabel='Weekly_Physical_Activity'>"
      ]
     },
     "execution_count": 16,
     "metadata": {},
     "output_type": "execute_result"
    },
    {
     "data": {
      "image/png": "[encoded data removed]",
      "text/plain": [
       "<Figure size 640x480 with 1 Axes>"
      ]
     },
     "metadata": {},
     "output_type": "display_data"
    }
   ],
   "source": [
    "exercise_per_weight.plot.bar()"
   ]
  }
 ],
 "metadata": {
  "kernelspec": {
   "display_name": "Python 3",
   "language": "python",
   "name": "python3"
  },
  "language_info": {
   "codemirror_mode": {
    "name": "ipython",
    "version": 3
   },
   "file_extension": ".py",
   "mimetype": "text/x-python",
   "name": "python",
   "nbconvert_exporter": "python",
   "pygments_lexer": "ipython3",
   "version": "3.13.2"
  }
 },
 "nbformat": 4,
 "nbformat_minor": 5
}
