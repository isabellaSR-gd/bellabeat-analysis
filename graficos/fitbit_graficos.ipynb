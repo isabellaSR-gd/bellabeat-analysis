{
 "cells": [
  {
   "cell_type": "markdown",
   "id": "a4afae22",
   "metadata": {},
   "source": [
    "## Análise exploratória dados fitbit"
   ]
  },
  {
   "cell_type": "code",
   "execution_count": 1,
   "id": "7c840777",
   "metadata": {},
   "outputs": [],
   "source": [
    "import pandas as pd\n",
    "from pathlib import Path\n",
    "import matplotlib.pyplot as plt\n",
    "import seaborn as sns"
   ]
  },
  {
   "cell_type": "code",
   "execution_count": 2,
   "id": "05532f9c",
   "metadata": {},
   "outputs": [
    {
     "name": "stdout",
     "output_type": "stream",
     "text": [
      "caminho do diretório D:\\python\\bellabeat-analysis\n"
     ]
    }
   ],
   "source": [
    "# facilitando acesso às pastas para ambas pessoas analisando os dados\n",
    "caminho_arquivo = Path('dailyActivity_merged.csv').resolve().parents[1]\n",
    "print('caminho do diretório',caminho_arquivo)"
   ]
  },
  {
   "cell_type": "code",
   "execution_count": 3,
   "id": "f1175a61",
   "metadata": {},
   "outputs": [],
   "source": [
    "d_activity = pd.read_csv(f'{caminho_arquivo}/database/fitbit-data/dailyActivity_merged.csv')\n",
    "heartrate = pd.read_csv(f'{caminho_arquivo}/database/fitbit-data/heartrate_seconds_merged.csv')\n",
    "h_calories = pd.read_csv(f'{caminho_arquivo}/database/fitbit-data/hourlyCalories_merged.csv')\n",
    "h_intensity = pd.read_csv(f'{caminho_arquivo}/database/fitbit-data/hourlyIntensities_merged.csv')\n",
    "m_calories = pd.read_csv(f'{caminho_arquivo}/database/fitbit-data/minuteCaloriesNarrow_merged.csv')\n",
    "m_intensity = pd.read_csv(f'{caminho_arquivo}/database/fitbit-data/minuteIntensitiesNarrow_merged.csv')\n",
    "m_sleep = pd.read_csv(f'{caminho_arquivo}//database/fitbit-data/minuteSleep_merged.csv')\n",
    "weightlog = pd.read_csv(f'{caminho_arquivo}/database/fitbit-data/weightLogInfo_merged_treated.csv')"
   ]
  },
  {
   "cell_type": "markdown",
   "id": "639206c3",
   "metadata": {},
   "source": [
    "### Análise de uso das features"
   ]
  },
  {
   "cell_type": "markdown",
   "id": "4b605cfa",
   "metadata": {},
   "source": [
    "####  Gráfico de uso por feature"
   ]
  },
  {
   "cell_type": "code",
   "execution_count": 4,
   "id": "8985404a",
   "metadata": {},
   "outputs": [],
   "source": [
    "id_d_activity = d_activity['Id'].nunique()\n",
    "id_h_calories = h_calories['Id'].nunique()\n",
    "id_h_intensity = h_intensity['Id'].nunique()\n",
    "id_m_calories = m_calories['Id'].nunique()\n",
    "id_m_intensity = m_intensity['Id'].nunique()\n",
    "id_m_sleep = m_sleep['Id'].nunique()\n",
    "id_heartrate = heartrate['Id'].nunique()\n",
    "id_weightlog = weightlog['Id'].nunique()"
   ]
  },
  {
   "cell_type": "code",
   "execution_count": 21,
   "id": "18a59f04",
   "metadata": {},
   "outputs": [],
   "source": [
    "ids = pd.Series({'Daily activity': id_d_activity, 'Calories': id_h_calories, 'Exercise intensity': id_h_intensity , 'Sleep':id_m_sleep ,  'Heartrate': id_heartrate, 'Weightlog': id_weightlog })"
   ]
  },
  {
   "cell_type": "code",
   "execution_count": 6,
   "id": "9a388dec",
   "metadata": {},
   "outputs": [],
   "source": [
    "sns.set_theme()"
   ]
  },
  {
   "cell_type": "code",
   "execution_count": 22,
   "id": "414bd78f",
   "metadata": {},
   "outputs": [
    {
     "data": {
      "text/html": [
       "<div>\n",
       "<style scoped>\n",
       "    .dataframe tbody tr th:only-of-type {\n",
       "        vertical-align: middle;\n",
       "    }\n",
       "\n",
       "    .dataframe tbody tr th {\n",
       "        vertical-align: top;\n",
       "    }\n",
       "\n",
       "    .dataframe thead th {\n",
       "        text-align: right;\n",
       "    }\n",
       "</style>\n",
       "<table border=\"1\" class=\"dataframe\">\n",
       "  <thead>\n",
       "    <tr style=\"text-align: right;\">\n",
       "      <th></th>\n",
       "      <th>features</th>\n",
       "      <th>count</th>\n",
       "    </tr>\n",
       "  </thead>\n",
       "  <tbody>\n",
       "    <tr>\n",
       "      <th>0</th>\n",
       "      <td>Daily activity</td>\n",
       "      <td>35</td>\n",
       "    </tr>\n",
       "    <tr>\n",
       "      <th>1</th>\n",
       "      <td>Calories</td>\n",
       "      <td>34</td>\n",
       "    </tr>\n",
       "    <tr>\n",
       "      <th>2</th>\n",
       "      <td>Exercise intensity</td>\n",
       "      <td>34</td>\n",
       "    </tr>\n",
       "    <tr>\n",
       "      <th>3</th>\n",
       "      <td>Sleep</td>\n",
       "      <td>23</td>\n",
       "    </tr>\n",
       "    <tr>\n",
       "      <th>4</th>\n",
       "      <td>Heartrate</td>\n",
       "      <td>14</td>\n",
       "    </tr>\n",
       "    <tr>\n",
       "      <th>5</th>\n",
       "      <td>Weightlog</td>\n",
       "      <td>11</td>\n",
       "    </tr>\n",
       "  </tbody>\n",
       "</table>\n",
       "</div>"
      ],
      "text/plain": [
       "             features  count\n",
       "0      Daily activity     35\n",
       "1            Calories     34\n",
       "2  Exercise intensity     34\n",
       "3               Sleep     23\n",
       "4           Heartrate     14\n",
       "5           Weightlog     11"
      ]
     },
     "execution_count": 22,
     "metadata": {},
     "output_type": "execute_result"
    }
   ],
   "source": [
    "df_ids = ids.reset_index()\n",
    "df_ids.columns = ['features', 'count']\n",
    "df_ids"
   ]
  },
  {
   "cell_type": "code",
   "execution_count": 28,
   "id": "46e5cf63",
   "metadata": {},
   "outputs": [
    {
     "data": {
      "image/png": "[encoded data removed]",
      "text/plain": [
       "<Figure size 640x480 with 1 Axes>"
      ]
     },
     "metadata": {},
     "output_type": "display_data"
    }
   ],
   "source": [
    "sns.barplot(data= df_ids, x= 'features', y='count', hue='count')\n",
    "plt.title('Uso por feature')\n",
    "plt.xlabel('')\n",
    "plt.legend('')\n",
    "plt.xticks(rotation=40)\n",
    "plt.ylabel('Contagem')\n",
    "plt.grid(True)\n",
    "plt.show()"
   ]
  },
  {
   "cell_type": "code",
   "execution_count": 9,
   "id": "16f01668",
   "metadata": {},
   "outputs": [
    {
     "data": {
      "text/plain": [
       "<Axes: >"
      ]
     },
     "execution_count": 9,
     "metadata": {},
     "output_type": "execute_result"
    },
    {
     "data": {
      "image/png": "[encoded data removed]",
      "text/plain": [
       "<Figure size 640x480 with 1 Axes>"
      ]
     },
     "metadata": {},
     "output_type": "display_data"
    }
   ],
   "source": [
    "df_ids.plot.bar()"
   ]
  },
  {
   "cell_type": "markdown",
   "id": "c54997ef",
   "metadata": {},
   "source": [
    "### análise de tipo de exercício (tempo)"
   ]
  },
  {
   "cell_type": "code",
   "execution_count": 10,
   "id": "4e71505e",
   "metadata": {},
   "outputs": [],
   "source": [
    "fairly_active_minutes_per_id = d_activity.groupby('Id')['FairlyActiveMinutes'].aggregate('sum')\n",
    "very_active_minutes_per_id = d_activity.groupby('Id')['VeryActiveMinutes'].aggregate('sum')\n",
    "lightly_active_minutes_per_id = d_activity.groupby('Id')['LightlyActiveMinutes'].aggregate('sum')\n",
    "\n",
    "fairly_active_minutes_sum = fairly_active_minutes_per_id.sum()\n",
    "very_active_minutes_sum = very_active_minutes_per_id.sum()\n",
    "lightly_active_minutes_sum = lightly_active_minutes_per_id.sum()\n"
   ]
  },
  {
   "cell_type": "code",
   "execution_count": 11,
   "id": "8a676629",
   "metadata": {},
   "outputs": [],
   "source": [
    "active_minutes_sum = pd.Series({'Lightly Active time': lightly_active_minutes_sum,'Fairly Active time': fairly_active_minutes_sum, 'Very Active time': very_active_minutes_sum })"
   ]
  },
  {
   "cell_type": "code",
   "execution_count": 12,
   "id": "5f3f6ab3",
   "metadata": {},
   "outputs": [
    {
     "data": {
      "text/plain": [
       "<Axes: >"
      ]
     },
     "execution_count": 12,
     "metadata": {},
     "output_type": "execute_result"
    },
    {
     "data": {
      "image/png": "[encoded data removed]",
      "text/plain": [
       "<Figure size 640x480 with 1 Axes>"
      ]
     },
     "metadata": {},
     "output_type": "display_data"
    }
   ],
   "source": [
    "active_minutes_sum.plot.bar()"
   ]
  },
  {
   "cell_type": "markdown",
   "id": "9c492c89",
   "metadata": {},
   "source": [
    "### Análise de tipo de exercício (distância)"
   ]
  },
  {
   "cell_type": "code",
   "execution_count": 13,
   "id": "7c1d64c2",
   "metadata": {},
   "outputs": [],
   "source": [
    "fairly_active_distance_per_id = d_activity.groupby('Id')['ModeratelyActiveDistance'].aggregate('sum')\n",
    "very_active_distance_per_id = d_activity.groupby('Id')['VeryActiveDistance'].aggregate('sum')\n",
    "lightly_active_distance_per_id = d_activity.groupby('Id')['LightActiveDistance'].aggregate('sum')\n",
    "\n",
    "fairly_active_distance_sum = fairly_active_distance_per_id.sum()\n",
    "very_active_distance_sum = very_active_distance_per_id.sum()\n",
    "lightly_active_distance_sum = lightly_active_distance_per_id.sum()"
   ]
  },
  {
   "cell_type": "code",
   "execution_count": 14,
   "id": "16822375",
   "metadata": {},
   "outputs": [],
   "source": [
    "active_distance_sum = pd.Series({'Lightly Active distance': lightly_active_distance_sum,'Fairly Active distance': fairly_active_distance_sum, 'Very Active distance': very_active_distance_sum })"
   ]
  },
  {
   "cell_type": "code",
   "execution_count": 15,
   "id": "dcd31aeb",
   "metadata": {},
   "outputs": [
    {
     "data": {
      "text/plain": [
       "<Axes: >"
      ]
     },
     "execution_count": 15,
     "metadata": {},
     "output_type": "execute_result"
    },
    {
     "data": {
      "image/png": "[encoded data removed]",
      "text/plain": [
       "<Figure size 640x480 with 1 Axes>"
      ]
     },
     "metadata": {},
     "output_type": "display_data"
    }
   ],
   "source": [
    "active_distance_sum.plot.bar()"
   ]
  },
  {
   "cell_type": "markdown",
   "id": "6057ed09",
   "metadata": {},
   "source": [
    "### Checagem de timeframe dos dados e presença dos ids ao longo do tempo"
   ]
  },
  {
   "cell_type": "code",
   "execution_count": 16,
   "id": "7504946f",
   "metadata": {},
   "outputs": [
    {
     "data": {
      "text/html": [
       "<div>\n",
       "<style scoped>\n",
       "    .dataframe tbody tr th:only-of-type {\n",
       "        vertical-align: middle;\n",
       "    }\n",
       "\n",
       "    .dataframe tbody tr th {\n",
       "        vertical-align: top;\n",
       "    }\n",
       "\n",
       "    .dataframe thead th {\n",
       "        text-align: right;\n",
       "    }\n",
       "</style>\n",
       "<table border=\"1\" class=\"dataframe\">\n",
       "  <thead>\n",
       "    <tr style=\"text-align: right;\">\n",
       "      <th></th>\n",
       "      <th>Id</th>\n",
       "    </tr>\n",
       "    <tr>\n",
       "      <th>ActivityDate</th>\n",
       "      <th></th>\n",
       "    </tr>\n",
       "  </thead>\n",
       "  <tbody>\n",
       "    <tr>\n",
       "      <th>3/12/2016</th>\n",
       "      <td>2</td>\n",
       "    </tr>\n",
       "    <tr>\n",
       "      <th>3/13/2016</th>\n",
       "      <td>2</td>\n",
       "    </tr>\n",
       "    <tr>\n",
       "      <th>3/14/2016</th>\n",
       "      <td>2</td>\n",
       "    </tr>\n",
       "    <tr>\n",
       "      <th>3/15/2016</th>\n",
       "      <td>2</td>\n",
       "    </tr>\n",
       "    <tr>\n",
       "      <th>3/16/2016</th>\n",
       "      <td>2</td>\n",
       "    </tr>\n",
       "    <tr>\n",
       "      <th>3/17/2016</th>\n",
       "      <td>2</td>\n",
       "    </tr>\n",
       "    <tr>\n",
       "      <th>3/18/2016</th>\n",
       "      <td>2</td>\n",
       "    </tr>\n",
       "    <tr>\n",
       "      <th>3/19/2016</th>\n",
       "      <td>2</td>\n",
       "    </tr>\n",
       "    <tr>\n",
       "      <th>3/20/2016</th>\n",
       "      <td>2</td>\n",
       "    </tr>\n",
       "    <tr>\n",
       "      <th>3/21/2016</th>\n",
       "      <td>2</td>\n",
       "    </tr>\n",
       "    <tr>\n",
       "      <th>3/22/2016</th>\n",
       "      <td>2</td>\n",
       "    </tr>\n",
       "    <tr>\n",
       "      <th>3/23/2016</th>\n",
       "      <td>2</td>\n",
       "    </tr>\n",
       "    <tr>\n",
       "      <th>3/24/2016</th>\n",
       "      <td>2</td>\n",
       "    </tr>\n",
       "    <tr>\n",
       "      <th>3/25/2016</th>\n",
       "      <td>4</td>\n",
       "    </tr>\n",
       "    <tr>\n",
       "      <th>3/26/2016</th>\n",
       "      <td>4</td>\n",
       "    </tr>\n",
       "    <tr>\n",
       "      <th>3/27/2016</th>\n",
       "      <td>4</td>\n",
       "    </tr>\n",
       "    <tr>\n",
       "      <th>3/28/2016</th>\n",
       "      <td>4</td>\n",
       "    </tr>\n",
       "    <tr>\n",
       "      <th>3/29/2016</th>\n",
       "      <td>10</td>\n",
       "    </tr>\n",
       "    <tr>\n",
       "      <th>3/30/2016</th>\n",
       "      <td>11</td>\n",
       "    </tr>\n",
       "    <tr>\n",
       "      <th>3/31/2016</th>\n",
       "      <td>11</td>\n",
       "    </tr>\n",
       "    <tr>\n",
       "      <th>4/1/2016</th>\n",
       "      <td>34</td>\n",
       "    </tr>\n",
       "    <tr>\n",
       "      <th>4/10/2016</th>\n",
       "      <td>29</td>\n",
       "    </tr>\n",
       "    <tr>\n",
       "      <th>4/11/2016</th>\n",
       "      <td>25</td>\n",
       "    </tr>\n",
       "    <tr>\n",
       "      <th>4/12/2016</th>\n",
       "      <td>24</td>\n",
       "    </tr>\n",
       "    <tr>\n",
       "      <th>4/2/2016</th>\n",
       "      <td>35</td>\n",
       "    </tr>\n",
       "    <tr>\n",
       "      <th>4/3/2016</th>\n",
       "      <td>35</td>\n",
       "    </tr>\n",
       "    <tr>\n",
       "      <th>4/4/2016</th>\n",
       "      <td>35</td>\n",
       "    </tr>\n",
       "    <tr>\n",
       "      <th>4/5/2016</th>\n",
       "      <td>35</td>\n",
       "    </tr>\n",
       "    <tr>\n",
       "      <th>4/6/2016</th>\n",
       "      <td>33</td>\n",
       "    </tr>\n",
       "    <tr>\n",
       "      <th>4/7/2016</th>\n",
       "      <td>33</td>\n",
       "    </tr>\n",
       "    <tr>\n",
       "      <th>4/8/2016</th>\n",
       "      <td>33</td>\n",
       "    </tr>\n",
       "    <tr>\n",
       "      <th>4/9/2016</th>\n",
       "      <td>32</td>\n",
       "    </tr>\n",
       "  </tbody>\n",
       "</table>\n",
       "</div>"
      ],
      "text/plain": [
       "              Id\n",
       "ActivityDate    \n",
       "3/12/2016      2\n",
       "3/13/2016      2\n",
       "3/14/2016      2\n",
       "3/15/2016      2\n",
       "3/16/2016      2\n",
       "3/17/2016      2\n",
       "3/18/2016      2\n",
       "3/19/2016      2\n",
       "3/20/2016      2\n",
       "3/21/2016      2\n",
       "3/22/2016      2\n",
       "3/23/2016      2\n",
       "3/24/2016      2\n",
       "3/25/2016      4\n",
       "3/26/2016      4\n",
       "3/27/2016      4\n",
       "3/28/2016      4\n",
       "3/29/2016     10\n",
       "3/30/2016     11\n",
       "3/31/2016     11\n",
       "4/1/2016      34\n",
       "4/10/2016     29\n",
       "4/11/2016     25\n",
       "4/12/2016     24\n",
       "4/2/2016      35\n",
       "4/3/2016      35\n",
       "4/4/2016      35\n",
       "4/5/2016      35\n",
       "4/6/2016      33\n",
       "4/7/2016      33\n",
       "4/8/2016      33\n",
       "4/9/2016      32"
      ]
     },
     "execution_count": 16,
     "metadata": {},
     "output_type": "execute_result"
    }
   ],
   "source": [
    "pd.pivot_table(d_activity, index='ActivityDate', values= 'Id', aggfunc='count').sort_values(by='ActivityDate', ascending= True)\n",
    "# primeiras duas semanas dos dados só tem 2 usuários ativos, outros usuários se tornam ativos ao longo dos dias restantes\n",
    "# 15 usos do fitbit por id deve levar em conta essa distribuição\n",
    "# primeiro dia do dataframe: 12 de março . último dia do data frame: 12 de abril\n"
   ]
  },
  {
   "cell_type": "markdown",
   "id": "14deb548",
   "metadata": {},
   "source": [
    "### Dias com e sem uso de fitbit (assumindo que dias sem total steps são dias em que a pessoa não usou o fitbit, nõa que ela não se mexeu)"
   ]
  },
  {
   "cell_type": "code",
   "execution_count": 17,
   "id": "00e450cf",
   "metadata": {},
   "outputs": [],
   "source": [
    "\n",
    "null_days = d_activity.loc[d_activity['TotalSteps']==0, 'ActivityDate'].value_counts().sum() #61\n",
    "active_days= d_activity.loc[d_activity['TotalSteps']> 0, 'ActivityDate'].value_counts().sum() #396\n",
    "\n",
    "active_null_distr = pd.DataFrame([null_days, active_days])"
   ]
  },
  {
   "cell_type": "code",
   "execution_count": 18,
   "id": "4ac22c45",
   "metadata": {},
   "outputs": [
    {
     "data": {
      "text/plain": [
       "array([<Axes: ylabel='0'>], dtype=object)"
      ]
     },
     "execution_count": 18,
     "metadata": {},
     "output_type": "execute_result"
    },
    {
     "data": {
      "image/png": "[encoded data removed]",
      "text/plain": [
       "<Figure size 640x480 with 1 Axes>"
      ]
     },
     "metadata": {},
     "output_type": "display_data"
    }
   ],
   "source": [
    "active_null_distr.plot(kind='pie', autopct='%1.1f%%', subplots=True)\n"
   ]
  },
  {
   "cell_type": "code",
   "execution_count": 19,
   "id": "6ab4bf93",
   "metadata": {},
   "outputs": [],
   "source": [
    "weight_distr= weightlog[['Id','BMI_describe']].drop_duplicates()"
   ]
  },
  {
   "cell_type": "code",
   "execution_count": 20,
   "id": "2d3bb400",
   "metadata": {},
   "outputs": [
    {
     "data": {
      "text/plain": [
       "<Axes: xlabel='BMI_describe'>"
      ]
     },
     "execution_count": 20,
     "metadata": {},
     "output_type": "execute_result"
    },
    {
     "data": {
      "image/png": "[encoded data removed]",
      "text/plain": [
       "<Figure size 640x480 with 1 Axes>"
      ]
     },
     "metadata": {},
     "output_type": "display_data"
    }
   ],
   "source": [
    "weight_distr['BMI_describe'].value_counts().plot.bar()"
   ]
  }
 ],
 "metadata": {
  "kernelspec": {
   "display_name": "Python 3",
   "language": "python",
   "name": "python3"
  },
  "language_info": {
   "codemirror_mode": {
    "name": "ipython",
    "version": 3
   },
   "file_extension": ".py",
   "mimetype": "text/x-python",
   "name": "python",
   "nbconvert_exporter": "python",
   "pygments_lexer": "ipython3",
   "version": "3.13.2"
  }
 },
 "nbformat": 4,
 "nbformat_minor": 5
}
