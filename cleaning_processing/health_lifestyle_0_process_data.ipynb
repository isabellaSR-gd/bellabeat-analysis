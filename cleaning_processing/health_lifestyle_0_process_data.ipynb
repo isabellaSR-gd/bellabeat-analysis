{
 "cells": [
  {
   "cell_type": "markdown",
   "id": "78e98cb3",
   "metadata": {},
   "source": [
    "### Análise exploratória health lifestyle dataset"
   ]
  },
  {
   "cell_type": "code",
   "execution_count": 1,
   "id": "70c4bebb",
   "metadata": {},
   "outputs": [],
   "source": [
    "import pandas as pd\n",
    "from pathlib import Path"
   ]
  },
  {
   "cell_type": "code",
   "execution_count": 2,
   "id": "7eba1343",
   "metadata": {},
   "outputs": [
    {
     "name": "stdout",
     "output_type": "stream",
     "text": [
      "caminho do diretório D:\\python\\bellabeat-analysis\n"
     ]
    }
   ],
   "source": [
    "# Facilitar para não precisar ficar mudando o caminho do arquivo. \n",
    "caminho_arquivo = Path('obsety new.csv').resolve().parents[1]\n",
    "print('caminho do diretório',caminho_arquivo)"
   ]
  },
  {
   "cell_type": "code",
   "execution_count": 3,
   "id": "887353cc",
   "metadata": {},
   "outputs": [],
   "source": [
    "df = pd.read_csv(f'{caminho_arquivo}/database/health-lifestyle-data/health_activity_data.csv')"
   ]
  },
  {
   "cell_type": "markdown",
   "id": "6b59906a",
   "metadata": {},
   "source": [
    "#### Creating column \"BMI category\" to help analysis per BMI level"
   ]
  },
  {
   "cell_type": "code",
   "execution_count": 4,
   "id": "1c3c482c",
   "metadata": {},
   "outputs": [],
   "source": [
    "def define_BMI_cat(BMI):\n",
    "    if BMI < 18.5:\n",
    "        return \"Underweight\"\n",
    "    elif 18.5 < BMI < 24.9:\n",
    "        return \"Normal\"\n",
    "    elif 25 < BMI < 29.9:\n",
    "        return \"Overweight\"\n",
    "    else:\n",
    "        return \"Obese\""
   ]
  },
  {
   "cell_type": "code",
   "execution_count": 5,
   "id": "1088256c",
   "metadata": {},
   "outputs": [],
   "source": [
    "df['BMI_Category'] = df['BMI'].apply(define_BMI_cat)"
   ]
  },
  {
   "cell_type": "markdown",
   "id": "c0d1bc21",
   "metadata": {},
   "source": [
    "### create age groups to help age analysis"
   ]
  },
  {
   "cell_type": "code",
   "execution_count": 6,
   "id": "c83d9172",
   "metadata": {},
   "outputs": [
    {
     "data": {
      "text/plain": [
       "count    1000.000000\n",
       "mean       49.857000\n",
       "std        18.114267\n",
       "min        18.000000\n",
       "25%        35.000000\n",
       "50%        50.000000\n",
       "75%        66.000000\n",
       "max        79.000000\n",
       "Name: Age, dtype: float64"
      ]
     },
     "execution_count": 6,
     "metadata": {},
     "output_type": "execute_result"
    }
   ],
   "source": [
    "df['Age'].describe()"
   ]
  },
  {
   "cell_type": "code",
   "execution_count": 7,
   "id": "6a830c4f",
   "metadata": {},
   "outputs": [],
   "source": [
    "for index, linha in df.iterrows():\n",
    "     value = linha['Age']\n",
    "     if value <= 24:\n",
    "         df.at[index, 'Age_Group'] = '18 - 24'\n",
    "     elif value >= 25 and value <= 30:\n",
    "         df.at[index, 'Age_Group'] = '25 - 30'\n",
    "     elif value >= 31 and value <= 38:\n",
    "         df.at[index, 'Age_Group'] = '31 - 38'\n",
    "     elif value >= 39 and value <= 45:\n",
    "         df.at[index, 'Age_Group'] = '39 - 45'\n",
    "     elif value >= 46 and value <= 55:\n",
    "         df.at[index, 'Age_Group'] = '45 - 55 '\n",
    "     elif value >= 56 and value <= 62:\n",
    "         df.at[index,'Age_Group'] = '56 - 62'\n",
    "     else:\n",
    "         df.at[index, 'Age_Group'] = '63+'"
   ]
  },
  {
   "cell_type": "code",
   "execution_count": 8,
   "id": "c372d93e",
   "metadata": {},
   "outputs": [
    {
     "name": "stdout",
     "output_type": "stream",
     "text": [
      "<class 'pandas.core.frame.DataFrame'>\n",
      "RangeIndex: 1000 entries, 0 to 999\n",
      "Data columns (total 18 columns):\n",
      " #   Column                        Non-Null Count  Dtype  \n",
      "---  ------                        --------------  -----  \n",
      " 0   ID                            1000 non-null   int64  \n",
      " 1   Age                           1000 non-null   int64  \n",
      " 2   Gender                        1000 non-null   object \n",
      " 3   Height_cm                     1000 non-null   int64  \n",
      " 4   Weight_kg                     1000 non-null   int64  \n",
      " 5   BMI                           1000 non-null   float64\n",
      " 6   Daily_Steps                   1000 non-null   int64  \n",
      " 7   Calories_Intake               1000 non-null   int64  \n",
      " 8   Hours_of_Sleep                1000 non-null   float64\n",
      " 9   Heart_Rate                    1000 non-null   int64  \n",
      " 10  Blood_Pressure                1000 non-null   object \n",
      " 11  Exercise_Hours_per_Week       1000 non-null   float64\n",
      " 12  Smoker                        1000 non-null   object \n",
      " 13  Alcohol_Consumption_per_Week  1000 non-null   int64  \n",
      " 14  Diabetic                      1000 non-null   object \n",
      " 15  Heart_Disease                 1000 non-null   object \n",
      " 16  BMI_Category                  1000 non-null   object \n",
      " 17  Age_Group                     1000 non-null   object \n",
      "dtypes: float64(3), int64(8), object(7)\n",
      "memory usage: 140.8+ KB\n"
     ]
    }
   ],
   "source": [
    "df.info()"
   ]
  },
  {
   "cell_type": "code",
   "execution_count": 9,
   "id": "ef43d4d0",
   "metadata": {},
   "outputs": [
    {
     "data": {
      "text/plain": [
       "Diabetic\n",
       "No     845\n",
       "Yes    155\n",
       "Name: count, dtype: int64"
      ]
     },
     "execution_count": 9,
     "metadata": {},
     "output_type": "execute_result"
    }
   ],
   "source": [
    "df['Diabetic'].value_counts()"
   ]
  },
  {
   "cell_type": "markdown",
   "id": "440c3739",
   "metadata": {},
   "source": [
    "### Create categoric columns for the bool columns"
   ]
  },
  {
   "cell_type": "code",
   "execution_count": 10,
   "id": "0395f30e",
   "metadata": {},
   "outputs": [],
   "source": [
    "def define_yes_no_columns(value):\n",
    "    if value == 'Yes':\n",
    "        return 1\n",
    "    else:\n",
    "        return 0"
   ]
  },
  {
   "cell_type": "code",
   "execution_count": 11,
   "id": "5940d1ee",
   "metadata": {},
   "outputs": [],
   "source": [
    "df['Diabetic_bool'] = df['Diabetic'].apply(define_yes_no_columns)"
   ]
  },
  {
   "cell_type": "code",
   "execution_count": 12,
   "id": "b636ce9a",
   "metadata": {},
   "outputs": [],
   "source": [
    "df['Heart_Disease_bool'] = df['Heart_Disease'].apply(define_yes_no_columns)"
   ]
  },
  {
   "cell_type": "code",
   "execution_count": 13,
   "id": "3b20135a",
   "metadata": {},
   "outputs": [],
   "source": [
    "df['Smoker_bool'] = df['Smoker'].apply(define_yes_no_columns)"
   ]
  },
  {
   "cell_type": "markdown",
   "id": "8b5c17ce",
   "metadata": {},
   "source": [
    "Create categoric column for male and female"
   ]
  },
  {
   "cell_type": "code",
   "execution_count": 14,
   "id": "34ed744f",
   "metadata": {},
   "outputs": [],
   "source": [
    "def define_gender_bool_columns(value):\n",
    "    if value == 'Female':\n",
    "        return 1\n",
    "    else:\n",
    "        return 0"
   ]
  },
  {
   "cell_type": "code",
   "execution_count": 15,
   "id": "79ee0e4e",
   "metadata": {},
   "outputs": [],
   "source": [
    "df['Gender_bool'] = df['Gender'].apply(define_gender_bool_columns)"
   ]
  },
  {
   "cell_type": "code",
   "execution_count": 16,
   "id": "f65566f1",
   "metadata": {},
   "outputs": [],
   "source": [
    "#reorder columns so\n",
    "df = df[['ID','Age','Age_Group', 'Gender', 'Gender_bool', 'Height_cm','Weight_kg','BMI','BMI_Category', 'Daily_Steps','Calories_Intake', 'Hours_of_Sleep', 'Heart_Rate', 'Blood_Pressure', 'Exercise_Hours_per_Week', 'Smoker', 'Smoker_bool', 'Alcohol_Consumption_per_Week', 'Diabetic', 'Diabetic_bool', 'Heart_Disease', 'Heart_Disease_bool' ]]"
   ]
  },
  {
   "cell_type": "code",
   "execution_count": 17,
   "id": "ba10aed1",
   "metadata": {},
   "outputs": [
    {
     "data": {
      "text/html": [
       "<div>\n",
       "<style scoped>\n",
       "    .dataframe tbody tr th:only-of-type {\n",
       "        vertical-align: middle;\n",
       "    }\n",
       "\n",
       "    .dataframe tbody tr th {\n",
       "        vertical-align: top;\n",
       "    }\n",
       "\n",
       "    .dataframe thead th {\n",
       "        text-align: right;\n",
       "    }\n",
       "</style>\n",
       "<table border=\"1\" class=\"dataframe\">\n",
       "  <thead>\n",
       "    <tr style=\"text-align: right;\">\n",
       "      <th></th>\n",
       "      <th>ID</th>\n",
       "      <th>Age</th>\n",
       "      <th>Age_Group</th>\n",
       "      <th>Gender</th>\n",
       "      <th>Gender_bool</th>\n",
       "      <th>Height_cm</th>\n",
       "      <th>Weight_kg</th>\n",
       "      <th>BMI</th>\n",
       "      <th>BMI_Category</th>\n",
       "      <th>Daily_Steps</th>\n",
       "      <th>...</th>\n",
       "      <th>Heart_Rate</th>\n",
       "      <th>Blood_Pressure</th>\n",
       "      <th>Exercise_Hours_per_Week</th>\n",
       "      <th>Smoker</th>\n",
       "      <th>Smoker_bool</th>\n",
       "      <th>Alcohol_Consumption_per_Week</th>\n",
       "      <th>Diabetic</th>\n",
       "      <th>Diabetic_bool</th>\n",
       "      <th>Heart_Disease</th>\n",
       "      <th>Heart_Disease_bool</th>\n",
       "    </tr>\n",
       "  </thead>\n",
       "  <tbody>\n",
       "    <tr>\n",
       "      <th>0</th>\n",
       "      <td>1</td>\n",
       "      <td>56</td>\n",
       "      <td>56 - 62</td>\n",
       "      <td>Male</td>\n",
       "      <td>0</td>\n",
       "      <td>164</td>\n",
       "      <td>81</td>\n",
       "      <td>30.72</td>\n",
       "      <td>Obese</td>\n",
       "      <td>5134</td>\n",
       "      <td>...</td>\n",
       "      <td>102</td>\n",
       "      <td>137/72</td>\n",
       "      <td>8.1</td>\n",
       "      <td>No</td>\n",
       "      <td>0</td>\n",
       "      <td>7</td>\n",
       "      <td>No</td>\n",
       "      <td>0</td>\n",
       "      <td>No</td>\n",
       "      <td>0</td>\n",
       "    </tr>\n",
       "    <tr>\n",
       "      <th>1</th>\n",
       "      <td>2</td>\n",
       "      <td>69</td>\n",
       "      <td>63+</td>\n",
       "      <td>Male</td>\n",
       "      <td>0</td>\n",
       "      <td>156</td>\n",
       "      <td>82</td>\n",
       "      <td>20.86</td>\n",
       "      <td>Normal</td>\n",
       "      <td>12803</td>\n",
       "      <td>...</td>\n",
       "      <td>103</td>\n",
       "      <td>129/65</td>\n",
       "      <td>3.7</td>\n",
       "      <td>No</td>\n",
       "      <td>0</td>\n",
       "      <td>7</td>\n",
       "      <td>No</td>\n",
       "      <td>0</td>\n",
       "      <td>No</td>\n",
       "      <td>0</td>\n",
       "    </tr>\n",
       "    <tr>\n",
       "      <th>2</th>\n",
       "      <td>3</td>\n",
       "      <td>46</td>\n",
       "      <td>45 - 55</td>\n",
       "      <td>Female</td>\n",
       "      <td>1</td>\n",
       "      <td>158</td>\n",
       "      <td>65</td>\n",
       "      <td>30.93</td>\n",
       "      <td>Obese</td>\n",
       "      <td>16408</td>\n",
       "      <td>...</td>\n",
       "      <td>74</td>\n",
       "      <td>127/68</td>\n",
       "      <td>3.2</td>\n",
       "      <td>Yes</td>\n",
       "      <td>1</td>\n",
       "      <td>0</td>\n",
       "      <td>No</td>\n",
       "      <td>0</td>\n",
       "      <td>No</td>\n",
       "      <td>0</td>\n",
       "    </tr>\n",
       "    <tr>\n",
       "      <th>3</th>\n",
       "      <td>4</td>\n",
       "      <td>32</td>\n",
       "      <td>31 - 38</td>\n",
       "      <td>Male</td>\n",
       "      <td>0</td>\n",
       "      <td>197</td>\n",
       "      <td>87</td>\n",
       "      <td>31.19</td>\n",
       "      <td>Obese</td>\n",
       "      <td>18420</td>\n",
       "      <td>...</td>\n",
       "      <td>116</td>\n",
       "      <td>125/86</td>\n",
       "      <td>8.5</td>\n",
       "      <td>No</td>\n",
       "      <td>0</td>\n",
       "      <td>5</td>\n",
       "      <td>No</td>\n",
       "      <td>0</td>\n",
       "      <td>No</td>\n",
       "      <td>0</td>\n",
       "    </tr>\n",
       "    <tr>\n",
       "      <th>4</th>\n",
       "      <td>5</td>\n",
       "      <td>60</td>\n",
       "      <td>56 - 62</td>\n",
       "      <td>Male</td>\n",
       "      <td>0</td>\n",
       "      <td>157</td>\n",
       "      <td>63</td>\n",
       "      <td>29.37</td>\n",
       "      <td>Overweight</td>\n",
       "      <td>17351</td>\n",
       "      <td>...</td>\n",
       "      <td>111</td>\n",
       "      <td>100/64</td>\n",
       "      <td>8.5</td>\n",
       "      <td>Yes</td>\n",
       "      <td>1</td>\n",
       "      <td>8</td>\n",
       "      <td>No</td>\n",
       "      <td>0</td>\n",
       "      <td>No</td>\n",
       "      <td>0</td>\n",
       "    </tr>\n",
       "  </tbody>\n",
       "</table>\n",
       "<p>5 rows × 22 columns</p>\n",
       "</div>"
      ],
      "text/plain": [
       "   ID  Age Age_Group  Gender  Gender_bool  Height_cm  Weight_kg    BMI  \\\n",
       "0   1   56   56 - 62    Male            0        164         81  30.72   \n",
       "1   2   69       63+    Male            0        156         82  20.86   \n",
       "2   3   46  45 - 55   Female            1        158         65  30.93   \n",
       "3   4   32   31 - 38    Male            0        197         87  31.19   \n",
       "4   5   60   56 - 62    Male            0        157         63  29.37   \n",
       "\n",
       "  BMI_Category  Daily_Steps  ...  Heart_Rate  Blood_Pressure  \\\n",
       "0        Obese         5134  ...         102          137/72   \n",
       "1       Normal        12803  ...         103          129/65   \n",
       "2        Obese        16408  ...          74          127/68   \n",
       "3        Obese        18420  ...         116          125/86   \n",
       "4   Overweight        17351  ...         111          100/64   \n",
       "\n",
       "   Exercise_Hours_per_Week Smoker  Smoker_bool Alcohol_Consumption_per_Week  \\\n",
       "0                      8.1     No            0                            7   \n",
       "1                      3.7     No            0                            7   \n",
       "2                      3.2    Yes            1                            0   \n",
       "3                      8.5     No            0                            5   \n",
       "4                      8.5    Yes            1                            8   \n",
       "\n",
       "   Diabetic  Diabetic_bool Heart_Disease  Heart_Disease_bool  \n",
       "0        No              0            No                   0  \n",
       "1        No              0            No                   0  \n",
       "2        No              0            No                   0  \n",
       "3        No              0            No                   0  \n",
       "4        No              0            No                   0  \n",
       "\n",
       "[5 rows x 22 columns]"
      ]
     },
     "execution_count": 17,
     "metadata": {},
     "output_type": "execute_result"
    }
   ],
   "source": [
    "df.head()"
   ]
  },
  {
   "cell_type": "code",
   "execution_count": 18,
   "id": "3404f2d8",
   "metadata": {},
   "outputs": [],
   "source": [
    "df.to_csv(f'{caminho_arquivo}/database/health-lifestyle-data/health_activity_data_treated.csv', index= False)"
   ]
  }
 ],
 "metadata": {
  "kernelspec": {
   "display_name": "Python 3",
   "language": "python",
   "name": "python3"
  },
  "language_info": {
   "codemirror_mode": {
    "name": "ipython",
    "version": 3
   },
   "file_extension": ".py",
   "mimetype": "text/x-python",
   "name": "python",
   "nbconvert_exporter": "python",
   "pygments_lexer": "ipython3",
   "version": "3.13.2"
  }
 },
 "nbformat": 4,
 "nbformat_minor": 5
}
